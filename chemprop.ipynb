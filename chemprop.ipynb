{
 "cells": [
  {
   "cell_type": "markdown",
   "metadata": {},
   "source": [
    "## Deep Learning Model: Chemprop "
   ]
  },
  {
   "cell_type": "code",
   "execution_count": 1,
   "metadata": {},
   "outputs": [],
   "source": [
    "import pandas as pd\n",
    "from rdkit import Chem\n",
    "from rdkit.Chem import AllChem\n",
    "import numpy as np\n",
    "import chemprop\n",
    "from sklearn.utils import shuffle\n",
    "from chemprop.train.evaluate import evaluate_predictions"
   ]
  },
  {
   "cell_type": "markdown",
   "metadata": {},
   "source": [
    "## Random Sampling "
   ]
  },
  {
   "cell_type": "code",
   "execution_count": null,
   "metadata": {},
   "outputs": [],
   "source": [
    "def run_chemprop(batchsize):\n",
    "    train_arguments = [\n",
    "        '--data_path', '/Users/sinhanushka_/Documents/GitHub/02-750-Final-Project/rand_train_dataset.csv',\n",
    "        '--dataset_type', 'regression',\n",
    "        '--save_dir', '/Users/sinhanushka_/Documents/GitHub/02-750-Final-Project/',\n",
    "        '--batch_size', str(batchsize), \n",
    "        '--epochs', str(5),\n",
    "        \n",
    "    ]\n",
    "\n",
    "    train_args = chemprop.args.TrainArgs().parse_args(train_arguments)\n",
    "    train_args.quiet = True\n",
    "    mean_score, std_score = chemprop.train.cross_validate(args=train_args, train_func=chemprop.train.run_training)\n",
    "\n",
    "    test_arguments = [\n",
    "    '--test_path', '/Users/sinhanushka_/Documents/GitHub/02-750-Final-Project/rand_test_dataset.csv',\n",
    "    '--preds_path', 'rand_preds.csv',\n",
    "    '--checkpoint_dir', '/Users/sinhanushka_/Documents/GitHub/02-750-Final-Project/', \n",
    "    \n",
    "    ]   \n",
    "\n",
    "    test_args = chemprop.args.PredictArgs().parse_args(test_arguments)\n",
    "    test_args.quiet = True\n",
    "    preds = chemprop.train.make_predictions(args=test_args)\n",
    "\n",
    "    preds = pd.read_csv(\"rand_preds.csv\")\n",
    "    y_preds = [[target] for target in preds[\"target\"].values]\n",
    "    test = pd.read_csv(\"rand_test_dataset.csv\")\n",
    "    y_test = [[target] for target in test[\"target\"].values]\n",
    "    dataset_type = 'test'\n",
    "    num_tasks = len(y_preds[0])\n",
    "    results = evaluate_predictions(preds=y_preds, targets=y_test, num_tasks=num_tasks, metrics=['rmse', 'r2'], dataset_type=dataset_type)\n",
    "  \n",
    "    return results['rmse'], results['r2']"
   ]
  },
  {
   "cell_type": "code",
   "execution_count": null,
   "metadata": {},
   "outputs": [],
   "source": [
    "def random_sampling_chemprop(batchsize):\n",
    "    seeds = [1, 2, 3]\n",
    "    \n",
    "    rmse_vals = []\n",
    "    r2_vals = []\n",
    "\n",
    "    data = pd.read_csv(\"TYK2_final.csv\", index_col=False)\n",
    "    data = data.drop(['target', 'top_2p', 'top_5p'], axis=1)\n",
    "    column_names = ['smiles', 'target']\n",
    "    data.columns = column_names\n",
    "\n",
    "    for seed in seeds:\n",
    "        rmse_instance = []\n",
    "        r2_instance = []\n",
    "        # Get the data \n",
    "        data = np.array(data)\n",
    "        shuffled_data = shuffle(data, random_state=seed)\n",
    "        size = int(len(shuffled_data)*0.1)\n",
    "        train, test = shuffled_data[:size], shuffled_data[size:]\n",
    "        train_df = pd.DataFrame(train, columns=column_names)\n",
    "        train_df.to_csv(\"rand_train_dataset.csv\", index=False)\n",
    "        test_df = pd.DataFrame(test, columns=column_names)\n",
    "        test_df.to_csv(\"rand_test_dataset.csv\", index=False)\n",
    "        \n",
    "        counter = 0\n",
    "        while len(train_df) <= round(((len(shuffled_data) * 0.2) / 500 )) * 500:\n",
    "            if counter % 100 == 0:\n",
    "                print(\"running chemprop\")\n",
    "                rmse, r2 = run_chemprop(batchsize) \n",
    "                rmse_instance.append(rmse)\n",
    "                r2_instance.append(r2)\n",
    "            train_df =  pd.concat([train_df, test_df.iloc[:batchsize]])  \n",
    "            test_df = test_df.drop(test_df.index[:batchsize]) \n",
    "            \n",
    "            # Update the csv\n",
    "            train_df.to_csv(\"rand_train_dataset.csv\", index=False)\n",
    "            test_df.to_csv(\"rand_test_dataset.csv\", index=False)\n",
    "            \n",
    "            counter += batchsize\n",
    "        \n",
    "        rmse_vals.append(rmse_instance)\n",
    "        r2_vals.append(r2_instance)\n",
    "        print(\"finished seed\")\n",
    "    return rmse_vals, r2_vals\n"
   ]
  },
  {
   "cell_type": "code",
   "execution_count": null,
   "metadata": {},
   "outputs": [],
   "source": [
    "batch_sizes = [1, 25, 50]\n",
    "rand_rmse_dict = {}\n",
    "rand_r2_dict = {}\n",
    "\n",
    "final_rand_data_chemprop = pd.DataFrame()\n",
    "\n",
    "for batch in batch_sizes:\n",
    "    print(f\"{batch} number\")\n",
    "    rand_rmse, rand_r2 = random_sampling_chemprop(batch)\n",
    "\n",
    "    rand_rmse_mean = np.mean(rand_rmse, axis=0)\n",
    "    rand_rmse_stdev = np.std(rand_rmse, axis=0)\n",
    "    print(\"mean:\", rand_rmse_mean)\n",
    "    print(\"standard deviation:\", rand_rmse_stdev)\n",
    "    rand_rmse_dict[batch] = (rand_rmse, rand_rmse_mean, rand_rmse_stdev)\n",
    "    final_rand_data_chemprop[f\"{batch}_rmse_mean\"] = rand_rmse_mean\n",
    "    final_rand_data_chemprop[f\"{batch}_rmse_stdev\"] = rand_rmse_stdev\n",
    "\n",
    "\n",
    "    rand_r2_mean = np.mean(rand_r2, axis=0)\n",
    "    rand_r2_stdev = np.std(rand_r2, axis=0)\n",
    "    print(\"mean:\", rand_r2_mean)\n",
    "    print(\"standard deviation:\", rand_r2_stdev)\n",
    "    rand_r2_dict[batch] = (rand_r2, rand_r2_mean, rand_r2_stdev)\n",
    "    final_rand_data_chemprop[f\"{batch}_r2_mean\"] = rand_r2_mean\n",
    "    final_rand_data_chemprop[f\"{batch}_r2_stdev\"] = rand_r2_stdev\n",
    "    \n",
    "\n",
    "final_rand_data_chemprop.to_csv(\"final_data_random_chemprop.csv\", index=False)"
   ]
  },
  {
   "cell_type": "markdown",
   "metadata": {},
   "source": [
    "## Monte Carlo Dropout"
   ]
  },
  {
   "cell_type": "code",
   "execution_count": 2,
   "metadata": {},
   "outputs": [],
   "source": [
    "def chemprop_monte_carlo(batchsize, eval):\n",
    "    train_arguments = [\n",
    "        '--data_path', '/Users/amanvirmani/Downloads/CMU/sem4/Automated/02-750-Final-Project/mc_train_dataset.csv',\n",
    "        '--dataset_type', 'regression',\n",
    "        '--save_dir', '/Users/amanvirmani/Downloads/CMU/sem4/Automated/02-750-Final-Project/',\n",
    "        '--batch_size', str(batchsize), \n",
    "        '--loss_function', 'mve', \n",
    "        '--epochs', str(5),\n",
    "        \n",
    "    ]\n",
    "\n",
    "    train_args = chemprop.args.TrainArgs().parse_args(train_arguments)\n",
    "    train_args.quiet = True\n",
    "    mean_score, std_score = chemprop.train.cross_validate(args=train_args, train_func=chemprop.train.run_training)\n",
    "\n",
    "    test_arguments = [\n",
    "    '--test_path', '/Users/amanvirmani/Downloads/CMU/sem4/Automated/02-750-Final-Project/mc_test_dataset.csv',\n",
    "    '--preds_path', 'mc_preds.csv',\n",
    "    '--checkpoint_dir', '/Users/amanvirmani/Downloads/CMU/sem4/Automated/02-750-Final-Project/', \n",
    "    '--uncertainty_dropout_p', str(0.1), \n",
    "    '--uncertainty_method', 'mve',\n",
    "    ]   \n",
    "\n",
    "    test_args = chemprop.args.PredictArgs().parse_args(test_arguments)\n",
    "    test_args.quiet = True\n",
    "    preds = chemprop.train.make_predictions(args=test_args, return_uncertainty=True)\n",
    "\n",
    "    preds = pd.read_csv(\"mc_preds.csv\")\n",
    "    uncertainty = preds['target_mve_uncal_var']\n",
    "    instance_to_add = uncertainty.nlargest(batchsize).index\n",
    "    \n",
    "    if eval == True:\n",
    "        y_preds = [[target] for target in preds[\"target\"].values]\n",
    "        test = pd.read_csv(\"mc_test_dataset.csv\")\n",
    "        y_test = [[target] for target in test[\"target\"].values]\n",
    "        dataset_type = 'test'\n",
    "        num_tasks = len(y_preds[0])\n",
    "        results = evaluate_predictions(preds=y_preds, targets=y_test, num_tasks=num_tasks, metrics=['rmse', 'r2'], dataset_type=dataset_type)\n",
    "        return instance_to_add, results['rmse'], results['r2']\n",
    "    \n",
    "    return instance_to_add;\n",
    "  \n",
    "    "
   ]
  },
  {
   "cell_type": "code",
   "execution_count": 3,
   "metadata": {},
   "outputs": [],
   "source": [
    "def monte_carlo_dropout(batchsize):\n",
    "    seeds = [1, 2, 3]\n",
    "    \n",
    "    rmse_vals = []\n",
    "    r2_vals = []\n",
    "\n",
    "    data = pd.read_csv(\"TYK2_final.csv\", index_col=False)\n",
    "    data = data.drop(['target', 'top_2p', 'top_5p'], axis=1)\n",
    "    column_names = ['smiles', 'target']\n",
    "    data.columns = column_names\n",
    "\n",
    "    for seed in seeds:\n",
    "        rmse_instance = []\n",
    "        r2_instance = []\n",
    "        # Get the data \n",
    "        data = np.array(data)\n",
    "        shuffled_data = shuffle(data, random_state=seed)\n",
    "        size = int(len(shuffled_data)*0.1)\n",
    "        train, test = shuffled_data[:size], shuffled_data[size:]\n",
    "        train_df = pd.DataFrame(train, columns=column_names)\n",
    "        train_df.to_csv(\"mc_train_dataset.csv\", index=False)\n",
    "        test_df = pd.DataFrame(test, columns=column_names)\n",
    "        test_df.to_csv(\"mc_test_dataset.csv\", index=False)\n",
    "        \n",
    "\n",
    "        counter = 0\n",
    "        eval = False\n",
    "        while len(train_df) <= round(((len(shuffled_data) * 0.2) / 500 )) * 500:\n",
    "            print(\"running chemprop\")\n",
    "            if counter % 100 == 0:\n",
    "                print(\"in the counter\")\n",
    "                eval = True \n",
    "                instance, rmse, r2 = chemprop_monte_carlo(batchsize, eval) \n",
    "                rmse_instance.append(rmse)\n",
    "                r2_instance.append(r2)\n",
    "            \n",
    "            else:\n",
    "                instance = chemprop_monte_carlo(batchsize, eval) \n",
    "\n",
    "            eval = False\n",
    "\n",
    "            train_df =  pd.concat([train_df, test_df.iloc[instance]])  \n",
    "            test_df = test_df.drop(test_df.index[instance]) \n",
    "    \n",
    "            # Update the csv\n",
    "            train_df.to_csv(\"mc_train_dataset.csv\", index=False)\n",
    "            test_df.to_csv(\"mc_test_dataset.csv\", index=False)\n",
    "            counter += batchsize\n",
    "        \n",
    "        rmse_vals.append(rmse_instance)\n",
    "        r2_vals.append(r2_instance)\n",
    "        print(\"finished seed\")\n",
    "    return rmse_vals, r2_vals"
   ]
  },
  {
   "cell_type": "code",
   "execution_count": 4,
   "metadata": {},
   "outputs": [
    {
     "name": "stdout",
     "output_type": "stream",
     "text": [
      "25 number\n",
      "running chemprop\n",
      "in the counter\n"
     ]
    },
    {
     "name": "stderr",
     "output_type": "stream",
     "text": [
      "999it [00:00, 254146.28it/s]\n",
      "100%|██████████| 999/999 [00:00<00:00, 229771.31it/s]\n",
      "100%|██████████| 999/999 [00:00<00:00, 6174.51it/s]\n",
      "Fold 0\n",
      "100%|██████████| 5/5 [00:07<00:00,  1.42s/it]\n",
      "Model 0 best validation rmse = 1.278259 on epoch 4\n",
      "Model 0 test rmse = 1.363558                 \n",
      "Ensemble test rmse = 1.363558\n",
      "1-fold cross validation\n",
      "\tSeed 0 ==> test rmse = 1.363558\n",
      "Overall test rmse = 1.363558 +/- 0.000000\n",
      "Elapsed time = 0:00:08\n"
     ]
    },
    {
     "name": "stdout",
     "output_type": "stream",
     "text": [
      "Loading training args\n",
      "Setting molecule featurization parameters to default.\n",
      "Loading data\n"
     ]
    },
    {
     "name": "stderr",
     "output_type": "stream",
     "text": [
      "8998it [00:00, 71252.03it/s]\n",
      "100%|██████████| 8998/8998 [00:00<00:00, 241692.91it/s]\n"
     ]
    },
    {
     "name": "stdout",
     "output_type": "stream",
     "text": [
      "Validating SMILES\n",
      "Test size = 8,998\n"
     ]
    },
    {
     "name": "stderr",
     "output_type": "stream",
     "text": [
      "  0%|          | 0/1 [00:00<?, ?it/s]"
     ]
    },
    {
     "name": "stdout",
     "output_type": "stream",
     "text": [
      "Loading pretrained parameter \"encoder.encoder.0.cached_zero_vector\".\n",
      "Loading pretrained parameter \"encoder.encoder.0.W_i.weight\".\n",
      "Loading pretrained parameter \"encoder.encoder.0.W_h.weight\".\n",
      "Loading pretrained parameter \"encoder.encoder.0.W_o.weight\".\n",
      "Loading pretrained parameter \"encoder.encoder.0.W_o.bias\".\n",
      "Loading pretrained parameter \"readout.1.weight\".\n",
      "Loading pretrained parameter \"readout.1.bias\".\n",
      "Loading pretrained parameter \"readout.4.weight\".\n",
      "Loading pretrained parameter \"readout.4.bias\".\n"
     ]
    },
    {
     "name": "stderr",
     "output_type": "stream",
     "text": [
      "100%|██████████| 1/1 [00:59<00:00, 59.02s/it]\n"
     ]
    },
    {
     "name": "stdout",
     "output_type": "stream",
     "text": [
      "Saving predictions to mc_preds.csv\n",
      "Elapsed time = 0:01:01\n",
      "running chemprop\n"
     ]
    },
    {
     "name": "stderr",
     "output_type": "stream",
     "text": [
      "1024it [00:00, 271335.35it/s]\n",
      "100%|██████████| 1024/1024 [00:00<00:00, 214619.59it/s]\n",
      "100%|██████████| 1024/1024 [00:00<00:00, 205294.55it/s]\n",
      "Fold 0\n",
      "100%|██████████| 5/5 [00:06<00:00,  1.40s/it]\n",
      "Model 0 best validation rmse = 1.299643 on epoch 3\n",
      "Model 0 test rmse = 1.347093                 \n",
      "Ensemble test rmse = 1.347093\n",
      "1-fold cross validation\n",
      "\tSeed 0 ==> test rmse = 1.347093\n",
      "Overall test rmse = 1.347093 +/- 0.000000\n",
      "Elapsed time = 0:00:07\n"
     ]
    },
    {
     "name": "stdout",
     "output_type": "stream",
     "text": [
      "Loading training args\n",
      "Setting molecule featurization parameters to default.\n",
      "Loading data\n"
     ]
    },
    {
     "name": "stderr",
     "output_type": "stream",
     "text": [
      "8973it [00:00, 397859.19it/s]\n",
      "100%|██████████| 8973/8973 [00:00<00:00, 56510.76it/s]\n"
     ]
    },
    {
     "name": "stdout",
     "output_type": "stream",
     "text": [
      "Validating SMILES\n",
      "Test size = 8,973\n"
     ]
    },
    {
     "name": "stderr",
     "output_type": "stream",
     "text": [
      "  0%|          | 0/1 [00:00<?, ?it/s]"
     ]
    },
    {
     "name": "stdout",
     "output_type": "stream",
     "text": [
      "Loading pretrained parameter \"encoder.encoder.0.cached_zero_vector\".\n",
      "Loading pretrained parameter \"encoder.encoder.0.W_i.weight\".\n",
      "Loading pretrained parameter \"encoder.encoder.0.W_h.weight\".\n",
      "Loading pretrained parameter \"encoder.encoder.0.W_o.weight\".\n",
      "Loading pretrained parameter \"encoder.encoder.0.W_o.bias\".\n",
      "Loading pretrained parameter \"readout.1.weight\".\n",
      "Loading pretrained parameter \"readout.1.bias\".\n",
      "Loading pretrained parameter \"readout.4.weight\".\n",
      "Loading pretrained parameter \"readout.4.bias\".\n"
     ]
    },
    {
     "name": "stderr",
     "output_type": "stream",
     "text": [
      "100%|██████████| 1/1 [00:58<00:00, 58.57s/it]\n"
     ]
    },
    {
     "name": "stdout",
     "output_type": "stream",
     "text": [
      "Saving predictions to mc_preds.csv\n",
      "Elapsed time = 0:00:59\n",
      "running chemprop\n"
     ]
    },
    {
     "name": "stderr",
     "output_type": "stream",
     "text": [
      "1049it [00:00, 229205.30it/s]\n",
      "100%|██████████| 1049/1049 [00:00<00:00, 206419.18it/s]\n",
      "100%|██████████| 1049/1049 [00:00<00:00, 141128.59it/s]\n",
      "Fold 0\n",
      "100%|██████████| 5/5 [00:07<00:00,  1.45s/it]\n",
      "Model 0 best validation rmse = 1.284398 on epoch 2\n",
      "Model 0 test rmse = 1.318713                 \n",
      "Ensemble test rmse = 1.318713\n",
      "1-fold cross validation\n",
      "\tSeed 0 ==> test rmse = 1.318713\n",
      "Overall test rmse = 1.318713 +/- 0.000000\n",
      "Elapsed time = 0:00:08\n"
     ]
    },
    {
     "name": "stdout",
     "output_type": "stream",
     "text": [
      "Loading training args\n",
      "Setting molecule featurization parameters to default.\n",
      "Loading data\n"
     ]
    },
    {
     "name": "stderr",
     "output_type": "stream",
     "text": [
      "8948it [00:00, 384578.51it/s]\n",
      "100%|██████████| 8948/8948 [00:00<00:00, 231436.28it/s]\n"
     ]
    },
    {
     "name": "stdout",
     "output_type": "stream",
     "text": [
      "Validating SMILES\n",
      "Test size = 8,948\n"
     ]
    },
    {
     "name": "stderr",
     "output_type": "stream",
     "text": [
      "  0%|          | 0/1 [00:00<?, ?it/s]"
     ]
    },
    {
     "name": "stdout",
     "output_type": "stream",
     "text": [
      "Loading pretrained parameter \"encoder.encoder.0.cached_zero_vector\".\n",
      "Loading pretrained parameter \"encoder.encoder.0.W_i.weight\".\n",
      "Loading pretrained parameter \"encoder.encoder.0.W_h.weight\".\n",
      "Loading pretrained parameter \"encoder.encoder.0.W_o.weight\".\n",
      "Loading pretrained parameter \"encoder.encoder.0.W_o.bias\".\n",
      "Loading pretrained parameter \"readout.1.weight\".\n",
      "Loading pretrained parameter \"readout.1.bias\".\n",
      "Loading pretrained parameter \"readout.4.weight\".\n",
      "Loading pretrained parameter \"readout.4.bias\".\n"
     ]
    },
    {
     "name": "stderr",
     "output_type": "stream",
     "text": [
      "100%|██████████| 1/1 [00:58<00:00, 58.79s/it]\n"
     ]
    },
    {
     "name": "stdout",
     "output_type": "stream",
     "text": [
      "Saving predictions to mc_preds.csv\n",
      "Elapsed time = 0:00:59\n",
      "running chemprop\n"
     ]
    },
    {
     "name": "stderr",
     "output_type": "stream",
     "text": [
      "1074it [00:00, 174323.07it/s]\n",
      "100%|██████████| 1074/1074 [00:00<00:00, 198330.58it/s]\n",
      "100%|██████████| 1074/1074 [00:00<00:00, 183969.72it/s]\n",
      "Fold 0\n",
      "100%|██████████| 5/5 [00:07<00:00,  1.45s/it]\n",
      "Model 0 best validation rmse = 1.273260 on epoch 4\n",
      "Model 0 test rmse = 1.299017                 \n",
      "Ensemble test rmse = 1.299017\n",
      "1-fold cross validation\n",
      "\tSeed 0 ==> test rmse = 1.299017\n",
      "Overall test rmse = 1.299017 +/- 0.000000\n",
      "Elapsed time = 0:00:08\n"
     ]
    },
    {
     "name": "stdout",
     "output_type": "stream",
     "text": [
      "Loading training args\n",
      "Setting molecule featurization parameters to default.\n",
      "Loading data\n"
     ]
    },
    {
     "name": "stderr",
     "output_type": "stream",
     "text": [
      "8923it [00:00, 394861.63it/s]\n",
      "100%|██████████| 8923/8923 [00:00<00:00, 240406.58it/s]\n"
     ]
    },
    {
     "name": "stdout",
     "output_type": "stream",
     "text": [
      "Validating SMILES\n",
      "Test size = 8,923\n"
     ]
    },
    {
     "name": "stderr",
     "output_type": "stream",
     "text": [
      "  0%|          | 0/1 [00:00<?, ?it/s]"
     ]
    },
    {
     "name": "stdout",
     "output_type": "stream",
     "text": [
      "Loading pretrained parameter \"encoder.encoder.0.cached_zero_vector\".\n",
      "Loading pretrained parameter \"encoder.encoder.0.W_i.weight\".\n",
      "Loading pretrained parameter \"encoder.encoder.0.W_h.weight\".\n",
      "Loading pretrained parameter \"encoder.encoder.0.W_o.weight\".\n",
      "Loading pretrained parameter \"encoder.encoder.0.W_o.bias\".\n",
      "Loading pretrained parameter \"readout.1.weight\".\n",
      "Loading pretrained parameter \"readout.1.bias\".\n",
      "Loading pretrained parameter \"readout.4.weight\".\n",
      "Loading pretrained parameter \"readout.4.bias\".\n"
     ]
    },
    {
     "name": "stderr",
     "output_type": "stream",
     "text": [
      "100%|██████████| 1/1 [00:58<00:00, 58.82s/it]\n"
     ]
    },
    {
     "name": "stdout",
     "output_type": "stream",
     "text": [
      "Saving predictions to mc_preds.csv\n",
      "Elapsed time = 0:00:59\n",
      "running chemprop\n",
      "in the counter\n"
     ]
    },
    {
     "name": "stderr",
     "output_type": "stream",
     "text": [
      "1099it [00:00, 215792.34it/s]\n",
      "100%|██████████| 1099/1099 [00:00<00:00, 199409.07it/s]\n",
      "100%|██████████| 1099/1099 [00:00<00:00, 112050.66it/s]\n",
      "Fold 0\n",
      "100%|██████████| 5/5 [00:07<00:00,  1.49s/it]\n",
      "Model 0 best validation rmse = 1.251444 on epoch 4\n",
      "Model 0 test rmse = 1.266056                 \n",
      "Ensemble test rmse = 1.266056\n",
      "1-fold cross validation\n",
      "\tSeed 0 ==> test rmse = 1.266056\n",
      "Overall test rmse = 1.266056 +/- 0.000000\n",
      "Elapsed time = 0:00:08\n"
     ]
    },
    {
     "name": "stdout",
     "output_type": "stream",
     "text": [
      "Loading training args\n",
      "Setting molecule featurization parameters to default.\n",
      "Loading data\n"
     ]
    },
    {
     "name": "stderr",
     "output_type": "stream",
     "text": [
      "8898it [00:00, 390231.05it/s]\n",
      "100%|██████████| 8898/8898 [00:00<00:00, 55960.11it/s]\n"
     ]
    },
    {
     "name": "stdout",
     "output_type": "stream",
     "text": [
      "Validating SMILES\n",
      "Test size = 8,898\n"
     ]
    },
    {
     "name": "stderr",
     "output_type": "stream",
     "text": [
      "  0%|          | 0/1 [00:00<?, ?it/s]"
     ]
    },
    {
     "name": "stdout",
     "output_type": "stream",
     "text": [
      "Loading pretrained parameter \"encoder.encoder.0.cached_zero_vector\".\n",
      "Loading pretrained parameter \"encoder.encoder.0.W_i.weight\".\n",
      "Loading pretrained parameter \"encoder.encoder.0.W_h.weight\".\n",
      "Loading pretrained parameter \"encoder.encoder.0.W_o.weight\".\n",
      "Loading pretrained parameter \"encoder.encoder.0.W_o.bias\".\n",
      "Loading pretrained parameter \"readout.1.weight\".\n",
      "Loading pretrained parameter \"readout.1.bias\".\n",
      "Loading pretrained parameter \"readout.4.weight\".\n",
      "Loading pretrained parameter \"readout.4.bias\".\n"
     ]
    },
    {
     "name": "stderr",
     "output_type": "stream",
     "text": [
      "100%|██████████| 1/1 [00:58<00:00, 58.77s/it]\n"
     ]
    },
    {
     "name": "stdout",
     "output_type": "stream",
     "text": [
      "Saving predictions to mc_preds.csv\n",
      "Elapsed time = 0:00:59\n",
      "running chemprop\n"
     ]
    },
    {
     "name": "stderr",
     "output_type": "stream",
     "text": [
      "1124it [00:00, 258026.25it/s]\n",
      "100%|██████████| 1124/1124 [00:00<00:00, 178103.43it/s]\n",
      "100%|██████████| 1124/1124 [00:00<00:00, 159929.36it/s]\n",
      "Fold 0\n",
      "100%|██████████| 5/5 [00:07<00:00,  1.52s/it]\n",
      "Model 0 best validation rmse = 1.290311 on epoch 3\n",
      "Model 0 test rmse = 1.255370                 \n",
      "Ensemble test rmse = 1.255370\n",
      "1-fold cross validation\n",
      "\tSeed 0 ==> test rmse = 1.255370\n",
      "Overall test rmse = 1.255370 +/- 0.000000\n",
      "Elapsed time = 0:00:08\n"
     ]
    },
    {
     "name": "stdout",
     "output_type": "stream",
     "text": [
      "Loading training args\n",
      "Setting molecule featurization parameters to default.\n",
      "Loading data\n"
     ]
    },
    {
     "name": "stderr",
     "output_type": "stream",
     "text": [
      "8873it [00:00, 381699.26it/s]\n",
      "100%|██████████| 8873/8873 [00:00<00:00, 236841.31it/s]"
     ]
    },
    {
     "name": "stdout",
     "output_type": "stream",
     "text": [
      "Validating SMILES\n"
     ]
    },
    {
     "name": "stderr",
     "output_type": "stream",
     "text": [
      "\n"
     ]
    },
    {
     "name": "stdout",
     "output_type": "stream",
     "text": [
      "Test size = 8,873\n"
     ]
    },
    {
     "name": "stderr",
     "output_type": "stream",
     "text": [
      "  0%|          | 0/1 [00:00<?, ?it/s]"
     ]
    },
    {
     "name": "stdout",
     "output_type": "stream",
     "text": [
      "Loading pretrained parameter \"encoder.encoder.0.cached_zero_vector\".\n",
      "Loading pretrained parameter \"encoder.encoder.0.W_i.weight\".\n",
      "Loading pretrained parameter \"encoder.encoder.0.W_h.weight\".\n",
      "Loading pretrained parameter \"encoder.encoder.0.W_o.weight\".\n",
      "Loading pretrained parameter \"encoder.encoder.0.W_o.bias\".\n",
      "Loading pretrained parameter \"readout.1.weight\".\n",
      "Loading pretrained parameter \"readout.1.bias\".\n",
      "Loading pretrained parameter \"readout.4.weight\".\n",
      "Loading pretrained parameter \"readout.4.bias\".\n"
     ]
    },
    {
     "name": "stderr",
     "output_type": "stream",
     "text": [
      "100%|██████████| 1/1 [00:59<00:00, 59.68s/it]\n"
     ]
    },
    {
     "name": "stdout",
     "output_type": "stream",
     "text": [
      "Saving predictions to mc_preds.csv\n",
      "Elapsed time = 0:01:00\n",
      "running chemprop\n"
     ]
    },
    {
     "name": "stderr",
     "output_type": "stream",
     "text": [
      "1149it [00:00, 218273.26it/s]\n",
      "100%|██████████| 1149/1149 [00:00<00:00, 210705.46it/s]\n",
      "100%|██████████| 1149/1149 [00:00<00:00, 147400.38it/s]\n",
      "Fold 0\n",
      "100%|██████████| 5/5 [00:07<00:00,  1.57s/it]\n",
      "Model 0 best validation rmse = 1.065509 on epoch 4\n",
      "Model 0 test rmse = 1.181966                 \n",
      "Ensemble test rmse = 1.181966\n",
      "1-fold cross validation\n",
      "\tSeed 0 ==> test rmse = 1.181966\n",
      "Overall test rmse = 1.181966 +/- 0.000000\n",
      "Elapsed time = 0:00:08\n"
     ]
    },
    {
     "name": "stdout",
     "output_type": "stream",
     "text": [
      "Loading training args\n",
      "Setting molecule featurization parameters to default.\n",
      "Loading data\n"
     ]
    },
    {
     "name": "stderr",
     "output_type": "stream",
     "text": [
      "8848it [00:00, 382400.48it/s]\n",
      "100%|██████████| 8848/8848 [00:00<00:00, 53440.86it/s]\n"
     ]
    },
    {
     "name": "stdout",
     "output_type": "stream",
     "text": [
      "Validating SMILES\n",
      "Test size = 8,848\n"
     ]
    },
    {
     "name": "stderr",
     "output_type": "stream",
     "text": [
      "  0%|          | 0/1 [00:00<?, ?it/s]"
     ]
    },
    {
     "name": "stdout",
     "output_type": "stream",
     "text": [
      "Loading pretrained parameter \"encoder.encoder.0.cached_zero_vector\".\n",
      "Loading pretrained parameter \"encoder.encoder.0.W_i.weight\".\n",
      "Loading pretrained parameter \"encoder.encoder.0.W_h.weight\".\n",
      "Loading pretrained parameter \"encoder.encoder.0.W_o.weight\".\n",
      "Loading pretrained parameter \"encoder.encoder.0.W_o.bias\".\n",
      "Loading pretrained parameter \"readout.1.weight\".\n",
      "Loading pretrained parameter \"readout.1.bias\".\n",
      "Loading pretrained parameter \"readout.4.weight\".\n",
      "Loading pretrained parameter \"readout.4.bias\".\n"
     ]
    },
    {
     "name": "stderr",
     "output_type": "stream",
     "text": [
      "100%|██████████| 1/1 [00:58<00:00, 58.83s/it]\n"
     ]
    },
    {
     "name": "stdout",
     "output_type": "stream",
     "text": [
      "Saving predictions to mc_preds.csv\n",
      "Elapsed time = 0:00:59\n",
      "running chemprop\n"
     ]
    },
    {
     "name": "stderr",
     "output_type": "stream",
     "text": [
      "1174it [00:00, 199082.76it/s]\n",
      "100%|██████████| 1174/1174 [00:00<00:00, 88283.72it/s]\n",
      "100%|██████████| 1174/1174 [00:00<00:00, 80400.24it/s]\n",
      "Fold 0\n",
      "100%|██████████| 5/5 [00:07<00:00,  1.58s/it]\n",
      "Model 0 best validation rmse = 1.162114 on epoch 3\n",
      "Model 0 test rmse = 1.225417                 \n",
      "Ensemble test rmse = 1.225417\n",
      "1-fold cross validation\n",
      "\tSeed 0 ==> test rmse = 1.225417\n",
      "Overall test rmse = 1.225417 +/- 0.000000\n",
      "Elapsed time = 0:00:08\n"
     ]
    },
    {
     "name": "stdout",
     "output_type": "stream",
     "text": [
      "Loading training args\n",
      "Setting molecule featurization parameters to default.\n",
      "Loading data\n"
     ]
    },
    {
     "name": "stderr",
     "output_type": "stream",
     "text": [
      "8823it [00:00, 393533.80it/s]\n",
      "100%|██████████| 8823/8823 [00:00<00:00, 53264.86it/s]\n"
     ]
    },
    {
     "name": "stdout",
     "output_type": "stream",
     "text": [
      "Validating SMILES\n",
      "Test size = 8,823\n"
     ]
    },
    {
     "name": "stderr",
     "output_type": "stream",
     "text": [
      "  0%|          | 0/1 [00:00<?, ?it/s]"
     ]
    },
    {
     "name": "stdout",
     "output_type": "stream",
     "text": [
      "Loading pretrained parameter \"encoder.encoder.0.cached_zero_vector\".\n",
      "Loading pretrained parameter \"encoder.encoder.0.W_i.weight\".\n",
      "Loading pretrained parameter \"encoder.encoder.0.W_h.weight\".\n",
      "Loading pretrained parameter \"encoder.encoder.0.W_o.weight\".\n",
      "Loading pretrained parameter \"encoder.encoder.0.W_o.bias\".\n",
      "Loading pretrained parameter \"readout.1.weight\".\n",
      "Loading pretrained parameter \"readout.1.bias\".\n",
      "Loading pretrained parameter \"readout.4.weight\".\n",
      "Loading pretrained parameter \"readout.4.bias\".\n"
     ]
    },
    {
     "name": "stderr",
     "output_type": "stream",
     "text": [
      "100%|██████████| 1/1 [00:59<00:00, 59.50s/it]\n"
     ]
    },
    {
     "name": "stdout",
     "output_type": "stream",
     "text": [
      "Saving predictions to mc_preds.csv\n",
      "Elapsed time = 0:01:00\n",
      "running chemprop\n",
      "in the counter\n"
     ]
    },
    {
     "name": "stderr",
     "output_type": "stream",
     "text": [
      "1199it [00:00, 187312.67it/s]\n",
      "100%|██████████| 1199/1199 [00:00<00:00, 202944.73it/s]\n",
      "100%|██████████| 1199/1199 [00:00<00:00, 113272.75it/s]\n",
      "Fold 0\n",
      "100%|██████████| 5/5 [00:08<00:00,  1.61s/it]\n",
      "Model 0 best validation rmse = 1.115515 on epoch 4\n",
      "Model 0 test rmse = 1.261929                 \n",
      "Ensemble test rmse = 1.261929\n",
      "1-fold cross validation\n",
      "\tSeed 0 ==> test rmse = 1.261929\n",
      "Overall test rmse = 1.261929 +/- 0.000000\n",
      "Elapsed time = 0:00:09\n"
     ]
    },
    {
     "name": "stdout",
     "output_type": "stream",
     "text": [
      "Loading training args\n",
      "Setting molecule featurization parameters to default.\n",
      "Loading data\n"
     ]
    },
    {
     "name": "stderr",
     "output_type": "stream",
     "text": [
      "8798it [00:00, 390516.72it/s]\n",
      "100%|██████████| 8798/8798 [00:00<00:00, 240178.38it/s]"
     ]
    },
    {
     "name": "stdout",
     "output_type": "stream",
     "text": [
      "Validating SMILES\n"
     ]
    },
    {
     "name": "stderr",
     "output_type": "stream",
     "text": [
      "\n"
     ]
    },
    {
     "name": "stdout",
     "output_type": "stream",
     "text": [
      "Test size = 8,798\n"
     ]
    },
    {
     "name": "stderr",
     "output_type": "stream",
     "text": [
      "  0%|          | 0/1 [00:00<?, ?it/s]"
     ]
    },
    {
     "name": "stdout",
     "output_type": "stream",
     "text": [
      "Loading pretrained parameter \"encoder.encoder.0.cached_zero_vector\".\n",
      "Loading pretrained parameter \"encoder.encoder.0.W_i.weight\".\n",
      "Loading pretrained parameter \"encoder.encoder.0.W_h.weight\".\n",
      "Loading pretrained parameter \"encoder.encoder.0.W_o.weight\".\n",
      "Loading pretrained parameter \"encoder.encoder.0.W_o.bias\".\n",
      "Loading pretrained parameter \"readout.1.weight\".\n",
      "Loading pretrained parameter \"readout.1.bias\".\n",
      "Loading pretrained parameter \"readout.4.weight\".\n",
      "Loading pretrained parameter \"readout.4.bias\".\n"
     ]
    },
    {
     "name": "stderr",
     "output_type": "stream",
     "text": [
      "100%|██████████| 1/1 [07:17<00:00, 437.78s/it]\n"
     ]
    },
    {
     "name": "stdout",
     "output_type": "stream",
     "text": [
      "Saving predictions to mc_preds.csv\n",
      "Elapsed time = 0:07:18\n",
      "running chemprop\n"
     ]
    },
    {
     "name": "stderr",
     "output_type": "stream",
     "text": [
      "1224it [00:00, 231608.23it/s]\n",
      "100%|██████████| 1224/1224 [00:00<00:00, 174810.27it/s]\n",
      "100%|██████████| 1224/1224 [00:00<00:00, 94956.59it/s]\n",
      "Fold 0\n",
      "100%|██████████| 5/5 [00:08<00:00,  1.66s/it]\n",
      "Model 0 best validation rmse = 1.152662 on epoch 4\n",
      "Model 0 test rmse = 1.228845                 \n",
      "Ensemble test rmse = 1.228845\n",
      "1-fold cross validation\n",
      "\tSeed 0 ==> test rmse = 1.228845\n",
      "Overall test rmse = 1.228845 +/- 0.000000\n",
      "Elapsed time = 0:00:09\n"
     ]
    },
    {
     "name": "stdout",
     "output_type": "stream",
     "text": [
      "Loading training args\n",
      "Setting molecule featurization parameters to default.\n",
      "Loading data\n"
     ]
    },
    {
     "name": "stderr",
     "output_type": "stream",
     "text": [
      "8773it [00:00, 392141.83it/s]\n",
      "100%|██████████| 8773/8773 [00:00<00:00, 51132.21it/s]\n"
     ]
    },
    {
     "name": "stdout",
     "output_type": "stream",
     "text": [
      "Validating SMILES\n",
      "Test size = 8,773\n"
     ]
    },
    {
     "name": "stderr",
     "output_type": "stream",
     "text": [
      "  0%|          | 0/1 [00:00<?, ?it/s]"
     ]
    },
    {
     "name": "stdout",
     "output_type": "stream",
     "text": [
      "Loading pretrained parameter \"encoder.encoder.0.cached_zero_vector\".\n",
      "Loading pretrained parameter \"encoder.encoder.0.W_i.weight\".\n",
      "Loading pretrained parameter \"encoder.encoder.0.W_h.weight\".\n",
      "Loading pretrained parameter \"encoder.encoder.0.W_o.weight\".\n",
      "Loading pretrained parameter \"encoder.encoder.0.W_o.bias\".\n",
      "Loading pretrained parameter \"readout.1.weight\".\n",
      "Loading pretrained parameter \"readout.1.bias\".\n",
      "Loading pretrained parameter \"readout.4.weight\".\n",
      "Loading pretrained parameter \"readout.4.bias\".\n"
     ]
    },
    {
     "name": "stderr",
     "output_type": "stream",
     "text": [
      "100%|██████████| 1/1 [00:59<00:00, 59.38s/it]\n"
     ]
    },
    {
     "name": "stdout",
     "output_type": "stream",
     "text": [
      "Saving predictions to mc_preds.csv\n",
      "Elapsed time = 0:01:00\n",
      "running chemprop\n"
     ]
    },
    {
     "name": "stderr",
     "output_type": "stream",
     "text": [
      "1249it [00:00, 207448.05it/s]\n",
      "100%|██████████| 1249/1249 [00:00<00:00, 204628.17it/s]\n",
      "100%|██████████| 1249/1249 [00:00<00:00, 25517.84it/s]\n",
      "Fold 0\n",
      "100%|██████████| 5/5 [00:09<00:00,  1.89s/it]\n",
      "Model 0 best validation rmse = 1.186623 on epoch 4\n",
      "Model 0 test rmse = 1.242248                 \n",
      "Ensemble test rmse = 1.242248\n",
      "1-fold cross validation\n",
      "\tSeed 0 ==> test rmse = 1.242248\n",
      "Overall test rmse = 1.242248 +/- 0.000000\n",
      "Elapsed time = 0:00:10\n"
     ]
    },
    {
     "name": "stdout",
     "output_type": "stream",
     "text": [
      "Loading training args\n",
      "Setting molecule featurization parameters to default.\n",
      "Loading data\n"
     ]
    },
    {
     "name": "stderr",
     "output_type": "stream",
     "text": [
      "8748it [00:00, 384981.02it/s]\n",
      "100%|██████████| 8748/8748 [00:00<00:00, 241199.64it/s]"
     ]
    },
    {
     "name": "stdout",
     "output_type": "stream",
     "text": [
      "Validating SMILES\n",
      "Test size = 8,748\n"
     ]
    },
    {
     "name": "stderr",
     "output_type": "stream",
     "text": [
      "\n",
      "  0%|          | 0/1 [00:00<?, ?it/s]"
     ]
    },
    {
     "name": "stdout",
     "output_type": "stream",
     "text": [
      "Loading pretrained parameter \"encoder.encoder.0.cached_zero_vector\".\n",
      "Loading pretrained parameter \"encoder.encoder.0.W_i.weight\".\n",
      "Loading pretrained parameter \"encoder.encoder.0.W_h.weight\".\n",
      "Loading pretrained parameter \"encoder.encoder.0.W_o.weight\".\n",
      "Loading pretrained parameter \"encoder.encoder.0.W_o.bias\".\n",
      "Loading pretrained parameter \"readout.1.weight\".\n",
      "Loading pretrained parameter \"readout.1.bias\".\n",
      "Loading pretrained parameter \"readout.4.weight\".\n",
      "Loading pretrained parameter \"readout.4.bias\".\n"
     ]
    },
    {
     "name": "stderr",
     "output_type": "stream",
     "text": [
      "100%|██████████| 1/1 [00:59<00:00, 59.75s/it]\n"
     ]
    },
    {
     "name": "stdout",
     "output_type": "stream",
     "text": [
      "Saving predictions to mc_preds.csv\n",
      "Elapsed time = 0:01:00\n",
      "running chemprop\n"
     ]
    },
    {
     "name": "stderr",
     "output_type": "stream",
     "text": [
      "1274it [00:00, 213008.98it/s]\n",
      "100%|██████████| 1274/1274 [00:00<00:00, 216372.83it/s]\n",
      "100%|██████████| 1274/1274 [00:00<00:00, 115944.70it/s]\n",
      "Fold 0\n",
      "100%|██████████| 5/5 [00:08<00:00,  1.75s/it]\n",
      "Model 0 best validation rmse = 1.266347 on epoch 3\n",
      "Model 0 test rmse = 1.221155                 \n",
      "Ensemble test rmse = 1.221155\n",
      "1-fold cross validation\n",
      "\tSeed 0 ==> test rmse = 1.221155\n",
      "Overall test rmse = 1.221155 +/- 0.000000\n",
      "Elapsed time = 0:00:09\n"
     ]
    },
    {
     "name": "stdout",
     "output_type": "stream",
     "text": [
      "Loading training args\n",
      "Setting molecule featurization parameters to default.\n",
      "Loading data\n"
     ]
    },
    {
     "name": "stderr",
     "output_type": "stream",
     "text": [
      "8723it [00:00, 388103.59it/s]\n",
      "100%|██████████| 8723/8723 [00:00<00:00, 50730.75it/s]\n"
     ]
    },
    {
     "name": "stdout",
     "output_type": "stream",
     "text": [
      "Validating SMILES\n",
      "Test size = 8,723\n"
     ]
    },
    {
     "name": "stderr",
     "output_type": "stream",
     "text": [
      "  0%|          | 0/1 [00:00<?, ?it/s]"
     ]
    },
    {
     "name": "stdout",
     "output_type": "stream",
     "text": [
      "Loading pretrained parameter \"encoder.encoder.0.cached_zero_vector\".\n",
      "Loading pretrained parameter \"encoder.encoder.0.W_i.weight\".\n",
      "Loading pretrained parameter \"encoder.encoder.0.W_h.weight\".\n",
      "Loading pretrained parameter \"encoder.encoder.0.W_o.weight\".\n",
      "Loading pretrained parameter \"encoder.encoder.0.W_o.bias\".\n",
      "Loading pretrained parameter \"readout.1.weight\".\n",
      "Loading pretrained parameter \"readout.1.bias\".\n",
      "Loading pretrained parameter \"readout.4.weight\".\n",
      "Loading pretrained parameter \"readout.4.bias\".\n"
     ]
    },
    {
     "name": "stderr",
     "output_type": "stream",
     "text": [
      "100%|██████████| 1/1 [00:58<00:00, 58.57s/it]\n"
     ]
    },
    {
     "name": "stdout",
     "output_type": "stream",
     "text": [
      "Saving predictions to mc_preds.csv\n",
      "Elapsed time = 0:00:59\n",
      "running chemprop\n",
      "in the counter\n"
     ]
    },
    {
     "name": "stderr",
     "output_type": "stream",
     "text": [
      "1299it [00:00, 187391.26it/s]\n",
      "100%|██████████| 1299/1299 [00:00<00:00, 208806.99it/s]\n",
      "100%|██████████| 1299/1299 [00:00<00:00, 113707.34it/s]\n",
      "Fold 0\n",
      "100%|██████████| 5/5 [00:08<00:00,  1.79s/it]\n",
      "Model 0 best validation rmse = 1.273901 on epoch 4\n",
      "Model 0 test rmse = 1.214922                 \n",
      "Ensemble test rmse = 1.214922\n",
      "1-fold cross validation\n",
      "\tSeed 0 ==> test rmse = 1.214922\n",
      "Overall test rmse = 1.214922 +/- 0.000000\n",
      "Elapsed time = 0:00:09\n"
     ]
    },
    {
     "name": "stdout",
     "output_type": "stream",
     "text": [
      "Loading training args\n",
      "Setting molecule featurization parameters to default.\n",
      "Loading data\n"
     ]
    },
    {
     "name": "stderr",
     "output_type": "stream",
     "text": [
      "8698it [00:00, 55377.62it/s]\n",
      "100%|██████████| 8698/8698 [00:00<00:00, 236276.63it/s]\n"
     ]
    },
    {
     "name": "stdout",
     "output_type": "stream",
     "text": [
      "Validating SMILES\n",
      "Test size = 8,698\n"
     ]
    },
    {
     "name": "stderr",
     "output_type": "stream",
     "text": [
      "  0%|          | 0/1 [00:00<?, ?it/s]"
     ]
    },
    {
     "name": "stdout",
     "output_type": "stream",
     "text": [
      "Loading pretrained parameter \"encoder.encoder.0.cached_zero_vector\".\n",
      "Loading pretrained parameter \"encoder.encoder.0.W_i.weight\".\n",
      "Loading pretrained parameter \"encoder.encoder.0.W_h.weight\".\n",
      "Loading pretrained parameter \"encoder.encoder.0.W_o.weight\".\n",
      "Loading pretrained parameter \"encoder.encoder.0.W_o.bias\".\n",
      "Loading pretrained parameter \"readout.1.weight\".\n",
      "Loading pretrained parameter \"readout.1.bias\".\n",
      "Loading pretrained parameter \"readout.4.weight\".\n",
      "Loading pretrained parameter \"readout.4.bias\".\n"
     ]
    },
    {
     "name": "stderr",
     "output_type": "stream",
     "text": [
      "100%|██████████| 1/1 [00:58<00:00, 58.85s/it]\n"
     ]
    },
    {
     "name": "stdout",
     "output_type": "stream",
     "text": [
      "Saving predictions to mc_preds.csv\n",
      "Elapsed time = 0:00:59\n",
      "running chemprop\n"
     ]
    },
    {
     "name": "stderr",
     "output_type": "stream",
     "text": [
      "1324it [00:00, 253399.89it/s]\n",
      "100%|██████████| 1324/1324 [00:00<00:00, 187984.78it/s]\n",
      "100%|██████████| 1324/1324 [00:00<00:00, 114079.14it/s]\n",
      "Fold 0\n",
      "100%|██████████| 5/5 [00:09<00:00,  1.98s/it]\n",
      "Model 0 best validation rmse = 1.293291 on epoch 4\n",
      "Model 0 test rmse = 1.176838                 \n",
      "Ensemble test rmse = 1.176838\n",
      "1-fold cross validation\n",
      "\tSeed 0 ==> test rmse = 1.176838\n",
      "Overall test rmse = 1.176838 +/- 0.000000\n",
      "Elapsed time = 0:00:10\n"
     ]
    },
    {
     "name": "stdout",
     "output_type": "stream",
     "text": [
      "Loading training args\n",
      "Setting molecule featurization parameters to default.\n",
      "Loading data\n"
     ]
    },
    {
     "name": "stderr",
     "output_type": "stream",
     "text": [
      "8673it [00:00, 373643.65it/s]\n",
      "100%|██████████| 8673/8673 [00:00<00:00, 48978.68it/s]\n"
     ]
    },
    {
     "name": "stdout",
     "output_type": "stream",
     "text": [
      "Validating SMILES\n",
      "Test size = 8,673\n"
     ]
    },
    {
     "name": "stderr",
     "output_type": "stream",
     "text": [
      "  0%|          | 0/1 [00:00<?, ?it/s]"
     ]
    },
    {
     "name": "stdout",
     "output_type": "stream",
     "text": [
      "Loading pretrained parameter \"encoder.encoder.0.cached_zero_vector\".\n",
      "Loading pretrained parameter \"encoder.encoder.0.W_i.weight\".\n",
      "Loading pretrained parameter \"encoder.encoder.0.W_h.weight\".\n",
      "Loading pretrained parameter \"encoder.encoder.0.W_o.weight\".\n",
      "Loading pretrained parameter \"encoder.encoder.0.W_o.bias\".\n",
      "Loading pretrained parameter \"readout.1.weight\".\n",
      "Loading pretrained parameter \"readout.1.bias\".\n",
      "Loading pretrained parameter \"readout.4.weight\".\n",
      "Loading pretrained parameter \"readout.4.bias\".\n"
     ]
    },
    {
     "name": "stderr",
     "output_type": "stream",
     "text": [
      "100%|██████████| 1/1 [01:00<00:00, 60.15s/it]\n"
     ]
    },
    {
     "name": "stdout",
     "output_type": "stream",
     "text": [
      "Saving predictions to mc_preds.csv\n",
      "Elapsed time = 0:01:01\n",
      "running chemprop\n"
     ]
    },
    {
     "name": "stderr",
     "output_type": "stream",
     "text": [
      "1349it [00:00, 241191.70it/s]\n",
      "100%|██████████| 1349/1349 [00:00<00:00, 216603.48it/s]\n",
      "100%|██████████| 1349/1349 [00:00<00:00, 104322.07it/s]\n",
      "Fold 0\n",
      "100%|██████████| 5/5 [00:09<00:00,  1.81s/it]\n",
      "Model 0 best validation rmse = 1.244862 on epoch 4\n",
      "Model 0 test rmse = 1.197545                 \n",
      "Ensemble test rmse = 1.197545\n",
      "1-fold cross validation\n",
      "\tSeed 0 ==> test rmse = 1.197545\n",
      "Overall test rmse = 1.197545 +/- 0.000000\n",
      "Elapsed time = 0:00:09\n"
     ]
    },
    {
     "name": "stdout",
     "output_type": "stream",
     "text": [
      "Loading training args\n",
      "Setting molecule featurization parameters to default.\n",
      "Loading data\n"
     ]
    },
    {
     "name": "stderr",
     "output_type": "stream",
     "text": [
      "8648it [00:00, 52877.68it/s]\n",
      "100%|██████████| 8648/8648 [00:00<00:00, 239364.51it/s]\n"
     ]
    },
    {
     "name": "stdout",
     "output_type": "stream",
     "text": [
      "Validating SMILES\n",
      "Test size = 8,648\n"
     ]
    },
    {
     "name": "stderr",
     "output_type": "stream",
     "text": [
      "  0%|          | 0/1 [00:00<?, ?it/s]"
     ]
    },
    {
     "name": "stdout",
     "output_type": "stream",
     "text": [
      "Loading pretrained parameter \"encoder.encoder.0.cached_zero_vector\".\n",
      "Loading pretrained parameter \"encoder.encoder.0.W_i.weight\".\n",
      "Loading pretrained parameter \"encoder.encoder.0.W_h.weight\".\n",
      "Loading pretrained parameter \"encoder.encoder.0.W_o.weight\".\n",
      "Loading pretrained parameter \"encoder.encoder.0.W_o.bias\".\n",
      "Loading pretrained parameter \"readout.1.weight\".\n",
      "Loading pretrained parameter \"readout.1.bias\".\n",
      "Loading pretrained parameter \"readout.4.weight\".\n",
      "Loading pretrained parameter \"readout.4.bias\".\n"
     ]
    },
    {
     "name": "stderr",
     "output_type": "stream",
     "text": [
      "100%|██████████| 1/1 [00:58<00:00, 58.53s/it]\n"
     ]
    },
    {
     "name": "stdout",
     "output_type": "stream",
     "text": [
      "Saving predictions to mc_preds.csv\n",
      "Elapsed time = 0:00:59\n",
      "running chemprop\n"
     ]
    },
    {
     "name": "stderr",
     "output_type": "stream",
     "text": [
      "1374it [00:00, 212232.96it/s]\n",
      "100%|██████████| 1374/1374 [00:00<00:00, 197904.32it/s]\n",
      "100%|██████████| 1374/1374 [00:00<00:00, 110173.85it/s]\n",
      "Fold 0\n",
      "100%|██████████| 5/5 [00:10<00:00,  2.01s/it]\n",
      "Model 0 best validation rmse = 1.300882 on epoch 4\n",
      "Model 0 test rmse = 1.249468                 \n",
      "Ensemble test rmse = 1.249468\n",
      "1-fold cross validation\n",
      "\tSeed 0 ==> test rmse = 1.249468\n",
      "Overall test rmse = 1.249468 +/- 0.000000\n",
      "Elapsed time = 0:00:10\n"
     ]
    },
    {
     "name": "stdout",
     "output_type": "stream",
     "text": [
      "Loading training args\n",
      "Setting molecule featurization parameters to default.\n",
      "Loading data\n"
     ]
    },
    {
     "name": "stderr",
     "output_type": "stream",
     "text": [
      "8623it [00:00, 379384.50it/s]\n",
      "100%|██████████| 8623/8623 [00:00<00:00, 233804.70it/s]\n"
     ]
    },
    {
     "name": "stdout",
     "output_type": "stream",
     "text": [
      "Validating SMILES\n",
      "Test size = 8,623\n"
     ]
    },
    {
     "name": "stderr",
     "output_type": "stream",
     "text": [
      "  0%|          | 0/1 [00:00<?, ?it/s]"
     ]
    },
    {
     "name": "stdout",
     "output_type": "stream",
     "text": [
      "Loading pretrained parameter \"encoder.encoder.0.cached_zero_vector\".\n",
      "Loading pretrained parameter \"encoder.encoder.0.W_i.weight\".\n",
      "Loading pretrained parameter \"encoder.encoder.0.W_h.weight\".\n",
      "Loading pretrained parameter \"encoder.encoder.0.W_o.weight\".\n",
      "Loading pretrained parameter \"encoder.encoder.0.W_o.bias\".\n",
      "Loading pretrained parameter \"readout.1.weight\".\n",
      "Loading pretrained parameter \"readout.1.bias\".\n",
      "Loading pretrained parameter \"readout.4.weight\".\n",
      "Loading pretrained parameter \"readout.4.bias\".\n"
     ]
    },
    {
     "name": "stderr",
     "output_type": "stream",
     "text": [
      "100%|██████████| 1/1 [00:58<00:00, 58.65s/it]\n"
     ]
    },
    {
     "name": "stdout",
     "output_type": "stream",
     "text": [
      "Saving predictions to mc_preds.csv\n",
      "Elapsed time = 0:00:59\n",
      "running chemprop\n",
      "in the counter\n"
     ]
    },
    {
     "name": "stderr",
     "output_type": "stream",
     "text": [
      "1399it [00:00, 168393.25it/s]\n",
      "100%|██████████| 1399/1399 [00:00<00:00, 201270.20it/s]\n",
      "100%|██████████| 1399/1399 [00:00<00:00, 88802.93it/s]\n",
      "Fold 0\n",
      "100%|██████████| 5/5 [00:09<00:00,  1.90s/it]\n",
      "Model 0 best validation rmse = 1.275993 on epoch 4\n",
      "Model 0 test rmse = 1.282590                 \n",
      "Ensemble test rmse = 1.282590\n",
      "1-fold cross validation\n",
      "\tSeed 0 ==> test rmse = 1.282590\n",
      "Overall test rmse = 1.282590 +/- 0.000000\n",
      "Elapsed time = 0:00:10\n"
     ]
    },
    {
     "name": "stdout",
     "output_type": "stream",
     "text": [
      "Loading training args\n",
      "Setting molecule featurization parameters to default.\n",
      "Loading data\n"
     ]
    },
    {
     "name": "stderr",
     "output_type": "stream",
     "text": [
      "8598it [00:00, 385370.93it/s]\n",
      "100%|██████████| 8598/8598 [00:00<00:00, 43933.43it/s]\n"
     ]
    },
    {
     "name": "stdout",
     "output_type": "stream",
     "text": [
      "Validating SMILES\n",
      "Test size = 8,598\n"
     ]
    },
    {
     "name": "stderr",
     "output_type": "stream",
     "text": [
      "  0%|          | 0/1 [00:00<?, ?it/s]"
     ]
    },
    {
     "name": "stdout",
     "output_type": "stream",
     "text": [
      "Loading pretrained parameter \"encoder.encoder.0.cached_zero_vector\".\n",
      "Loading pretrained parameter \"encoder.encoder.0.W_i.weight\".\n",
      "Loading pretrained parameter \"encoder.encoder.0.W_h.weight\".\n",
      "Loading pretrained parameter \"encoder.encoder.0.W_o.weight\".\n",
      "Loading pretrained parameter \"encoder.encoder.0.W_o.bias\".\n",
      "Loading pretrained parameter \"readout.1.weight\".\n",
      "Loading pretrained parameter \"readout.1.bias\".\n",
      "Loading pretrained parameter \"readout.4.weight\".\n",
      "Loading pretrained parameter \"readout.4.bias\".\n"
     ]
    },
    {
     "name": "stderr",
     "output_type": "stream",
     "text": [
      "100%|██████████| 1/1 [00:59<00:00, 59.67s/it]\n"
     ]
    },
    {
     "name": "stdout",
     "output_type": "stream",
     "text": [
      "Saving predictions to mc_preds.csv\n",
      "Elapsed time = 0:01:00\n",
      "running chemprop\n"
     ]
    },
    {
     "name": "stderr",
     "output_type": "stream",
     "text": [
      "1424it [00:00, 267617.57it/s]\n",
      "100%|██████████| 1424/1424 [00:00<00:00, 199328.82it/s]\n",
      "100%|██████████| 1424/1424 [00:00<00:00, 105778.71it/s]\n",
      "Fold 0\n",
      "100%|██████████| 5/5 [00:09<00:00,  1.91s/it]\n",
      "Model 0 best validation rmse = 1.241836 on epoch 4\n",
      "Model 0 test rmse = 1.170645                 \n",
      "Ensemble test rmse = 1.170645\n",
      "1-fold cross validation\n",
      "\tSeed 0 ==> test rmse = 1.170645\n",
      "Overall test rmse = 1.170645 +/- 0.000000\n",
      "Elapsed time = 0:00:10\n"
     ]
    },
    {
     "name": "stdout",
     "output_type": "stream",
     "text": [
      "Loading training args\n",
      "Setting molecule featurization parameters to default.\n",
      "Loading data\n"
     ]
    },
    {
     "name": "stderr",
     "output_type": "stream",
     "text": [
      "8573it [00:00, 389187.03it/s]\n",
      "100%|██████████| 8573/8573 [00:00<00:00, 44915.38it/s]\n"
     ]
    },
    {
     "name": "stdout",
     "output_type": "stream",
     "text": [
      "Validating SMILES\n",
      "Test size = 8,573\n"
     ]
    },
    {
     "name": "stderr",
     "output_type": "stream",
     "text": [
      "  0%|          | 0/1 [00:00<?, ?it/s]"
     ]
    },
    {
     "name": "stdout",
     "output_type": "stream",
     "text": [
      "Loading pretrained parameter \"encoder.encoder.0.cached_zero_vector\".\n",
      "Loading pretrained parameter \"encoder.encoder.0.W_i.weight\".\n",
      "Loading pretrained parameter \"encoder.encoder.0.W_h.weight\".\n",
      "Loading pretrained parameter \"encoder.encoder.0.W_o.weight\".\n",
      "Loading pretrained parameter \"encoder.encoder.0.W_o.bias\".\n",
      "Loading pretrained parameter \"readout.1.weight\".\n",
      "Loading pretrained parameter \"readout.1.bias\".\n",
      "Loading pretrained parameter \"readout.4.weight\".\n",
      "Loading pretrained parameter \"readout.4.bias\".\n"
     ]
    },
    {
     "name": "stderr",
     "output_type": "stream",
     "text": [
      "100%|██████████| 1/1 [00:58<00:00, 58.65s/it]\n"
     ]
    },
    {
     "name": "stdout",
     "output_type": "stream",
     "text": [
      "Saving predictions to mc_preds.csv\n",
      "Elapsed time = 0:00:59\n",
      "running chemprop\n"
     ]
    },
    {
     "name": "stderr",
     "output_type": "stream",
     "text": [
      "1449it [00:00, 232660.08it/s]\n",
      "100%|██████████| 1449/1449 [00:00<00:00, 211348.81it/s]\n",
      "100%|██████████| 1449/1449 [00:00<00:00, 106222.96it/s]\n",
      "Fold 0\n",
      "100%|██████████| 5/5 [00:09<00:00,  1.97s/it]\n",
      "Model 0 best validation rmse = 1.240500 on epoch 4\n",
      "Model 0 test rmse = 1.221420                 \n",
      "Ensemble test rmse = 1.221420\n",
      "1-fold cross validation\n",
      "\tSeed 0 ==> test rmse = 1.221420\n",
      "Overall test rmse = 1.221420 +/- 0.000000\n",
      "Elapsed time = 0:00:10\n"
     ]
    },
    {
     "name": "stdout",
     "output_type": "stream",
     "text": [
      "Loading training args\n",
      "Setting molecule featurization parameters to default.\n",
      "Loading data\n"
     ]
    },
    {
     "name": "stderr",
     "output_type": "stream",
     "text": [
      "8548it [00:00, 390925.07it/s]\n",
      "100%|██████████| 8548/8548 [00:00<00:00, 46901.13it/s]\n"
     ]
    },
    {
     "name": "stdout",
     "output_type": "stream",
     "text": [
      "Validating SMILES\n",
      "Test size = 8,548\n"
     ]
    },
    {
     "name": "stderr",
     "output_type": "stream",
     "text": [
      "  0%|          | 0/1 [00:00<?, ?it/s]"
     ]
    },
    {
     "name": "stdout",
     "output_type": "stream",
     "text": [
      "Loading pretrained parameter \"encoder.encoder.0.cached_zero_vector\".\n",
      "Loading pretrained parameter \"encoder.encoder.0.W_i.weight\".\n",
      "Loading pretrained parameter \"encoder.encoder.0.W_h.weight\".\n",
      "Loading pretrained parameter \"encoder.encoder.0.W_o.weight\".\n",
      "Loading pretrained parameter \"encoder.encoder.0.W_o.bias\".\n",
      "Loading pretrained parameter \"readout.1.weight\".\n",
      "Loading pretrained parameter \"readout.1.bias\".\n",
      "Loading pretrained parameter \"readout.4.weight\".\n",
      "Loading pretrained parameter \"readout.4.bias\".\n"
     ]
    },
    {
     "name": "stderr",
     "output_type": "stream",
     "text": [
      "100%|██████████| 1/1 [00:58<00:00, 58.57s/it]\n"
     ]
    },
    {
     "name": "stdout",
     "output_type": "stream",
     "text": [
      "Saving predictions to mc_preds.csv\n",
      "Elapsed time = 0:00:59\n",
      "running chemprop\n"
     ]
    },
    {
     "name": "stderr",
     "output_type": "stream",
     "text": [
      "1474it [00:00, 212031.14it/s]\n",
      "100%|██████████| 1474/1474 [00:00<00:00, 214711.54it/s]\n",
      "100%|██████████| 1474/1474 [00:00<00:00, 98554.21it/s]\n",
      "Fold 0\n",
      "100%|██████████| 5/5 [00:10<00:00,  2.07s/it]\n",
      "Model 0 best validation rmse = 1.331845 on epoch 4\n",
      "Model 0 test rmse = 1.268466                 \n",
      "Ensemble test rmse = 1.268466\n",
      "1-fold cross validation\n",
      "\tSeed 0 ==> test rmse = 1.268466\n",
      "Overall test rmse = 1.268466 +/- 0.000000\n",
      "Elapsed time = 0:00:11\n"
     ]
    },
    {
     "name": "stdout",
     "output_type": "stream",
     "text": [
      "Loading training args\n",
      "Setting molecule featurization parameters to default.\n",
      "Loading data\n"
     ]
    },
    {
     "name": "stderr",
     "output_type": "stream",
     "text": [
      "8523it [00:00, 392766.69it/s]\n",
      "100%|██████████| 8523/8523 [00:00<00:00, 44017.22it/s]\n"
     ]
    },
    {
     "name": "stdout",
     "output_type": "stream",
     "text": [
      "Validating SMILES\n",
      "Test size = 8,523\n"
     ]
    },
    {
     "name": "stderr",
     "output_type": "stream",
     "text": [
      "  0%|          | 0/1 [00:00<?, ?it/s]"
     ]
    },
    {
     "name": "stdout",
     "output_type": "stream",
     "text": [
      "Loading pretrained parameter \"encoder.encoder.0.cached_zero_vector\".\n",
      "Loading pretrained parameter \"encoder.encoder.0.W_i.weight\".\n",
      "Loading pretrained parameter \"encoder.encoder.0.W_h.weight\".\n",
      "Loading pretrained parameter \"encoder.encoder.0.W_o.weight\".\n",
      "Loading pretrained parameter \"encoder.encoder.0.W_o.bias\".\n",
      "Loading pretrained parameter \"readout.1.weight\".\n",
      "Loading pretrained parameter \"readout.1.bias\".\n",
      "Loading pretrained parameter \"readout.4.weight\".\n",
      "Loading pretrained parameter \"readout.4.bias\".\n"
     ]
    },
    {
     "name": "stderr",
     "output_type": "stream",
     "text": [
      "100%|██████████| 1/1 [00:59<00:00, 59.32s/it]\n"
     ]
    },
    {
     "name": "stdout",
     "output_type": "stream",
     "text": [
      "Saving predictions to mc_preds.csv\n",
      "Elapsed time = 0:01:00\n",
      "running chemprop\n",
      "in the counter\n"
     ]
    },
    {
     "name": "stderr",
     "output_type": "stream",
     "text": [
      "1499it [00:00, 226298.88it/s]\n",
      "100%|██████████| 1499/1499 [00:00<00:00, 200186.64it/s]\n",
      "100%|██████████| 1499/1499 [00:00<00:00, 102475.17it/s]\n",
      "Fold 0\n",
      "100%|██████████| 5/5 [00:09<00:00,  1.93s/it]\n",
      "Model 0 best validation rmse = 1.318317 on epoch 4\n",
      "Model 0 test rmse = 1.287541                 \n",
      "Ensemble test rmse = 1.287541\n",
      "1-fold cross validation\n",
      "\tSeed 0 ==> test rmse = 1.287541\n",
      "Overall test rmse = 1.287541 +/- 0.000000\n",
      "Elapsed time = 0:00:10\n"
     ]
    },
    {
     "name": "stdout",
     "output_type": "stream",
     "text": [
      "Loading training args\n",
      "Setting molecule featurization parameters to default.\n",
      "Loading data\n"
     ]
    },
    {
     "name": "stderr",
     "output_type": "stream",
     "text": [
      "8498it [00:00, 389726.27it/s]\n",
      "100%|██████████| 8498/8498 [00:00<00:00, 239669.68it/s]"
     ]
    },
    {
     "name": "stdout",
     "output_type": "stream",
     "text": [
      "Validating SMILES\n"
     ]
    },
    {
     "name": "stderr",
     "output_type": "stream",
     "text": [
      "\n"
     ]
    },
    {
     "name": "stdout",
     "output_type": "stream",
     "text": [
      "Test size = 8,498\n"
     ]
    },
    {
     "name": "stderr",
     "output_type": "stream",
     "text": [
      "  0%|          | 0/1 [00:00<?, ?it/s]"
     ]
    },
    {
     "name": "stdout",
     "output_type": "stream",
     "text": [
      "Loading pretrained parameter \"encoder.encoder.0.cached_zero_vector\".\n",
      "Loading pretrained parameter \"encoder.encoder.0.W_i.weight\".\n",
      "Loading pretrained parameter \"encoder.encoder.0.W_h.weight\".\n",
      "Loading pretrained parameter \"encoder.encoder.0.W_o.weight\".\n",
      "Loading pretrained parameter \"encoder.encoder.0.W_o.bias\".\n",
      "Loading pretrained parameter \"readout.1.weight\".\n",
      "Loading pretrained parameter \"readout.1.bias\".\n",
      "Loading pretrained parameter \"readout.4.weight\".\n",
      "Loading pretrained parameter \"readout.4.bias\".\n"
     ]
    },
    {
     "name": "stderr",
     "output_type": "stream",
     "text": [
      "100%|██████████| 1/1 [00:59<00:00, 59.57s/it]\n"
     ]
    },
    {
     "name": "stdout",
     "output_type": "stream",
     "text": [
      "Saving predictions to mc_preds.csv\n",
      "Elapsed time = 0:01:00\n",
      "running chemprop\n"
     ]
    },
    {
     "name": "stderr",
     "output_type": "stream",
     "text": [
      "1524it [00:00, 244946.32it/s]\n",
      "100%|██████████| 1524/1524 [00:00<00:00, 199498.12it/s]\n",
      "100%|██████████| 1524/1524 [00:00<00:00, 100554.03it/s]\n",
      "Fold 0\n",
      "100%|██████████| 5/5 [00:10<00:00,  2.04s/it]\n",
      "Model 0 best validation rmse = 1.294174 on epoch 4\n",
      "Model 0 test rmse = 1.252595                 \n",
      "Ensemble test rmse = 1.252595\n",
      "1-fold cross validation\n",
      "\tSeed 0 ==> test rmse = 1.252595\n",
      "Overall test rmse = 1.252595 +/- 0.000000\n",
      "Elapsed time = 0:00:11\n"
     ]
    },
    {
     "name": "stdout",
     "output_type": "stream",
     "text": [
      "Loading training args\n",
      "Setting molecule featurization parameters to default.\n",
      "Loading data\n"
     ]
    },
    {
     "name": "stderr",
     "output_type": "stream",
     "text": [
      "8473it [00:00, 390788.85it/s]\n",
      "100%|██████████| 8473/8473 [00:00<00:00, 234982.86it/s]"
     ]
    },
    {
     "name": "stdout",
     "output_type": "stream",
     "text": [
      "Validating SMILES\n"
     ]
    },
    {
     "name": "stderr",
     "output_type": "stream",
     "text": [
      "\n"
     ]
    },
    {
     "name": "stdout",
     "output_type": "stream",
     "text": [
      "Test size = 8,473\n"
     ]
    },
    {
     "name": "stderr",
     "output_type": "stream",
     "text": [
      "  0%|          | 0/1 [00:00<?, ?it/s]"
     ]
    },
    {
     "name": "stdout",
     "output_type": "stream",
     "text": [
      "Loading pretrained parameter \"encoder.encoder.0.cached_zero_vector\".\n",
      "Loading pretrained parameter \"encoder.encoder.0.W_i.weight\".\n",
      "Loading pretrained parameter \"encoder.encoder.0.W_h.weight\".\n",
      "Loading pretrained parameter \"encoder.encoder.0.W_o.weight\".\n",
      "Loading pretrained parameter \"encoder.encoder.0.W_o.bias\".\n",
      "Loading pretrained parameter \"readout.1.weight\".\n",
      "Loading pretrained parameter \"readout.1.bias\".\n",
      "Loading pretrained parameter \"readout.4.weight\".\n",
      "Loading pretrained parameter \"readout.4.bias\".\n"
     ]
    },
    {
     "name": "stderr",
     "output_type": "stream",
     "text": [
      "100%|██████████| 1/1 [00:59<00:00, 59.09s/it]\n"
     ]
    },
    {
     "name": "stdout",
     "output_type": "stream",
     "text": [
      "Saving predictions to mc_preds.csv\n",
      "Elapsed time = 0:00:59\n",
      "running chemprop\n"
     ]
    },
    {
     "name": "stderr",
     "output_type": "stream",
     "text": [
      "1549it [00:00, 248364.88it/s]\n",
      "100%|██████████| 1549/1549 [00:00<00:00, 215595.72it/s]\n",
      "100%|██████████| 1549/1549 [00:00<00:00, 97169.95it/s]\n",
      "Fold 0\n",
      "100%|██████████| 5/5 [00:10<00:00,  2.04s/it]\n",
      "Model 0 best validation rmse = 1.191052 on epoch 4\n",
      "Model 0 test rmse = 1.239978                 \n",
      "Ensemble test rmse = 1.239978\n",
      "1-fold cross validation\n",
      "\tSeed 0 ==> test rmse = 1.239978\n",
      "Overall test rmse = 1.239978 +/- 0.000000\n",
      "Elapsed time = 0:00:11\n"
     ]
    },
    {
     "name": "stdout",
     "output_type": "stream",
     "text": [
      "Loading training args\n",
      "Setting molecule featurization parameters to default.\n",
      "Loading data\n"
     ]
    },
    {
     "name": "stderr",
     "output_type": "stream",
     "text": [
      "8448it [00:00, 389041.16it/s]\n",
      "100%|██████████| 8448/8448 [00:00<00:00, 39604.86it/s]\n"
     ]
    },
    {
     "name": "stdout",
     "output_type": "stream",
     "text": [
      "Validating SMILES\n",
      "Test size = 8,448\n"
     ]
    },
    {
     "name": "stderr",
     "output_type": "stream",
     "text": [
      "  0%|          | 0/1 [00:00<?, ?it/s]"
     ]
    },
    {
     "name": "stdout",
     "output_type": "stream",
     "text": [
      "Loading pretrained parameter \"encoder.encoder.0.cached_zero_vector\".\n",
      "Loading pretrained parameter \"encoder.encoder.0.W_i.weight\".\n",
      "Loading pretrained parameter \"encoder.encoder.0.W_h.weight\".\n",
      "Loading pretrained parameter \"encoder.encoder.0.W_o.weight\".\n",
      "Loading pretrained parameter \"encoder.encoder.0.W_o.bias\".\n",
      "Loading pretrained parameter \"readout.1.weight\".\n",
      "Loading pretrained parameter \"readout.1.bias\".\n",
      "Loading pretrained parameter \"readout.4.weight\".\n",
      "Loading pretrained parameter \"readout.4.bias\".\n"
     ]
    },
    {
     "name": "stderr",
     "output_type": "stream",
     "text": [
      "100%|██████████| 1/1 [00:58<00:00, 58.39s/it]\n"
     ]
    },
    {
     "name": "stdout",
     "output_type": "stream",
     "text": [
      "Saving predictions to mc_preds.csv\n",
      "Elapsed time = 0:00:59\n",
      "running chemprop\n"
     ]
    },
    {
     "name": "stderr",
     "output_type": "stream",
     "text": [
      "1574it [00:00, 7738.14it/s]\n",
      "100%|██████████| 1574/1574 [00:00<00:00, 242447.10it/s]\n",
      "100%|██████████| 1574/1574 [00:00<00:00, 107439.49it/s]\n",
      "Fold 0\n",
      "100%|██████████| 5/5 [00:10<00:00,  2.07s/it]\n",
      "Model 0 best validation rmse = 1.197302 on epoch 4\n",
      "Model 0 test rmse = 1.245363                 \n",
      "Ensemble test rmse = 1.245363\n",
      "1-fold cross validation\n",
      "\tSeed 0 ==> test rmse = 1.245363\n",
      "Overall test rmse = 1.245363 +/- 0.000000\n",
      "Elapsed time = 0:00:11\n"
     ]
    },
    {
     "name": "stdout",
     "output_type": "stream",
     "text": [
      "Loading training args\n",
      "Setting molecule featurization parameters to default.\n",
      "Loading data\n"
     ]
    },
    {
     "name": "stderr",
     "output_type": "stream",
     "text": [
      "8423it [00:00, 373480.31it/s]\n",
      "100%|██████████| 8423/8423 [00:00<00:00, 47578.46it/s]\n"
     ]
    },
    {
     "name": "stdout",
     "output_type": "stream",
     "text": [
      "Validating SMILES\n",
      "Test size = 8,423\n"
     ]
    },
    {
     "name": "stderr",
     "output_type": "stream",
     "text": [
      "  0%|          | 0/1 [00:00<?, ?it/s]"
     ]
    },
    {
     "name": "stdout",
     "output_type": "stream",
     "text": [
      "Loading pretrained parameter \"encoder.encoder.0.cached_zero_vector\".\n",
      "Loading pretrained parameter \"encoder.encoder.0.W_i.weight\".\n",
      "Loading pretrained parameter \"encoder.encoder.0.W_h.weight\".\n",
      "Loading pretrained parameter \"encoder.encoder.0.W_o.weight\".\n",
      "Loading pretrained parameter \"encoder.encoder.0.W_o.bias\".\n",
      "Loading pretrained parameter \"readout.1.weight\".\n",
      "Loading pretrained parameter \"readout.1.bias\".\n",
      "Loading pretrained parameter \"readout.4.weight\".\n",
      "Loading pretrained parameter \"readout.4.bias\".\n"
     ]
    },
    {
     "name": "stderr",
     "output_type": "stream",
     "text": [
      "100%|██████████| 1/1 [00:58<00:00, 58.87s/it]\n"
     ]
    },
    {
     "name": "stdout",
     "output_type": "stream",
     "text": [
      "Saving predictions to mc_preds.csv\n",
      "Elapsed time = 0:01:00\n",
      "running chemprop\n",
      "in the counter\n"
     ]
    },
    {
     "name": "stderr",
     "output_type": "stream",
     "text": [
      "1599it [00:00, 227037.65it/s]\n",
      "100%|██████████| 1599/1599 [00:00<00:00, 211367.54it/s]\n",
      "100%|██████████| 1599/1599 [00:00<00:00, 102599.01it/s]\n",
      "Fold 0\n",
      "100%|██████████| 5/5 [00:11<00:00,  2.20s/it]\n",
      "Model 0 best validation rmse = 1.130661 on epoch 4\n",
      "Model 0 test rmse = 1.179846                 \n",
      "Ensemble test rmse = 1.179846\n",
      "1-fold cross validation\n",
      "\tSeed 0 ==> test rmse = 1.179846\n",
      "Overall test rmse = 1.179846 +/- 0.000000\n",
      "Elapsed time = 0:00:11\n"
     ]
    },
    {
     "name": "stdout",
     "output_type": "stream",
     "text": [
      "Loading training args\n",
      "Setting molecule featurization parameters to default.\n",
      "Loading data\n"
     ]
    },
    {
     "name": "stderr",
     "output_type": "stream",
     "text": [
      "8398it [00:00, 394849.85it/s]\n",
      "100%|██████████| 8398/8398 [00:00<00:00, 239490.37it/s]"
     ]
    },
    {
     "name": "stdout",
     "output_type": "stream",
     "text": [
      "Validating SMILES\n",
      "Test size = 8,398\n"
     ]
    },
    {
     "name": "stderr",
     "output_type": "stream",
     "text": [
      "\n",
      "  0%|          | 0/1 [00:00<?, ?it/s]"
     ]
    },
    {
     "name": "stdout",
     "output_type": "stream",
     "text": [
      "Loading pretrained parameter \"encoder.encoder.0.cached_zero_vector\".\n",
      "Loading pretrained parameter \"encoder.encoder.0.W_i.weight\".\n",
      "Loading pretrained parameter \"encoder.encoder.0.W_h.weight\".\n",
      "Loading pretrained parameter \"encoder.encoder.0.W_o.weight\".\n",
      "Loading pretrained parameter \"encoder.encoder.0.W_o.bias\".\n",
      "Loading pretrained parameter \"readout.1.weight\".\n",
      "Loading pretrained parameter \"readout.1.bias\".\n",
      "Loading pretrained parameter \"readout.4.weight\".\n",
      "Loading pretrained parameter \"readout.4.bias\".\n"
     ]
    },
    {
     "name": "stderr",
     "output_type": "stream",
     "text": [
      "100%|██████████| 1/1 [00:59<00:00, 59.08s/it]\n"
     ]
    },
    {
     "name": "stdout",
     "output_type": "stream",
     "text": [
      "Saving predictions to mc_preds.csv\n",
      "Elapsed time = 0:00:59\n",
      "running chemprop\n"
     ]
    },
    {
     "name": "stderr",
     "output_type": "stream",
     "text": [
      "1624it [00:00, 256468.61it/s]\n",
      "100%|██████████| 1624/1624 [00:00<00:00, 209065.09it/s]\n",
      "100%|██████████| 1624/1624 [00:00<00:00, 98569.54it/s]\n",
      "Fold 0\n",
      "100%|██████████| 5/5 [00:10<00:00,  2.18s/it]\n",
      "Model 0 best validation rmse = 1.248214 on epoch 4\n",
      "Model 0 test rmse = 1.252821                 \n",
      "Ensemble test rmse = 1.252821\n",
      "1-fold cross validation\n",
      "\tSeed 0 ==> test rmse = 1.252821\n",
      "Overall test rmse = 1.252821 +/- 0.000000\n",
      "Elapsed time = 0:00:11\n"
     ]
    },
    {
     "name": "stdout",
     "output_type": "stream",
     "text": [
      "Loading training args\n",
      "Setting molecule featurization parameters to default.\n",
      "Loading data\n"
     ]
    },
    {
     "name": "stderr",
     "output_type": "stream",
     "text": [
      "8373it [00:00, 377898.97it/s]\n",
      "100%|██████████| 8373/8373 [00:00<00:00, 38439.63it/s]\n"
     ]
    },
    {
     "name": "stdout",
     "output_type": "stream",
     "text": [
      "Validating SMILES\n",
      "Test size = 8,373\n"
     ]
    },
    {
     "name": "stderr",
     "output_type": "stream",
     "text": [
      "  0%|          | 0/1 [00:00<?, ?it/s]"
     ]
    },
    {
     "name": "stdout",
     "output_type": "stream",
     "text": [
      "Loading pretrained parameter \"encoder.encoder.0.cached_zero_vector\".\n",
      "Loading pretrained parameter \"encoder.encoder.0.W_i.weight\".\n",
      "Loading pretrained parameter \"encoder.encoder.0.W_h.weight\".\n",
      "Loading pretrained parameter \"encoder.encoder.0.W_o.weight\".\n",
      "Loading pretrained parameter \"encoder.encoder.0.W_o.bias\".\n",
      "Loading pretrained parameter \"readout.1.weight\".\n",
      "Loading pretrained parameter \"readout.1.bias\".\n",
      "Loading pretrained parameter \"readout.4.weight\".\n",
      "Loading pretrained parameter \"readout.4.bias\".\n"
     ]
    },
    {
     "name": "stderr",
     "output_type": "stream",
     "text": [
      "100%|██████████| 1/1 [00:59<00:00, 59.16s/it]\n"
     ]
    },
    {
     "name": "stdout",
     "output_type": "stream",
     "text": [
      "Saving predictions to mc_preds.csv\n",
      "Elapsed time = 0:01:00\n",
      "running chemprop\n"
     ]
    },
    {
     "name": "stderr",
     "output_type": "stream",
     "text": [
      "1649it [00:00, 229826.79it/s]\n",
      "100%|██████████| 1649/1649 [00:00<00:00, 7786.57it/s]\n",
      "100%|██████████| 1649/1649 [00:00<00:00, 101681.97it/s]\n",
      "Fold 0\n",
      "100%|██████████| 5/5 [00:11<00:00,  2.23s/it]\n",
      "Model 0 best validation rmse = 1.222199 on epoch 4\n",
      "Model 0 test rmse = 1.217334                 \n",
      "Ensemble test rmse = 1.217334\n",
      "1-fold cross validation\n",
      "\tSeed 0 ==> test rmse = 1.217334\n",
      "Overall test rmse = 1.217334 +/- 0.000000\n",
      "Elapsed time = 0:00:12\n"
     ]
    },
    {
     "name": "stdout",
     "output_type": "stream",
     "text": [
      "Loading training args\n",
      "Setting molecule featurization parameters to default.\n",
      "Loading data\n"
     ]
    },
    {
     "name": "stderr",
     "output_type": "stream",
     "text": [
      "8348it [00:00, 386067.98it/s]\n",
      "100%|██████████| 8348/8348 [00:00<00:00, 234309.56it/s]\n"
     ]
    },
    {
     "name": "stdout",
     "output_type": "stream",
     "text": [
      "Validating SMILES\n",
      "Test size = 8,348\n"
     ]
    },
    {
     "name": "stderr",
     "output_type": "stream",
     "text": [
      "  0%|          | 0/1 [00:00<?, ?it/s]"
     ]
    },
    {
     "name": "stdout",
     "output_type": "stream",
     "text": [
      "Loading pretrained parameter \"encoder.encoder.0.cached_zero_vector\".\n",
      "Loading pretrained parameter \"encoder.encoder.0.W_i.weight\".\n",
      "Loading pretrained parameter \"encoder.encoder.0.W_h.weight\".\n",
      "Loading pretrained parameter \"encoder.encoder.0.W_o.weight\".\n",
      "Loading pretrained parameter \"encoder.encoder.0.W_o.bias\".\n",
      "Loading pretrained parameter \"readout.1.weight\".\n",
      "Loading pretrained parameter \"readout.1.bias\".\n",
      "Loading pretrained parameter \"readout.4.weight\".\n",
      "Loading pretrained parameter \"readout.4.bias\".\n"
     ]
    },
    {
     "name": "stderr",
     "output_type": "stream",
     "text": [
      "100%|██████████| 1/1 [00:58<00:00, 58.66s/it]\n"
     ]
    },
    {
     "name": "stdout",
     "output_type": "stream",
     "text": [
      "Saving predictions to mc_preds.csv\n",
      "Elapsed time = 0:00:59\n",
      "running chemprop\n"
     ]
    },
    {
     "name": "stderr",
     "output_type": "stream",
     "text": [
      "1674it [00:00, 250062.86it/s]\n",
      "100%|██████████| 1674/1674 [00:00<00:00, 215574.61it/s]\n",
      "100%|██████████| 1674/1674 [00:00<00:00, 103097.73it/s]\n",
      "Fold 0\n",
      "100%|██████████| 5/5 [00:11<00:00,  2.24s/it]\n",
      "Model 0 best validation rmse = 1.227336 on epoch 4\n",
      "Model 0 test rmse = 1.170024                 \n",
      "Ensemble test rmse = 1.170024\n",
      "1-fold cross validation\n",
      "\tSeed 0 ==> test rmse = 1.170024\n",
      "Overall test rmse = 1.170024 +/- 0.000000\n",
      "Elapsed time = 0:00:12\n"
     ]
    },
    {
     "name": "stdout",
     "output_type": "stream",
     "text": [
      "Loading training args\n",
      "Setting molecule featurization parameters to default.\n",
      "Loading data\n"
     ]
    },
    {
     "name": "stderr",
     "output_type": "stream",
     "text": [
      "8323it [00:00, 392869.35it/s]\n",
      "100%|██████████| 8323/8323 [00:00<00:00, 40348.31it/s]\n"
     ]
    },
    {
     "name": "stdout",
     "output_type": "stream",
     "text": [
      "Validating SMILES\n",
      "Test size = 8,323\n"
     ]
    },
    {
     "name": "stderr",
     "output_type": "stream",
     "text": [
      "  0%|          | 0/1 [00:00<?, ?it/s]"
     ]
    },
    {
     "name": "stdout",
     "output_type": "stream",
     "text": [
      "Loading pretrained parameter \"encoder.encoder.0.cached_zero_vector\".\n",
      "Loading pretrained parameter \"encoder.encoder.0.W_i.weight\".\n",
      "Loading pretrained parameter \"encoder.encoder.0.W_h.weight\".\n",
      "Loading pretrained parameter \"encoder.encoder.0.W_o.weight\".\n",
      "Loading pretrained parameter \"encoder.encoder.0.W_o.bias\".\n",
      "Loading pretrained parameter \"readout.1.weight\".\n",
      "Loading pretrained parameter \"readout.1.bias\".\n",
      "Loading pretrained parameter \"readout.4.weight\".\n",
      "Loading pretrained parameter \"readout.4.bias\".\n"
     ]
    },
    {
     "name": "stderr",
     "output_type": "stream",
     "text": [
      "100%|██████████| 1/1 [03:10<00:00, 190.16s/it]\n"
     ]
    },
    {
     "name": "stdout",
     "output_type": "stream",
     "text": [
      "Saving predictions to mc_preds.csv\n",
      "Elapsed time = 0:03:11\n",
      "running chemprop\n",
      "in the counter\n"
     ]
    },
    {
     "name": "stderr",
     "output_type": "stream",
     "text": [
      "1699it [00:00, 236504.68it/s]\n",
      "100%|██████████| 1699/1699 [00:00<00:00, 221921.54it/s]\n",
      "100%|██████████| 1699/1699 [00:00<00:00, 67175.60it/s]\n",
      "Fold 0\n",
      "100%|██████████| 5/5 [00:11<00:00,  2.24s/it]\n",
      "Model 0 best validation rmse = 1.254499 on epoch 4\n",
      "Model 0 test rmse = 1.268345                 \n",
      "Ensemble test rmse = 1.268345\n",
      "1-fold cross validation\n",
      "\tSeed 0 ==> test rmse = 1.268345\n",
      "Overall test rmse = 1.268345 +/- 0.000000\n",
      "Elapsed time = 0:00:12\n"
     ]
    },
    {
     "name": "stdout",
     "output_type": "stream",
     "text": [
      "Loading training args\n",
      "Setting molecule featurization parameters to default.\n",
      "Loading data\n"
     ]
    },
    {
     "name": "stderr",
     "output_type": "stream",
     "text": [
      "8298it [00:00, 400229.24it/s]\n",
      "100%|██████████| 8298/8298 [00:00<00:00, 248191.10it/s]"
     ]
    },
    {
     "name": "stdout",
     "output_type": "stream",
     "text": [
      "Validating SMILES\n"
     ]
    },
    {
     "name": "stderr",
     "output_type": "stream",
     "text": [
      "\n"
     ]
    },
    {
     "name": "stdout",
     "output_type": "stream",
     "text": [
      "Test size = 8,298\n"
     ]
    },
    {
     "name": "stderr",
     "output_type": "stream",
     "text": [
      "  0%|          | 0/1 [00:00<?, ?it/s]"
     ]
    },
    {
     "name": "stdout",
     "output_type": "stream",
     "text": [
      "Loading pretrained parameter \"encoder.encoder.0.cached_zero_vector\".\n",
      "Loading pretrained parameter \"encoder.encoder.0.W_i.weight\".\n",
      "Loading pretrained parameter \"encoder.encoder.0.W_h.weight\".\n",
      "Loading pretrained parameter \"encoder.encoder.0.W_o.weight\".\n",
      "Loading pretrained parameter \"encoder.encoder.0.W_o.bias\".\n",
      "Loading pretrained parameter \"readout.1.weight\".\n",
      "Loading pretrained parameter \"readout.1.bias\".\n",
      "Loading pretrained parameter \"readout.4.weight\".\n",
      "Loading pretrained parameter \"readout.4.bias\".\n"
     ]
    },
    {
     "name": "stderr",
     "output_type": "stream",
     "text": [
      "100%|██████████| 1/1 [24:44<00:00, 1484.26s/it]\n"
     ]
    },
    {
     "name": "stdout",
     "output_type": "stream",
     "text": [
      "Saving predictions to mc_preds.csv\n",
      "Elapsed time = 0:24:45\n",
      "running chemprop\n"
     ]
    },
    {
     "name": "stderr",
     "output_type": "stream",
     "text": [
      "1724it [00:00, 256054.54it/s]\n",
      "100%|██████████| 1724/1724 [00:00<00:00, 7941.48it/s]\n",
      "100%|██████████| 1724/1724 [00:00<00:00, 77421.14it/s]\n",
      "Fold 0\n",
      "100%|██████████| 5/5 [00:11<00:00,  2.34s/it]\n",
      "Model 0 best validation rmse = 1.233472 on epoch 4\n",
      "Model 0 test rmse = 1.247063                 \n",
      "Ensemble test rmse = 1.247063\n",
      "1-fold cross validation\n",
      "\tSeed 0 ==> test rmse = 1.247063\n",
      "Overall test rmse = 1.247063 +/- 0.000000\n",
      "Elapsed time = 0:00:12\n"
     ]
    },
    {
     "name": "stdout",
     "output_type": "stream",
     "text": [
      "Loading training args\n",
      "Setting molecule featurization parameters to default.\n",
      "Loading data\n"
     ]
    },
    {
     "name": "stderr",
     "output_type": "stream",
     "text": [
      "8273it [00:00, 374053.82it/s]\n",
      "100%|██████████| 8273/8273 [00:00<00:00, 233298.89it/s]\n"
     ]
    },
    {
     "name": "stdout",
     "output_type": "stream",
     "text": [
      "Validating SMILES\n",
      "Test size = 8,273\n"
     ]
    },
    {
     "name": "stderr",
     "output_type": "stream",
     "text": [
      "  0%|          | 0/1 [00:00<?, ?it/s]"
     ]
    },
    {
     "name": "stdout",
     "output_type": "stream",
     "text": [
      "Loading pretrained parameter \"encoder.encoder.0.cached_zero_vector\".\n",
      "Loading pretrained parameter \"encoder.encoder.0.W_i.weight\".\n",
      "Loading pretrained parameter \"encoder.encoder.0.W_h.weight\".\n",
      "Loading pretrained parameter \"encoder.encoder.0.W_o.weight\".\n",
      "Loading pretrained parameter \"encoder.encoder.0.W_o.bias\".\n",
      "Loading pretrained parameter \"readout.1.weight\".\n",
      "Loading pretrained parameter \"readout.1.bias\".\n",
      "Loading pretrained parameter \"readout.4.weight\".\n",
      "Loading pretrained parameter \"readout.4.bias\".\n"
     ]
    },
    {
     "name": "stderr",
     "output_type": "stream",
     "text": [
      "100%|██████████| 1/1 [01:00<00:00, 60.01s/it]\n"
     ]
    },
    {
     "name": "stdout",
     "output_type": "stream",
     "text": [
      "Saving predictions to mc_preds.csv\n",
      "Elapsed time = 0:01:00\n",
      "running chemprop\n"
     ]
    },
    {
     "name": "stderr",
     "output_type": "stream",
     "text": [
      "1749it [00:00, 239788.11it/s]\n",
      "100%|██████████| 1749/1749 [00:00<00:00, 222858.64it/s]\n",
      "100%|██████████| 1749/1749 [00:00<00:00, 68445.37it/s]\n",
      "Fold 0\n",
      "100%|██████████| 5/5 [00:11<00:00,  2.30s/it]\n",
      "Model 0 best validation rmse = 1.180197 on epoch 4\n",
      "Model 0 test rmse = 1.193899                 \n",
      "Ensemble test rmse = 1.193899\n",
      "1-fold cross validation\n",
      "\tSeed 0 ==> test rmse = 1.193899\n",
      "Overall test rmse = 1.193899 +/- 0.000000\n",
      "Elapsed time = 0:00:12\n"
     ]
    },
    {
     "name": "stdout",
     "output_type": "stream",
     "text": [
      "Loading training args\n",
      "Setting molecule featurization parameters to default.\n",
      "Loading data\n"
     ]
    },
    {
     "name": "stderr",
     "output_type": "stream",
     "text": [
      "8248it [00:00, 392447.27it/s]\n",
      "100%|██████████| 8248/8248 [00:00<00:00, 237066.36it/s]\n"
     ]
    },
    {
     "name": "stdout",
     "output_type": "stream",
     "text": [
      "Validating SMILES\n",
      "Test size = 8,248\n"
     ]
    },
    {
     "name": "stderr",
     "output_type": "stream",
     "text": [
      "  0%|          | 0/1 [00:00<?, ?it/s]"
     ]
    },
    {
     "name": "stdout",
     "output_type": "stream",
     "text": [
      "Loading pretrained parameter \"encoder.encoder.0.cached_zero_vector\".\n",
      "Loading pretrained parameter \"encoder.encoder.0.W_i.weight\".\n",
      "Loading pretrained parameter \"encoder.encoder.0.W_h.weight\".\n",
      "Loading pretrained parameter \"encoder.encoder.0.W_o.weight\".\n",
      "Loading pretrained parameter \"encoder.encoder.0.W_o.bias\".\n",
      "Loading pretrained parameter \"readout.1.weight\".\n",
      "Loading pretrained parameter \"readout.1.bias\".\n",
      "Loading pretrained parameter \"readout.4.weight\".\n",
      "Loading pretrained parameter \"readout.4.bias\".\n"
     ]
    },
    {
     "name": "stderr",
     "output_type": "stream",
     "text": [
      "100%|██████████| 1/1 [00:59<00:00, 59.00s/it]\n"
     ]
    },
    {
     "name": "stdout",
     "output_type": "stream",
     "text": [
      "Saving predictions to mc_preds.csv\n",
      "Elapsed time = 0:00:59\n",
      "running chemprop\n"
     ]
    },
    {
     "name": "stderr",
     "output_type": "stream",
     "text": [
      "1774it [00:00, 229828.43it/s]\n",
      "100%|██████████| 1774/1774 [00:00<00:00, 8220.89it/s]\n",
      "100%|██████████| 1774/1774 [00:00<00:00, 72943.70it/s]\n",
      "Fold 0\n",
      "100%|██████████| 5/5 [00:12<00:00,  2.41s/it]\n",
      "Model 0 best validation rmse = 1.139419 on epoch 4\n",
      "Model 0 test rmse = 1.175130                 \n",
      "Ensemble test rmse = 1.175130\n",
      "1-fold cross validation\n",
      "\tSeed 0 ==> test rmse = 1.175130\n",
      "Overall test rmse = 1.175130 +/- 0.000000\n",
      "Elapsed time = 0:00:13\n"
     ]
    },
    {
     "name": "stdout",
     "output_type": "stream",
     "text": [
      "Loading training args\n",
      "Setting molecule featurization parameters to default.\n",
      "Loading data\n"
     ]
    },
    {
     "name": "stderr",
     "output_type": "stream",
     "text": [
      "8223it [00:00, 393274.29it/s]\n",
      "100%|██████████| 8223/8223 [00:00<00:00, 240010.59it/s]"
     ]
    },
    {
     "name": "stdout",
     "output_type": "stream",
     "text": [
      "Validating SMILES\n"
     ]
    },
    {
     "name": "stderr",
     "output_type": "stream",
     "text": [
      "\n"
     ]
    },
    {
     "name": "stdout",
     "output_type": "stream",
     "text": [
      "Test size = 8,223\n"
     ]
    },
    {
     "name": "stderr",
     "output_type": "stream",
     "text": [
      "  0%|          | 0/1 [00:00<?, ?it/s]"
     ]
    },
    {
     "name": "stdout",
     "output_type": "stream",
     "text": [
      "Loading pretrained parameter \"encoder.encoder.0.cached_zero_vector\".\n",
      "Loading pretrained parameter \"encoder.encoder.0.W_i.weight\".\n",
      "Loading pretrained parameter \"encoder.encoder.0.W_h.weight\".\n",
      "Loading pretrained parameter \"encoder.encoder.0.W_o.weight\".\n",
      "Loading pretrained parameter \"encoder.encoder.0.W_o.bias\".\n",
      "Loading pretrained parameter \"readout.1.weight\".\n",
      "Loading pretrained parameter \"readout.1.bias\".\n",
      "Loading pretrained parameter \"readout.4.weight\".\n",
      "Loading pretrained parameter \"readout.4.bias\".\n"
     ]
    },
    {
     "name": "stderr",
     "output_type": "stream",
     "text": [
      "100%|██████████| 1/1 [00:58<00:00, 58.13s/it]\n"
     ]
    },
    {
     "name": "stdout",
     "output_type": "stream",
     "text": [
      "Saving predictions to mc_preds.csv\n",
      "Elapsed time = 0:00:58\n",
      "running chemprop\n",
      "in the counter\n"
     ]
    },
    {
     "name": "stderr",
     "output_type": "stream",
     "text": [
      "1799it [00:00, 250449.84it/s]\n",
      "100%|██████████| 1799/1799 [00:00<00:00, 219258.23it/s]\n",
      "100%|██████████| 1799/1799 [00:00<00:00, 71747.61it/s]\n",
      "Fold 0\n",
      "100%|██████████| 5/5 [00:11<00:00,  2.36s/it]\n",
      "Model 0 best validation rmse = 1.157288 on epoch 4\n",
      "Model 0 test rmse = 1.256205                 \n",
      "Ensemble test rmse = 1.256205\n",
      "1-fold cross validation\n",
      "\tSeed 0 ==> test rmse = 1.256205\n",
      "Overall test rmse = 1.256205 +/- 0.000000\n",
      "Elapsed time = 0:00:12\n"
     ]
    },
    {
     "name": "stdout",
     "output_type": "stream",
     "text": [
      "Loading training args\n",
      "Setting molecule featurization parameters to default.\n",
      "Loading data\n"
     ]
    },
    {
     "name": "stderr",
     "output_type": "stream",
     "text": [
      "8198it [00:00, 396326.65it/s]\n",
      "100%|██████████| 8198/8198 [00:00<00:00, 37515.01it/s]\n"
     ]
    },
    {
     "name": "stdout",
     "output_type": "stream",
     "text": [
      "Validating SMILES\n",
      "Test size = 8,198\n"
     ]
    },
    {
     "name": "stderr",
     "output_type": "stream",
     "text": [
      "  0%|          | 0/1 [00:00<?, ?it/s]"
     ]
    },
    {
     "name": "stdout",
     "output_type": "stream",
     "text": [
      "Loading pretrained parameter \"encoder.encoder.0.cached_zero_vector\".\n",
      "Loading pretrained parameter \"encoder.encoder.0.W_i.weight\".\n",
      "Loading pretrained parameter \"encoder.encoder.0.W_h.weight\".\n",
      "Loading pretrained parameter \"encoder.encoder.0.W_o.weight\".\n",
      "Loading pretrained parameter \"encoder.encoder.0.W_o.bias\".\n",
      "Loading pretrained parameter \"readout.1.weight\".\n",
      "Loading pretrained parameter \"readout.1.bias\".\n",
      "Loading pretrained parameter \"readout.4.weight\".\n",
      "Loading pretrained parameter \"readout.4.bias\".\n"
     ]
    },
    {
     "name": "stderr",
     "output_type": "stream",
     "text": [
      "100%|██████████| 1/1 [00:58<00:00, 58.53s/it]\n"
     ]
    },
    {
     "name": "stdout",
     "output_type": "stream",
     "text": [
      "Saving predictions to mc_preds.csv\n",
      "Elapsed time = 0:00:59\n",
      "running chemprop\n"
     ]
    },
    {
     "name": "stderr",
     "output_type": "stream",
     "text": [
      "1824it [00:00, 248196.55it/s]\n",
      "100%|██████████| 1824/1824 [00:00<00:00, 213008.42it/s]\n",
      "100%|██████████| 1824/1824 [00:00<00:00, 70437.99it/s]\n",
      "Fold 0\n",
      "100%|██████████| 5/5 [00:12<00:00,  2.48s/it]\n",
      "Model 0 best validation rmse = 1.192996 on epoch 4\n",
      "Model 0 test rmse = 1.179667                 \n",
      "Ensemble test rmse = 1.179667\n",
      "1-fold cross validation\n",
      "\tSeed 0 ==> test rmse = 1.179667\n",
      "Overall test rmse = 1.179667 +/- 0.000000\n",
      "Elapsed time = 0:00:13\n"
     ]
    },
    {
     "name": "stdout",
     "output_type": "stream",
     "text": [
      "Loading training args\n",
      "Setting molecule featurization parameters to default.\n",
      "Loading data\n"
     ]
    },
    {
     "name": "stderr",
     "output_type": "stream",
     "text": [
      "8173it [00:00, 393101.77it/s]\n",
      "100%|██████████| 8173/8173 [00:00<00:00, 37779.03it/s]\n"
     ]
    },
    {
     "name": "stdout",
     "output_type": "stream",
     "text": [
      "Validating SMILES\n",
      "Test size = 8,173\n"
     ]
    },
    {
     "name": "stderr",
     "output_type": "stream",
     "text": [
      "  0%|          | 0/1 [00:00<?, ?it/s]"
     ]
    },
    {
     "name": "stdout",
     "output_type": "stream",
     "text": [
      "Loading pretrained parameter \"encoder.encoder.0.cached_zero_vector\".\n",
      "Loading pretrained parameter \"encoder.encoder.0.W_i.weight\".\n",
      "Loading pretrained parameter \"encoder.encoder.0.W_h.weight\".\n",
      "Loading pretrained parameter \"encoder.encoder.0.W_o.weight\".\n",
      "Loading pretrained parameter \"encoder.encoder.0.W_o.bias\".\n",
      "Loading pretrained parameter \"readout.1.weight\".\n",
      "Loading pretrained parameter \"readout.1.bias\".\n",
      "Loading pretrained parameter \"readout.4.weight\".\n",
      "Loading pretrained parameter \"readout.4.bias\".\n"
     ]
    },
    {
     "name": "stderr",
     "output_type": "stream",
     "text": [
      "100%|██████████| 1/1 [00:58<00:00, 58.80s/it]\n"
     ]
    },
    {
     "name": "stdout",
     "output_type": "stream",
     "text": [
      "Saving predictions to mc_preds.csv\n",
      "Elapsed time = 0:00:59\n",
      "running chemprop\n"
     ]
    },
    {
     "name": "stderr",
     "output_type": "stream",
     "text": [
      "1849it [00:00, 250582.19it/s]\n",
      "100%|██████████| 1849/1849 [00:00<00:00, 218920.76it/s]\n",
      "100%|██████████| 1849/1849 [00:00<00:00, 71998.70it/s]\n",
      "Fold 0\n",
      "100%|██████████| 5/5 [00:12<00:00,  2.48s/it]\n",
      "Model 0 best validation rmse = 1.143729 on epoch 4\n",
      "Model 0 test rmse = 1.163682                 \n",
      "Ensemble test rmse = 1.163682\n",
      "1-fold cross validation\n",
      "\tSeed 0 ==> test rmse = 1.163682\n",
      "Overall test rmse = 1.163682 +/- 0.000000\n",
      "Elapsed time = 0:00:13\n"
     ]
    },
    {
     "name": "stdout",
     "output_type": "stream",
     "text": [
      "Loading training args\n",
      "Setting molecule featurization parameters to default.\n",
      "Loading data\n"
     ]
    },
    {
     "name": "stderr",
     "output_type": "stream",
     "text": [
      "8148it [00:00, 381619.70it/s]\n",
      "100%|██████████| 8148/8148 [00:00<00:00, 233379.69it/s]\n"
     ]
    },
    {
     "name": "stdout",
     "output_type": "stream",
     "text": [
      "Validating SMILES\n",
      "Test size = 8,148\n"
     ]
    },
    {
     "name": "stderr",
     "output_type": "stream",
     "text": [
      "  0%|          | 0/1 [00:00<?, ?it/s]"
     ]
    },
    {
     "name": "stdout",
     "output_type": "stream",
     "text": [
      "Loading pretrained parameter \"encoder.encoder.0.cached_zero_vector\".\n",
      "Loading pretrained parameter \"encoder.encoder.0.W_i.weight\".\n",
      "Loading pretrained parameter \"encoder.encoder.0.W_h.weight\".\n",
      "Loading pretrained parameter \"encoder.encoder.0.W_o.weight\".\n",
      "Loading pretrained parameter \"encoder.encoder.0.W_o.bias\".\n",
      "Loading pretrained parameter \"readout.1.weight\".\n",
      "Loading pretrained parameter \"readout.1.bias\".\n",
      "Loading pretrained parameter \"readout.4.weight\".\n",
      "Loading pretrained parameter \"readout.4.bias\".\n"
     ]
    },
    {
     "name": "stderr",
     "output_type": "stream",
     "text": [
      "100%|██████████| 1/1 [00:58<00:00, 58.14s/it]\n"
     ]
    },
    {
     "name": "stdout",
     "output_type": "stream",
     "text": [
      "Saving predictions to mc_preds.csv\n",
      "Elapsed time = 0:00:58\n",
      "running chemprop\n"
     ]
    },
    {
     "name": "stderr",
     "output_type": "stream",
     "text": [
      "1874it [00:00, 238822.49it/s]\n",
      "100%|██████████| 1874/1874 [00:00<00:00, 213683.28it/s]\n",
      "100%|██████████| 1874/1874 [00:00<00:00, 70673.78it/s]\n",
      "Fold 0\n",
      "100%|██████████| 5/5 [00:12<00:00,  2.47s/it]\n",
      "Model 0 best validation rmse = 1.169348 on epoch 4\n",
      "Model 0 test rmse = 1.262432                 \n",
      "Ensemble test rmse = 1.262432\n",
      "1-fold cross validation\n",
      "\tSeed 0 ==> test rmse = 1.262432\n",
      "Overall test rmse = 1.262432 +/- 0.000000\n",
      "Elapsed time = 0:00:13\n"
     ]
    },
    {
     "name": "stdout",
     "output_type": "stream",
     "text": [
      "Loading training args\n",
      "Setting molecule featurization parameters to default.\n",
      "Loading data\n"
     ]
    },
    {
     "name": "stderr",
     "output_type": "stream",
     "text": [
      "8123it [00:00, 395550.32it/s]\n",
      "100%|██████████| 8123/8123 [00:00<00:00, 39648.75it/s]\n"
     ]
    },
    {
     "name": "stdout",
     "output_type": "stream",
     "text": [
      "Validating SMILES\n",
      "Test size = 8,123\n"
     ]
    },
    {
     "name": "stderr",
     "output_type": "stream",
     "text": [
      "  0%|          | 0/1 [00:00<?, ?it/s]"
     ]
    },
    {
     "name": "stdout",
     "output_type": "stream",
     "text": [
      "Loading pretrained parameter \"encoder.encoder.0.cached_zero_vector\".\n",
      "Loading pretrained parameter \"encoder.encoder.0.W_i.weight\".\n",
      "Loading pretrained parameter \"encoder.encoder.0.W_h.weight\".\n",
      "Loading pretrained parameter \"encoder.encoder.0.W_o.weight\".\n",
      "Loading pretrained parameter \"encoder.encoder.0.W_o.bias\".\n",
      "Loading pretrained parameter \"readout.1.weight\".\n",
      "Loading pretrained parameter \"readout.1.bias\".\n",
      "Loading pretrained parameter \"readout.4.weight\".\n",
      "Loading pretrained parameter \"readout.4.bias\".\n"
     ]
    },
    {
     "name": "stderr",
     "output_type": "stream",
     "text": [
      "100%|██████████| 1/1 [00:58<00:00, 58.33s/it]\n"
     ]
    },
    {
     "name": "stdout",
     "output_type": "stream",
     "text": [
      "Saving predictions to mc_preds.csv\n",
      "Elapsed time = 0:00:59\n",
      "running chemprop\n",
      "in the counter\n"
     ]
    },
    {
     "name": "stderr",
     "output_type": "stream",
     "text": [
      "1899it [00:00, 239174.32it/s]\n",
      "100%|██████████| 1899/1899 [00:00<00:00, 210669.26it/s]\n",
      "100%|██████████| 1899/1899 [00:00<00:00, 71128.62it/s]\n",
      "Fold 0\n",
      "100%|██████████| 5/5 [00:12<00:00,  2.56s/it]\n",
      "Model 0 best validation rmse = 1.156093 on epoch 4\n",
      "Model 0 test rmse = 1.219158                 \n",
      "Ensemble test rmse = 1.219158\n",
      "1-fold cross validation\n",
      "\tSeed 0 ==> test rmse = 1.219158\n",
      "Overall test rmse = 1.219158 +/- 0.000000\n",
      "Elapsed time = 0:00:13\n"
     ]
    },
    {
     "name": "stdout",
     "output_type": "stream",
     "text": [
      "Loading training args\n",
      "Setting molecule featurization parameters to default.\n",
      "Loading data\n"
     ]
    },
    {
     "name": "stderr",
     "output_type": "stream",
     "text": [
      "8098it [00:00, 393893.93it/s]\n",
      "100%|██████████| 8098/8098 [00:00<00:00, 38134.79it/s]\n"
     ]
    },
    {
     "name": "stdout",
     "output_type": "stream",
     "text": [
      "Validating SMILES\n",
      "Test size = 8,098\n"
     ]
    },
    {
     "name": "stderr",
     "output_type": "stream",
     "text": [
      "  0%|          | 0/1 [00:00<?, ?it/s]"
     ]
    },
    {
     "name": "stdout",
     "output_type": "stream",
     "text": [
      "Loading pretrained parameter \"encoder.encoder.0.cached_zero_vector\".\n",
      "Loading pretrained parameter \"encoder.encoder.0.W_i.weight\".\n",
      "Loading pretrained parameter \"encoder.encoder.0.W_h.weight\".\n",
      "Loading pretrained parameter \"encoder.encoder.0.W_o.weight\".\n",
      "Loading pretrained parameter \"encoder.encoder.0.W_o.bias\".\n",
      "Loading pretrained parameter \"readout.1.weight\".\n",
      "Loading pretrained parameter \"readout.1.bias\".\n",
      "Loading pretrained parameter \"readout.4.weight\".\n",
      "Loading pretrained parameter \"readout.4.bias\".\n"
     ]
    },
    {
     "name": "stderr",
     "output_type": "stream",
     "text": [
      "100%|██████████| 1/1 [00:58<00:00, 58.37s/it]\n"
     ]
    },
    {
     "name": "stdout",
     "output_type": "stream",
     "text": [
      "Saving predictions to mc_preds.csv\n",
      "Elapsed time = 0:00:59\n",
      "running chemprop\n"
     ]
    },
    {
     "name": "stderr",
     "output_type": "stream",
     "text": [
      "1924it [00:00, 216977.87it/s]\n",
      "100%|██████████| 1924/1924 [00:00<00:00, 197499.78it/s]\n",
      "100%|██████████| 1924/1924 [00:00<00:00, 67756.28it/s]\n",
      "Fold 0\n",
      "100%|██████████| 5/5 [00:13<00:00,  2.61s/it]\n",
      "Model 0 best validation rmse = 1.173053 on epoch 4\n",
      "Model 0 test rmse = 1.238482                 \n",
      "Ensemble test rmse = 1.238482\n",
      "1-fold cross validation\n",
      "\tSeed 0 ==> test rmse = 1.238482\n",
      "Overall test rmse = 1.238482 +/- 0.000000\n",
      "Elapsed time = 0:00:14\n"
     ]
    },
    {
     "name": "stdout",
     "output_type": "stream",
     "text": [
      "Loading training args\n",
      "Setting molecule featurization parameters to default.\n",
      "Loading data\n"
     ]
    },
    {
     "name": "stderr",
     "output_type": "stream",
     "text": [
      "8073it [00:00, 393773.88it/s]\n",
      "100%|██████████| 8073/8073 [00:00<00:00, 238508.79it/s]\n"
     ]
    },
    {
     "name": "stdout",
     "output_type": "stream",
     "text": [
      "Validating SMILES\n",
      "Test size = 8,073\n"
     ]
    },
    {
     "name": "stderr",
     "output_type": "stream",
     "text": [
      "  0%|          | 0/1 [00:00<?, ?it/s]"
     ]
    },
    {
     "name": "stdout",
     "output_type": "stream",
     "text": [
      "Loading pretrained parameter \"encoder.encoder.0.cached_zero_vector\".\n",
      "Loading pretrained parameter \"encoder.encoder.0.W_i.weight\".\n",
      "Loading pretrained parameter \"encoder.encoder.0.W_h.weight\".\n",
      "Loading pretrained parameter \"encoder.encoder.0.W_o.weight\".\n",
      "Loading pretrained parameter \"encoder.encoder.0.W_o.bias\".\n",
      "Loading pretrained parameter \"readout.1.weight\".\n",
      "Loading pretrained parameter \"readout.1.bias\".\n",
      "Loading pretrained parameter \"readout.4.weight\".\n",
      "Loading pretrained parameter \"readout.4.bias\".\n"
     ]
    },
    {
     "name": "stderr",
     "output_type": "stream",
     "text": [
      "100%|██████████| 1/1 [00:58<00:00, 58.64s/it]\n"
     ]
    },
    {
     "name": "stdout",
     "output_type": "stream",
     "text": [
      "Saving predictions to mc_preds.csv\n",
      "Elapsed time = 0:00:59\n",
      "running chemprop\n"
     ]
    },
    {
     "name": "stderr",
     "output_type": "stream",
     "text": [
      "1949it [00:00, 252142.08it/s]\n",
      "100%|██████████| 1949/1949 [00:00<00:00, 215310.62it/s]\n",
      "100%|██████████| 1949/1949 [00:00<00:00, 72222.31it/s]\n",
      "Fold 0\n",
      "100%|██████████| 5/5 [00:12<00:00,  2.58s/it]\n",
      "Model 0 best validation rmse = 1.156343 on epoch 4\n",
      "Model 0 test rmse = 1.222149                 \n",
      "Ensemble test rmse = 1.222149\n",
      "1-fold cross validation\n",
      "\tSeed 0 ==> test rmse = 1.222149\n",
      "Overall test rmse = 1.222149 +/- 0.000000\n",
      "Elapsed time = 0:00:13\n"
     ]
    },
    {
     "name": "stdout",
     "output_type": "stream",
     "text": [
      "Loading training args\n",
      "Setting molecule featurization parameters to default.\n",
      "Loading data\n"
     ]
    },
    {
     "name": "stderr",
     "output_type": "stream",
     "text": [
      "8048it [00:00, 385665.50it/s]\n",
      "100%|██████████| 8048/8048 [00:00<00:00, 35817.75it/s]\n"
     ]
    },
    {
     "name": "stdout",
     "output_type": "stream",
     "text": [
      "Validating SMILES\n",
      "Test size = 8,048\n"
     ]
    },
    {
     "name": "stderr",
     "output_type": "stream",
     "text": [
      "  0%|          | 0/1 [00:00<?, ?it/s]"
     ]
    },
    {
     "name": "stdout",
     "output_type": "stream",
     "text": [
      "Loading pretrained parameter \"encoder.encoder.0.cached_zero_vector\".\n",
      "Loading pretrained parameter \"encoder.encoder.0.W_i.weight\".\n",
      "Loading pretrained parameter \"encoder.encoder.0.W_h.weight\".\n",
      "Loading pretrained parameter \"encoder.encoder.0.W_o.weight\".\n",
      "Loading pretrained parameter \"encoder.encoder.0.W_o.bias\".\n",
      "Loading pretrained parameter \"readout.1.weight\".\n",
      "Loading pretrained parameter \"readout.1.bias\".\n",
      "Loading pretrained parameter \"readout.4.weight\".\n",
      "Loading pretrained parameter \"readout.4.bias\".\n"
     ]
    },
    {
     "name": "stderr",
     "output_type": "stream",
     "text": [
      "100%|██████████| 1/1 [00:58<00:00, 58.07s/it]\n"
     ]
    },
    {
     "name": "stdout",
     "output_type": "stream",
     "text": [
      "Saving predictions to mc_preds.csv\n",
      "Elapsed time = 0:00:59\n",
      "running chemprop\n"
     ]
    },
    {
     "name": "stderr",
     "output_type": "stream",
     "text": [
      "1974it [00:00, 242177.26it/s]\n",
      "100%|██████████| 1974/1974 [00:00<00:00, 9320.12it/s]\n",
      "100%|██████████| 1974/1974 [00:00<00:00, 81070.38it/s]\n",
      "Fold 0\n",
      "100%|██████████| 5/5 [00:13<00:00,  2.67s/it]\n",
      "Model 0 best validation rmse = 1.134689 on epoch 4\n",
      "Model 0 test rmse = 1.101535                 \n",
      "Ensemble test rmse = 1.101535\n",
      "1-fold cross validation\n",
      "\tSeed 0 ==> test rmse = 1.101535\n",
      "Overall test rmse = 1.101535 +/- 0.000000\n",
      "Elapsed time = 0:00:14\n"
     ]
    },
    {
     "name": "stdout",
     "output_type": "stream",
     "text": [
      "Loading training args\n",
      "Setting molecule featurization parameters to default.\n",
      "Loading data\n"
     ]
    },
    {
     "name": "stderr",
     "output_type": "stream",
     "text": [
      "8023it [00:00, 390449.63it/s]\n",
      "100%|██████████| 8023/8023 [00:00<00:00, 235881.82it/s]\n"
     ]
    },
    {
     "name": "stdout",
     "output_type": "stream",
     "text": [
      "Validating SMILES\n",
      "Test size = 8,023\n"
     ]
    },
    {
     "name": "stderr",
     "output_type": "stream",
     "text": [
      "  0%|          | 0/1 [00:00<?, ?it/s]"
     ]
    },
    {
     "name": "stdout",
     "output_type": "stream",
     "text": [
      "Loading pretrained parameter \"encoder.encoder.0.cached_zero_vector\".\n",
      "Loading pretrained parameter \"encoder.encoder.0.W_i.weight\".\n",
      "Loading pretrained parameter \"encoder.encoder.0.W_h.weight\".\n",
      "Loading pretrained parameter \"encoder.encoder.0.W_o.weight\".\n",
      "Loading pretrained parameter \"encoder.encoder.0.W_o.bias\".\n",
      "Loading pretrained parameter \"readout.1.weight\".\n",
      "Loading pretrained parameter \"readout.1.bias\".\n",
      "Loading pretrained parameter \"readout.4.weight\".\n",
      "Loading pretrained parameter \"readout.4.bias\".\n"
     ]
    },
    {
     "name": "stderr",
     "output_type": "stream",
     "text": [
      "100%|██████████| 1/1 [00:58<00:00, 58.48s/it]\n"
     ]
    },
    {
     "name": "stdout",
     "output_type": "stream",
     "text": [
      "Saving predictions to mc_preds.csv\n",
      "Elapsed time = 0:00:59\n",
      "running chemprop\n",
      "in the counter\n"
     ]
    },
    {
     "name": "stderr",
     "output_type": "stream",
     "text": [
      "1999it [00:00, 228557.78it/s]\n",
      "100%|██████████| 1999/1999 [00:00<00:00, 203569.42it/s]\n",
      "100%|██████████| 1999/1999 [00:00<00:00, 75015.56it/s]\n",
      "Fold 0\n",
      "100%|██████████| 5/5 [00:13<00:00,  2.68s/it]\n",
      "Model 0 best validation rmse = 1.070668 on epoch 4\n",
      "Model 0 test rmse = 1.090091                 \n",
      "Ensemble test rmse = 1.090091\n",
      "1-fold cross validation\n",
      "\tSeed 0 ==> test rmse = 1.090091\n",
      "Overall test rmse = 1.090091 +/- 0.000000\n",
      "Elapsed time = 0:00:14\n"
     ]
    },
    {
     "name": "stdout",
     "output_type": "stream",
     "text": [
      "Loading training args\n",
      "Setting molecule featurization parameters to default.\n",
      "Loading data\n"
     ]
    },
    {
     "name": "stderr",
     "output_type": "stream",
     "text": [
      "7998it [00:00, 388179.03it/s]\n",
      "100%|██████████| 7998/7998 [00:00<00:00, 236053.56it/s]\n"
     ]
    },
    {
     "name": "stdout",
     "output_type": "stream",
     "text": [
      "Validating SMILES\n",
      "Test size = 7,998\n"
     ]
    },
    {
     "name": "stderr",
     "output_type": "stream",
     "text": [
      "  0%|          | 0/1 [00:00<?, ?it/s]"
     ]
    },
    {
     "name": "stdout",
     "output_type": "stream",
     "text": [
      "Loading pretrained parameter \"encoder.encoder.0.cached_zero_vector\".\n",
      "Loading pretrained parameter \"encoder.encoder.0.W_i.weight\".\n",
      "Loading pretrained parameter \"encoder.encoder.0.W_h.weight\".\n",
      "Loading pretrained parameter \"encoder.encoder.0.W_o.weight\".\n",
      "Loading pretrained parameter \"encoder.encoder.0.W_o.bias\".\n",
      "Loading pretrained parameter \"readout.1.weight\".\n",
      "Loading pretrained parameter \"readout.1.bias\".\n",
      "Loading pretrained parameter \"readout.4.weight\".\n",
      "Loading pretrained parameter \"readout.4.bias\".\n"
     ]
    },
    {
     "name": "stderr",
     "output_type": "stream",
     "text": [
      "100%|██████████| 1/1 [00:58<00:00, 58.61s/it]\n"
     ]
    },
    {
     "name": "stdout",
     "output_type": "stream",
     "text": [
      "Saving predictions to mc_preds.csv\n",
      "Elapsed time = 0:00:59\n",
      "finished seed\n",
      "running chemprop\n",
      "in the counter\n"
     ]
    },
    {
     "name": "stderr",
     "output_type": "stream",
     "text": [
      "999it [00:00, 257995.79it/s]\n",
      "100%|██████████| 999/999 [00:00<00:00, 196534.23it/s]\n",
      "100%|██████████| 999/999 [00:00<00:00, 9894.12it/s]\n",
      "Fold 0\n",
      "100%|██████████| 5/5 [00:07<00:00,  1.41s/it]\n",
      "Model 0 best validation rmse = 1.345440 on epoch 4\n",
      "Model 0 test rmse = 1.129559                 \n",
      "Ensemble test rmse = 1.129559\n",
      "1-fold cross validation\n",
      "\tSeed 0 ==> test rmse = 1.129559\n",
      "Overall test rmse = 1.129559 +/- 0.000000\n",
      "Elapsed time = 0:00:08\n"
     ]
    },
    {
     "name": "stdout",
     "output_type": "stream",
     "text": [
      "Loading training args\n",
      "Setting molecule featurization parameters to default.\n",
      "Loading data\n"
     ]
    },
    {
     "name": "stderr",
     "output_type": "stream",
     "text": [
      "8998it [00:00, 394113.90it/s]\n",
      "100%|██████████| 8998/8998 [00:00<00:00, 36773.64it/s]\n"
     ]
    },
    {
     "name": "stdout",
     "output_type": "stream",
     "text": [
      "Validating SMILES\n",
      "Test size = 8,998\n"
     ]
    },
    {
     "name": "stderr",
     "output_type": "stream",
     "text": [
      "  0%|          | 0/1 [00:00<?, ?it/s]"
     ]
    },
    {
     "name": "stdout",
     "output_type": "stream",
     "text": [
      "Loading pretrained parameter \"encoder.encoder.0.cached_zero_vector\".\n",
      "Loading pretrained parameter \"encoder.encoder.0.W_i.weight\".\n",
      "Loading pretrained parameter \"encoder.encoder.0.W_h.weight\".\n",
      "Loading pretrained parameter \"encoder.encoder.0.W_o.weight\".\n",
      "Loading pretrained parameter \"encoder.encoder.0.W_o.bias\".\n",
      "Loading pretrained parameter \"readout.1.weight\".\n",
      "Loading pretrained parameter \"readout.1.bias\".\n",
      "Loading pretrained parameter \"readout.4.weight\".\n",
      "Loading pretrained parameter \"readout.4.bias\".\n"
     ]
    },
    {
     "name": "stderr",
     "output_type": "stream",
     "text": [
      "100%|██████████| 1/1 [00:59<00:00, 59.17s/it]\n"
     ]
    },
    {
     "name": "stdout",
     "output_type": "stream",
     "text": [
      "Saving predictions to mc_preds.csv\n",
      "Elapsed time = 0:01:00\n",
      "running chemprop\n"
     ]
    },
    {
     "name": "stderr",
     "output_type": "stream",
     "text": [
      "1024it [00:00, 243810.59it/s]\n",
      "100%|██████████| 1024/1024 [00:00<00:00, 194114.04it/s]\n",
      "100%|██████████| 1024/1024 [00:00<00:00, 63152.00it/s]\n",
      "Fold 0\n",
      "100%|██████████| 5/5 [00:06<00:00,  1.35s/it]\n",
      "Model 0 best validation rmse = 1.315435 on epoch 4\n",
      "Model 0 test rmse = 1.169156                 \n",
      "Ensemble test rmse = 1.169156\n",
      "1-fold cross validation\n",
      "\tSeed 0 ==> test rmse = 1.169156\n",
      "Overall test rmse = 1.169156 +/- 0.000000\n",
      "Elapsed time = 0:00:07\n"
     ]
    },
    {
     "name": "stdout",
     "output_type": "stream",
     "text": [
      "Loading training args\n",
      "Setting molecule featurization parameters to default.\n",
      "Loading data\n"
     ]
    },
    {
     "name": "stderr",
     "output_type": "stream",
     "text": [
      "8973it [00:00, 32073.44it/s]\n",
      "100%|██████████| 8973/8973 [00:00<00:00, 240562.29it/s]\n"
     ]
    },
    {
     "name": "stdout",
     "output_type": "stream",
     "text": [
      "Validating SMILES\n",
      "Test size = 8,973\n"
     ]
    },
    {
     "name": "stderr",
     "output_type": "stream",
     "text": [
      "  0%|          | 0/1 [00:00<?, ?it/s]"
     ]
    },
    {
     "name": "stdout",
     "output_type": "stream",
     "text": [
      "Loading pretrained parameter \"encoder.encoder.0.cached_zero_vector\".\n",
      "Loading pretrained parameter \"encoder.encoder.0.W_i.weight\".\n",
      "Loading pretrained parameter \"encoder.encoder.0.W_h.weight\".\n",
      "Loading pretrained parameter \"encoder.encoder.0.W_o.weight\".\n",
      "Loading pretrained parameter \"encoder.encoder.0.W_o.bias\".\n",
      "Loading pretrained parameter \"readout.1.weight\".\n",
      "Loading pretrained parameter \"readout.1.bias\".\n",
      "Loading pretrained parameter \"readout.4.weight\".\n",
      "Loading pretrained parameter \"readout.4.bias\".\n"
     ]
    },
    {
     "name": "stderr",
     "output_type": "stream",
     "text": [
      "100%|██████████| 1/1 [00:59<00:00, 59.69s/it]\n"
     ]
    },
    {
     "name": "stdout",
     "output_type": "stream",
     "text": [
      "Saving predictions to mc_preds.csv\n",
      "Elapsed time = 0:01:00\n",
      "running chemprop\n"
     ]
    },
    {
     "name": "stderr",
     "output_type": "stream",
     "text": [
      "1049it [00:00, 211276.11it/s]\n",
      "100%|██████████| 1049/1049 [00:00<00:00, 204253.51it/s]\n",
      "100%|██████████| 1049/1049 [00:00<00:00, 69350.83it/s]\n",
      "Fold 0\n",
      "100%|██████████| 5/5 [00:07<00:00,  1.42s/it]\n",
      "Model 0 best validation rmse = 1.233410 on epoch 4\n",
      "Model 0 test rmse = 1.211615                 \n",
      "Ensemble test rmse = 1.211615\n",
      "1-fold cross validation\n",
      "\tSeed 0 ==> test rmse = 1.211615\n",
      "Overall test rmse = 1.211615 +/- 0.000000\n",
      "Elapsed time = 0:00:08\n"
     ]
    },
    {
     "name": "stdout",
     "output_type": "stream",
     "text": [
      "Loading training args\n",
      "Setting molecule featurization parameters to default.\n",
      "Loading data\n"
     ]
    },
    {
     "name": "stderr",
     "output_type": "stream",
     "text": [
      "8948it [00:00, 389657.40it/s]\n",
      "100%|██████████| 8948/8948 [00:00<00:00, 31442.62it/s]\n"
     ]
    },
    {
     "name": "stdout",
     "output_type": "stream",
     "text": [
      "Validating SMILES\n",
      "Test size = 8,948\n"
     ]
    },
    {
     "name": "stderr",
     "output_type": "stream",
     "text": [
      "  0%|          | 0/1 [00:00<?, ?it/s]"
     ]
    },
    {
     "name": "stdout",
     "output_type": "stream",
     "text": [
      "Loading pretrained parameter \"encoder.encoder.0.cached_zero_vector\".\n",
      "Loading pretrained parameter \"encoder.encoder.0.W_i.weight\".\n",
      "Loading pretrained parameter \"encoder.encoder.0.W_h.weight\".\n",
      "Loading pretrained parameter \"encoder.encoder.0.W_o.weight\".\n",
      "Loading pretrained parameter \"encoder.encoder.0.W_o.bias\".\n",
      "Loading pretrained parameter \"readout.1.weight\".\n",
      "Loading pretrained parameter \"readout.1.bias\".\n",
      "Loading pretrained parameter \"readout.4.weight\".\n",
      "Loading pretrained parameter \"readout.4.bias\".\n"
     ]
    },
    {
     "name": "stderr",
     "output_type": "stream",
     "text": [
      "100%|██████████| 1/1 [00:59<00:00, 59.32s/it]\n"
     ]
    },
    {
     "name": "stdout",
     "output_type": "stream",
     "text": [
      "Saving predictions to mc_preds.csv\n",
      "Elapsed time = 0:01:00\n",
      "running chemprop\n"
     ]
    },
    {
     "name": "stderr",
     "output_type": "stream",
     "text": [
      "1074it [00:00, 235575.91it/s]\n",
      "100%|██████████| 1074/1074 [00:00<00:00, 209403.24it/s]\n",
      "100%|██████████| 1074/1074 [00:00<00:00, 80240.16it/s]\n",
      "Fold 0\n",
      "100%|██████████| 5/5 [00:07<00:00,  1.44s/it]\n",
      "Model 0 best validation rmse = 1.208797 on epoch 4\n",
      "Model 0 test rmse = 1.313293                 \n",
      "Ensemble test rmse = 1.313293\n",
      "1-fold cross validation\n",
      "\tSeed 0 ==> test rmse = 1.313293\n",
      "Overall test rmse = 1.313293 +/- 0.000000\n",
      "Elapsed time = 0:00:08\n"
     ]
    },
    {
     "name": "stdout",
     "output_type": "stream",
     "text": [
      "Loading training args\n",
      "Setting molecule featurization parameters to default.\n",
      "Loading data\n"
     ]
    },
    {
     "name": "stderr",
     "output_type": "stream",
     "text": [
      "8923it [00:00, 390861.54it/s]\n",
      "100%|██████████| 8923/8923 [00:00<00:00, 236370.83it/s]"
     ]
    },
    {
     "name": "stdout",
     "output_type": "stream",
     "text": [
      "Validating SMILES\n"
     ]
    },
    {
     "name": "stderr",
     "output_type": "stream",
     "text": [
      "\n"
     ]
    },
    {
     "name": "stdout",
     "output_type": "stream",
     "text": [
      "Test size = 8,923\n"
     ]
    },
    {
     "name": "stderr",
     "output_type": "stream",
     "text": [
      "  0%|          | 0/1 [00:00<?, ?it/s]"
     ]
    },
    {
     "name": "stdout",
     "output_type": "stream",
     "text": [
      "Loading pretrained parameter \"encoder.encoder.0.cached_zero_vector\".\n",
      "Loading pretrained parameter \"encoder.encoder.0.W_i.weight\".\n",
      "Loading pretrained parameter \"encoder.encoder.0.W_h.weight\".\n",
      "Loading pretrained parameter \"encoder.encoder.0.W_o.weight\".\n",
      "Loading pretrained parameter \"encoder.encoder.0.W_o.bias\".\n",
      "Loading pretrained parameter \"readout.1.weight\".\n",
      "Loading pretrained parameter \"readout.1.bias\".\n",
      "Loading pretrained parameter \"readout.4.weight\".\n",
      "Loading pretrained parameter \"readout.4.bias\".\n"
     ]
    },
    {
     "name": "stderr",
     "output_type": "stream",
     "text": [
      "100%|██████████| 1/1 [00:59<00:00, 59.12s/it]\n"
     ]
    },
    {
     "name": "stdout",
     "output_type": "stream",
     "text": [
      "Saving predictions to mc_preds.csv\n",
      "Elapsed time = 0:01:00\n",
      "running chemprop\n",
      "in the counter\n"
     ]
    },
    {
     "name": "stderr",
     "output_type": "stream",
     "text": [
      "1099it [00:00, 198729.90it/s]\n",
      "100%|██████████| 1099/1099 [00:00<00:00, 192980.83it/s]\n",
      "100%|██████████| 1099/1099 [00:00<00:00, 69697.90it/s]\n",
      "Fold 0\n",
      "100%|██████████| 5/5 [00:07<00:00,  1.48s/it]\n",
      "Model 0 best validation rmse = 1.189285 on epoch 4\n",
      "Model 0 test rmse = 1.233236                 \n",
      "Ensemble test rmse = 1.233236\n",
      "1-fold cross validation\n",
      "\tSeed 0 ==> test rmse = 1.233236\n",
      "Overall test rmse = 1.233236 +/- 0.000000\n",
      "Elapsed time = 0:00:08\n"
     ]
    },
    {
     "name": "stdout",
     "output_type": "stream",
     "text": [
      "Loading training args\n",
      "Setting molecule featurization parameters to default.\n",
      "Loading data\n"
     ]
    },
    {
     "name": "stderr",
     "output_type": "stream",
     "text": [
      "8898it [00:00, 390586.36it/s]\n",
      "100%|██████████| 8898/8898 [00:00<00:00, 231123.62it/s]"
     ]
    },
    {
     "name": "stdout",
     "output_type": "stream",
     "text": [
      "Validating SMILES\n"
     ]
    },
    {
     "name": "stderr",
     "output_type": "stream",
     "text": [
      "\n"
     ]
    },
    {
     "name": "stdout",
     "output_type": "stream",
     "text": [
      "Test size = 8,898\n"
     ]
    },
    {
     "name": "stderr",
     "output_type": "stream",
     "text": [
      "  0%|          | 0/1 [00:00<?, ?it/s]"
     ]
    },
    {
     "name": "stdout",
     "output_type": "stream",
     "text": [
      "Loading pretrained parameter \"encoder.encoder.0.cached_zero_vector\".\n",
      "Loading pretrained parameter \"encoder.encoder.0.W_i.weight\".\n",
      "Loading pretrained parameter \"encoder.encoder.0.W_h.weight\".\n",
      "Loading pretrained parameter \"encoder.encoder.0.W_o.weight\".\n",
      "Loading pretrained parameter \"encoder.encoder.0.W_o.bias\".\n",
      "Loading pretrained parameter \"readout.1.weight\".\n",
      "Loading pretrained parameter \"readout.1.bias\".\n",
      "Loading pretrained parameter \"readout.4.weight\".\n",
      "Loading pretrained parameter \"readout.4.bias\".\n"
     ]
    },
    {
     "name": "stderr",
     "output_type": "stream",
     "text": [
      "100%|██████████| 1/1 [01:00<00:00, 60.34s/it]\n"
     ]
    },
    {
     "name": "stdout",
     "output_type": "stream",
     "text": [
      "Saving predictions to mc_preds.csv\n",
      "Elapsed time = 0:01:01\n",
      "running chemprop\n"
     ]
    },
    {
     "name": "stderr",
     "output_type": "stream",
     "text": [
      "1124it [00:00, 249505.04it/s]\n",
      "100%|██████████| 1124/1124 [00:00<00:00, 195715.61it/s]\n",
      "100%|██████████| 1124/1124 [00:00<00:00, 72888.03it/s]\n",
      "Fold 0\n",
      "100%|██████████| 5/5 [00:07<00:00,  1.51s/it]\n",
      "Model 0 best validation rmse = 1.137794 on epoch 4\n",
      "Model 0 test rmse = 1.279266                 \n",
      "Ensemble test rmse = 1.279266\n",
      "1-fold cross validation\n",
      "\tSeed 0 ==> test rmse = 1.279266\n",
      "Overall test rmse = 1.279266 +/- 0.000000\n",
      "Elapsed time = 0:00:08\n"
     ]
    },
    {
     "name": "stdout",
     "output_type": "stream",
     "text": [
      "Loading training args\n",
      "Setting molecule featurization parameters to default.\n",
      "Loading data\n"
     ]
    },
    {
     "name": "stderr",
     "output_type": "stream",
     "text": [
      "8873it [00:00, 386941.77it/s]\n",
      "100%|██████████| 8873/8873 [00:00<00:00, 29623.19it/s]\n"
     ]
    },
    {
     "name": "stdout",
     "output_type": "stream",
     "text": [
      "Validating SMILES\n",
      "Test size = 8,873\n"
     ]
    },
    {
     "name": "stderr",
     "output_type": "stream",
     "text": [
      "  0%|          | 0/1 [00:00<?, ?it/s]"
     ]
    },
    {
     "name": "stdout",
     "output_type": "stream",
     "text": [
      "Loading pretrained parameter \"encoder.encoder.0.cached_zero_vector\".\n",
      "Loading pretrained parameter \"encoder.encoder.0.W_i.weight\".\n",
      "Loading pretrained parameter \"encoder.encoder.0.W_h.weight\".\n",
      "Loading pretrained parameter \"encoder.encoder.0.W_o.weight\".\n",
      "Loading pretrained parameter \"encoder.encoder.0.W_o.bias\".\n",
      "Loading pretrained parameter \"readout.1.weight\".\n",
      "Loading pretrained parameter \"readout.1.bias\".\n",
      "Loading pretrained parameter \"readout.4.weight\".\n",
      "Loading pretrained parameter \"readout.4.bias\".\n"
     ]
    },
    {
     "name": "stderr",
     "output_type": "stream",
     "text": [
      "100%|██████████| 1/1 [01:00<00:00, 60.91s/it]\n"
     ]
    },
    {
     "name": "stdout",
     "output_type": "stream",
     "text": [
      "Saving predictions to mc_preds.csv\n",
      "Elapsed time = 0:01:01\n",
      "running chemprop\n"
     ]
    },
    {
     "name": "stderr",
     "output_type": "stream",
     "text": [
      "1149it [00:00, 232219.69it/s]\n",
      "100%|██████████| 1149/1149 [00:00<00:00, 201718.44it/s]\n",
      "100%|██████████| 1149/1149 [00:00<00:00, 72400.33it/s]\n",
      "Fold 0\n",
      "100%|██████████| 5/5 [00:07<00:00,  1.51s/it]\n",
      "Model 0 best validation rmse = 1.126529 on epoch 4\n",
      "Model 0 test rmse = 1.235248                 \n",
      "Ensemble test rmse = 1.235248\n",
      "1-fold cross validation\n",
      "\tSeed 0 ==> test rmse = 1.235248\n",
      "Overall test rmse = 1.235248 +/- 0.000000\n",
      "Elapsed time = 0:00:08\n"
     ]
    },
    {
     "name": "stdout",
     "output_type": "stream",
     "text": [
      "Loading training args\n",
      "Setting molecule featurization parameters to default.\n",
      "Loading data\n"
     ]
    },
    {
     "name": "stderr",
     "output_type": "stream",
     "text": [
      "8848it [00:00, 391315.64it/s]\n",
      "100%|██████████| 8848/8848 [00:00<00:00, 29842.09it/s]\n"
     ]
    },
    {
     "name": "stdout",
     "output_type": "stream",
     "text": [
      "Validating SMILES\n",
      "Test size = 8,848\n"
     ]
    },
    {
     "name": "stderr",
     "output_type": "stream",
     "text": [
      "  0%|          | 0/1 [00:00<?, ?it/s]"
     ]
    },
    {
     "name": "stdout",
     "output_type": "stream",
     "text": [
      "Loading pretrained parameter \"encoder.encoder.0.cached_zero_vector\".\n",
      "Loading pretrained parameter \"encoder.encoder.0.W_i.weight\".\n",
      "Loading pretrained parameter \"encoder.encoder.0.W_h.weight\".\n",
      "Loading pretrained parameter \"encoder.encoder.0.W_o.weight\".\n",
      "Loading pretrained parameter \"encoder.encoder.0.W_o.bias\".\n",
      "Loading pretrained parameter \"readout.1.weight\".\n",
      "Loading pretrained parameter \"readout.1.bias\".\n",
      "Loading pretrained parameter \"readout.4.weight\".\n",
      "Loading pretrained parameter \"readout.4.bias\".\n"
     ]
    },
    {
     "name": "stderr",
     "output_type": "stream",
     "text": [
      "100%|██████████| 1/1 [00:59<00:00, 59.52s/it]\n"
     ]
    },
    {
     "name": "stdout",
     "output_type": "stream",
     "text": [
      "Saving predictions to mc_preds.csv\n",
      "Elapsed time = 0:01:00\n",
      "running chemprop\n"
     ]
    },
    {
     "name": "stderr",
     "output_type": "stream",
     "text": [
      "1174it [00:00, 212750.61it/s]\n",
      "100%|██████████| 1174/1174 [00:00<00:00, 204778.88it/s]\n",
      "100%|██████████| 1174/1174 [00:00<00:00, 70295.26it/s]\n",
      "Fold 0\n",
      "100%|██████████| 5/5 [00:07<00:00,  1.59s/it]\n",
      "Model 0 best validation rmse = 1.202150 on epoch 4\n",
      "Model 0 test rmse = 1.200029                 \n",
      "Ensemble test rmse = 1.200029\n",
      "1-fold cross validation\n",
      "\tSeed 0 ==> test rmse = 1.200029\n",
      "Overall test rmse = 1.200029 +/- 0.000000\n",
      "Elapsed time = 0:00:08\n"
     ]
    },
    {
     "name": "stdout",
     "output_type": "stream",
     "text": [
      "Loading training args\n",
      "Setting molecule featurization parameters to default.\n",
      "Loading data\n"
     ]
    },
    {
     "name": "stderr",
     "output_type": "stream",
     "text": [
      "8823it [00:00, 389110.40it/s]\n",
      "100%|██████████| 8823/8823 [00:00<00:00, 29584.44it/s]\n"
     ]
    },
    {
     "name": "stdout",
     "output_type": "stream",
     "text": [
      "Validating SMILES\n",
      "Test size = 8,823\n"
     ]
    },
    {
     "name": "stderr",
     "output_type": "stream",
     "text": [
      "  0%|          | 0/1 [00:00<?, ?it/s]"
     ]
    },
    {
     "name": "stdout",
     "output_type": "stream",
     "text": [
      "Loading pretrained parameter \"encoder.encoder.0.cached_zero_vector\".\n",
      "Loading pretrained parameter \"encoder.encoder.0.W_i.weight\".\n",
      "Loading pretrained parameter \"encoder.encoder.0.W_h.weight\".\n",
      "Loading pretrained parameter \"encoder.encoder.0.W_o.weight\".\n",
      "Loading pretrained parameter \"encoder.encoder.0.W_o.bias\".\n",
      "Loading pretrained parameter \"readout.1.weight\".\n",
      "Loading pretrained parameter \"readout.1.bias\".\n",
      "Loading pretrained parameter \"readout.4.weight\".\n",
      "Loading pretrained parameter \"readout.4.bias\".\n"
     ]
    },
    {
     "name": "stderr",
     "output_type": "stream",
     "text": [
      "100%|██████████| 1/1 [00:59<00:00, 59.63s/it]\n"
     ]
    },
    {
     "name": "stdout",
     "output_type": "stream",
     "text": [
      "Saving predictions to mc_preds.csv\n",
      "Elapsed time = 0:01:00\n",
      "running chemprop\n",
      "in the counter\n"
     ]
    },
    {
     "name": "stderr",
     "output_type": "stream",
     "text": [
      "1199it [00:00, 211496.78it/s]\n",
      "100%|██████████| 1199/1199 [00:00<00:00, 202153.41it/s]\n",
      "100%|██████████| 1199/1199 [00:00<00:00, 72146.48it/s]\n",
      "Fold 0\n",
      "100%|██████████| 5/5 [00:08<00:00,  1.60s/it]\n",
      "Model 0 best validation rmse = 1.233843 on epoch 4\n",
      "Model 0 test rmse = 1.217545                 \n",
      "Ensemble test rmse = 1.217545\n",
      "1-fold cross validation\n",
      "\tSeed 0 ==> test rmse = 1.217545\n",
      "Overall test rmse = 1.217545 +/- 0.000000\n",
      "Elapsed time = 0:00:08\n"
     ]
    },
    {
     "name": "stdout",
     "output_type": "stream",
     "text": [
      "Loading training args\n",
      "Setting molecule featurization parameters to default.\n",
      "Loading data\n"
     ]
    },
    {
     "name": "stderr",
     "output_type": "stream",
     "text": [
      "8798it [00:00, 384963.92it/s]\n",
      "100%|██████████| 8798/8798 [00:00<00:00, 237663.18it/s]"
     ]
    },
    {
     "name": "stdout",
     "output_type": "stream",
     "text": [
      "Validating SMILES\n"
     ]
    },
    {
     "name": "stderr",
     "output_type": "stream",
     "text": [
      "\n"
     ]
    },
    {
     "name": "stdout",
     "output_type": "stream",
     "text": [
      "Test size = 8,798\n"
     ]
    },
    {
     "name": "stderr",
     "output_type": "stream",
     "text": [
      "  0%|          | 0/1 [00:00<?, ?it/s]"
     ]
    },
    {
     "name": "stdout",
     "output_type": "stream",
     "text": [
      "Loading pretrained parameter \"encoder.encoder.0.cached_zero_vector\".\n",
      "Loading pretrained parameter \"encoder.encoder.0.W_i.weight\".\n",
      "Loading pretrained parameter \"encoder.encoder.0.W_h.weight\".\n",
      "Loading pretrained parameter \"encoder.encoder.0.W_o.weight\".\n",
      "Loading pretrained parameter \"encoder.encoder.0.W_o.bias\".\n",
      "Loading pretrained parameter \"readout.1.weight\".\n",
      "Loading pretrained parameter \"readout.1.bias\".\n",
      "Loading pretrained parameter \"readout.4.weight\".\n",
      "Loading pretrained parameter \"readout.4.bias\".\n"
     ]
    },
    {
     "name": "stderr",
     "output_type": "stream",
     "text": [
      "100%|██████████| 1/1 [00:59<00:00, 59.26s/it]\n"
     ]
    },
    {
     "name": "stdout",
     "output_type": "stream",
     "text": [
      "Saving predictions to mc_preds.csv\n",
      "Elapsed time = 0:01:00\n",
      "running chemprop\n"
     ]
    },
    {
     "name": "stderr",
     "output_type": "stream",
     "text": [
      "1224it [00:00, 242803.07it/s]\n",
      "100%|██████████| 1224/1224 [00:00<00:00, 203763.77it/s]\n",
      "100%|██████████| 1224/1224 [00:00<00:00, 74721.69it/s]\n",
      "Fold 0\n",
      "100%|██████████| 5/5 [00:08<00:00,  1.64s/it]\n",
      "Model 0 best validation rmse = 1.316523 on epoch 4\n",
      "Model 0 test rmse = 1.257133                 \n",
      "Ensemble test rmse = 1.257133\n",
      "1-fold cross validation\n",
      "\tSeed 0 ==> test rmse = 1.257133\n",
      "Overall test rmse = 1.257133 +/- 0.000000\n",
      "Elapsed time = 0:00:09\n"
     ]
    },
    {
     "name": "stdout",
     "output_type": "stream",
     "text": [
      "Loading training args\n",
      "Setting molecule featurization parameters to default.\n",
      "Loading data\n"
     ]
    },
    {
     "name": "stderr",
     "output_type": "stream",
     "text": [
      "8773it [00:00, 31892.63it/s]\n",
      "100%|██████████| 8773/8773 [00:00<00:00, 239307.43it/s]\n"
     ]
    },
    {
     "name": "stdout",
     "output_type": "stream",
     "text": [
      "Validating SMILES\n",
      "Test size = 8,773\n"
     ]
    },
    {
     "name": "stderr",
     "output_type": "stream",
     "text": [
      "  0%|          | 0/1 [00:00<?, ?it/s]"
     ]
    },
    {
     "name": "stdout",
     "output_type": "stream",
     "text": [
      "Loading pretrained parameter \"encoder.encoder.0.cached_zero_vector\".\n",
      "Loading pretrained parameter \"encoder.encoder.0.W_i.weight\".\n",
      "Loading pretrained parameter \"encoder.encoder.0.W_h.weight\".\n",
      "Loading pretrained parameter \"encoder.encoder.0.W_o.weight\".\n",
      "Loading pretrained parameter \"encoder.encoder.0.W_o.bias\".\n",
      "Loading pretrained parameter \"readout.1.weight\".\n",
      "Loading pretrained parameter \"readout.1.bias\".\n",
      "Loading pretrained parameter \"readout.4.weight\".\n",
      "Loading pretrained parameter \"readout.4.bias\".\n"
     ]
    },
    {
     "name": "stderr",
     "output_type": "stream",
     "text": [
      "100%|██████████| 1/1 [03:11<00:00, 191.45s/it]\n"
     ]
    },
    {
     "name": "stdout",
     "output_type": "stream",
     "text": [
      "Saving predictions to mc_preds.csv\n",
      "Elapsed time = 0:03:12\n",
      "running chemprop\n"
     ]
    },
    {
     "name": "stderr",
     "output_type": "stream",
     "text": [
      "1249it [00:00, 227383.38it/s]\n",
      "100%|██████████| 1249/1249 [00:00<00:00, 206890.95it/s]\n",
      "100%|██████████| 1249/1249 [00:00<00:00, 57380.70it/s]\n",
      "Fold 0\n",
      "100%|██████████| 5/5 [00:08<00:00,  1.72s/it]\n",
      "Model 0 best validation rmse = 1.168447 on epoch 4\n",
      "Model 0 test rmse = 1.207546                 \n",
      "Ensemble test rmse = 1.207546\n",
      "1-fold cross validation\n",
      "\tSeed 0 ==> test rmse = 1.207546\n",
      "Overall test rmse = 1.207546 +/- 0.000000\n",
      "Elapsed time = 0:00:09\n"
     ]
    },
    {
     "name": "stdout",
     "output_type": "stream",
     "text": [
      "Loading training args\n",
      "Setting molecule featurization parameters to default.\n",
      "Loading data\n"
     ]
    },
    {
     "name": "stderr",
     "output_type": "stream",
     "text": [
      "8748it [00:00, 381058.81it/s]\n",
      "100%|██████████| 8748/8748 [00:00<00:00, 29647.42it/s]\n"
     ]
    },
    {
     "name": "stdout",
     "output_type": "stream",
     "text": [
      "Validating SMILES\n",
      "Test size = 8,748\n"
     ]
    },
    {
     "name": "stderr",
     "output_type": "stream",
     "text": [
      "  0%|          | 0/1 [00:00<?, ?it/s]"
     ]
    },
    {
     "name": "stdout",
     "output_type": "stream",
     "text": [
      "Loading pretrained parameter \"encoder.encoder.0.cached_zero_vector\".\n",
      "Loading pretrained parameter \"encoder.encoder.0.W_i.weight\".\n",
      "Loading pretrained parameter \"encoder.encoder.0.W_h.weight\".\n",
      "Loading pretrained parameter \"encoder.encoder.0.W_o.weight\".\n",
      "Loading pretrained parameter \"encoder.encoder.0.W_o.bias\".\n",
      "Loading pretrained parameter \"readout.1.weight\".\n",
      "Loading pretrained parameter \"readout.1.bias\".\n",
      "Loading pretrained parameter \"readout.4.weight\".\n",
      "Loading pretrained parameter \"readout.4.bias\".\n"
     ]
    },
    {
     "name": "stderr",
     "output_type": "stream",
     "text": [
      "100%|██████████| 1/1 [01:00<00:00, 60.65s/it]\n"
     ]
    },
    {
     "name": "stdout",
     "output_type": "stream",
     "text": [
      "Saving predictions to mc_preds.csv\n",
      "Elapsed time = 0:01:01\n",
      "running chemprop\n"
     ]
    },
    {
     "name": "stderr",
     "output_type": "stream",
     "text": [
      "1274it [00:00, 223112.45it/s]\n",
      "100%|██████████| 1274/1274 [00:00<00:00, 203711.00it/s]\n",
      "100%|██████████| 1274/1274 [00:00<00:00, 62046.21it/s]\n",
      "Fold 0\n",
      "100%|██████████| 5/5 [00:08<00:00,  1.69s/it]\n",
      "Model 0 best validation rmse = 1.237856 on epoch 4\n",
      "Model 0 test rmse = 1.212315                 \n",
      "Ensemble test rmse = 1.212315\n",
      "1-fold cross validation\n",
      "\tSeed 0 ==> test rmse = 1.212315\n",
      "Overall test rmse = 1.212315 +/- 0.000000\n",
      "Elapsed time = 0:00:09\n"
     ]
    },
    {
     "name": "stdout",
     "output_type": "stream",
     "text": [
      "Loading training args\n",
      "Setting molecule featurization parameters to default.\n",
      "Loading data\n"
     ]
    },
    {
     "name": "stderr",
     "output_type": "stream",
     "text": [
      "8723it [00:00, 391182.56it/s]\n",
      "100%|██████████| 8723/8723 [00:00<00:00, 230627.10it/s]\n"
     ]
    },
    {
     "name": "stdout",
     "output_type": "stream",
     "text": [
      "Validating SMILES\n",
      "Test size = 8,723\n"
     ]
    },
    {
     "name": "stderr",
     "output_type": "stream",
     "text": [
      "  0%|          | 0/1 [00:00<?, ?it/s]"
     ]
    },
    {
     "name": "stdout",
     "output_type": "stream",
     "text": [
      "Loading pretrained parameter \"encoder.encoder.0.cached_zero_vector\".\n",
      "Loading pretrained parameter \"encoder.encoder.0.W_i.weight\".\n",
      "Loading pretrained parameter \"encoder.encoder.0.W_h.weight\".\n",
      "Loading pretrained parameter \"encoder.encoder.0.W_o.weight\".\n",
      "Loading pretrained parameter \"encoder.encoder.0.W_o.bias\".\n",
      "Loading pretrained parameter \"readout.1.weight\".\n",
      "Loading pretrained parameter \"readout.1.bias\".\n",
      "Loading pretrained parameter \"readout.4.weight\".\n",
      "Loading pretrained parameter \"readout.4.bias\".\n"
     ]
    },
    {
     "name": "stderr",
     "output_type": "stream",
     "text": [
      "100%|██████████| 1/1 [01:00<00:00, 60.86s/it]\n"
     ]
    },
    {
     "name": "stdout",
     "output_type": "stream",
     "text": [
      "Saving predictions to mc_preds.csv\n",
      "Elapsed time = 0:01:01\n",
      "running chemprop\n",
      "in the counter\n"
     ]
    },
    {
     "name": "stderr",
     "output_type": "stream",
     "text": [
      "1299it [00:00, 227509.64it/s]\n",
      "100%|██████████| 1299/1299 [00:00<00:00, 207139.90it/s]\n",
      "100%|██████████| 1299/1299 [00:00<00:00, 70631.87it/s]\n",
      "Fold 0\n",
      "100%|██████████| 5/5 [00:08<00:00,  1.75s/it]\n",
      "Model 0 best validation rmse = 1.244327 on epoch 4\n",
      "Model 0 test rmse = 1.197296                 \n",
      "Ensemble test rmse = 1.197296\n",
      "1-fold cross validation\n",
      "\tSeed 0 ==> test rmse = 1.197296\n",
      "Overall test rmse = 1.197296 +/- 0.000000\n",
      "Elapsed time = 0:00:09\n"
     ]
    },
    {
     "name": "stdout",
     "output_type": "stream",
     "text": [
      "Loading training args\n",
      "Setting molecule featurization parameters to default.\n",
      "Loading data\n"
     ]
    },
    {
     "name": "stderr",
     "output_type": "stream",
     "text": [
      "8698it [00:00, 386917.42it/s]\n",
      "100%|██████████| 8698/8698 [00:00<00:00, 235725.49it/s]"
     ]
    },
    {
     "name": "stdout",
     "output_type": "stream",
     "text": [
      "Validating SMILES\n"
     ]
    },
    {
     "name": "stderr",
     "output_type": "stream",
     "text": [
      "\n"
     ]
    },
    {
     "name": "stdout",
     "output_type": "stream",
     "text": [
      "Test size = 8,698\n"
     ]
    },
    {
     "name": "stderr",
     "output_type": "stream",
     "text": [
      "  0%|          | 0/1 [00:00<?, ?it/s]"
     ]
    },
    {
     "name": "stdout",
     "output_type": "stream",
     "text": [
      "Loading pretrained parameter \"encoder.encoder.0.cached_zero_vector\".\n",
      "Loading pretrained parameter \"encoder.encoder.0.W_i.weight\".\n",
      "Loading pretrained parameter \"encoder.encoder.0.W_h.weight\".\n",
      "Loading pretrained parameter \"encoder.encoder.0.W_o.weight\".\n",
      "Loading pretrained parameter \"encoder.encoder.0.W_o.bias\".\n",
      "Loading pretrained parameter \"readout.1.weight\".\n",
      "Loading pretrained parameter \"readout.1.bias\".\n",
      "Loading pretrained parameter \"readout.4.weight\".\n",
      "Loading pretrained parameter \"readout.4.bias\".\n"
     ]
    },
    {
     "name": "stderr",
     "output_type": "stream",
     "text": [
      "100%|██████████| 1/1 [11:29<00:00, 689.83s/it]\n"
     ]
    },
    {
     "name": "stdout",
     "output_type": "stream",
     "text": [
      "Saving predictions to mc_preds.csv\n",
      "Elapsed time = 0:11:30\n",
      "running chemprop\n"
     ]
    },
    {
     "name": "stderr",
     "output_type": "stream",
     "text": [
      "1324it [00:00, 211166.57it/s]\n",
      "100%|██████████| 1324/1324 [00:00<00:00, 176630.36it/s]\n",
      "100%|██████████| 1324/1324 [00:00<00:00, 65616.53it/s]\n",
      "Fold 0\n",
      "100%|██████████| 5/5 [00:08<00:00,  1.79s/it]\n",
      "Model 0 best validation rmse = 1.209913 on epoch 4\n",
      "Model 0 test rmse = 1.155980                 \n",
      "Ensemble test rmse = 1.155980\n",
      "1-fold cross validation\n",
      "\tSeed 0 ==> test rmse = 1.155980\n",
      "Overall test rmse = 1.155980 +/- 0.000000\n",
      "Elapsed time = 0:00:09\n"
     ]
    },
    {
     "name": "stdout",
     "output_type": "stream",
     "text": [
      "Loading training args\n",
      "Setting molecule featurization parameters to default.\n",
      "Loading data\n"
     ]
    },
    {
     "name": "stderr",
     "output_type": "stream",
     "text": [
      "8673it [00:00, 385858.53it/s]\n",
      "100%|██████████| 8673/8673 [00:00<00:00, 30073.12it/s]\n"
     ]
    },
    {
     "name": "stdout",
     "output_type": "stream",
     "text": [
      "Validating SMILES\n",
      "Test size = 8,673\n"
     ]
    },
    {
     "name": "stderr",
     "output_type": "stream",
     "text": [
      "  0%|          | 0/1 [00:00<?, ?it/s]"
     ]
    },
    {
     "name": "stdout",
     "output_type": "stream",
     "text": [
      "Loading pretrained parameter \"encoder.encoder.0.cached_zero_vector\".\n",
      "Loading pretrained parameter \"encoder.encoder.0.W_i.weight\".\n",
      "Loading pretrained parameter \"encoder.encoder.0.W_h.weight\".\n",
      "Loading pretrained parameter \"encoder.encoder.0.W_o.weight\".\n",
      "Loading pretrained parameter \"encoder.encoder.0.W_o.bias\".\n",
      "Loading pretrained parameter \"readout.1.weight\".\n",
      "Loading pretrained parameter \"readout.1.bias\".\n",
      "Loading pretrained parameter \"readout.4.weight\".\n",
      "Loading pretrained parameter \"readout.4.bias\".\n"
     ]
    },
    {
     "name": "stderr",
     "output_type": "stream",
     "text": [
      "100%|██████████| 1/1 [01:00<00:00, 60.49s/it]\n"
     ]
    },
    {
     "name": "stdout",
     "output_type": "stream",
     "text": [
      "Saving predictions to mc_preds.csv\n",
      "Elapsed time = 0:01:01\n",
      "running chemprop\n"
     ]
    },
    {
     "name": "stderr",
     "output_type": "stream",
     "text": [
      "1349it [00:00, 221799.93it/s]\n",
      "100%|██████████| 1349/1349 [00:00<00:00, 217720.34it/s]\n",
      "100%|██████████| 1349/1349 [00:00<00:00, 73543.15it/s]\n",
      "Fold 0\n",
      "100%|██████████| 5/5 [00:08<00:00,  1.77s/it]\n",
      "Model 0 best validation rmse = 1.289154 on epoch 4\n",
      "Model 0 test rmse = 1.167458                 \n",
      "Ensemble test rmse = 1.167458\n",
      "1-fold cross validation\n",
      "\tSeed 0 ==> test rmse = 1.167458\n",
      "Overall test rmse = 1.167458 +/- 0.000000\n",
      "Elapsed time = 0:00:09\n"
     ]
    },
    {
     "name": "stdout",
     "output_type": "stream",
     "text": [
      "Loading training args\n",
      "Setting molecule featurization parameters to default.\n",
      "Loading data\n"
     ]
    },
    {
     "name": "stderr",
     "output_type": "stream",
     "text": [
      "8648it [00:00, 384273.47it/s]\n",
      "100%|██████████| 8648/8648 [00:00<00:00, 236950.23it/s]"
     ]
    },
    {
     "name": "stdout",
     "output_type": "stream",
     "text": [
      "Validating SMILES\n"
     ]
    },
    {
     "name": "stderr",
     "output_type": "stream",
     "text": [
      "\n"
     ]
    },
    {
     "name": "stdout",
     "output_type": "stream",
     "text": [
      "Test size = 8,648\n"
     ]
    },
    {
     "name": "stderr",
     "output_type": "stream",
     "text": [
      "  0%|          | 0/1 [00:00<?, ?it/s]"
     ]
    },
    {
     "name": "stdout",
     "output_type": "stream",
     "text": [
      "Loading pretrained parameter \"encoder.encoder.0.cached_zero_vector\".\n",
      "Loading pretrained parameter \"encoder.encoder.0.W_i.weight\".\n",
      "Loading pretrained parameter \"encoder.encoder.0.W_h.weight\".\n",
      "Loading pretrained parameter \"encoder.encoder.0.W_o.weight\".\n",
      "Loading pretrained parameter \"encoder.encoder.0.W_o.bias\".\n",
      "Loading pretrained parameter \"readout.1.weight\".\n",
      "Loading pretrained parameter \"readout.1.bias\".\n",
      "Loading pretrained parameter \"readout.4.weight\".\n",
      "Loading pretrained parameter \"readout.4.bias\".\n"
     ]
    },
    {
     "name": "stderr",
     "output_type": "stream",
     "text": [
      "100%|██████████| 1/1 [01:00<00:00, 60.52s/it]\n"
     ]
    },
    {
     "name": "stdout",
     "output_type": "stream",
     "text": [
      "Saving predictions to mc_preds.csv\n",
      "Elapsed time = 0:01:01\n",
      "running chemprop\n"
     ]
    },
    {
     "name": "stderr",
     "output_type": "stream",
     "text": [
      "1374it [00:00, 236449.09it/s]\n",
      "100%|██████████| 1374/1374 [00:00<00:00, 212922.99it/s]\n",
      "100%|██████████| 1374/1374 [00:00<00:00, 78242.80it/s]\n",
      "Fold 0\n",
      "100%|██████████| 5/5 [00:09<00:00,  1.85s/it]\n",
      "Model 0 best validation rmse = 1.190621 on epoch 4\n",
      "Model 0 test rmse = 1.190858                 \n",
      "Ensemble test rmse = 1.190858\n",
      "1-fold cross validation\n",
      "\tSeed 0 ==> test rmse = 1.190858\n",
      "Overall test rmse = 1.190858 +/- 0.000000\n",
      "Elapsed time = 0:00:10\n"
     ]
    },
    {
     "name": "stdout",
     "output_type": "stream",
     "text": [
      "Loading training args\n",
      "Setting molecule featurization parameters to default.\n",
      "Loading data\n"
     ]
    },
    {
     "name": "stderr",
     "output_type": "stream",
     "text": [
      "8623it [00:00, 30619.14it/s]\n",
      "100%|██████████| 8623/8623 [00:00<00:00, 244096.16it/s]\n"
     ]
    },
    {
     "name": "stdout",
     "output_type": "stream",
     "text": [
      "Validating SMILES\n",
      "Test size = 8,623\n"
     ]
    },
    {
     "name": "stderr",
     "output_type": "stream",
     "text": [
      "  0%|          | 0/1 [00:00<?, ?it/s]"
     ]
    },
    {
     "name": "stdout",
     "output_type": "stream",
     "text": [
      "Loading pretrained parameter \"encoder.encoder.0.cached_zero_vector\".\n",
      "Loading pretrained parameter \"encoder.encoder.0.W_i.weight\".\n",
      "Loading pretrained parameter \"encoder.encoder.0.W_h.weight\".\n",
      "Loading pretrained parameter \"encoder.encoder.0.W_o.weight\".\n",
      "Loading pretrained parameter \"encoder.encoder.0.W_o.bias\".\n",
      "Loading pretrained parameter \"readout.1.weight\".\n",
      "Loading pretrained parameter \"readout.1.bias\".\n",
      "Loading pretrained parameter \"readout.4.weight\".\n",
      "Loading pretrained parameter \"readout.4.bias\".\n"
     ]
    },
    {
     "name": "stderr",
     "output_type": "stream",
     "text": [
      "100%|██████████| 1/1 [00:59<00:00, 59.51s/it]\n"
     ]
    },
    {
     "name": "stdout",
     "output_type": "stream",
     "text": [
      "Saving predictions to mc_preds.csv\n",
      "Elapsed time = 0:01:00\n",
      "running chemprop\n",
      "in the counter\n"
     ]
    },
    {
     "name": "stderr",
     "output_type": "stream",
     "text": [
      "1399it [00:00, 207843.27it/s]\n",
      "100%|██████████| 1399/1399 [00:00<00:00, 193715.34it/s]\n",
      "100%|██████████| 1399/1399 [00:00<00:00, 54527.16it/s]\n",
      "Fold 0\n",
      "100%|██████████| 5/5 [00:09<00:00,  1.97s/it]\n",
      "Model 0 best validation rmse = 1.265771 on epoch 4\n",
      "Model 0 test rmse = 1.186449                 \n",
      "Ensemble test rmse = 1.186449\n",
      "1-fold cross validation\n",
      "\tSeed 0 ==> test rmse = 1.186449\n",
      "Overall test rmse = 1.186449 +/- 0.000000\n",
      "Elapsed time = 0:00:10\n"
     ]
    },
    {
     "name": "stdout",
     "output_type": "stream",
     "text": [
      "Loading training args\n",
      "Setting molecule featurization parameters to default.\n",
      "Loading data\n"
     ]
    },
    {
     "name": "stderr",
     "output_type": "stream",
     "text": [
      "8598it [00:00, 30894.53it/s]\n",
      "100%|██████████| 8598/8598 [00:00<00:00, 237698.24it/s]\n"
     ]
    },
    {
     "name": "stdout",
     "output_type": "stream",
     "text": [
      "Validating SMILES\n",
      "Test size = 8,598\n"
     ]
    },
    {
     "name": "stderr",
     "output_type": "stream",
     "text": [
      "  0%|          | 0/1 [00:00<?, ?it/s]"
     ]
    },
    {
     "name": "stdout",
     "output_type": "stream",
     "text": [
      "Loading pretrained parameter \"encoder.encoder.0.cached_zero_vector\".\n",
      "Loading pretrained parameter \"encoder.encoder.0.W_i.weight\".\n",
      "Loading pretrained parameter \"encoder.encoder.0.W_h.weight\".\n",
      "Loading pretrained parameter \"encoder.encoder.0.W_o.weight\".\n",
      "Loading pretrained parameter \"encoder.encoder.0.W_o.bias\".\n",
      "Loading pretrained parameter \"readout.1.weight\".\n",
      "Loading pretrained parameter \"readout.1.bias\".\n",
      "Loading pretrained parameter \"readout.4.weight\".\n",
      "Loading pretrained parameter \"readout.4.bias\".\n"
     ]
    },
    {
     "name": "stderr",
     "output_type": "stream",
     "text": [
      "100%|██████████| 1/1 [01:00<00:00, 60.12s/it]\n"
     ]
    },
    {
     "name": "stdout",
     "output_type": "stream",
     "text": [
      "Saving predictions to mc_preds.csv\n",
      "Elapsed time = 0:01:01\n",
      "running chemprop\n"
     ]
    },
    {
     "name": "stderr",
     "output_type": "stream",
     "text": [
      "1424it [00:00, 202244.65it/s]\n",
      "100%|██████████| 1424/1424 [00:00<00:00, 186384.42it/s]\n",
      "100%|██████████| 1424/1424 [00:00<00:00, 71629.58it/s]\n",
      "Fold 0\n",
      "100%|██████████| 5/5 [00:09<00:00,  1.92s/it]\n",
      "Model 0 best validation rmse = 1.277494 on epoch 4\n",
      "Model 0 test rmse = 1.189925                 \n",
      "Ensemble test rmse = 1.189925\n",
      "1-fold cross validation\n",
      "\tSeed 0 ==> test rmse = 1.189925\n",
      "Overall test rmse = 1.189925 +/- 0.000000\n",
      "Elapsed time = 0:00:10\n"
     ]
    },
    {
     "name": "stdout",
     "output_type": "stream",
     "text": [
      "Loading training args\n",
      "Setting molecule featurization parameters to default.\n",
      "Loading data\n"
     ]
    },
    {
     "name": "stderr",
     "output_type": "stream",
     "text": [
      "8573it [00:00, 385184.77it/s]\n",
      "100%|██████████| 8573/8573 [00:00<00:00, 28855.39it/s]\n"
     ]
    },
    {
     "name": "stdout",
     "output_type": "stream",
     "text": [
      "Validating SMILES\n",
      "Test size = 8,573\n"
     ]
    },
    {
     "name": "stderr",
     "output_type": "stream",
     "text": [
      "  0%|          | 0/1 [00:00<?, ?it/s]"
     ]
    },
    {
     "name": "stdout",
     "output_type": "stream",
     "text": [
      "Loading pretrained parameter \"encoder.encoder.0.cached_zero_vector\".\n",
      "Loading pretrained parameter \"encoder.encoder.0.W_i.weight\".\n",
      "Loading pretrained parameter \"encoder.encoder.0.W_h.weight\".\n",
      "Loading pretrained parameter \"encoder.encoder.0.W_o.weight\".\n",
      "Loading pretrained parameter \"encoder.encoder.0.W_o.bias\".\n",
      "Loading pretrained parameter \"readout.1.weight\".\n",
      "Loading pretrained parameter \"readout.1.bias\".\n",
      "Loading pretrained parameter \"readout.4.weight\".\n",
      "Loading pretrained parameter \"readout.4.bias\".\n"
     ]
    },
    {
     "name": "stderr",
     "output_type": "stream",
     "text": [
      "100%|██████████| 1/1 [01:01<00:00, 61.00s/it]\n"
     ]
    },
    {
     "name": "stdout",
     "output_type": "stream",
     "text": [
      "Saving predictions to mc_preds.csv\n",
      "Elapsed time = 0:01:02\n",
      "running chemprop\n"
     ]
    },
    {
     "name": "stderr",
     "output_type": "stream",
     "text": [
      "1449it [00:00, 207029.11it/s]\n",
      "100%|██████████| 1449/1449 [00:00<00:00, 209903.52it/s]\n",
      "100%|██████████| 1449/1449 [00:00<00:00, 66071.06it/s]\n",
      "Fold 0\n",
      "100%|██████████| 5/5 [00:09<00:00,  1.94s/it]\n",
      "Model 0 best validation rmse = 1.260619 on epoch 4\n",
      "Model 0 test rmse = 1.182203                 \n",
      "Ensemble test rmse = 1.182203\n",
      "1-fold cross validation\n",
      "\tSeed 0 ==> test rmse = 1.182203\n",
      "Overall test rmse = 1.182203 +/- 0.000000\n",
      "Elapsed time = 0:00:10\n"
     ]
    },
    {
     "name": "stdout",
     "output_type": "stream",
     "text": [
      "Loading training args\n",
      "Setting molecule featurization parameters to default.\n",
      "Loading data\n"
     ]
    },
    {
     "name": "stderr",
     "output_type": "stream",
     "text": [
      "8548it [00:00, 394265.31it/s]\n",
      "100%|██████████| 8548/8548 [00:00<00:00, 238285.48it/s]"
     ]
    },
    {
     "name": "stdout",
     "output_type": "stream",
     "text": [
      "Validating SMILES\n"
     ]
    },
    {
     "name": "stderr",
     "output_type": "stream",
     "text": [
      "\n"
     ]
    },
    {
     "name": "stdout",
     "output_type": "stream",
     "text": [
      "Test size = 8,548\n"
     ]
    },
    {
     "name": "stderr",
     "output_type": "stream",
     "text": [
      "  0%|          | 0/1 [00:00<?, ?it/s]"
     ]
    },
    {
     "name": "stdout",
     "output_type": "stream",
     "text": [
      "Loading pretrained parameter \"encoder.encoder.0.cached_zero_vector\".\n",
      "Loading pretrained parameter \"encoder.encoder.0.W_i.weight\".\n",
      "Loading pretrained parameter \"encoder.encoder.0.W_h.weight\".\n",
      "Loading pretrained parameter \"encoder.encoder.0.W_o.weight\".\n",
      "Loading pretrained parameter \"encoder.encoder.0.W_o.bias\".\n",
      "Loading pretrained parameter \"readout.1.weight\".\n",
      "Loading pretrained parameter \"readout.1.bias\".\n",
      "Loading pretrained parameter \"readout.4.weight\".\n",
      "Loading pretrained parameter \"readout.4.bias\".\n"
     ]
    },
    {
     "name": "stderr",
     "output_type": "stream",
     "text": [
      "100%|██████████| 1/1 [00:59<00:00, 59.98s/it]\n"
     ]
    },
    {
     "name": "stdout",
     "output_type": "stream",
     "text": [
      "Saving predictions to mc_preds.csv\n",
      "Elapsed time = 0:01:00\n",
      "running chemprop\n"
     ]
    },
    {
     "name": "stderr",
     "output_type": "stream",
     "text": [
      "1474it [00:00, 233818.85it/s]\n",
      "100%|██████████| 1474/1474 [00:00<00:00, 212358.88it/s]\n",
      "100%|██████████| 1474/1474 [00:00<00:00, 65432.65it/s]\n",
      "Fold 0\n",
      "100%|██████████| 5/5 [00:09<00:00,  1.90s/it]\n",
      "Model 0 best validation rmse = 1.244920 on epoch 4\n",
      "Model 0 test rmse = 1.172799                 \n",
      "Ensemble test rmse = 1.172799\n",
      "1-fold cross validation\n",
      "\tSeed 0 ==> test rmse = 1.172799\n",
      "Overall test rmse = 1.172799 +/- 0.000000\n",
      "Elapsed time = 0:00:10\n"
     ]
    },
    {
     "name": "stdout",
     "output_type": "stream",
     "text": [
      "Loading training args\n",
      "Setting molecule featurization parameters to default.\n",
      "Loading data\n"
     ]
    },
    {
     "name": "stderr",
     "output_type": "stream",
     "text": [
      "8523it [00:00, 392309.79it/s]\n",
      "100%|██████████| 8523/8523 [00:00<00:00, 244247.42it/s]"
     ]
    },
    {
     "name": "stdout",
     "output_type": "stream",
     "text": [
      "Validating SMILES\n"
     ]
    },
    {
     "name": "stderr",
     "output_type": "stream",
     "text": [
      "\n"
     ]
    },
    {
     "name": "stdout",
     "output_type": "stream",
     "text": [
      "Test size = 8,523\n"
     ]
    },
    {
     "name": "stderr",
     "output_type": "stream",
     "text": [
      "  0%|          | 0/1 [00:00<?, ?it/s]"
     ]
    },
    {
     "name": "stdout",
     "output_type": "stream",
     "text": [
      "Loading pretrained parameter \"encoder.encoder.0.cached_zero_vector\".\n",
      "Loading pretrained parameter \"encoder.encoder.0.W_i.weight\".\n",
      "Loading pretrained parameter \"encoder.encoder.0.W_h.weight\".\n",
      "Loading pretrained parameter \"encoder.encoder.0.W_o.weight\".\n",
      "Loading pretrained parameter \"encoder.encoder.0.W_o.bias\".\n",
      "Loading pretrained parameter \"readout.1.weight\".\n",
      "Loading pretrained parameter \"readout.1.bias\".\n",
      "Loading pretrained parameter \"readout.4.weight\".\n",
      "Loading pretrained parameter \"readout.4.bias\".\n"
     ]
    },
    {
     "name": "stderr",
     "output_type": "stream",
     "text": [
      "100%|██████████| 1/1 [00:59<00:00, 59.21s/it]\n"
     ]
    },
    {
     "name": "stdout",
     "output_type": "stream",
     "text": [
      "Saving predictions to mc_preds.csv\n",
      "Elapsed time = 0:00:59\n",
      "running chemprop\n",
      "in the counter\n"
     ]
    },
    {
     "name": "stderr",
     "output_type": "stream",
     "text": [
      "1499it [00:00, 220636.64it/s]\n",
      "100%|██████████| 1499/1499 [00:00<00:00, 211870.66it/s]\n",
      "100%|██████████| 1499/1499 [00:00<00:00, 80306.31it/s]\n",
      "Fold 0\n",
      "100%|██████████| 5/5 [13:32<00:00, 162.59s/it]\n",
      "Model 0 best validation rmse = 1.279144 on epoch 4\n",
      "Model 0 test rmse = 1.138783                 \n",
      "Ensemble test rmse = 1.138783\n",
      "1-fold cross validation\n",
      "\tSeed 0 ==> test rmse = 1.138783\n",
      "Overall test rmse = 1.138783 +/- 0.000000\n",
      "Elapsed time = 0:13:33\n"
     ]
    },
    {
     "name": "stdout",
     "output_type": "stream",
     "text": [
      "Loading training args\n",
      "Setting molecule featurization parameters to default.\n",
      "Loading data\n"
     ]
    },
    {
     "name": "stderr",
     "output_type": "stream",
     "text": [
      "8498it [00:00, 391399.59it/s]\n",
      "100%|██████████| 8498/8498 [00:00<00:00, 28889.82it/s]\n"
     ]
    },
    {
     "name": "stdout",
     "output_type": "stream",
     "text": [
      "Validating SMILES\n",
      "Test size = 8,498\n"
     ]
    },
    {
     "name": "stderr",
     "output_type": "stream",
     "text": [
      "  0%|          | 0/1 [00:00<?, ?it/s]"
     ]
    },
    {
     "name": "stdout",
     "output_type": "stream",
     "text": [
      "Loading pretrained parameter \"encoder.encoder.0.cached_zero_vector\".\n",
      "Loading pretrained parameter \"encoder.encoder.0.W_i.weight\".\n",
      "Loading pretrained parameter \"encoder.encoder.0.W_h.weight\".\n",
      "Loading pretrained parameter \"encoder.encoder.0.W_o.weight\".\n",
      "Loading pretrained parameter \"encoder.encoder.0.W_o.bias\".\n",
      "Loading pretrained parameter \"readout.1.weight\".\n",
      "Loading pretrained parameter \"readout.1.bias\".\n",
      "Loading pretrained parameter \"readout.4.weight\".\n",
      "Loading pretrained parameter \"readout.4.bias\".\n"
     ]
    },
    {
     "name": "stderr",
     "output_type": "stream",
     "text": [
      "100%|██████████| 1/1 [03:47<00:00, 227.73s/it]\n"
     ]
    },
    {
     "name": "stdout",
     "output_type": "stream",
     "text": [
      "Saving predictions to mc_preds.csv\n",
      "Elapsed time = 0:03:48\n",
      "running chemprop\n"
     ]
    },
    {
     "name": "stderr",
     "output_type": "stream",
     "text": [
      "1524it [00:00, 224647.48it/s]\n",
      "100%|██████████| 1524/1524 [00:00<00:00, 208456.80it/s]\n",
      "100%|██████████| 1524/1524 [00:00<00:00, 71853.86it/s]\n",
      "Fold 0\n",
      "100%|██████████| 5/5 [00:09<00:00,  1.97s/it]\n",
      "Model 0 best validation rmse = 1.155936 on epoch 4\n",
      "Model 0 test rmse = 1.116564                 \n",
      "Ensemble test rmse = 1.116564\n",
      "1-fold cross validation\n",
      "\tSeed 0 ==> test rmse = 1.116564\n",
      "Overall test rmse = 1.116564 +/- 0.000000\n",
      "Elapsed time = 0:00:10\n"
     ]
    },
    {
     "name": "stdout",
     "output_type": "stream",
     "text": [
      "Loading training args\n",
      "Setting molecule featurization parameters to default.\n",
      "Loading data\n"
     ]
    },
    {
     "name": "stderr",
     "output_type": "stream",
     "text": [
      "8473it [00:00, 399141.23it/s]\n",
      "100%|██████████| 8473/8473 [00:00<00:00, 246180.27it/s]\n"
     ]
    },
    {
     "name": "stdout",
     "output_type": "stream",
     "text": [
      "Validating SMILES\n",
      "Test size = 8,473\n"
     ]
    },
    {
     "name": "stderr",
     "output_type": "stream",
     "text": [
      "  0%|          | 0/1 [00:00<?, ?it/s]"
     ]
    },
    {
     "name": "stdout",
     "output_type": "stream",
     "text": [
      "Loading pretrained parameter \"encoder.encoder.0.cached_zero_vector\".\n",
      "Loading pretrained parameter \"encoder.encoder.0.W_i.weight\".\n",
      "Loading pretrained parameter \"encoder.encoder.0.W_h.weight\".\n",
      "Loading pretrained parameter \"encoder.encoder.0.W_o.weight\".\n",
      "Loading pretrained parameter \"encoder.encoder.0.W_o.bias\".\n",
      "Loading pretrained parameter \"readout.1.weight\".\n",
      "Loading pretrained parameter \"readout.1.bias\".\n",
      "Loading pretrained parameter \"readout.4.weight\".\n",
      "Loading pretrained parameter \"readout.4.bias\".\n"
     ]
    },
    {
     "name": "stderr",
     "output_type": "stream",
     "text": [
      "100%|██████████| 1/1 [03:49<00:00, 229.35s/it]\n"
     ]
    },
    {
     "name": "stdout",
     "output_type": "stream",
     "text": [
      "Saving predictions to mc_preds.csv\n",
      "Elapsed time = 0:03:50\n",
      "running chemprop\n"
     ]
    },
    {
     "name": "stderr",
     "output_type": "stream",
     "text": [
      "1549it [00:00, 233956.68it/s]\n",
      "100%|██████████| 1549/1549 [00:00<00:00, 210605.75it/s]\n",
      "100%|██████████| 1549/1549 [00:00<00:00, 69899.80it/s]\n",
      "Fold 0\n",
      "100%|██████████| 5/5 [17:05<00:00, 205.09s/it]\n",
      "Model 0 best validation rmse = 1.158366 on epoch 4\n",
      "Model 0 test rmse = 1.111832                 \n",
      "Ensemble test rmse = 1.111832\n",
      "1-fold cross validation\n",
      "\tSeed 0 ==> test rmse = 1.111832\n",
      "Overall test rmse = 1.111832 +/- 0.000000\n",
      "Elapsed time = 0:17:06\n"
     ]
    },
    {
     "name": "stdout",
     "output_type": "stream",
     "text": [
      "Loading training args\n",
      "Setting molecule featurization parameters to default.\n",
      "Loading data\n"
     ]
    },
    {
     "name": "stderr",
     "output_type": "stream",
     "text": [
      "8448it [00:00, 396414.17it/s]\n",
      "100%|██████████| 8448/8448 [00:00<00:00, 245346.83it/s]\n"
     ]
    },
    {
     "name": "stdout",
     "output_type": "stream",
     "text": [
      "Validating SMILES\n",
      "Test size = 8,448\n"
     ]
    },
    {
     "name": "stderr",
     "output_type": "stream",
     "text": [
      "  0%|          | 0/1 [00:00<?, ?it/s]"
     ]
    },
    {
     "name": "stdout",
     "output_type": "stream",
     "text": [
      "Loading pretrained parameter \"encoder.encoder.0.cached_zero_vector\".\n",
      "Loading pretrained parameter \"encoder.encoder.0.W_i.weight\".\n",
      "Loading pretrained parameter \"encoder.encoder.0.W_h.weight\".\n",
      "Loading pretrained parameter \"encoder.encoder.0.W_o.weight\".\n",
      "Loading pretrained parameter \"encoder.encoder.0.W_o.bias\".\n",
      "Loading pretrained parameter \"readout.1.weight\".\n",
      "Loading pretrained parameter \"readout.1.bias\".\n",
      "Loading pretrained parameter \"readout.4.weight\".\n",
      "Loading pretrained parameter \"readout.4.bias\".\n"
     ]
    },
    {
     "name": "stderr",
     "output_type": "stream",
     "text": [
      "100%|██████████| 1/1 [1:23:22<00:00, 5002.83s/it]\n"
     ]
    },
    {
     "name": "stdout",
     "output_type": "stream",
     "text": [
      "Saving predictions to mc_preds.csv\n",
      "Elapsed time = 1:23:23\n",
      "running chemprop\n"
     ]
    },
    {
     "name": "stderr",
     "output_type": "stream",
     "text": [
      "1574it [00:00, 218011.84it/s]\n",
      "100%|██████████| 1574/1574 [00:00<00:00, 215788.54it/s]\n",
      "100%|██████████| 1574/1574 [00:00<00:00, 61978.58it/s]\n",
      "Fold 0\n",
      "100%|██████████| 5/5 [06:22<00:00, 76.44s/it] \n",
      "Model 0 best validation rmse = 1.236944 on epoch 4\n",
      "Model 0 test rmse = 1.132743                 \n",
      "Ensemble test rmse = 1.132743\n",
      "1-fold cross validation\n",
      "\tSeed 0 ==> test rmse = 1.132743\n",
      "Overall test rmse = 1.132743 +/- 0.000000\n",
      "Elapsed time = 0:06:23\n"
     ]
    },
    {
     "name": "stdout",
     "output_type": "stream",
     "text": [
      "Loading training args\n",
      "Setting molecule featurization parameters to default.\n",
      "Loading data\n"
     ]
    },
    {
     "name": "stderr",
     "output_type": "stream",
     "text": [
      "8423it [00:00, 396154.06it/s]\n",
      "100%|██████████| 8423/8423 [00:00<00:00, 246365.89it/s]\n"
     ]
    },
    {
     "name": "stdout",
     "output_type": "stream",
     "text": [
      "Validating SMILES\n",
      "Test size = 8,423\n"
     ]
    },
    {
     "name": "stderr",
     "output_type": "stream",
     "text": [
      "  0%|          | 0/1 [00:00<?, ?it/s]"
     ]
    },
    {
     "name": "stdout",
     "output_type": "stream",
     "text": [
      "Loading pretrained parameter \"encoder.encoder.0.cached_zero_vector\".\n",
      "Loading pretrained parameter \"encoder.encoder.0.W_i.weight\".\n",
      "Loading pretrained parameter \"encoder.encoder.0.W_h.weight\".\n",
      "Loading pretrained parameter \"encoder.encoder.0.W_o.weight\".\n",
      "Loading pretrained parameter \"encoder.encoder.0.W_o.bias\".\n",
      "Loading pretrained parameter \"readout.1.weight\".\n",
      "Loading pretrained parameter \"readout.1.bias\".\n",
      "Loading pretrained parameter \"readout.4.weight\".\n",
      "Loading pretrained parameter \"readout.4.bias\".\n"
     ]
    },
    {
     "name": "stderr",
     "output_type": "stream",
     "text": [
      "100%|██████████| 1/1 [21:19<00:00, 1279.68s/it]\n"
     ]
    },
    {
     "name": "stdout",
     "output_type": "stream",
     "text": [
      "Saving predictions to mc_preds.csv\n",
      "Elapsed time = 0:21:20\n",
      "running chemprop\n",
      "in the counter\n"
     ]
    },
    {
     "name": "stderr",
     "output_type": "stream",
     "text": [
      "1599it [00:00, 250343.12it/s]\n",
      "100%|██████████| 1599/1599 [00:00<00:00, 221774.81it/s]\n",
      "100%|██████████| 1599/1599 [00:00<00:00, 72741.48it/s]\n",
      "Fold 0\n",
      "100%|██████████| 5/5 [00:32<00:00,  6.47s/it]\n",
      "Model 0 best validation rmse = 1.216159 on epoch 4\n",
      "Model 0 test rmse = 1.127307                 \n",
      "Ensemble test rmse = 1.127307\n",
      "1-fold cross validation\n",
      "\tSeed 0 ==> test rmse = 1.127307\n",
      "Overall test rmse = 1.127307 +/- 0.000000\n",
      "Elapsed time = 0:00:33\n"
     ]
    },
    {
     "name": "stdout",
     "output_type": "stream",
     "text": [
      "Loading training args\n",
      "Setting molecule featurization parameters to default.\n",
      "Loading data\n"
     ]
    },
    {
     "name": "stderr",
     "output_type": "stream",
     "text": [
      "8398it [00:00, 398440.85it/s]\n",
      "100%|██████████| 8398/8398 [00:00<00:00, 29073.71it/s]\n"
     ]
    },
    {
     "name": "stdout",
     "output_type": "stream",
     "text": [
      "Validating SMILES\n",
      "Test size = 8,398\n"
     ]
    },
    {
     "name": "stderr",
     "output_type": "stream",
     "text": [
      "  0%|          | 0/1 [00:00<?, ?it/s]"
     ]
    },
    {
     "name": "stdout",
     "output_type": "stream",
     "text": [
      "Loading pretrained parameter \"encoder.encoder.0.cached_zero_vector\".\n",
      "Loading pretrained parameter \"encoder.encoder.0.W_i.weight\".\n",
      "Loading pretrained parameter \"encoder.encoder.0.W_h.weight\".\n",
      "Loading pretrained parameter \"encoder.encoder.0.W_o.weight\".\n",
      "Loading pretrained parameter \"encoder.encoder.0.W_o.bias\".\n",
      "Loading pretrained parameter \"readout.1.weight\".\n",
      "Loading pretrained parameter \"readout.1.bias\".\n",
      "Loading pretrained parameter \"readout.4.weight\".\n",
      "Loading pretrained parameter \"readout.4.bias\".\n"
     ]
    },
    {
     "name": "stderr",
     "output_type": "stream",
     "text": [
      "100%|██████████| 1/1 [03:21<00:00, 201.39s/it]\n"
     ]
    },
    {
     "name": "stdout",
     "output_type": "stream",
     "text": [
      "Saving predictions to mc_preds.csv\n",
      "Elapsed time = 0:03:22\n",
      "running chemprop\n"
     ]
    },
    {
     "name": "stderr",
     "output_type": "stream",
     "text": [
      "1624it [00:00, 267318.77it/s]\n",
      "100%|██████████| 1624/1624 [00:00<00:00, 5722.20it/s]\n",
      "100%|██████████| 1624/1624 [00:00<00:00, 88797.27it/s]\n",
      "Fold 0\n",
      "100%|██████████| 5/5 [00:55<00:00, 11.13s/it]\n",
      "Model 0 best validation rmse = 1.174888 on epoch 4\n",
      "Model 0 test rmse = 1.075226                 \n",
      "Ensemble test rmse = 1.075226\n",
      "1-fold cross validation\n",
      "\tSeed 0 ==> test rmse = 1.075226\n",
      "Overall test rmse = 1.075226 +/- 0.000000\n",
      "Elapsed time = 0:00:56\n"
     ]
    },
    {
     "name": "stdout",
     "output_type": "stream",
     "text": [
      "Loading training args\n",
      "Setting molecule featurization parameters to default.\n",
      "Loading data\n"
     ]
    },
    {
     "name": "stderr",
     "output_type": "stream",
     "text": [
      "8373it [00:00, 401065.59it/s]\n",
      "100%|██████████| 8373/8373 [00:00<00:00, 246258.38it/s]\n"
     ]
    },
    {
     "name": "stdout",
     "output_type": "stream",
     "text": [
      "Validating SMILES\n",
      "Test size = 8,373\n"
     ]
    },
    {
     "name": "stderr",
     "output_type": "stream",
     "text": [
      "  0%|          | 0/1 [00:00<?, ?it/s]"
     ]
    },
    {
     "name": "stdout",
     "output_type": "stream",
     "text": [
      "Loading pretrained parameter \"encoder.encoder.0.cached_zero_vector\".\n",
      "Loading pretrained parameter \"encoder.encoder.0.W_i.weight\".\n",
      "Loading pretrained parameter \"encoder.encoder.0.W_h.weight\".\n",
      "Loading pretrained parameter \"encoder.encoder.0.W_o.weight\".\n",
      "Loading pretrained parameter \"encoder.encoder.0.W_o.bias\".\n",
      "Loading pretrained parameter \"readout.1.weight\".\n",
      "Loading pretrained parameter \"readout.1.bias\".\n",
      "Loading pretrained parameter \"readout.4.weight\".\n",
      "Loading pretrained parameter \"readout.4.bias\".\n"
     ]
    },
    {
     "name": "stderr",
     "output_type": "stream",
     "text": [
      "100%|██████████| 1/1 [02:47<00:00, 167.44s/it]\n"
     ]
    },
    {
     "name": "stdout",
     "output_type": "stream",
     "text": [
      "Saving predictions to mc_preds.csv\n",
      "Elapsed time = 0:02:48\n",
      "running chemprop\n"
     ]
    },
    {
     "name": "stderr",
     "output_type": "stream",
     "text": [
      "1649it [00:00, 233931.11it/s]\n",
      "100%|██████████| 1649/1649 [00:00<00:00, 211679.23it/s]\n",
      "100%|██████████| 1649/1649 [00:00<00:00, 80141.91it/s]\n",
      "Fold 0\n",
      "100%|██████████| 5/5 [00:10<00:00,  2.17s/it]\n",
      "Model 0 best validation rmse = 1.170489 on epoch 4\n",
      "Model 0 test rmse = 1.103131                 \n",
      "Ensemble test rmse = 1.103131\n",
      "1-fold cross validation\n",
      "\tSeed 0 ==> test rmse = 1.103131\n",
      "Overall test rmse = 1.103131 +/- 0.000000\n",
      "Elapsed time = 0:00:11\n"
     ]
    },
    {
     "name": "stdout",
     "output_type": "stream",
     "text": [
      "Loading training args\n",
      "Setting molecule featurization parameters to default.\n",
      "Loading data\n"
     ]
    },
    {
     "name": "stderr",
     "output_type": "stream",
     "text": [
      "8348it [00:00, 386123.33it/s]\n",
      "100%|██████████| 8348/8348 [00:00<00:00, 27169.09it/s]\n"
     ]
    },
    {
     "name": "stdout",
     "output_type": "stream",
     "text": [
      "Validating SMILES\n",
      "Test size = 8,348\n"
     ]
    },
    {
     "name": "stderr",
     "output_type": "stream",
     "text": [
      "  0%|          | 0/1 [00:00<?, ?it/s]"
     ]
    },
    {
     "name": "stdout",
     "output_type": "stream",
     "text": [
      "Loading pretrained parameter \"encoder.encoder.0.cached_zero_vector\".\n",
      "Loading pretrained parameter \"encoder.encoder.0.W_i.weight\".\n",
      "Loading pretrained parameter \"encoder.encoder.0.W_h.weight\".\n",
      "Loading pretrained parameter \"encoder.encoder.0.W_o.weight\".\n",
      "Loading pretrained parameter \"encoder.encoder.0.W_o.bias\".\n",
      "Loading pretrained parameter \"readout.1.weight\".\n",
      "Loading pretrained parameter \"readout.1.bias\".\n",
      "Loading pretrained parameter \"readout.4.weight\".\n",
      "Loading pretrained parameter \"readout.4.bias\".\n"
     ]
    },
    {
     "name": "stderr",
     "output_type": "stream",
     "text": [
      "100%|██████████| 1/1 [00:59<00:00, 59.98s/it]\n"
     ]
    },
    {
     "name": "stdout",
     "output_type": "stream",
     "text": [
      "Saving predictions to mc_preds.csv\n",
      "Elapsed time = 0:01:01\n",
      "running chemprop\n"
     ]
    },
    {
     "name": "stderr",
     "output_type": "stream",
     "text": [
      "1674it [00:00, 235344.40it/s]\n",
      "100%|██████████| 1674/1674 [00:00<00:00, 216919.95it/s]\n",
      "100%|██████████| 1674/1674 [00:00<00:00, 85233.32it/s]\n",
      "Fold 0\n",
      "100%|██████████| 5/5 [00:11<00:00,  2.25s/it]\n",
      "Model 0 best validation rmse = 1.220525 on epoch 4\n",
      "Model 0 test rmse = 1.139139                 \n",
      "Ensemble test rmse = 1.139139\n",
      "1-fold cross validation\n",
      "\tSeed 0 ==> test rmse = 1.139139\n",
      "Overall test rmse = 1.139139 +/- 0.000000\n",
      "Elapsed time = 0:00:12\n"
     ]
    },
    {
     "name": "stdout",
     "output_type": "stream",
     "text": [
      "Loading training args\n",
      "Setting molecule featurization parameters to default.\n",
      "Loading data\n"
     ]
    },
    {
     "name": "stderr",
     "output_type": "stream",
     "text": [
      "8323it [00:00, 373376.32it/s]\n",
      "100%|██████████| 8323/8323 [00:00<00:00, 29047.08it/s]\n"
     ]
    },
    {
     "name": "stdout",
     "output_type": "stream",
     "text": [
      "Validating SMILES\n",
      "Test size = 8,323\n"
     ]
    },
    {
     "name": "stderr",
     "output_type": "stream",
     "text": [
      "  0%|          | 0/1 [00:00<?, ?it/s]"
     ]
    },
    {
     "name": "stdout",
     "output_type": "stream",
     "text": [
      "Loading pretrained parameter \"encoder.encoder.0.cached_zero_vector\".\n",
      "Loading pretrained parameter \"encoder.encoder.0.W_i.weight\".\n",
      "Loading pretrained parameter \"encoder.encoder.0.W_h.weight\".\n",
      "Loading pretrained parameter \"encoder.encoder.0.W_o.weight\".\n",
      "Loading pretrained parameter \"encoder.encoder.0.W_o.bias\".\n",
      "Loading pretrained parameter \"readout.1.weight\".\n",
      "Loading pretrained parameter \"readout.1.bias\".\n",
      "Loading pretrained parameter \"readout.4.weight\".\n",
      "Loading pretrained parameter \"readout.4.bias\".\n"
     ]
    },
    {
     "name": "stderr",
     "output_type": "stream",
     "text": [
      "100%|██████████| 1/1 [00:59<00:00, 59.09s/it]\n"
     ]
    },
    {
     "name": "stdout",
     "output_type": "stream",
     "text": [
      "Saving predictions to mc_preds.csv\n",
      "Elapsed time = 0:01:00\n",
      "running chemprop\n",
      "in the counter\n"
     ]
    },
    {
     "name": "stderr",
     "output_type": "stream",
     "text": [
      "1699it [00:00, 226448.97it/s]\n",
      "100%|██████████| 1699/1699 [00:00<00:00, 217930.90it/s]\n",
      "100%|██████████| 1699/1699 [00:00<00:00, 78847.10it/s]\n",
      "Fold 0\n",
      "100%|██████████| 5/5 [00:11<00:00,  2.28s/it]\n",
      "Model 0 best validation rmse = 1.266707 on epoch 4\n",
      "Model 0 test rmse = 1.129019                 \n",
      "Ensemble test rmse = 1.129019\n",
      "1-fold cross validation\n",
      "\tSeed 0 ==> test rmse = 1.129019\n",
      "Overall test rmse = 1.129019 +/- 0.000000\n",
      "Elapsed time = 0:00:12\n"
     ]
    },
    {
     "name": "stdout",
     "output_type": "stream",
     "text": [
      "Loading training args\n",
      "Setting molecule featurization parameters to default.\n",
      "Loading data\n"
     ]
    },
    {
     "name": "stderr",
     "output_type": "stream",
     "text": [
      "8298it [00:00, 398940.13it/s]\n",
      "100%|██████████| 8298/8298 [00:00<00:00, 245684.01it/s]"
     ]
    },
    {
     "name": "stdout",
     "output_type": "stream",
     "text": [
      "Validating SMILES\n"
     ]
    },
    {
     "name": "stderr",
     "output_type": "stream",
     "text": [
      "\n"
     ]
    },
    {
     "name": "stdout",
     "output_type": "stream",
     "text": [
      "Test size = 8,298\n"
     ]
    },
    {
     "name": "stderr",
     "output_type": "stream",
     "text": [
      "  0%|          | 0/1 [00:00<?, ?it/s]"
     ]
    },
    {
     "name": "stdout",
     "output_type": "stream",
     "text": [
      "Loading pretrained parameter \"encoder.encoder.0.cached_zero_vector\".\n",
      "Loading pretrained parameter \"encoder.encoder.0.W_i.weight\".\n",
      "Loading pretrained parameter \"encoder.encoder.0.W_h.weight\".\n",
      "Loading pretrained parameter \"encoder.encoder.0.W_o.weight\".\n",
      "Loading pretrained parameter \"encoder.encoder.0.W_o.bias\".\n",
      "Loading pretrained parameter \"readout.1.weight\".\n",
      "Loading pretrained parameter \"readout.1.bias\".\n",
      "Loading pretrained parameter \"readout.4.weight\".\n",
      "Loading pretrained parameter \"readout.4.bias\".\n"
     ]
    },
    {
     "name": "stderr",
     "output_type": "stream",
     "text": [
      "100%|██████████| 1/1 [00:59<00:00, 59.28s/it]\n"
     ]
    },
    {
     "name": "stdout",
     "output_type": "stream",
     "text": [
      "Saving predictions to mc_preds.csv\n",
      "Elapsed time = 0:01:00\n",
      "running chemprop\n"
     ]
    },
    {
     "name": "stderr",
     "output_type": "stream",
     "text": [
      "1724it [00:00, 267953.02it/s]\n",
      "100%|██████████| 1724/1724 [00:00<00:00, 203237.31it/s]\n",
      "100%|██████████| 1724/1724 [00:00<00:00, 72331.50it/s]\n",
      "Fold 0\n",
      "100%|██████████| 5/5 [00:11<00:00,  2.29s/it]\n",
      "Model 0 best validation rmse = 1.262714 on epoch 4\n",
      "Model 0 test rmse = 1.110266                 \n",
      "Ensemble test rmse = 1.110266\n",
      "1-fold cross validation\n",
      "\tSeed 0 ==> test rmse = 1.110266\n",
      "Overall test rmse = 1.110266 +/- 0.000000\n",
      "Elapsed time = 0:00:12\n"
     ]
    },
    {
     "name": "stdout",
     "output_type": "stream",
     "text": [
      "Loading training args\n",
      "Setting molecule featurization parameters to default.\n",
      "Loading data\n"
     ]
    },
    {
     "name": "stderr",
     "output_type": "stream",
     "text": [
      "8273it [00:00, 31471.59it/s]\n",
      "100%|██████████| 8273/8273 [00:00<00:00, 244135.57it/s]\n"
     ]
    },
    {
     "name": "stdout",
     "output_type": "stream",
     "text": [
      "Validating SMILES\n",
      "Test size = 8,273\n"
     ]
    },
    {
     "name": "stderr",
     "output_type": "stream",
     "text": [
      "  0%|          | 0/1 [00:00<?, ?it/s]"
     ]
    },
    {
     "name": "stdout",
     "output_type": "stream",
     "text": [
      "Loading pretrained parameter \"encoder.encoder.0.cached_zero_vector\".\n",
      "Loading pretrained parameter \"encoder.encoder.0.W_i.weight\".\n",
      "Loading pretrained parameter \"encoder.encoder.0.W_h.weight\".\n",
      "Loading pretrained parameter \"encoder.encoder.0.W_o.weight\".\n",
      "Loading pretrained parameter \"encoder.encoder.0.W_o.bias\".\n",
      "Loading pretrained parameter \"readout.1.weight\".\n",
      "Loading pretrained parameter \"readout.1.bias\".\n",
      "Loading pretrained parameter \"readout.4.weight\".\n",
      "Loading pretrained parameter \"readout.4.bias\".\n"
     ]
    },
    {
     "name": "stderr",
     "output_type": "stream",
     "text": [
      "100%|██████████| 1/1 [00:58<00:00, 58.62s/it]\n"
     ]
    },
    {
     "name": "stdout",
     "output_type": "stream",
     "text": [
      "Saving predictions to mc_preds.csv\n",
      "Elapsed time = 0:00:59\n",
      "running chemprop\n"
     ]
    },
    {
     "name": "stderr",
     "output_type": "stream",
     "text": [
      "1749it [00:00, 244039.84it/s]\n",
      "100%|██████████| 1749/1749 [00:00<00:00, 216033.15it/s]\n",
      "100%|██████████| 1749/1749 [00:00<00:00, 73404.62it/s]\n",
      "Fold 0\n",
      "100%|██████████| 5/5 [00:11<00:00,  2.28s/it]\n",
      "Model 0 best validation rmse = 1.199009 on epoch 4\n",
      "Model 0 test rmse = 1.117956                 \n",
      "Ensemble test rmse = 1.117956\n",
      "1-fold cross validation\n",
      "\tSeed 0 ==> test rmse = 1.117956\n",
      "Overall test rmse = 1.117956 +/- 0.000000\n",
      "Elapsed time = 0:00:12\n"
     ]
    },
    {
     "name": "stdout",
     "output_type": "stream",
     "text": [
      "Loading training args\n",
      "Setting molecule featurization parameters to default.\n",
      "Loading data\n"
     ]
    },
    {
     "name": "stderr",
     "output_type": "stream",
     "text": [
      "8248it [00:00, 391864.93it/s]\n",
      "100%|██████████| 8248/8248 [00:00<00:00, 242765.85it/s]"
     ]
    },
    {
     "name": "stdout",
     "output_type": "stream",
     "text": [
      "Validating SMILES\n"
     ]
    },
    {
     "name": "stderr",
     "output_type": "stream",
     "text": [
      "\n"
     ]
    },
    {
     "name": "stdout",
     "output_type": "stream",
     "text": [
      "Test size = 8,248\n"
     ]
    },
    {
     "name": "stderr",
     "output_type": "stream",
     "text": [
      "  0%|          | 0/1 [00:00<?, ?it/s]"
     ]
    },
    {
     "name": "stdout",
     "output_type": "stream",
     "text": [
      "Loading pretrained parameter \"encoder.encoder.0.cached_zero_vector\".\n",
      "Loading pretrained parameter \"encoder.encoder.0.W_i.weight\".\n",
      "Loading pretrained parameter \"encoder.encoder.0.W_h.weight\".\n",
      "Loading pretrained parameter \"encoder.encoder.0.W_o.weight\".\n",
      "Loading pretrained parameter \"encoder.encoder.0.W_o.bias\".\n",
      "Loading pretrained parameter \"readout.1.weight\".\n",
      "Loading pretrained parameter \"readout.1.bias\".\n",
      "Loading pretrained parameter \"readout.4.weight\".\n",
      "Loading pretrained parameter \"readout.4.bias\".\n"
     ]
    },
    {
     "name": "stderr",
     "output_type": "stream",
     "text": [
      "100%|██████████| 1/1 [00:58<00:00, 58.85s/it]\n"
     ]
    },
    {
     "name": "stdout",
     "output_type": "stream",
     "text": [
      "Saving predictions to mc_preds.csv\n",
      "Elapsed time = 0:00:59\n",
      "running chemprop\n"
     ]
    },
    {
     "name": "stderr",
     "output_type": "stream",
     "text": [
      "1774it [00:00, 240550.09it/s]\n",
      "100%|██████████| 1774/1774 [00:00<00:00, 189992.99it/s]\n",
      "100%|██████████| 1774/1774 [00:00<00:00, 77483.84it/s]\n",
      "Fold 0\n",
      "100%|██████████| 5/5 [00:11<00:00,  2.33s/it]\n",
      "Model 0 best validation rmse = 1.194358 on epoch 4\n",
      "Model 0 test rmse = 1.083767                 \n",
      "Ensemble test rmse = 1.083767\n",
      "1-fold cross validation\n",
      "\tSeed 0 ==> test rmse = 1.083767\n",
      "Overall test rmse = 1.083767 +/- 0.000000\n",
      "Elapsed time = 0:00:12\n"
     ]
    },
    {
     "name": "stdout",
     "output_type": "stream",
     "text": [
      "Loading training args\n",
      "Setting molecule featurization parameters to default.\n",
      "Loading data\n"
     ]
    },
    {
     "name": "stderr",
     "output_type": "stream",
     "text": [
      "8223it [00:00, 388814.18it/s]\n",
      "100%|██████████| 8223/8223 [00:00<00:00, 28213.61it/s]\n"
     ]
    },
    {
     "name": "stdout",
     "output_type": "stream",
     "text": [
      "Validating SMILES\n",
      "Test size = 8,223\n"
     ]
    },
    {
     "name": "stderr",
     "output_type": "stream",
     "text": [
      "  0%|          | 0/1 [00:00<?, ?it/s]"
     ]
    },
    {
     "name": "stdout",
     "output_type": "stream",
     "text": [
      "Loading pretrained parameter \"encoder.encoder.0.cached_zero_vector\".\n",
      "Loading pretrained parameter \"encoder.encoder.0.W_i.weight\".\n",
      "Loading pretrained parameter \"encoder.encoder.0.W_h.weight\".\n",
      "Loading pretrained parameter \"encoder.encoder.0.W_o.weight\".\n",
      "Loading pretrained parameter \"encoder.encoder.0.W_o.bias\".\n",
      "Loading pretrained parameter \"readout.1.weight\".\n",
      "Loading pretrained parameter \"readout.1.bias\".\n",
      "Loading pretrained parameter \"readout.4.weight\".\n",
      "Loading pretrained parameter \"readout.4.bias\".\n"
     ]
    },
    {
     "name": "stderr",
     "output_type": "stream",
     "text": [
      "100%|██████████| 1/1 [00:58<00:00, 58.28s/it]\n"
     ]
    },
    {
     "name": "stdout",
     "output_type": "stream",
     "text": [
      "Saving predictions to mc_preds.csv\n",
      "Elapsed time = 0:00:59\n",
      "running chemprop\n",
      "in the counter\n"
     ]
    },
    {
     "name": "stderr",
     "output_type": "stream",
     "text": [
      "1799it [00:00, 233067.27it/s]\n",
      "100%|██████████| 1799/1799 [00:00<00:00, 222156.72it/s]\n",
      "100%|██████████| 1799/1799 [00:00<00:00, 81218.82it/s]\n",
      "Fold 0\n",
      "100%|██████████| 5/5 [00:11<00:00,  2.38s/it]\n",
      "Model 0 best validation rmse = 1.193618 on epoch 4\n",
      "Model 0 test rmse = 1.068318                 \n",
      "Ensemble test rmse = 1.068318\n",
      "1-fold cross validation\n",
      "\tSeed 0 ==> test rmse = 1.068318\n",
      "Overall test rmse = 1.068318 +/- 0.000000\n",
      "Elapsed time = 0:00:12\n"
     ]
    },
    {
     "name": "stdout",
     "output_type": "stream",
     "text": [
      "Loading training args\n",
      "Setting molecule featurization parameters to default.\n",
      "Loading data\n"
     ]
    },
    {
     "name": "stderr",
     "output_type": "stream",
     "text": [
      "8198it [00:00, 390006.29it/s]\n",
      "100%|██████████| 8198/8198 [00:00<00:00, 30263.85it/s]\n"
     ]
    },
    {
     "name": "stdout",
     "output_type": "stream",
     "text": [
      "Validating SMILES\n",
      "Test size = 8,198\n"
     ]
    },
    {
     "name": "stderr",
     "output_type": "stream",
     "text": [
      "  0%|          | 0/1 [00:00<?, ?it/s]"
     ]
    },
    {
     "name": "stdout",
     "output_type": "stream",
     "text": [
      "Loading pretrained parameter \"encoder.encoder.0.cached_zero_vector\".\n",
      "Loading pretrained parameter \"encoder.encoder.0.W_i.weight\".\n",
      "Loading pretrained parameter \"encoder.encoder.0.W_h.weight\".\n",
      "Loading pretrained parameter \"encoder.encoder.0.W_o.weight\".\n",
      "Loading pretrained parameter \"encoder.encoder.0.W_o.bias\".\n",
      "Loading pretrained parameter \"readout.1.weight\".\n",
      "Loading pretrained parameter \"readout.1.bias\".\n",
      "Loading pretrained parameter \"readout.4.weight\".\n",
      "Loading pretrained parameter \"readout.4.bias\".\n"
     ]
    },
    {
     "name": "stderr",
     "output_type": "stream",
     "text": [
      "100%|██████████| 1/1 [00:58<00:00, 58.83s/it]\n"
     ]
    },
    {
     "name": "stdout",
     "output_type": "stream",
     "text": [
      "Saving predictions to mc_preds.csv\n",
      "Elapsed time = 0:00:59\n",
      "running chemprop\n"
     ]
    },
    {
     "name": "stderr",
     "output_type": "stream",
     "text": [
      "1824it [00:00, 237686.35it/s]\n",
      "100%|██████████| 1824/1824 [00:00<00:00, 206216.08it/s]\n",
      "100%|██████████| 1824/1824 [00:00<00:00, 84311.33it/s]\n",
      "Fold 0\n",
      "100%|██████████| 5/5 [00:11<00:00,  2.40s/it]\n",
      "Model 0 best validation rmse = 1.133718 on epoch 4\n",
      "Model 0 test rmse = 1.046563                 \n",
      "Ensemble test rmse = 1.046563\n",
      "1-fold cross validation\n",
      "\tSeed 0 ==> test rmse = 1.046563\n",
      "Overall test rmse = 1.046563 +/- 0.000000\n",
      "Elapsed time = 0:00:12\n"
     ]
    },
    {
     "name": "stdout",
     "output_type": "stream",
     "text": [
      "Loading training args\n",
      "Setting molecule featurization parameters to default.\n",
      "Loading data\n"
     ]
    },
    {
     "name": "stderr",
     "output_type": "stream",
     "text": [
      "8173it [00:00, 388839.00it/s]\n",
      "100%|██████████| 8173/8173 [00:00<00:00, 28505.06it/s]\n"
     ]
    },
    {
     "name": "stdout",
     "output_type": "stream",
     "text": [
      "Validating SMILES\n",
      "Test size = 8,173\n"
     ]
    },
    {
     "name": "stderr",
     "output_type": "stream",
     "text": [
      "  0%|          | 0/1 [00:00<?, ?it/s]"
     ]
    },
    {
     "name": "stdout",
     "output_type": "stream",
     "text": [
      "Loading pretrained parameter \"encoder.encoder.0.cached_zero_vector\".\n",
      "Loading pretrained parameter \"encoder.encoder.0.W_i.weight\".\n",
      "Loading pretrained parameter \"encoder.encoder.0.W_h.weight\".\n",
      "Loading pretrained parameter \"encoder.encoder.0.W_o.weight\".\n",
      "Loading pretrained parameter \"encoder.encoder.0.W_o.bias\".\n",
      "Loading pretrained parameter \"readout.1.weight\".\n",
      "Loading pretrained parameter \"readout.1.bias\".\n",
      "Loading pretrained parameter \"readout.4.weight\".\n",
      "Loading pretrained parameter \"readout.4.bias\".\n"
     ]
    },
    {
     "name": "stderr",
     "output_type": "stream",
     "text": [
      "100%|██████████| 1/1 [00:59<00:00, 59.04s/it]\n"
     ]
    },
    {
     "name": "stdout",
     "output_type": "stream",
     "text": [
      "Saving predictions to mc_preds.csv\n",
      "Elapsed time = 0:01:00\n",
      "running chemprop\n"
     ]
    },
    {
     "name": "stderr",
     "output_type": "stream",
     "text": [
      "1849it [00:00, 236527.63it/s]\n",
      "100%|██████████| 1849/1849 [00:00<00:00, 227114.19it/s]\n",
      "100%|██████████| 1849/1849 [00:00<00:00, 83532.79it/s]\n",
      "Fold 0\n",
      "100%|██████████| 5/5 [00:12<00:00,  2.44s/it]\n",
      "Model 0 best validation rmse = 1.135005 on epoch 4\n",
      "Model 0 test rmse = 1.056199                 \n",
      "Ensemble test rmse = 1.056199\n",
      "1-fold cross validation\n",
      "\tSeed 0 ==> test rmse = 1.056199\n",
      "Overall test rmse = 1.056199 +/- 0.000000\n",
      "Elapsed time = 0:00:13\n"
     ]
    },
    {
     "name": "stdout",
     "output_type": "stream",
     "text": [
      "Loading training args\n",
      "Setting molecule featurization parameters to default.\n",
      "Loading data\n"
     ]
    },
    {
     "name": "stderr",
     "output_type": "stream",
     "text": [
      "8148it [00:00, 394022.98it/s]\n",
      "100%|██████████| 8148/8148 [00:00<00:00, 244002.18it/s]\n"
     ]
    },
    {
     "name": "stdout",
     "output_type": "stream",
     "text": [
      "Validating SMILES\n",
      "Test size = 8,148\n"
     ]
    },
    {
     "name": "stderr",
     "output_type": "stream",
     "text": [
      "  0%|          | 0/1 [00:00<?, ?it/s]"
     ]
    },
    {
     "name": "stdout",
     "output_type": "stream",
     "text": [
      "Loading pretrained parameter \"encoder.encoder.0.cached_zero_vector\".\n",
      "Loading pretrained parameter \"encoder.encoder.0.W_i.weight\".\n",
      "Loading pretrained parameter \"encoder.encoder.0.W_h.weight\".\n",
      "Loading pretrained parameter \"encoder.encoder.0.W_o.weight\".\n",
      "Loading pretrained parameter \"encoder.encoder.0.W_o.bias\".\n",
      "Loading pretrained parameter \"readout.1.weight\".\n",
      "Loading pretrained parameter \"readout.1.bias\".\n",
      "Loading pretrained parameter \"readout.4.weight\".\n",
      "Loading pretrained parameter \"readout.4.bias\".\n"
     ]
    },
    {
     "name": "stderr",
     "output_type": "stream",
     "text": [
      "100%|██████████| 1/1 [00:59<00:00, 59.02s/it]\n"
     ]
    },
    {
     "name": "stdout",
     "output_type": "stream",
     "text": [
      "Saving predictions to mc_preds.csv\n",
      "Elapsed time = 0:01:00\n",
      "running chemprop\n"
     ]
    },
    {
     "name": "stderr",
     "output_type": "stream",
     "text": [
      "1874it [00:00, 245483.17it/s]\n",
      "100%|██████████| 1874/1874 [00:00<00:00, 6408.53it/s]\n",
      "100%|██████████| 1874/1874 [00:00<00:00, 69245.50it/s]\n",
      "Fold 0\n",
      "100%|██████████| 5/5 [00:12<00:00,  2.43s/it]\n",
      "Model 0 best validation rmse = 1.230079 on epoch 4\n",
      "Model 0 test rmse = 1.100635                 \n",
      "Ensemble test rmse = 1.100635\n",
      "1-fold cross validation\n",
      "\tSeed 0 ==> test rmse = 1.100635\n",
      "Overall test rmse = 1.100635 +/- 0.000000\n",
      "Elapsed time = 0:00:13\n"
     ]
    },
    {
     "name": "stdout",
     "output_type": "stream",
     "text": [
      "Loading training args\n",
      "Setting molecule featurization parameters to default.\n",
      "Loading data\n"
     ]
    },
    {
     "name": "stderr",
     "output_type": "stream",
     "text": [
      "8123it [00:00, 392298.40it/s]\n",
      "100%|██████████| 8123/8123 [00:00<00:00, 240718.48it/s]"
     ]
    },
    {
     "name": "stdout",
     "output_type": "stream",
     "text": [
      "Validating SMILES\n"
     ]
    },
    {
     "name": "stderr",
     "output_type": "stream",
     "text": [
      "\n"
     ]
    },
    {
     "name": "stdout",
     "output_type": "stream",
     "text": [
      "Test size = 8,123\n"
     ]
    },
    {
     "name": "stderr",
     "output_type": "stream",
     "text": [
      "  0%|          | 0/1 [00:00<?, ?it/s]"
     ]
    },
    {
     "name": "stdout",
     "output_type": "stream",
     "text": [
      "Loading pretrained parameter \"encoder.encoder.0.cached_zero_vector\".\n",
      "Loading pretrained parameter \"encoder.encoder.0.W_i.weight\".\n",
      "Loading pretrained parameter \"encoder.encoder.0.W_h.weight\".\n",
      "Loading pretrained parameter \"encoder.encoder.0.W_o.weight\".\n",
      "Loading pretrained parameter \"encoder.encoder.0.W_o.bias\".\n",
      "Loading pretrained parameter \"readout.1.weight\".\n",
      "Loading pretrained parameter \"readout.1.bias\".\n",
      "Loading pretrained parameter \"readout.4.weight\".\n",
      "Loading pretrained parameter \"readout.4.bias\".\n"
     ]
    },
    {
     "name": "stderr",
     "output_type": "stream",
     "text": [
      "100%|██████████| 1/1 [00:58<00:00, 58.94s/it]\n"
     ]
    },
    {
     "name": "stdout",
     "output_type": "stream",
     "text": [
      "Saving predictions to mc_preds.csv\n",
      "Elapsed time = 0:00:59\n",
      "running chemprop\n",
      "in the counter\n"
     ]
    },
    {
     "name": "stderr",
     "output_type": "stream",
     "text": [
      "1899it [00:00, 252359.90it/s]\n",
      "100%|██████████| 1899/1899 [00:00<00:00, 216982.22it/s]\n",
      "100%|██████████| 1899/1899 [00:00<00:00, 75094.59it/s]\n",
      "Fold 0\n",
      "100%|██████████| 5/5 [00:12<00:00,  2.45s/it]\n",
      "Model 0 best validation rmse = 1.195024 on epoch 4\n",
      "Model 0 test rmse = 1.077021                 \n",
      "Ensemble test rmse = 1.077021\n",
      "1-fold cross validation\n",
      "\tSeed 0 ==> test rmse = 1.077021\n",
      "Overall test rmse = 1.077021 +/- 0.000000\n",
      "Elapsed time = 0:00:13\n"
     ]
    },
    {
     "name": "stdout",
     "output_type": "stream",
     "text": [
      "Loading training args\n",
      "Setting molecule featurization parameters to default.\n",
      "Loading data\n"
     ]
    },
    {
     "name": "stderr",
     "output_type": "stream",
     "text": [
      "8098it [00:00, 394924.41it/s]\n",
      "100%|██████████| 8098/8098 [00:00<00:00, 29446.65it/s]\n"
     ]
    },
    {
     "name": "stdout",
     "output_type": "stream",
     "text": [
      "Validating SMILES\n",
      "Test size = 8,098\n"
     ]
    },
    {
     "name": "stderr",
     "output_type": "stream",
     "text": [
      "  0%|          | 0/1 [00:00<?, ?it/s]"
     ]
    },
    {
     "name": "stdout",
     "output_type": "stream",
     "text": [
      "Loading pretrained parameter \"encoder.encoder.0.cached_zero_vector\".\n",
      "Loading pretrained parameter \"encoder.encoder.0.W_i.weight\".\n",
      "Loading pretrained parameter \"encoder.encoder.0.W_h.weight\".\n",
      "Loading pretrained parameter \"encoder.encoder.0.W_o.weight\".\n",
      "Loading pretrained parameter \"encoder.encoder.0.W_o.bias\".\n",
      "Loading pretrained parameter \"readout.1.weight\".\n",
      "Loading pretrained parameter \"readout.1.bias\".\n",
      "Loading pretrained parameter \"readout.4.weight\".\n",
      "Loading pretrained parameter \"readout.4.bias\".\n"
     ]
    },
    {
     "name": "stderr",
     "output_type": "stream",
     "text": [
      "100%|██████████| 1/1 [00:59<00:00, 59.66s/it]\n"
     ]
    },
    {
     "name": "stdout",
     "output_type": "stream",
     "text": [
      "Saving predictions to mc_preds.csv\n",
      "Elapsed time = 0:01:00\n",
      "running chemprop\n"
     ]
    },
    {
     "name": "stderr",
     "output_type": "stream",
     "text": [
      "1924it [00:00, 253688.81it/s]\n",
      "100%|██████████| 1924/1924 [00:00<00:00, 220445.29it/s]\n",
      "100%|██████████| 1924/1924 [00:00<00:00, 69216.14it/s]\n",
      "Fold 0\n",
      "100%|██████████| 5/5 [00:12<00:00,  2.42s/it]\n",
      "Model 0 best validation rmse = 1.066794 on epoch 4\n",
      "Model 0 test rmse = 1.051263                 \n",
      "Ensemble test rmse = 1.051263\n",
      "1-fold cross validation\n",
      "\tSeed 0 ==> test rmse = 1.051263\n",
      "Overall test rmse = 1.051263 +/- 0.000000\n",
      "Elapsed time = 0:00:13\n"
     ]
    },
    {
     "name": "stdout",
     "output_type": "stream",
     "text": [
      "Loading training args\n",
      "Setting molecule featurization parameters to default.\n",
      "Loading data\n"
     ]
    },
    {
     "name": "stderr",
     "output_type": "stream",
     "text": [
      "8073it [00:00, 393631.98it/s]\n",
      "100%|██████████| 8073/8073 [00:00<00:00, 241916.84it/s]\n"
     ]
    },
    {
     "name": "stdout",
     "output_type": "stream",
     "text": [
      "Validating SMILES\n",
      "Test size = 8,073\n"
     ]
    },
    {
     "name": "stderr",
     "output_type": "stream",
     "text": [
      "  0%|          | 0/1 [00:00<?, ?it/s]"
     ]
    },
    {
     "name": "stdout",
     "output_type": "stream",
     "text": [
      "Loading pretrained parameter \"encoder.encoder.0.cached_zero_vector\".\n",
      "Loading pretrained parameter \"encoder.encoder.0.W_i.weight\".\n",
      "Loading pretrained parameter \"encoder.encoder.0.W_h.weight\".\n",
      "Loading pretrained parameter \"encoder.encoder.0.W_o.weight\".\n",
      "Loading pretrained parameter \"encoder.encoder.0.W_o.bias\".\n",
      "Loading pretrained parameter \"readout.1.weight\".\n",
      "Loading pretrained parameter \"readout.1.bias\".\n",
      "Loading pretrained parameter \"readout.4.weight\".\n",
      "Loading pretrained parameter \"readout.4.bias\".\n"
     ]
    },
    {
     "name": "stderr",
     "output_type": "stream",
     "text": [
      "100%|██████████| 1/1 [00:58<00:00, 58.64s/it]\n"
     ]
    },
    {
     "name": "stdout",
     "output_type": "stream",
     "text": [
      "Saving predictions to mc_preds.csv\n",
      "Elapsed time = 0:00:59\n",
      "running chemprop\n"
     ]
    },
    {
     "name": "stderr",
     "output_type": "stream",
     "text": [
      "1949it [00:00, 240765.13it/s]\n",
      "100%|██████████| 1949/1949 [00:00<00:00, 215287.94it/s]\n",
      "100%|██████████| 1949/1949 [00:00<00:00, 74182.59it/s]\n",
      "Fold 0\n",
      "100%|██████████| 5/5 [00:12<00:00,  2.55s/it]\n",
      "Model 0 best validation rmse = 1.128297 on epoch 4\n",
      "Model 0 test rmse = 1.056188                 \n",
      "Ensemble test rmse = 1.056188\n",
      "1-fold cross validation\n",
      "\tSeed 0 ==> test rmse = 1.056188\n",
      "Overall test rmse = 1.056188 +/- 0.000000\n",
      "Elapsed time = 0:00:13\n"
     ]
    },
    {
     "name": "stdout",
     "output_type": "stream",
     "text": [
      "Loading training args\n",
      "Setting molecule featurization parameters to default.\n",
      "Loading data\n"
     ]
    },
    {
     "name": "stderr",
     "output_type": "stream",
     "text": [
      "8048it [00:00, 388470.53it/s]\n",
      "100%|██████████| 8048/8048 [00:00<00:00, 244389.12it/s]\n"
     ]
    },
    {
     "name": "stdout",
     "output_type": "stream",
     "text": [
      "Validating SMILES\n",
      "Test size = 8,048\n"
     ]
    },
    {
     "name": "stderr",
     "output_type": "stream",
     "text": [
      "  0%|          | 0/1 [00:00<?, ?it/s]"
     ]
    },
    {
     "name": "stdout",
     "output_type": "stream",
     "text": [
      "Loading pretrained parameter \"encoder.encoder.0.cached_zero_vector\".\n",
      "Loading pretrained parameter \"encoder.encoder.0.W_i.weight\".\n",
      "Loading pretrained parameter \"encoder.encoder.0.W_h.weight\".\n",
      "Loading pretrained parameter \"encoder.encoder.0.W_o.weight\".\n",
      "Loading pretrained parameter \"encoder.encoder.0.W_o.bias\".\n",
      "Loading pretrained parameter \"readout.1.weight\".\n",
      "Loading pretrained parameter \"readout.1.bias\".\n",
      "Loading pretrained parameter \"readout.4.weight\".\n",
      "Loading pretrained parameter \"readout.4.bias\".\n"
     ]
    },
    {
     "name": "stderr",
     "output_type": "stream",
     "text": [
      "100%|██████████| 1/1 [00:58<00:00, 58.71s/it]\n"
     ]
    },
    {
     "name": "stdout",
     "output_type": "stream",
     "text": [
      "Saving predictions to mc_preds.csv\n",
      "Elapsed time = 0:00:59\n",
      "running chemprop\n"
     ]
    },
    {
     "name": "stderr",
     "output_type": "stream",
     "text": [
      "1974it [00:00, 254614.55it/s]\n",
      "100%|██████████| 1974/1974 [00:00<00:00, 206937.17it/s]\n",
      "100%|██████████| 1974/1974 [00:00<00:00, 74761.00it/s]\n",
      "Fold 0\n",
      "100%|██████████| 5/5 [00:12<00:00,  2.58s/it]\n",
      "Model 0 best validation rmse = 1.136218 on epoch 4\n",
      "Model 0 test rmse = 1.062454                 \n",
      "Ensemble test rmse = 1.062454\n",
      "1-fold cross validation\n",
      "\tSeed 0 ==> test rmse = 1.062454\n",
      "Overall test rmse = 1.062454 +/- 0.000000\n",
      "Elapsed time = 0:00:13\n"
     ]
    },
    {
     "name": "stdout",
     "output_type": "stream",
     "text": [
      "Loading training args\n",
      "Setting molecule featurization parameters to default.\n",
      "Loading data\n"
     ]
    },
    {
     "name": "stderr",
     "output_type": "stream",
     "text": [
      "8023it [00:00, 393605.41it/s]\n",
      "100%|██████████| 8023/8023 [00:00<00:00, 27942.94it/s]\n"
     ]
    },
    {
     "name": "stdout",
     "output_type": "stream",
     "text": [
      "Validating SMILES\n",
      "Test size = 8,023\n"
     ]
    },
    {
     "name": "stderr",
     "output_type": "stream",
     "text": [
      "  0%|          | 0/1 [00:00<?, ?it/s]"
     ]
    },
    {
     "name": "stdout",
     "output_type": "stream",
     "text": [
      "Loading pretrained parameter \"encoder.encoder.0.cached_zero_vector\".\n",
      "Loading pretrained parameter \"encoder.encoder.0.W_i.weight\".\n",
      "Loading pretrained parameter \"encoder.encoder.0.W_h.weight\".\n",
      "Loading pretrained parameter \"encoder.encoder.0.W_o.weight\".\n",
      "Loading pretrained parameter \"encoder.encoder.0.W_o.bias\".\n",
      "Loading pretrained parameter \"readout.1.weight\".\n",
      "Loading pretrained parameter \"readout.1.bias\".\n",
      "Loading pretrained parameter \"readout.4.weight\".\n",
      "Loading pretrained parameter \"readout.4.bias\".\n"
     ]
    },
    {
     "name": "stderr",
     "output_type": "stream",
     "text": [
      "100%|██████████| 1/1 [00:58<00:00, 58.42s/it]\n"
     ]
    },
    {
     "name": "stdout",
     "output_type": "stream",
     "text": [
      "Saving predictions to mc_preds.csv\n",
      "Elapsed time = 0:00:59\n",
      "running chemprop\n",
      "in the counter\n"
     ]
    },
    {
     "name": "stderr",
     "output_type": "stream",
     "text": [
      "1999it [00:00, 249009.94it/s]\n",
      "100%|██████████| 1999/1999 [00:00<00:00, 218708.62it/s]\n",
      "100%|██████████| 1999/1999 [00:00<00:00, 63165.61it/s]\n",
      "Fold 0\n",
      "100%|██████████| 5/5 [00:13<00:00,  2.67s/it]\n",
      "Model 0 best validation rmse = 1.208477 on epoch 4\n",
      "Model 0 test rmse = 1.097723                 \n",
      "Ensemble test rmse = 1.097723\n",
      "1-fold cross validation\n",
      "\tSeed 0 ==> test rmse = 1.097723\n",
      "Overall test rmse = 1.097723 +/- 0.000000\n",
      "Elapsed time = 0:00:14\n"
     ]
    },
    {
     "name": "stdout",
     "output_type": "stream",
     "text": [
      "Loading training args\n",
      "Setting molecule featurization parameters to default.\n",
      "Loading data\n"
     ]
    },
    {
     "name": "stderr",
     "output_type": "stream",
     "text": [
      "7998it [00:00, 391152.76it/s]\n",
      "100%|██████████| 7998/7998 [00:00<00:00, 239539.31it/s]"
     ]
    },
    {
     "name": "stdout",
     "output_type": "stream",
     "text": [
      "Validating SMILES\n"
     ]
    },
    {
     "name": "stderr",
     "output_type": "stream",
     "text": [
      "\n"
     ]
    },
    {
     "name": "stdout",
     "output_type": "stream",
     "text": [
      "Test size = 7,998\n"
     ]
    },
    {
     "name": "stderr",
     "output_type": "stream",
     "text": [
      "  0%|          | 0/1 [00:00<?, ?it/s]"
     ]
    },
    {
     "name": "stdout",
     "output_type": "stream",
     "text": [
      "Loading pretrained parameter \"encoder.encoder.0.cached_zero_vector\".\n",
      "Loading pretrained parameter \"encoder.encoder.0.W_i.weight\".\n",
      "Loading pretrained parameter \"encoder.encoder.0.W_h.weight\".\n",
      "Loading pretrained parameter \"encoder.encoder.0.W_o.weight\".\n",
      "Loading pretrained parameter \"encoder.encoder.0.W_o.bias\".\n",
      "Loading pretrained parameter \"readout.1.weight\".\n",
      "Loading pretrained parameter \"readout.1.bias\".\n",
      "Loading pretrained parameter \"readout.4.weight\".\n",
      "Loading pretrained parameter \"readout.4.bias\".\n"
     ]
    },
    {
     "name": "stderr",
     "output_type": "stream",
     "text": [
      "100%|██████████| 1/1 [00:58<00:00, 58.86s/it]\n"
     ]
    },
    {
     "name": "stdout",
     "output_type": "stream",
     "text": [
      "Saving predictions to mc_preds.csv\n",
      "Elapsed time = 0:00:59\n",
      "finished seed\n",
      "running chemprop\n",
      "in the counter\n"
     ]
    },
    {
     "name": "stderr",
     "output_type": "stream",
     "text": [
      "999it [00:00, 250679.61it/s]\n",
      "100%|██████████| 999/999 [00:00<00:00, 214668.26it/s]\n",
      "100%|██████████| 999/999 [00:00<00:00, 8574.08it/s]\n",
      "Fold 0\n",
      "100%|██████████| 5/5 [00:06<00:00,  1.39s/it]\n",
      "Model 0 best validation rmse = 1.153240 on epoch 3\n",
      "Model 0 test rmse = 1.147073                 \n",
      "Ensemble test rmse = 1.147073\n",
      "1-fold cross validation\n",
      "\tSeed 0 ==> test rmse = 1.147073\n",
      "Overall test rmse = 1.147073 +/- 0.000000\n",
      "Elapsed time = 0:00:07\n"
     ]
    },
    {
     "name": "stdout",
     "output_type": "stream",
     "text": [
      "Loading training args\n",
      "Setting molecule featurization parameters to default.\n",
      "Loading data\n"
     ]
    },
    {
     "name": "stderr",
     "output_type": "stream",
     "text": [
      "8998it [00:00, 389135.92it/s]\n",
      "100%|██████████| 8998/8998 [00:00<00:00, 32707.40it/s]\n"
     ]
    },
    {
     "name": "stdout",
     "output_type": "stream",
     "text": [
      "Validating SMILES\n",
      "Test size = 8,998\n"
     ]
    },
    {
     "name": "stderr",
     "output_type": "stream",
     "text": [
      "  0%|          | 0/1 [00:00<?, ?it/s]"
     ]
    },
    {
     "name": "stdout",
     "output_type": "stream",
     "text": [
      "Loading pretrained parameter \"encoder.encoder.0.cached_zero_vector\".\n",
      "Loading pretrained parameter \"encoder.encoder.0.W_i.weight\".\n",
      "Loading pretrained parameter \"encoder.encoder.0.W_h.weight\".\n",
      "Loading pretrained parameter \"encoder.encoder.0.W_o.weight\".\n",
      "Loading pretrained parameter \"encoder.encoder.0.W_o.bias\".\n",
      "Loading pretrained parameter \"readout.1.weight\".\n",
      "Loading pretrained parameter \"readout.1.bias\".\n",
      "Loading pretrained parameter \"readout.4.weight\".\n",
      "Loading pretrained parameter \"readout.4.bias\".\n"
     ]
    },
    {
     "name": "stderr",
     "output_type": "stream",
     "text": [
      "100%|██████████| 1/1 [00:59<00:00, 59.77s/it]\n"
     ]
    },
    {
     "name": "stdout",
     "output_type": "stream",
     "text": [
      "Saving predictions to mc_preds.csv\n",
      "Elapsed time = 0:01:00\n",
      "running chemprop\n"
     ]
    },
    {
     "name": "stderr",
     "output_type": "stream",
     "text": [
      "1024it [00:00, 235663.50it/s]\n",
      "100%|██████████| 1024/1024 [00:00<00:00, 178897.34it/s]\n",
      "100%|██████████| 1024/1024 [00:00<00:00, 73758.67it/s]\n",
      "Fold 0\n",
      "100%|██████████| 5/5 [00:06<00:00,  1.39s/it]\n",
      "Model 0 best validation rmse = 1.106059 on epoch 4\n",
      "Model 0 test rmse = 1.213571                 \n",
      "Ensemble test rmse = 1.213571\n",
      "1-fold cross validation\n",
      "\tSeed 0 ==> test rmse = 1.213571\n",
      "Overall test rmse = 1.213571 +/- 0.000000\n",
      "Elapsed time = 0:00:07\n"
     ]
    },
    {
     "name": "stdout",
     "output_type": "stream",
     "text": [
      "Loading training args\n",
      "Setting molecule featurization parameters to default.\n",
      "Loading data\n"
     ]
    },
    {
     "name": "stderr",
     "output_type": "stream",
     "text": [
      "8973it [00:00, 392126.21it/s]\n",
      "100%|██████████| 8973/8973 [00:00<00:00, 242676.53it/s]"
     ]
    },
    {
     "name": "stdout",
     "output_type": "stream",
     "text": [
      "Validating SMILES\n"
     ]
    },
    {
     "name": "stderr",
     "output_type": "stream",
     "text": [
      "\n"
     ]
    },
    {
     "name": "stdout",
     "output_type": "stream",
     "text": [
      "Test size = 8,973\n"
     ]
    },
    {
     "name": "stderr",
     "output_type": "stream",
     "text": [
      "  0%|          | 0/1 [00:00<?, ?it/s]"
     ]
    },
    {
     "name": "stdout",
     "output_type": "stream",
     "text": [
      "Loading pretrained parameter \"encoder.encoder.0.cached_zero_vector\".\n",
      "Loading pretrained parameter \"encoder.encoder.0.W_i.weight\".\n",
      "Loading pretrained parameter \"encoder.encoder.0.W_h.weight\".\n",
      "Loading pretrained parameter \"encoder.encoder.0.W_o.weight\".\n",
      "Loading pretrained parameter \"encoder.encoder.0.W_o.bias\".\n",
      "Loading pretrained parameter \"readout.1.weight\".\n",
      "Loading pretrained parameter \"readout.1.bias\".\n",
      "Loading pretrained parameter \"readout.4.weight\".\n",
      "Loading pretrained parameter \"readout.4.bias\".\n"
     ]
    },
    {
     "name": "stderr",
     "output_type": "stream",
     "text": [
      "100%|██████████| 1/1 [01:00<00:00, 60.02s/it]\n"
     ]
    },
    {
     "name": "stdout",
     "output_type": "stream",
     "text": [
      "Saving predictions to mc_preds.csv\n",
      "Elapsed time = 0:01:00\n",
      "running chemprop\n"
     ]
    },
    {
     "name": "stderr",
     "output_type": "stream",
     "text": [
      "1049it [00:00, 226177.19it/s]\n",
      "100%|██████████| 1049/1049 [00:00<00:00, 211580.90it/s]\n",
      "100%|██████████| 1049/1049 [00:00<00:00, 71342.34it/s]\n",
      "Fold 0\n",
      "100%|██████████| 5/5 [00:06<00:00,  1.36s/it]\n",
      "Model 0 best validation rmse = 1.135780 on epoch 4\n",
      "Model 0 test rmse = 1.168150                 \n",
      "Ensemble test rmse = 1.168150\n",
      "1-fold cross validation\n",
      "\tSeed 0 ==> test rmse = 1.168150\n",
      "Overall test rmse = 1.168150 +/- 0.000000\n",
      "Elapsed time = 0:00:07\n"
     ]
    },
    {
     "name": "stdout",
     "output_type": "stream",
     "text": [
      "Loading training args\n",
      "Setting molecule featurization parameters to default.\n",
      "Loading data\n"
     ]
    },
    {
     "name": "stderr",
     "output_type": "stream",
     "text": [
      "8948it [00:00, 370764.46it/s]\n",
      "100%|██████████| 8948/8948 [00:00<00:00, 236046.17it/s]\n"
     ]
    },
    {
     "name": "stdout",
     "output_type": "stream",
     "text": [
      "Validating SMILES\n",
      "Test size = 8,948\n"
     ]
    },
    {
     "name": "stderr",
     "output_type": "stream",
     "text": [
      "  0%|          | 0/1 [00:00<?, ?it/s]"
     ]
    },
    {
     "name": "stdout",
     "output_type": "stream",
     "text": [
      "Loading pretrained parameter \"encoder.encoder.0.cached_zero_vector\".\n",
      "Loading pretrained parameter \"encoder.encoder.0.W_i.weight\".\n",
      "Loading pretrained parameter \"encoder.encoder.0.W_h.weight\".\n",
      "Loading pretrained parameter \"encoder.encoder.0.W_o.weight\".\n",
      "Loading pretrained parameter \"encoder.encoder.0.W_o.bias\".\n",
      "Loading pretrained parameter \"readout.1.weight\".\n",
      "Loading pretrained parameter \"readout.1.bias\".\n",
      "Loading pretrained parameter \"readout.4.weight\".\n",
      "Loading pretrained parameter \"readout.4.bias\".\n"
     ]
    },
    {
     "name": "stderr",
     "output_type": "stream",
     "text": [
      "100%|██████████| 1/1 [00:59<00:00, 59.83s/it]\n"
     ]
    },
    {
     "name": "stdout",
     "output_type": "stream",
     "text": [
      "Saving predictions to mc_preds.csv\n",
      "Elapsed time = 0:01:00\n",
      "running chemprop\n"
     ]
    },
    {
     "name": "stderr",
     "output_type": "stream",
     "text": [
      "1074it [00:00, 222354.63it/s]\n",
      "100%|██████████| 1074/1074 [00:00<00:00, 215092.51it/s]\n",
      "100%|██████████| 1074/1074 [00:00<00:00, 77320.33it/s]\n",
      "Fold 0\n",
      "100%|██████████| 5/5 [00:07<00:00,  1.41s/it]\n",
      "Model 0 best validation rmse = 1.275718 on epoch 4\n",
      "Model 0 test rmse = 1.038579                 \n",
      "Ensemble test rmse = 1.038579\n",
      "1-fold cross validation\n",
      "\tSeed 0 ==> test rmse = 1.038579\n",
      "Overall test rmse = 1.038579 +/- 0.000000\n",
      "Elapsed time = 0:00:07\n"
     ]
    },
    {
     "name": "stdout",
     "output_type": "stream",
     "text": [
      "Loading training args\n",
      "Setting molecule featurization parameters to default.\n",
      "Loading data\n"
     ]
    },
    {
     "name": "stderr",
     "output_type": "stream",
     "text": [
      "8923it [00:00, 388734.21it/s]\n",
      "100%|██████████| 8923/8923 [00:00<00:00, 25427.50it/s]\n"
     ]
    },
    {
     "name": "stdout",
     "output_type": "stream",
     "text": [
      "Validating SMILES\n",
      "Test size = 8,923\n"
     ]
    },
    {
     "name": "stderr",
     "output_type": "stream",
     "text": [
      "  0%|          | 0/1 [00:00<?, ?it/s]"
     ]
    },
    {
     "name": "stdout",
     "output_type": "stream",
     "text": [
      "Loading pretrained parameter \"encoder.encoder.0.cached_zero_vector\".\n",
      "Loading pretrained parameter \"encoder.encoder.0.W_i.weight\".\n",
      "Loading pretrained parameter \"encoder.encoder.0.W_h.weight\".\n",
      "Loading pretrained parameter \"encoder.encoder.0.W_o.weight\".\n",
      "Loading pretrained parameter \"encoder.encoder.0.W_o.bias\".\n",
      "Loading pretrained parameter \"readout.1.weight\".\n",
      "Loading pretrained parameter \"readout.1.bias\".\n",
      "Loading pretrained parameter \"readout.4.weight\".\n",
      "Loading pretrained parameter \"readout.4.bias\".\n"
     ]
    },
    {
     "name": "stderr",
     "output_type": "stream",
     "text": [
      "100%|██████████| 1/1 [01:00<00:00, 60.32s/it]\n"
     ]
    },
    {
     "name": "stdout",
     "output_type": "stream",
     "text": [
      "Saving predictions to mc_preds.csv\n",
      "Elapsed time = 0:01:01\n",
      "running chemprop\n",
      "in the counter\n"
     ]
    },
    {
     "name": "stderr",
     "output_type": "stream",
     "text": [
      "1099it [00:00, 229581.64it/s]\n",
      "100%|██████████| 1099/1099 [00:00<00:00, 206659.50it/s]\n",
      "100%|██████████| 1099/1099 [00:00<00:00, 73802.24it/s]\n",
      "Fold 0\n",
      "100%|██████████| 5/5 [00:07<00:00,  1.40s/it]\n",
      "Model 0 best validation rmse = 1.170861 on epoch 4\n",
      "Model 0 test rmse = 0.995078                 \n",
      "Ensemble test rmse = 0.995078\n",
      "1-fold cross validation\n",
      "\tSeed 0 ==> test rmse = 0.995078\n",
      "Overall test rmse = 0.995078 +/- 0.000000\n",
      "Elapsed time = 0:00:07\n"
     ]
    },
    {
     "name": "stdout",
     "output_type": "stream",
     "text": [
      "Loading training args\n",
      "Setting molecule featurization parameters to default.\n",
      "Loading data\n"
     ]
    },
    {
     "name": "stderr",
     "output_type": "stream",
     "text": [
      "8898it [00:00, 383881.06it/s]\n",
      "100%|██████████| 8898/8898 [00:00<00:00, 237876.48it/s]\n"
     ]
    },
    {
     "name": "stdout",
     "output_type": "stream",
     "text": [
      "Validating SMILES\n",
      "Test size = 8,898\n"
     ]
    },
    {
     "name": "stderr",
     "output_type": "stream",
     "text": [
      "  0%|          | 0/1 [00:00<?, ?it/s]"
     ]
    },
    {
     "name": "stdout",
     "output_type": "stream",
     "text": [
      "Loading pretrained parameter \"encoder.encoder.0.cached_zero_vector\".\n",
      "Loading pretrained parameter \"encoder.encoder.0.W_i.weight\".\n",
      "Loading pretrained parameter \"encoder.encoder.0.W_h.weight\".\n",
      "Loading pretrained parameter \"encoder.encoder.0.W_o.weight\".\n",
      "Loading pretrained parameter \"encoder.encoder.0.W_o.bias\".\n",
      "Loading pretrained parameter \"readout.1.weight\".\n",
      "Loading pretrained parameter \"readout.1.bias\".\n",
      "Loading pretrained parameter \"readout.4.weight\".\n",
      "Loading pretrained parameter \"readout.4.bias\".\n"
     ]
    },
    {
     "name": "stderr",
     "output_type": "stream",
     "text": [
      "100%|██████████| 1/1 [01:00<00:00, 60.20s/it]\n"
     ]
    },
    {
     "name": "stdout",
     "output_type": "stream",
     "text": [
      "Saving predictions to mc_preds.csv\n",
      "Elapsed time = 0:01:00\n",
      "running chemprop\n"
     ]
    },
    {
     "name": "stderr",
     "output_type": "stream",
     "text": [
      "1124it [00:00, 246710.85it/s]\n",
      "100%|██████████| 1124/1124 [00:00<00:00, 187921.94it/s]\n",
      "100%|██████████| 1124/1124 [00:00<00:00, 83775.77it/s]\n",
      "Fold 0\n",
      "100%|██████████| 5/5 [00:07<00:00,  1.45s/it]\n",
      "Model 0 best validation rmse = 1.165787 on epoch 4\n",
      "Model 0 test rmse = 1.122304                 \n",
      "Ensemble test rmse = 1.122304\n",
      "1-fold cross validation\n",
      "\tSeed 0 ==> test rmse = 1.122304\n",
      "Overall test rmse = 1.122304 +/- 0.000000\n",
      "Elapsed time = 0:00:08\n"
     ]
    },
    {
     "name": "stdout",
     "output_type": "stream",
     "text": [
      "Loading training args\n",
      "Setting molecule featurization parameters to default.\n",
      "Loading data\n"
     ]
    },
    {
     "name": "stderr",
     "output_type": "stream",
     "text": [
      "8873it [00:00, 390810.05it/s]\n",
      "100%|██████████| 8873/8873 [00:00<00:00, 25486.73it/s]\n"
     ]
    },
    {
     "name": "stdout",
     "output_type": "stream",
     "text": [
      "Validating SMILES\n",
      "Test size = 8,873\n"
     ]
    },
    {
     "name": "stderr",
     "output_type": "stream",
     "text": [
      "  0%|          | 0/1 [00:00<?, ?it/s]"
     ]
    },
    {
     "name": "stdout",
     "output_type": "stream",
     "text": [
      "Loading pretrained parameter \"encoder.encoder.0.cached_zero_vector\".\n",
      "Loading pretrained parameter \"encoder.encoder.0.W_i.weight\".\n",
      "Loading pretrained parameter \"encoder.encoder.0.W_h.weight\".\n",
      "Loading pretrained parameter \"encoder.encoder.0.W_o.weight\".\n",
      "Loading pretrained parameter \"encoder.encoder.0.W_o.bias\".\n",
      "Loading pretrained parameter \"readout.1.weight\".\n",
      "Loading pretrained parameter \"readout.1.bias\".\n",
      "Loading pretrained parameter \"readout.4.weight\".\n",
      "Loading pretrained parameter \"readout.4.bias\".\n"
     ]
    },
    {
     "name": "stderr",
     "output_type": "stream",
     "text": [
      "100%|██████████| 1/1 [01:00<00:00, 60.02s/it]\n"
     ]
    },
    {
     "name": "stdout",
     "output_type": "stream",
     "text": [
      "Saving predictions to mc_preds.csv\n",
      "Elapsed time = 0:01:01\n",
      "running chemprop\n"
     ]
    },
    {
     "name": "stderr",
     "output_type": "stream",
     "text": [
      "1149it [00:00, 195404.26it/s]\n",
      "100%|██████████| 1149/1149 [00:00<00:00, 209706.07it/s]\n",
      "100%|██████████| 1149/1149 [00:00<00:00, 86047.37it/s]\n",
      "Fold 0\n",
      "100%|██████████| 5/5 [00:07<00:00,  1.48s/it]\n",
      "Model 0 best validation rmse = 1.077597 on epoch 4\n",
      "Model 0 test rmse = 1.105150                 \n",
      "Ensemble test rmse = 1.105150\n",
      "1-fold cross validation\n",
      "\tSeed 0 ==> test rmse = 1.105150\n",
      "Overall test rmse = 1.105150 +/- 0.000000\n",
      "Elapsed time = 0:00:08\n"
     ]
    },
    {
     "name": "stdout",
     "output_type": "stream",
     "text": [
      "Loading training args\n",
      "Setting molecule featurization parameters to default.\n",
      "Loading data\n"
     ]
    },
    {
     "name": "stderr",
     "output_type": "stream",
     "text": [
      "8848it [00:00, 394791.62it/s]\n",
      "100%|██████████| 8848/8848 [00:00<00:00, 245649.16it/s]"
     ]
    },
    {
     "name": "stdout",
     "output_type": "stream",
     "text": [
      "Validating SMILES\n"
     ]
    },
    {
     "name": "stderr",
     "output_type": "stream",
     "text": [
      "\n"
     ]
    },
    {
     "name": "stdout",
     "output_type": "stream",
     "text": [
      "Test size = 8,848\n"
     ]
    },
    {
     "name": "stderr",
     "output_type": "stream",
     "text": [
      "  0%|          | 0/1 [00:00<?, ?it/s]"
     ]
    },
    {
     "name": "stdout",
     "output_type": "stream",
     "text": [
      "Loading pretrained parameter \"encoder.encoder.0.cached_zero_vector\".\n",
      "Loading pretrained parameter \"encoder.encoder.0.W_i.weight\".\n",
      "Loading pretrained parameter \"encoder.encoder.0.W_h.weight\".\n",
      "Loading pretrained parameter \"encoder.encoder.0.W_o.weight\".\n",
      "Loading pretrained parameter \"encoder.encoder.0.W_o.bias\".\n",
      "Loading pretrained parameter \"readout.1.weight\".\n",
      "Loading pretrained parameter \"readout.1.bias\".\n",
      "Loading pretrained parameter \"readout.4.weight\".\n",
      "Loading pretrained parameter \"readout.4.bias\".\n"
     ]
    },
    {
     "name": "stderr",
     "output_type": "stream",
     "text": [
      "100%|██████████| 1/1 [00:59<00:00, 59.81s/it]\n"
     ]
    },
    {
     "name": "stdout",
     "output_type": "stream",
     "text": [
      "Saving predictions to mc_preds.csv\n",
      "Elapsed time = 0:01:00\n",
      "running chemprop\n"
     ]
    },
    {
     "name": "stderr",
     "output_type": "stream",
     "text": [
      "1174it [00:00, 231331.06it/s]\n",
      "100%|██████████| 1174/1174 [00:00<00:00, 216244.91it/s]\n",
      "100%|██████████| 1174/1174 [00:00<00:00, 75718.31it/s]\n",
      "Fold 0\n",
      "100%|██████████| 5/5 [00:07<00:00,  1.52s/it]\n",
      "Model 0 best validation rmse = 1.121706 on epoch 3\n",
      "Model 0 test rmse = 1.162690                 \n",
      "Ensemble test rmse = 1.162690\n",
      "1-fold cross validation\n",
      "\tSeed 0 ==> test rmse = 1.162690\n",
      "Overall test rmse = 1.162690 +/- 0.000000\n",
      "Elapsed time = 0:00:08\n"
     ]
    },
    {
     "name": "stdout",
     "output_type": "stream",
     "text": [
      "Loading training args\n",
      "Setting molecule featurization parameters to default.\n",
      "Loading data\n"
     ]
    },
    {
     "name": "stderr",
     "output_type": "stream",
     "text": [
      "8823it [00:00, 391754.91it/s]\n",
      "100%|██████████| 8823/8823 [00:00<00:00, 240980.06it/s]"
     ]
    },
    {
     "name": "stdout",
     "output_type": "stream",
     "text": [
      "Validating SMILES\n"
     ]
    },
    {
     "name": "stderr",
     "output_type": "stream",
     "text": [
      "\n"
     ]
    },
    {
     "name": "stdout",
     "output_type": "stream",
     "text": [
      "Test size = 8,823\n"
     ]
    },
    {
     "name": "stderr",
     "output_type": "stream",
     "text": [
      "  0%|          | 0/1 [00:00<?, ?it/s]"
     ]
    },
    {
     "name": "stdout",
     "output_type": "stream",
     "text": [
      "Loading pretrained parameter \"encoder.encoder.0.cached_zero_vector\".\n",
      "Loading pretrained parameter \"encoder.encoder.0.W_i.weight\".\n",
      "Loading pretrained parameter \"encoder.encoder.0.W_h.weight\".\n",
      "Loading pretrained parameter \"encoder.encoder.0.W_o.weight\".\n",
      "Loading pretrained parameter \"encoder.encoder.0.W_o.bias\".\n",
      "Loading pretrained parameter \"readout.1.weight\".\n",
      "Loading pretrained parameter \"readout.1.bias\".\n",
      "Loading pretrained parameter \"readout.4.weight\".\n",
      "Loading pretrained parameter \"readout.4.bias\".\n"
     ]
    },
    {
     "name": "stderr",
     "output_type": "stream",
     "text": [
      "100%|██████████| 1/1 [00:59<00:00, 59.65s/it]\n"
     ]
    },
    {
     "name": "stdout",
     "output_type": "stream",
     "text": [
      "Saving predictions to mc_preds.csv\n",
      "Elapsed time = 0:01:00\n",
      "running chemprop\n",
      "in the counter\n"
     ]
    },
    {
     "name": "stderr",
     "output_type": "stream",
     "text": [
      "1199it [00:00, 209951.59it/s]\n",
      "100%|██████████| 1199/1199 [00:00<00:00, 207047.24it/s]\n",
      "100%|██████████| 1199/1199 [00:00<00:00, 80529.24it/s]\n",
      "Fold 0\n",
      "100%|██████████| 5/5 [00:07<00:00,  1.57s/it]\n",
      "Model 0 best validation rmse = 1.050324 on epoch 4\n",
      "Model 0 test rmse = 1.165167                 \n",
      "Ensemble test rmse = 1.165167\n",
      "1-fold cross validation\n",
      "\tSeed 0 ==> test rmse = 1.165167\n",
      "Overall test rmse = 1.165167 +/- 0.000000\n",
      "Elapsed time = 0:00:08\n"
     ]
    },
    {
     "name": "stdout",
     "output_type": "stream",
     "text": [
      "Loading training args\n",
      "Setting molecule featurization parameters to default.\n",
      "Loading data\n"
     ]
    },
    {
     "name": "stderr",
     "output_type": "stream",
     "text": [
      "8798it [00:00, 392999.63it/s]\n",
      "100%|██████████| 8798/8798 [00:00<00:00, 246572.09it/s]"
     ]
    },
    {
     "name": "stdout",
     "output_type": "stream",
     "text": [
      "Validating SMILES\n"
     ]
    },
    {
     "name": "stderr",
     "output_type": "stream",
     "text": [
      "\n"
     ]
    },
    {
     "name": "stdout",
     "output_type": "stream",
     "text": [
      "Test size = 8,798\n"
     ]
    },
    {
     "name": "stderr",
     "output_type": "stream",
     "text": [
      "  0%|          | 0/1 [00:00<?, ?it/s]"
     ]
    },
    {
     "name": "stdout",
     "output_type": "stream",
     "text": [
      "Loading pretrained parameter \"encoder.encoder.0.cached_zero_vector\".\n",
      "Loading pretrained parameter \"encoder.encoder.0.W_i.weight\".\n",
      "Loading pretrained parameter \"encoder.encoder.0.W_h.weight\".\n",
      "Loading pretrained parameter \"encoder.encoder.0.W_o.weight\".\n",
      "Loading pretrained parameter \"encoder.encoder.0.W_o.bias\".\n",
      "Loading pretrained parameter \"readout.1.weight\".\n",
      "Loading pretrained parameter \"readout.1.bias\".\n",
      "Loading pretrained parameter \"readout.4.weight\".\n",
      "Loading pretrained parameter \"readout.4.bias\".\n"
     ]
    },
    {
     "name": "stderr",
     "output_type": "stream",
     "text": [
      "100%|██████████| 1/1 [00:59<00:00, 59.27s/it]\n"
     ]
    },
    {
     "name": "stdout",
     "output_type": "stream",
     "text": [
      "Saving predictions to mc_preds.csv\n",
      "Elapsed time = 0:01:00\n",
      "running chemprop\n"
     ]
    },
    {
     "name": "stderr",
     "output_type": "stream",
     "text": [
      "1224it [00:00, 251843.42it/s]\n",
      "100%|██████████| 1224/1224 [00:00<00:00, 195783.24it/s]\n",
      "100%|██████████| 1224/1224 [00:00<00:00, 81285.48it/s]\n",
      "Fold 0\n",
      "100%|██████████| 5/5 [00:07<00:00,  1.60s/it]\n",
      "Model 0 best validation rmse = 1.201332 on epoch 4\n",
      "Model 0 test rmse = 1.119088                 \n",
      "Ensemble test rmse = 1.119088\n",
      "1-fold cross validation\n",
      "\tSeed 0 ==> test rmse = 1.119088\n",
      "Overall test rmse = 1.119088 +/- 0.000000\n",
      "Elapsed time = 0:00:08\n"
     ]
    },
    {
     "name": "stdout",
     "output_type": "stream",
     "text": [
      "Loading training args\n",
      "Setting molecule featurization parameters to default.\n",
      "Loading data\n"
     ]
    },
    {
     "name": "stderr",
     "output_type": "stream",
     "text": [
      "8773it [00:00, 391474.32it/s]\n",
      "100%|██████████| 8773/8773 [00:00<00:00, 26194.71it/s]\n"
     ]
    },
    {
     "name": "stdout",
     "output_type": "stream",
     "text": [
      "Validating SMILES\n",
      "Test size = 8,773\n"
     ]
    },
    {
     "name": "stderr",
     "output_type": "stream",
     "text": [
      "  0%|          | 0/1 [00:00<?, ?it/s]"
     ]
    },
    {
     "name": "stdout",
     "output_type": "stream",
     "text": [
      "Loading pretrained parameter \"encoder.encoder.0.cached_zero_vector\".\n",
      "Loading pretrained parameter \"encoder.encoder.0.W_i.weight\".\n",
      "Loading pretrained parameter \"encoder.encoder.0.W_h.weight\".\n",
      "Loading pretrained parameter \"encoder.encoder.0.W_o.weight\".\n",
      "Loading pretrained parameter \"encoder.encoder.0.W_o.bias\".\n",
      "Loading pretrained parameter \"readout.1.weight\".\n",
      "Loading pretrained parameter \"readout.1.bias\".\n",
      "Loading pretrained parameter \"readout.4.weight\".\n",
      "Loading pretrained parameter \"readout.4.bias\".\n"
     ]
    },
    {
     "name": "stderr",
     "output_type": "stream",
     "text": [
      "100%|██████████| 1/1 [00:58<00:00, 58.79s/it]\n"
     ]
    },
    {
     "name": "stdout",
     "output_type": "stream",
     "text": [
      "Saving predictions to mc_preds.csv\n",
      "Elapsed time = 0:00:59\n",
      "running chemprop\n"
     ]
    },
    {
     "name": "stderr",
     "output_type": "stream",
     "text": [
      "1249it [00:00, 228175.69it/s]\n",
      "100%|██████████| 1249/1249 [00:00<00:00, 218196.75it/s]\n",
      "100%|██████████| 1249/1249 [00:00<00:00, 76828.22it/s]\n",
      "Fold 0\n",
      "100%|██████████| 5/5 [00:08<00:00,  1.60s/it]\n",
      "Model 0 best validation rmse = 1.240749 on epoch 4\n",
      "Model 0 test rmse = 1.087108                 \n",
      "Ensemble test rmse = 1.087108\n",
      "1-fold cross validation\n",
      "\tSeed 0 ==> test rmse = 1.087108\n",
      "Overall test rmse = 1.087108 +/- 0.000000\n",
      "Elapsed time = 0:00:08\n"
     ]
    },
    {
     "name": "stdout",
     "output_type": "stream",
     "text": [
      "Loading training args\n",
      "Setting molecule featurization parameters to default.\n",
      "Loading data\n"
     ]
    },
    {
     "name": "stderr",
     "output_type": "stream",
     "text": [
      "8748it [00:00, 374134.77it/s]\n",
      "100%|██████████| 8748/8748 [00:00<00:00, 236656.98it/s]"
     ]
    },
    {
     "name": "stdout",
     "output_type": "stream",
     "text": [
      "Validating SMILES\n"
     ]
    },
    {
     "name": "stderr",
     "output_type": "stream",
     "text": [
      "\n"
     ]
    },
    {
     "name": "stdout",
     "output_type": "stream",
     "text": [
      "Test size = 8,748\n"
     ]
    },
    {
     "name": "stderr",
     "output_type": "stream",
     "text": [
      "  0%|          | 0/1 [00:00<?, ?it/s]"
     ]
    },
    {
     "name": "stdout",
     "output_type": "stream",
     "text": [
      "Loading pretrained parameter \"encoder.encoder.0.cached_zero_vector\".\n",
      "Loading pretrained parameter \"encoder.encoder.0.W_i.weight\".\n",
      "Loading pretrained parameter \"encoder.encoder.0.W_h.weight\".\n",
      "Loading pretrained parameter \"encoder.encoder.0.W_o.weight\".\n",
      "Loading pretrained parameter \"encoder.encoder.0.W_o.bias\".\n",
      "Loading pretrained parameter \"readout.1.weight\".\n",
      "Loading pretrained parameter \"readout.1.bias\".\n",
      "Loading pretrained parameter \"readout.4.weight\".\n",
      "Loading pretrained parameter \"readout.4.bias\".\n"
     ]
    },
    {
     "name": "stderr",
     "output_type": "stream",
     "text": [
      "100%|██████████| 1/1 [00:59<00:00, 59.36s/it]\n"
     ]
    },
    {
     "name": "stdout",
     "output_type": "stream",
     "text": [
      "Saving predictions to mc_preds.csv\n",
      "Elapsed time = 0:01:00\n",
      "running chemprop\n"
     ]
    },
    {
     "name": "stderr",
     "output_type": "stream",
     "text": [
      "1274it [00:00, 228600.78it/s]\n",
      "100%|██████████| 1274/1274 [00:00<00:00, 217181.89it/s]\n",
      "100%|██████████| 1274/1274 [00:00<00:00, 85440.64it/s]\n",
      "Fold 0\n",
      "100%|██████████| 5/5 [00:08<00:00,  1.68s/it]\n",
      "Model 0 best validation rmse = 1.319379 on epoch 4\n",
      "Model 0 test rmse = 1.221724                 \n",
      "Ensemble test rmse = 1.221724\n",
      "1-fold cross validation\n",
      "\tSeed 0 ==> test rmse = 1.221724\n",
      "Overall test rmse = 1.221724 +/- 0.000000\n",
      "Elapsed time = 0:00:09\n"
     ]
    },
    {
     "name": "stdout",
     "output_type": "stream",
     "text": [
      "Loading training args\n",
      "Setting molecule featurization parameters to default.\n",
      "Loading data\n"
     ]
    },
    {
     "name": "stderr",
     "output_type": "stream",
     "text": [
      "8723it [00:00, 374670.14it/s]\n",
      "100%|██████████| 8723/8723 [00:00<00:00, 235719.16it/s]"
     ]
    },
    {
     "name": "stdout",
     "output_type": "stream",
     "text": [
      "Validating SMILES\n"
     ]
    },
    {
     "name": "stderr",
     "output_type": "stream",
     "text": [
      "\n"
     ]
    },
    {
     "name": "stdout",
     "output_type": "stream",
     "text": [
      "Test size = 8,723\n"
     ]
    },
    {
     "name": "stderr",
     "output_type": "stream",
     "text": [
      "  0%|          | 0/1 [00:00<?, ?it/s]"
     ]
    },
    {
     "name": "stdout",
     "output_type": "stream",
     "text": [
      "Loading pretrained parameter \"encoder.encoder.0.cached_zero_vector\".\n",
      "Loading pretrained parameter \"encoder.encoder.0.W_i.weight\".\n",
      "Loading pretrained parameter \"encoder.encoder.0.W_h.weight\".\n",
      "Loading pretrained parameter \"encoder.encoder.0.W_o.weight\".\n",
      "Loading pretrained parameter \"encoder.encoder.0.W_o.bias\".\n",
      "Loading pretrained parameter \"readout.1.weight\".\n",
      "Loading pretrained parameter \"readout.1.bias\".\n",
      "Loading pretrained parameter \"readout.4.weight\".\n",
      "Loading pretrained parameter \"readout.4.bias\".\n"
     ]
    },
    {
     "name": "stderr",
     "output_type": "stream",
     "text": [
      "100%|██████████| 1/1 [00:59<00:00, 59.21s/it]\n"
     ]
    },
    {
     "name": "stdout",
     "output_type": "stream",
     "text": [
      "Saving predictions to mc_preds.csv\n",
      "Elapsed time = 0:00:59\n",
      "running chemprop\n",
      "in the counter\n"
     ]
    },
    {
     "name": "stderr",
     "output_type": "stream",
     "text": [
      "1299it [00:00, 237776.07it/s]\n",
      "100%|██████████| 1299/1299 [00:00<00:00, 216567.33it/s]\n",
      "100%|██████████| 1299/1299 [00:00<00:00, 78098.72it/s]\n",
      "Fold 0\n",
      "100%|██████████| 5/5 [00:08<00:00,  1.70s/it]\n",
      "Model 0 best validation rmse = 1.171079 on epoch 4\n",
      "Model 0 test rmse = 1.188076                 \n",
      "Ensemble test rmse = 1.188076\n",
      "1-fold cross validation\n",
      "\tSeed 0 ==> test rmse = 1.188076\n",
      "Overall test rmse = 1.188076 +/- 0.000000\n",
      "Elapsed time = 0:00:09\n"
     ]
    },
    {
     "name": "stdout",
     "output_type": "stream",
     "text": [
      "Loading training args\n",
      "Setting molecule featurization parameters to default.\n",
      "Loading data\n"
     ]
    },
    {
     "name": "stderr",
     "output_type": "stream",
     "text": [
      "8698it [00:00, 25995.29it/s]\n",
      "100%|██████████| 8698/8698 [00:00<00:00, 235730.06it/s]\n"
     ]
    },
    {
     "name": "stdout",
     "output_type": "stream",
     "text": [
      "Validating SMILES\n",
      "Test size = 8,698\n"
     ]
    },
    {
     "name": "stderr",
     "output_type": "stream",
     "text": [
      "  0%|          | 0/1 [00:00<?, ?it/s]"
     ]
    },
    {
     "name": "stdout",
     "output_type": "stream",
     "text": [
      "Loading pretrained parameter \"encoder.encoder.0.cached_zero_vector\".\n",
      "Loading pretrained parameter \"encoder.encoder.0.W_i.weight\".\n",
      "Loading pretrained parameter \"encoder.encoder.0.W_h.weight\".\n",
      "Loading pretrained parameter \"encoder.encoder.0.W_o.weight\".\n",
      "Loading pretrained parameter \"encoder.encoder.0.W_o.bias\".\n",
      "Loading pretrained parameter \"readout.1.weight\".\n",
      "Loading pretrained parameter \"readout.1.bias\".\n",
      "Loading pretrained parameter \"readout.4.weight\".\n",
      "Loading pretrained parameter \"readout.4.bias\".\n"
     ]
    },
    {
     "name": "stderr",
     "output_type": "stream",
     "text": [
      "100%|██████████| 1/1 [00:58<00:00, 58.90s/it]\n"
     ]
    },
    {
     "name": "stdout",
     "output_type": "stream",
     "text": [
      "Saving predictions to mc_preds.csv\n",
      "Elapsed time = 0:00:59\n",
      "running chemprop\n"
     ]
    },
    {
     "name": "stderr",
     "output_type": "stream",
     "text": [
      "1324it [00:00, 252811.55it/s]\n",
      "100%|██████████| 1324/1324 [00:00<00:00, 202969.97it/s]\n",
      "100%|██████████| 1324/1324 [00:00<00:00, 75355.64it/s]\n",
      "Fold 0\n",
      "100%|██████████| 5/5 [00:08<00:00,  1.70s/it]\n",
      "Model 0 best validation rmse = 1.240615 on epoch 4\n",
      "Model 0 test rmse = 1.328237                 \n",
      "Ensemble test rmse = 1.328237\n",
      "1-fold cross validation\n",
      "\tSeed 0 ==> test rmse = 1.328237\n",
      "Overall test rmse = 1.328237 +/- 0.000000\n",
      "Elapsed time = 0:00:09\n"
     ]
    },
    {
     "name": "stdout",
     "output_type": "stream",
     "text": [
      "Loading training args\n",
      "Setting molecule featurization parameters to default.\n",
      "Loading data\n"
     ]
    },
    {
     "name": "stderr",
     "output_type": "stream",
     "text": [
      "8673it [00:00, 390904.68it/s]\n",
      "100%|██████████| 8673/8673 [00:00<00:00, 24003.84it/s]\n"
     ]
    },
    {
     "name": "stdout",
     "output_type": "stream",
     "text": [
      "Validating SMILES\n",
      "Test size = 8,673\n"
     ]
    },
    {
     "name": "stderr",
     "output_type": "stream",
     "text": [
      "  0%|          | 0/1 [00:00<?, ?it/s]"
     ]
    },
    {
     "name": "stdout",
     "output_type": "stream",
     "text": [
      "Loading pretrained parameter \"encoder.encoder.0.cached_zero_vector\".\n",
      "Loading pretrained parameter \"encoder.encoder.0.W_i.weight\".\n",
      "Loading pretrained parameter \"encoder.encoder.0.W_h.weight\".\n",
      "Loading pretrained parameter \"encoder.encoder.0.W_o.weight\".\n",
      "Loading pretrained parameter \"encoder.encoder.0.W_o.bias\".\n",
      "Loading pretrained parameter \"readout.1.weight\".\n",
      "Loading pretrained parameter \"readout.1.bias\".\n",
      "Loading pretrained parameter \"readout.4.weight\".\n",
      "Loading pretrained parameter \"readout.4.bias\".\n"
     ]
    },
    {
     "name": "stderr",
     "output_type": "stream",
     "text": [
      "100%|██████████| 1/1 [01:00<00:00, 60.52s/it]\n"
     ]
    },
    {
     "name": "stdout",
     "output_type": "stream",
     "text": [
      "Saving predictions to mc_preds.csv\n",
      "Elapsed time = 0:01:01\n",
      "running chemprop\n"
     ]
    },
    {
     "name": "stderr",
     "output_type": "stream",
     "text": [
      "1349it [00:00, 242577.32it/s]\n",
      "100%|██████████| 1349/1349 [00:00<00:00, 207568.73it/s]\n",
      "100%|██████████| 1349/1349 [00:00<00:00, 72895.08it/s]\n",
      "Fold 0\n",
      "100%|██████████| 5/5 [00:08<00:00,  1.79s/it]\n",
      "Model 0 best validation rmse = 1.222545 on epoch 4\n",
      "Model 0 test rmse = 1.246809                 \n",
      "Ensemble test rmse = 1.246809\n",
      "1-fold cross validation\n",
      "\tSeed 0 ==> test rmse = 1.246809\n",
      "Overall test rmse = 1.246809 +/- 0.000000\n",
      "Elapsed time = 0:00:09\n"
     ]
    },
    {
     "name": "stdout",
     "output_type": "stream",
     "text": [
      "Loading training args\n",
      "Setting molecule featurization parameters to default.\n",
      "Loading data\n"
     ]
    },
    {
     "name": "stderr",
     "output_type": "stream",
     "text": [
      "8648it [00:00, 392078.31it/s]\n",
      "100%|██████████| 8648/8648 [00:00<00:00, 243577.48it/s]"
     ]
    },
    {
     "name": "stdout",
     "output_type": "stream",
     "text": [
      "Validating SMILES\n"
     ]
    },
    {
     "name": "stderr",
     "output_type": "stream",
     "text": [
      "\n"
     ]
    },
    {
     "name": "stdout",
     "output_type": "stream",
     "text": [
      "Test size = 8,648\n"
     ]
    },
    {
     "name": "stderr",
     "output_type": "stream",
     "text": [
      "  0%|          | 0/1 [00:00<?, ?it/s]"
     ]
    },
    {
     "name": "stdout",
     "output_type": "stream",
     "text": [
      "Loading pretrained parameter \"encoder.encoder.0.cached_zero_vector\".\n",
      "Loading pretrained parameter \"encoder.encoder.0.W_i.weight\".\n",
      "Loading pretrained parameter \"encoder.encoder.0.W_h.weight\".\n",
      "Loading pretrained parameter \"encoder.encoder.0.W_o.weight\".\n",
      "Loading pretrained parameter \"encoder.encoder.0.W_o.bias\".\n",
      "Loading pretrained parameter \"readout.1.weight\".\n",
      "Loading pretrained parameter \"readout.1.bias\".\n",
      "Loading pretrained parameter \"readout.4.weight\".\n",
      "Loading pretrained parameter \"readout.4.bias\".\n"
     ]
    },
    {
     "name": "stderr",
     "output_type": "stream",
     "text": [
      "100%|██████████| 1/1 [01:00<00:00, 60.67s/it]\n"
     ]
    },
    {
     "name": "stdout",
     "output_type": "stream",
     "text": [
      "Saving predictions to mc_preds.csv\n",
      "Elapsed time = 0:01:01\n",
      "running chemprop\n"
     ]
    },
    {
     "name": "stderr",
     "output_type": "stream",
     "text": [
      "1374it [00:00, 234916.59it/s]\n",
      "100%|██████████| 1374/1374 [00:00<00:00, 204854.75it/s]\n",
      "100%|██████████| 1374/1374 [00:00<00:00, 66396.00it/s]\n",
      "Fold 0\n",
      "100%|██████████| 5/5 [00:08<00:00,  1.76s/it]\n",
      "Model 0 best validation rmse = 1.118114 on epoch 4\n",
      "Model 0 test rmse = 1.206202                 \n",
      "Ensemble test rmse = 1.206202\n",
      "1-fold cross validation\n",
      "\tSeed 0 ==> test rmse = 1.206202\n",
      "Overall test rmse = 1.206202 +/- 0.000000\n",
      "Elapsed time = 0:00:09\n"
     ]
    },
    {
     "name": "stdout",
     "output_type": "stream",
     "text": [
      "Loading training args\n",
      "Setting molecule featurization parameters to default.\n",
      "Loading data\n"
     ]
    },
    {
     "name": "stderr",
     "output_type": "stream",
     "text": [
      "8623it [00:00, 385453.46it/s]\n",
      "100%|██████████| 8623/8623 [00:00<00:00, 24897.08it/s]\n"
     ]
    },
    {
     "name": "stdout",
     "output_type": "stream",
     "text": [
      "Validating SMILES\n",
      "Test size = 8,623\n"
     ]
    },
    {
     "name": "stderr",
     "output_type": "stream",
     "text": [
      "  0%|          | 0/1 [00:00<?, ?it/s]"
     ]
    },
    {
     "name": "stdout",
     "output_type": "stream",
     "text": [
      "Loading pretrained parameter \"encoder.encoder.0.cached_zero_vector\".\n",
      "Loading pretrained parameter \"encoder.encoder.0.W_i.weight\".\n",
      "Loading pretrained parameter \"encoder.encoder.0.W_h.weight\".\n",
      "Loading pretrained parameter \"encoder.encoder.0.W_o.weight\".\n",
      "Loading pretrained parameter \"encoder.encoder.0.W_o.bias\".\n",
      "Loading pretrained parameter \"readout.1.weight\".\n",
      "Loading pretrained parameter \"readout.1.bias\".\n",
      "Loading pretrained parameter \"readout.4.weight\".\n",
      "Loading pretrained parameter \"readout.4.bias\".\n"
     ]
    },
    {
     "name": "stderr",
     "output_type": "stream",
     "text": [
      "100%|██████████| 1/1 [00:59<00:00, 59.59s/it]\n"
     ]
    },
    {
     "name": "stdout",
     "output_type": "stream",
     "text": [
      "Saving predictions to mc_preds.csv\n",
      "Elapsed time = 0:01:00\n",
      "running chemprop\n",
      "in the counter\n"
     ]
    },
    {
     "name": "stderr",
     "output_type": "stream",
     "text": [
      "1399it [00:00, 206410.27it/s]\n",
      "100%|██████████| 1399/1399 [00:00<00:00, 203963.69it/s]\n",
      "100%|██████████| 1399/1399 [00:00<00:00, 74649.59it/s]\n",
      "Fold 0\n",
      "100%|██████████| 5/5 [00:08<00:00,  1.76s/it]\n",
      "Model 0 best validation rmse = 1.149707 on epoch 4\n",
      "Model 0 test rmse = 1.159819                 \n",
      "Ensemble test rmse = 1.159819\n",
      "1-fold cross validation\n",
      "\tSeed 0 ==> test rmse = 1.159819\n",
      "Overall test rmse = 1.159819 +/- 0.000000\n",
      "Elapsed time = 0:00:09\n"
     ]
    },
    {
     "name": "stdout",
     "output_type": "stream",
     "text": [
      "Loading training args\n",
      "Setting molecule featurization parameters to default.\n",
      "Loading data\n"
     ]
    },
    {
     "name": "stderr",
     "output_type": "stream",
     "text": [
      "8598it [00:00, 391640.25it/s]\n",
      "100%|██████████| 8598/8598 [00:00<00:00, 240733.67it/s]\n"
     ]
    },
    {
     "name": "stdout",
     "output_type": "stream",
     "text": [
      "Validating SMILES\n",
      "Test size = 8,598\n"
     ]
    },
    {
     "name": "stderr",
     "output_type": "stream",
     "text": [
      "  0%|          | 0/1 [00:00<?, ?it/s]"
     ]
    },
    {
     "name": "stdout",
     "output_type": "stream",
     "text": [
      "Loading pretrained parameter \"encoder.encoder.0.cached_zero_vector\".\n",
      "Loading pretrained parameter \"encoder.encoder.0.W_i.weight\".\n",
      "Loading pretrained parameter \"encoder.encoder.0.W_h.weight\".\n",
      "Loading pretrained parameter \"encoder.encoder.0.W_o.weight\".\n",
      "Loading pretrained parameter \"encoder.encoder.0.W_o.bias\".\n",
      "Loading pretrained parameter \"readout.1.weight\".\n",
      "Loading pretrained parameter \"readout.1.bias\".\n",
      "Loading pretrained parameter \"readout.4.weight\".\n",
      "Loading pretrained parameter \"readout.4.bias\".\n"
     ]
    },
    {
     "name": "stderr",
     "output_type": "stream",
     "text": [
      "100%|██████████| 1/1 [00:59<00:00, 59.50s/it]\n"
     ]
    },
    {
     "name": "stdout",
     "output_type": "stream",
     "text": [
      "Saving predictions to mc_preds.csv\n",
      "Elapsed time = 0:01:00\n",
      "running chemprop\n"
     ]
    },
    {
     "name": "stderr",
     "output_type": "stream",
     "text": [
      "1424it [00:00, 219519.59it/s]\n",
      "100%|██████████| 1424/1424 [00:00<00:00, 180979.60it/s]\n",
      "100%|██████████| 1424/1424 [00:00<00:00, 70199.21it/s]\n",
      "Fold 0\n",
      "100%|██████████| 5/5 [00:09<00:00,  1.85s/it]\n",
      "Model 0 best validation rmse = 1.245302 on epoch 4\n",
      "Model 0 test rmse = 1.215117                 \n",
      "Ensemble test rmse = 1.215117\n",
      "1-fold cross validation\n",
      "\tSeed 0 ==> test rmse = 1.215117\n",
      "Overall test rmse = 1.215117 +/- 0.000000\n",
      "Elapsed time = 0:00:10\n"
     ]
    },
    {
     "name": "stdout",
     "output_type": "stream",
     "text": [
      "Loading training args\n",
      "Setting molecule featurization parameters to default.\n",
      "Loading data\n"
     ]
    },
    {
     "name": "stderr",
     "output_type": "stream",
     "text": [
      "8573it [00:00, 390764.61it/s]\n",
      "100%|██████████| 8573/8573 [00:00<00:00, 24747.69it/s]\n"
     ]
    },
    {
     "name": "stdout",
     "output_type": "stream",
     "text": [
      "Validating SMILES\n",
      "Test size = 8,573\n"
     ]
    },
    {
     "name": "stderr",
     "output_type": "stream",
     "text": [
      "  0%|          | 0/1 [00:00<?, ?it/s]"
     ]
    },
    {
     "name": "stdout",
     "output_type": "stream",
     "text": [
      "Loading pretrained parameter \"encoder.encoder.0.cached_zero_vector\".\n",
      "Loading pretrained parameter \"encoder.encoder.0.W_i.weight\".\n",
      "Loading pretrained parameter \"encoder.encoder.0.W_h.weight\".\n",
      "Loading pretrained parameter \"encoder.encoder.0.W_o.weight\".\n",
      "Loading pretrained parameter \"encoder.encoder.0.W_o.bias\".\n",
      "Loading pretrained parameter \"readout.1.weight\".\n",
      "Loading pretrained parameter \"readout.1.bias\".\n",
      "Loading pretrained parameter \"readout.4.weight\".\n",
      "Loading pretrained parameter \"readout.4.bias\".\n"
     ]
    },
    {
     "name": "stderr",
     "output_type": "stream",
     "text": [
      "100%|██████████| 1/1 [00:59<00:00, 59.85s/it]\n"
     ]
    },
    {
     "name": "stdout",
     "output_type": "stream",
     "text": [
      "Saving predictions to mc_preds.csv\n",
      "Elapsed time = 0:01:01\n",
      "running chemprop\n"
     ]
    },
    {
     "name": "stderr",
     "output_type": "stream",
     "text": [
      "1449it [00:00, 224827.85it/s]\n",
      "100%|██████████| 1449/1449 [00:00<00:00, 213539.46it/s]\n",
      "100%|██████████| 1449/1449 [00:00<00:00, 84150.90it/s]\n",
      "Fold 0\n",
      "100%|██████████| 5/5 [00:09<00:00,  1.84s/it]\n",
      "Model 0 best validation rmse = 1.238755 on epoch 3\n",
      "Model 0 test rmse = 1.220323                 \n",
      "Ensemble test rmse = 1.220323\n",
      "1-fold cross validation\n",
      "\tSeed 0 ==> test rmse = 1.220323\n",
      "Overall test rmse = 1.220323 +/- 0.000000\n",
      "Elapsed time = 0:00:10\n"
     ]
    },
    {
     "name": "stdout",
     "output_type": "stream",
     "text": [
      "Loading training args\n",
      "Setting molecule featurization parameters to default.\n",
      "Loading data\n"
     ]
    },
    {
     "name": "stderr",
     "output_type": "stream",
     "text": [
      "8548it [00:00, 397341.42it/s]\n",
      "100%|██████████| 8548/8548 [00:00<00:00, 243991.96it/s]"
     ]
    },
    {
     "name": "stdout",
     "output_type": "stream",
     "text": [
      "Validating SMILES\n",
      "Test size = 8,548\n"
     ]
    },
    {
     "name": "stderr",
     "output_type": "stream",
     "text": [
      "\n",
      "  0%|          | 0/1 [00:00<?, ?it/s]"
     ]
    },
    {
     "name": "stdout",
     "output_type": "stream",
     "text": [
      "Loading pretrained parameter \"encoder.encoder.0.cached_zero_vector\".\n",
      "Loading pretrained parameter \"encoder.encoder.0.W_i.weight\".\n",
      "Loading pretrained parameter \"encoder.encoder.0.W_h.weight\".\n",
      "Loading pretrained parameter \"encoder.encoder.0.W_o.weight\".\n",
      "Loading pretrained parameter \"encoder.encoder.0.W_o.bias\".\n",
      "Loading pretrained parameter \"readout.1.weight\".\n",
      "Loading pretrained parameter \"readout.1.bias\".\n",
      "Loading pretrained parameter \"readout.4.weight\".\n",
      "Loading pretrained parameter \"readout.4.bias\".\n"
     ]
    },
    {
     "name": "stderr",
     "output_type": "stream",
     "text": [
      "100%|██████████| 1/1 [00:59<00:00, 59.76s/it]\n"
     ]
    },
    {
     "name": "stdout",
     "output_type": "stream",
     "text": [
      "Saving predictions to mc_preds.csv\n",
      "Elapsed time = 0:01:00\n",
      "running chemprop\n"
     ]
    },
    {
     "name": "stderr",
     "output_type": "stream",
     "text": [
      "1474it [00:00, 234519.54it/s]\n",
      "100%|██████████| 1474/1474 [00:00<00:00, 213098.17it/s]\n",
      "100%|██████████| 1474/1474 [00:00<00:00, 80265.94it/s]\n",
      "Fold 0\n",
      "100%|██████████| 5/5 [00:09<00:00,  1.89s/it]\n",
      "Model 0 best validation rmse = 1.175860 on epoch 4\n",
      "Model 0 test rmse = 1.194265                 \n",
      "Ensemble test rmse = 1.194265\n",
      "1-fold cross validation\n",
      "\tSeed 0 ==> test rmse = 1.194265\n",
      "Overall test rmse = 1.194265 +/- 0.000000\n",
      "Elapsed time = 0:00:10\n"
     ]
    },
    {
     "name": "stdout",
     "output_type": "stream",
     "text": [
      "Loading training args\n",
      "Setting molecule featurization parameters to default.\n",
      "Loading data\n"
     ]
    },
    {
     "name": "stderr",
     "output_type": "stream",
     "text": [
      "8523it [00:00, 394048.20it/s]\n",
      "100%|██████████| 8523/8523 [00:00<00:00, 243528.62it/s]"
     ]
    },
    {
     "name": "stdout",
     "output_type": "stream",
     "text": [
      "Validating SMILES\n"
     ]
    },
    {
     "name": "stderr",
     "output_type": "stream",
     "text": [
      "\n"
     ]
    },
    {
     "name": "stdout",
     "output_type": "stream",
     "text": [
      "Test size = 8,523\n"
     ]
    },
    {
     "name": "stderr",
     "output_type": "stream",
     "text": [
      "  0%|          | 0/1 [00:00<?, ?it/s]"
     ]
    },
    {
     "name": "stdout",
     "output_type": "stream",
     "text": [
      "Loading pretrained parameter \"encoder.encoder.0.cached_zero_vector\".\n",
      "Loading pretrained parameter \"encoder.encoder.0.W_i.weight\".\n",
      "Loading pretrained parameter \"encoder.encoder.0.W_h.weight\".\n",
      "Loading pretrained parameter \"encoder.encoder.0.W_o.weight\".\n",
      "Loading pretrained parameter \"encoder.encoder.0.W_o.bias\".\n",
      "Loading pretrained parameter \"readout.1.weight\".\n",
      "Loading pretrained parameter \"readout.1.bias\".\n",
      "Loading pretrained parameter \"readout.4.weight\".\n",
      "Loading pretrained parameter \"readout.4.bias\".\n"
     ]
    },
    {
     "name": "stderr",
     "output_type": "stream",
     "text": [
      "100%|██████████| 1/1 [00:59<00:00, 59.12s/it]\n"
     ]
    },
    {
     "name": "stdout",
     "output_type": "stream",
     "text": [
      "Saving predictions to mc_preds.csv\n",
      "Elapsed time = 0:00:59\n",
      "running chemprop\n",
      "in the counter\n"
     ]
    },
    {
     "name": "stderr",
     "output_type": "stream",
     "text": [
      "1499it [00:00, 249504.41it/s]\n",
      "100%|██████████| 1499/1499 [00:00<00:00, 221063.31it/s]\n",
      "100%|██████████| 1499/1499 [00:00<00:00, 72552.58it/s]\n",
      "Fold 0\n",
      "100%|██████████| 5/5 [00:09<00:00,  1.91s/it]\n",
      "Model 0 best validation rmse = 1.171839 on epoch 4\n",
      "Model 0 test rmse = 1.207313                 \n",
      "Ensemble test rmse = 1.207313\n",
      "1-fold cross validation\n",
      "\tSeed 0 ==> test rmse = 1.207313\n",
      "Overall test rmse = 1.207313 +/- 0.000000\n",
      "Elapsed time = 0:00:10\n"
     ]
    },
    {
     "name": "stdout",
     "output_type": "stream",
     "text": [
      "Loading training args\n",
      "Setting molecule featurization parameters to default.\n",
      "Loading data\n"
     ]
    },
    {
     "name": "stderr",
     "output_type": "stream",
     "text": [
      "8498it [00:00, 388350.48it/s]\n",
      "100%|██████████| 8498/8498 [00:00<00:00, 24161.95it/s]\n"
     ]
    },
    {
     "name": "stdout",
     "output_type": "stream",
     "text": [
      "Validating SMILES\n",
      "Test size = 8,498\n"
     ]
    },
    {
     "name": "stderr",
     "output_type": "stream",
     "text": [
      "  0%|          | 0/1 [00:00<?, ?it/s]"
     ]
    },
    {
     "name": "stdout",
     "output_type": "stream",
     "text": [
      "Loading pretrained parameter \"encoder.encoder.0.cached_zero_vector\".\n",
      "Loading pretrained parameter \"encoder.encoder.0.W_i.weight\".\n",
      "Loading pretrained parameter \"encoder.encoder.0.W_h.weight\".\n",
      "Loading pretrained parameter \"encoder.encoder.0.W_o.weight\".\n",
      "Loading pretrained parameter \"encoder.encoder.0.W_o.bias\".\n",
      "Loading pretrained parameter \"readout.1.weight\".\n",
      "Loading pretrained parameter \"readout.1.bias\".\n",
      "Loading pretrained parameter \"readout.4.weight\".\n",
      "Loading pretrained parameter \"readout.4.bias\".\n"
     ]
    },
    {
     "name": "stderr",
     "output_type": "stream",
     "text": [
      "100%|██████████| 1/1 [00:59<00:00, 59.22s/it]\n"
     ]
    },
    {
     "name": "stdout",
     "output_type": "stream",
     "text": [
      "Saving predictions to mc_preds.csv\n",
      "Elapsed time = 0:01:00\n",
      "running chemprop\n"
     ]
    },
    {
     "name": "stderr",
     "output_type": "stream",
     "text": [
      "1524it [00:00, 243212.82it/s]\n",
      "100%|██████████| 1524/1524 [00:00<00:00, 207745.44it/s]\n",
      "100%|██████████| 1524/1524 [00:00<00:00, 69127.91it/s]\n",
      "Fold 0\n",
      "100%|██████████| 5/5 [00:09<00:00,  1.96s/it]\n",
      "Model 0 best validation rmse = 1.169246 on epoch 4\n",
      "Model 0 test rmse = 1.181237                 \n",
      "Ensemble test rmse = 1.181237\n",
      "1-fold cross validation\n",
      "\tSeed 0 ==> test rmse = 1.181237\n",
      "Overall test rmse = 1.181237 +/- 0.000000\n",
      "Elapsed time = 0:00:10\n"
     ]
    },
    {
     "name": "stdout",
     "output_type": "stream",
     "text": [
      "Loading training args\n",
      "Setting molecule featurization parameters to default.\n",
      "Loading data\n"
     ]
    },
    {
     "name": "stderr",
     "output_type": "stream",
     "text": [
      "8473it [00:00, 394366.51it/s]\n",
      "100%|██████████| 8473/8473 [00:00<00:00, 24874.95it/s]\n"
     ]
    },
    {
     "name": "stdout",
     "output_type": "stream",
     "text": [
      "Validating SMILES\n",
      "Test size = 8,473\n"
     ]
    },
    {
     "name": "stderr",
     "output_type": "stream",
     "text": [
      "  0%|          | 0/1 [00:00<?, ?it/s]"
     ]
    },
    {
     "name": "stdout",
     "output_type": "stream",
     "text": [
      "Loading pretrained parameter \"encoder.encoder.0.cached_zero_vector\".\n",
      "Loading pretrained parameter \"encoder.encoder.0.W_i.weight\".\n",
      "Loading pretrained parameter \"encoder.encoder.0.W_h.weight\".\n",
      "Loading pretrained parameter \"encoder.encoder.0.W_o.weight\".\n",
      "Loading pretrained parameter \"encoder.encoder.0.W_o.bias\".\n",
      "Loading pretrained parameter \"readout.1.weight\".\n",
      "Loading pretrained parameter \"readout.1.bias\".\n",
      "Loading pretrained parameter \"readout.4.weight\".\n",
      "Loading pretrained parameter \"readout.4.bias\".\n"
     ]
    },
    {
     "name": "stderr",
     "output_type": "stream",
     "text": [
      "100%|██████████| 1/1 [00:59<00:00, 59.97s/it]\n"
     ]
    },
    {
     "name": "stdout",
     "output_type": "stream",
     "text": [
      "Saving predictions to mc_preds.csv\n",
      "Elapsed time = 0:01:01\n",
      "running chemprop\n"
     ]
    },
    {
     "name": "stderr",
     "output_type": "stream",
     "text": [
      "1549it [00:00, 236348.24it/s]\n",
      "100%|██████████| 1549/1549 [00:00<00:00, 192514.43it/s]\n",
      "100%|██████████| 1549/1549 [00:00<00:00, 67920.93it/s]\n",
      "Fold 0\n",
      "100%|██████████| 5/5 [00:10<00:00,  2.02s/it]\n",
      "Model 0 best validation rmse = 1.149385 on epoch 4\n",
      "Model 0 test rmse = 1.135565                 \n",
      "Ensemble test rmse = 1.135565\n",
      "1-fold cross validation\n",
      "\tSeed 0 ==> test rmse = 1.135565\n",
      "Overall test rmse = 1.135565 +/- 0.000000\n",
      "Elapsed time = 0:00:11\n"
     ]
    },
    {
     "name": "stdout",
     "output_type": "stream",
     "text": [
      "Loading training args\n",
      "Setting molecule featurization parameters to default.\n",
      "Loading data\n"
     ]
    },
    {
     "name": "stderr",
     "output_type": "stream",
     "text": [
      "8448it [00:00, 372764.27it/s]\n",
      "100%|██████████| 8448/8448 [00:00<00:00, 242230.52it/s]"
     ]
    },
    {
     "name": "stdout",
     "output_type": "stream",
     "text": [
      "Validating SMILES\n"
     ]
    },
    {
     "name": "stderr",
     "output_type": "stream",
     "text": [
      "\n"
     ]
    },
    {
     "name": "stdout",
     "output_type": "stream",
     "text": [
      "Test size = 8,448\n"
     ]
    },
    {
     "name": "stderr",
     "output_type": "stream",
     "text": [
      "  0%|          | 0/1 [00:00<?, ?it/s]"
     ]
    },
    {
     "name": "stdout",
     "output_type": "stream",
     "text": [
      "Loading pretrained parameter \"encoder.encoder.0.cached_zero_vector\".\n",
      "Loading pretrained parameter \"encoder.encoder.0.W_i.weight\".\n",
      "Loading pretrained parameter \"encoder.encoder.0.W_h.weight\".\n",
      "Loading pretrained parameter \"encoder.encoder.0.W_o.weight\".\n",
      "Loading pretrained parameter \"encoder.encoder.0.W_o.bias\".\n",
      "Loading pretrained parameter \"readout.1.weight\".\n",
      "Loading pretrained parameter \"readout.1.bias\".\n",
      "Loading pretrained parameter \"readout.4.weight\".\n",
      "Loading pretrained parameter \"readout.4.bias\".\n"
     ]
    },
    {
     "name": "stderr",
     "output_type": "stream",
     "text": [
      "100%|██████████| 1/1 [01:00<00:00, 60.05s/it]\n"
     ]
    },
    {
     "name": "stdout",
     "output_type": "stream",
     "text": [
      "Saving predictions to mc_preds.csv\n",
      "Elapsed time = 0:01:00\n",
      "running chemprop\n"
     ]
    },
    {
     "name": "stderr",
     "output_type": "stream",
     "text": [
      "1574it [00:00, 240425.16it/s]\n",
      "100%|██████████| 1574/1574 [00:00<00:00, 205780.02it/s]\n",
      "100%|██████████| 1574/1574 [00:00<00:00, 76275.05it/s]\n",
      "Fold 0\n",
      "100%|██████████| 5/5 [00:10<00:00,  2.11s/it]\n",
      "Model 0 best validation rmse = 1.127981 on epoch 4\n",
      "Model 0 test rmse = 1.106259                 \n",
      "Ensemble test rmse = 1.106259\n",
      "1-fold cross validation\n",
      "\tSeed 0 ==> test rmse = 1.106259\n",
      "Overall test rmse = 1.106259 +/- 0.000000\n",
      "Elapsed time = 0:00:11\n"
     ]
    },
    {
     "name": "stdout",
     "output_type": "stream",
     "text": [
      "Loading training args\n",
      "Setting molecule featurization parameters to default.\n",
      "Loading data\n"
     ]
    },
    {
     "name": "stderr",
     "output_type": "stream",
     "text": [
      "8423it [00:00, 391695.93it/s]\n",
      "100%|██████████| 8423/8423 [00:00<00:00, 242214.10it/s]"
     ]
    },
    {
     "name": "stdout",
     "output_type": "stream",
     "text": [
      "Validating SMILES\n",
      "Test size = 8,423\n"
     ]
    },
    {
     "name": "stderr",
     "output_type": "stream",
     "text": [
      "\n",
      "  0%|          | 0/1 [00:00<?, ?it/s]"
     ]
    },
    {
     "name": "stdout",
     "output_type": "stream",
     "text": [
      "Loading pretrained parameter \"encoder.encoder.0.cached_zero_vector\".\n",
      "Loading pretrained parameter \"encoder.encoder.0.W_i.weight\".\n",
      "Loading pretrained parameter \"encoder.encoder.0.W_h.weight\".\n",
      "Loading pretrained parameter \"encoder.encoder.0.W_o.weight\".\n",
      "Loading pretrained parameter \"encoder.encoder.0.W_o.bias\".\n",
      "Loading pretrained parameter \"readout.1.weight\".\n",
      "Loading pretrained parameter \"readout.1.bias\".\n",
      "Loading pretrained parameter \"readout.4.weight\".\n",
      "Loading pretrained parameter \"readout.4.bias\".\n"
     ]
    },
    {
     "name": "stderr",
     "output_type": "stream",
     "text": [
      "100%|██████████| 1/1 [00:59<00:00, 59.63s/it]\n"
     ]
    },
    {
     "name": "stdout",
     "output_type": "stream",
     "text": [
      "Saving predictions to mc_preds.csv\n",
      "Elapsed time = 0:01:00\n",
      "running chemprop\n",
      "in the counter\n"
     ]
    },
    {
     "name": "stderr",
     "output_type": "stream",
     "text": [
      "1599it [00:00, 211261.01it/s]\n",
      "100%|██████████| 1599/1599 [00:00<00:00, 201686.83it/s]\n",
      "100%|██████████| 1599/1599 [00:00<00:00, 70297.07it/s]\n",
      "Fold 0\n",
      "100%|██████████| 5/5 [00:10<00:00,  2.14s/it]\n",
      "Model 0 best validation rmse = 1.164015 on epoch 4\n",
      "Model 0 test rmse = 1.160652                 \n",
      "Ensemble test rmse = 1.160652\n",
      "1-fold cross validation\n",
      "\tSeed 0 ==> test rmse = 1.160652\n",
      "Overall test rmse = 1.160652 +/- 0.000000\n",
      "Elapsed time = 0:00:11\n"
     ]
    },
    {
     "name": "stdout",
     "output_type": "stream",
     "text": [
      "Loading training args\n",
      "Setting molecule featurization parameters to default.\n",
      "Loading data\n"
     ]
    },
    {
     "name": "stderr",
     "output_type": "stream",
     "text": [
      "8398it [00:00, 380443.75it/s]\n",
      "100%|██████████| 8398/8398 [00:00<00:00, 236677.50it/s]\n"
     ]
    },
    {
     "name": "stdout",
     "output_type": "stream",
     "text": [
      "Validating SMILES\n",
      "Test size = 8,398\n"
     ]
    },
    {
     "name": "stderr",
     "output_type": "stream",
     "text": [
      "  0%|          | 0/1 [00:00<?, ?it/s]"
     ]
    },
    {
     "name": "stdout",
     "output_type": "stream",
     "text": [
      "Loading pretrained parameter \"encoder.encoder.0.cached_zero_vector\".\n",
      "Loading pretrained parameter \"encoder.encoder.0.W_i.weight\".\n",
      "Loading pretrained parameter \"encoder.encoder.0.W_h.weight\".\n",
      "Loading pretrained parameter \"encoder.encoder.0.W_o.weight\".\n",
      "Loading pretrained parameter \"encoder.encoder.0.W_o.bias\".\n",
      "Loading pretrained parameter \"readout.1.weight\".\n",
      "Loading pretrained parameter \"readout.1.bias\".\n",
      "Loading pretrained parameter \"readout.4.weight\".\n",
      "Loading pretrained parameter \"readout.4.bias\".\n"
     ]
    },
    {
     "name": "stderr",
     "output_type": "stream",
     "text": [
      "100%|██████████| 1/1 [01:00<00:00, 60.39s/it]\n"
     ]
    },
    {
     "name": "stdout",
     "output_type": "stream",
     "text": [
      "Saving predictions to mc_preds.csv\n",
      "Elapsed time = 0:01:01\n",
      "running chemprop\n"
     ]
    },
    {
     "name": "stderr",
     "output_type": "stream",
     "text": [
      "1624it [00:00, 233592.24it/s]\n",
      "100%|██████████| 1624/1624 [00:00<00:00, 4399.08it/s]\n",
      "100%|██████████| 1624/1624 [00:00<00:00, 73681.39it/s]\n",
      "Fold 0\n",
      "100%|██████████| 5/5 [00:10<00:00,  2.12s/it]\n",
      "Model 0 best validation rmse = 1.179149 on epoch 4\n",
      "Model 0 test rmse = 1.176004                 \n",
      "Ensemble test rmse = 1.176004\n",
      "1-fold cross validation\n",
      "\tSeed 0 ==> test rmse = 1.176004\n",
      "Overall test rmse = 1.176004 +/- 0.000000\n",
      "Elapsed time = 0:00:11\n"
     ]
    },
    {
     "name": "stdout",
     "output_type": "stream",
     "text": [
      "Loading training args\n",
      "Setting molecule featurization parameters to default.\n",
      "Loading data\n"
     ]
    },
    {
     "name": "stderr",
     "output_type": "stream",
     "text": [
      "8373it [00:00, 376464.93it/s]\n",
      "100%|██████████| 8373/8373 [00:00<00:00, 230484.40it/s]"
     ]
    },
    {
     "name": "stdout",
     "output_type": "stream",
     "text": [
      "Validating SMILES\n",
      "Test size = 8,373\n"
     ]
    },
    {
     "name": "stderr",
     "output_type": "stream",
     "text": [
      "\n",
      "  0%|          | 0/1 [00:00<?, ?it/s]"
     ]
    },
    {
     "name": "stdout",
     "output_type": "stream",
     "text": [
      "Loading pretrained parameter \"encoder.encoder.0.cached_zero_vector\".\n",
      "Loading pretrained parameter \"encoder.encoder.0.W_i.weight\".\n",
      "Loading pretrained parameter \"encoder.encoder.0.W_h.weight\".\n",
      "Loading pretrained parameter \"encoder.encoder.0.W_o.weight\".\n",
      "Loading pretrained parameter \"encoder.encoder.0.W_o.bias\".\n",
      "Loading pretrained parameter \"readout.1.weight\".\n",
      "Loading pretrained parameter \"readout.1.bias\".\n",
      "Loading pretrained parameter \"readout.4.weight\".\n",
      "Loading pretrained parameter \"readout.4.bias\".\n"
     ]
    },
    {
     "name": "stderr",
     "output_type": "stream",
     "text": [
      "100%|██████████| 1/1 [01:00<00:00, 60.47s/it]\n"
     ]
    },
    {
     "name": "stdout",
     "output_type": "stream",
     "text": [
      "Saving predictions to mc_preds.csv\n",
      "Elapsed time = 0:01:01\n",
      "running chemprop\n"
     ]
    },
    {
     "name": "stderr",
     "output_type": "stream",
     "text": [
      "1649it [00:00, 200000.21it/s]\n",
      "100%|██████████| 1649/1649 [00:00<00:00, 208866.56it/s]\n",
      "100%|██████████| 1649/1649 [00:00<00:00, 82208.02it/s]\n",
      "Fold 0\n",
      "100%|██████████| 5/5 [00:10<00:00,  2.11s/it]\n",
      "Model 0 best validation rmse = 1.208042 on epoch 4\n",
      "Model 0 test rmse = 1.116497                 \n",
      "Ensemble test rmse = 1.116497\n",
      "1-fold cross validation\n",
      "\tSeed 0 ==> test rmse = 1.116497\n",
      "Overall test rmse = 1.116497 +/- 0.000000\n",
      "Elapsed time = 0:00:11\n"
     ]
    },
    {
     "name": "stdout",
     "output_type": "stream",
     "text": [
      "Loading training args\n",
      "Setting molecule featurization parameters to default.\n",
      "Loading data\n"
     ]
    },
    {
     "name": "stderr",
     "output_type": "stream",
     "text": [
      "8348it [00:00, 393787.95it/s]\n",
      "100%|██████████| 8348/8348 [00:00<00:00, 245227.34it/s]\n"
     ]
    },
    {
     "name": "stdout",
     "output_type": "stream",
     "text": [
      "Validating SMILES\n",
      "Test size = 8,348\n"
     ]
    },
    {
     "name": "stderr",
     "output_type": "stream",
     "text": [
      "  0%|          | 0/1 [00:00<?, ?it/s]"
     ]
    },
    {
     "name": "stdout",
     "output_type": "stream",
     "text": [
      "Loading pretrained parameter \"encoder.encoder.0.cached_zero_vector\".\n",
      "Loading pretrained parameter \"encoder.encoder.0.W_i.weight\".\n",
      "Loading pretrained parameter \"encoder.encoder.0.W_h.weight\".\n",
      "Loading pretrained parameter \"encoder.encoder.0.W_o.weight\".\n",
      "Loading pretrained parameter \"encoder.encoder.0.W_o.bias\".\n",
      "Loading pretrained parameter \"readout.1.weight\".\n",
      "Loading pretrained parameter \"readout.1.bias\".\n",
      "Loading pretrained parameter \"readout.4.weight\".\n",
      "Loading pretrained parameter \"readout.4.bias\".\n"
     ]
    },
    {
     "name": "stderr",
     "output_type": "stream",
     "text": [
      "100%|██████████| 1/1 [00:58<00:00, 58.83s/it]\n"
     ]
    },
    {
     "name": "stdout",
     "output_type": "stream",
     "text": [
      "Saving predictions to mc_preds.csv\n",
      "Elapsed time = 0:00:59\n",
      "running chemprop\n"
     ]
    },
    {
     "name": "stderr",
     "output_type": "stream",
     "text": [
      "1674it [00:00, 236239.19it/s]\n",
      "100%|██████████| 1674/1674 [00:00<00:00, 220524.04it/s]\n",
      "100%|██████████| 1674/1674 [00:00<00:00, 81263.70it/s]\n",
      "Fold 0\n",
      "100%|██████████| 5/5 [00:11<00:00,  2.23s/it]\n",
      "Model 0 best validation rmse = 1.223760 on epoch 4\n",
      "Model 0 test rmse = 1.106371                 \n",
      "Ensemble test rmse = 1.106371\n",
      "1-fold cross validation\n",
      "\tSeed 0 ==> test rmse = 1.106371\n",
      "Overall test rmse = 1.106371 +/- 0.000000\n",
      "Elapsed time = 0:00:12\n"
     ]
    },
    {
     "name": "stdout",
     "output_type": "stream",
     "text": [
      "Loading training args\n",
      "Setting molecule featurization parameters to default.\n",
      "Loading data\n"
     ]
    },
    {
     "name": "stderr",
     "output_type": "stream",
     "text": [
      "8323it [00:00, 387548.34it/s]\n",
      "100%|██████████| 8323/8323 [00:00<00:00, 23659.74it/s]\n"
     ]
    },
    {
     "name": "stdout",
     "output_type": "stream",
     "text": [
      "Validating SMILES\n",
      "Test size = 8,323\n"
     ]
    },
    {
     "name": "stderr",
     "output_type": "stream",
     "text": [
      "  0%|          | 0/1 [00:00<?, ?it/s]"
     ]
    },
    {
     "name": "stdout",
     "output_type": "stream",
     "text": [
      "Loading pretrained parameter \"encoder.encoder.0.cached_zero_vector\".\n",
      "Loading pretrained parameter \"encoder.encoder.0.W_i.weight\".\n",
      "Loading pretrained parameter \"encoder.encoder.0.W_h.weight\".\n",
      "Loading pretrained parameter \"encoder.encoder.0.W_o.weight\".\n",
      "Loading pretrained parameter \"encoder.encoder.0.W_o.bias\".\n",
      "Loading pretrained parameter \"readout.1.weight\".\n",
      "Loading pretrained parameter \"readout.1.bias\".\n",
      "Loading pretrained parameter \"readout.4.weight\".\n",
      "Loading pretrained parameter \"readout.4.bias\".\n"
     ]
    },
    {
     "name": "stderr",
     "output_type": "stream",
     "text": [
      "100%|██████████| 1/1 [00:59<00:00, 59.32s/it]\n"
     ]
    },
    {
     "name": "stdout",
     "output_type": "stream",
     "text": [
      "Saving predictions to mc_preds.csv\n",
      "Elapsed time = 0:01:00\n",
      "running chemprop\n",
      "in the counter\n"
     ]
    },
    {
     "name": "stderr",
     "output_type": "stream",
     "text": [
      "1699it [00:00, 241269.04it/s]\n",
      "100%|██████████| 1699/1699 [00:00<00:00, 221652.33it/s]\n",
      "100%|██████████| 1699/1699 [00:00<00:00, 57571.80it/s]\n",
      "Fold 0\n",
      "100%|██████████| 5/5 [00:10<00:00,  2.15s/it]\n",
      "Model 0 best validation rmse = 1.206413 on epoch 4\n",
      "Model 0 test rmse = 1.147938                 \n",
      "Ensemble test rmse = 1.147938\n",
      "1-fold cross validation\n",
      "\tSeed 0 ==> test rmse = 1.147938\n",
      "Overall test rmse = 1.147938 +/- 0.000000\n",
      "Elapsed time = 0:00:11\n"
     ]
    },
    {
     "name": "stdout",
     "output_type": "stream",
     "text": [
      "Loading training args\n",
      "Setting molecule featurization parameters to default.\n",
      "Loading data\n"
     ]
    },
    {
     "name": "stderr",
     "output_type": "stream",
     "text": [
      "8298it [00:00, 376462.50it/s]\n",
      "100%|██████████| 8298/8298 [00:00<00:00, 23469.31it/s]\n"
     ]
    },
    {
     "name": "stdout",
     "output_type": "stream",
     "text": [
      "Validating SMILES\n",
      "Test size = 8,298\n"
     ]
    },
    {
     "name": "stderr",
     "output_type": "stream",
     "text": [
      "  0%|          | 0/1 [00:00<?, ?it/s]"
     ]
    },
    {
     "name": "stdout",
     "output_type": "stream",
     "text": [
      "Loading pretrained parameter \"encoder.encoder.0.cached_zero_vector\".\n",
      "Loading pretrained parameter \"encoder.encoder.0.W_i.weight\".\n",
      "Loading pretrained parameter \"encoder.encoder.0.W_h.weight\".\n",
      "Loading pretrained parameter \"encoder.encoder.0.W_o.weight\".\n",
      "Loading pretrained parameter \"encoder.encoder.0.W_o.bias\".\n",
      "Loading pretrained parameter \"readout.1.weight\".\n",
      "Loading pretrained parameter \"readout.1.bias\".\n",
      "Loading pretrained parameter \"readout.4.weight\".\n",
      "Loading pretrained parameter \"readout.4.bias\".\n"
     ]
    },
    {
     "name": "stderr",
     "output_type": "stream",
     "text": [
      "100%|██████████| 1/1 [00:59<00:00, 59.58s/it]\n"
     ]
    },
    {
     "name": "stdout",
     "output_type": "stream",
     "text": [
      "Saving predictions to mc_preds.csv\n",
      "Elapsed time = 0:01:00\n",
      "running chemprop\n"
     ]
    },
    {
     "name": "stderr",
     "output_type": "stream",
     "text": [
      "1724it [00:00, 243401.78it/s]\n",
      "100%|██████████| 1724/1724 [00:00<00:00, 211506.38it/s]\n",
      "100%|██████████| 1724/1724 [00:00<00:00, 67943.74it/s]\n",
      "Fold 0\n",
      "100%|██████████| 5/5 [00:10<00:00,  2.20s/it]\n",
      "Model 0 best validation rmse = 1.112558 on epoch 4\n",
      "Model 0 test rmse = 1.071926                 \n",
      "Ensemble test rmse = 1.071926\n",
      "1-fold cross validation\n",
      "\tSeed 0 ==> test rmse = 1.071926\n",
      "Overall test rmse = 1.071926 +/- 0.000000\n",
      "Elapsed time = 0:00:11\n"
     ]
    },
    {
     "name": "stdout",
     "output_type": "stream",
     "text": [
      "Loading training args\n",
      "Setting molecule featurization parameters to default.\n",
      "Loading data\n"
     ]
    },
    {
     "name": "stderr",
     "output_type": "stream",
     "text": [
      "8273it [00:00, 388020.14it/s]\n",
      "100%|██████████| 8273/8273 [00:00<00:00, 235637.30it/s]\n"
     ]
    },
    {
     "name": "stdout",
     "output_type": "stream",
     "text": [
      "Validating SMILES\n",
      "Test size = 8,273\n"
     ]
    },
    {
     "name": "stderr",
     "output_type": "stream",
     "text": [
      "  0%|          | 0/1 [00:00<?, ?it/s]"
     ]
    },
    {
     "name": "stdout",
     "output_type": "stream",
     "text": [
      "Loading pretrained parameter \"encoder.encoder.0.cached_zero_vector\".\n",
      "Loading pretrained parameter \"encoder.encoder.0.W_i.weight\".\n",
      "Loading pretrained parameter \"encoder.encoder.0.W_h.weight\".\n",
      "Loading pretrained parameter \"encoder.encoder.0.W_o.weight\".\n",
      "Loading pretrained parameter \"encoder.encoder.0.W_o.bias\".\n",
      "Loading pretrained parameter \"readout.1.weight\".\n",
      "Loading pretrained parameter \"readout.1.bias\".\n",
      "Loading pretrained parameter \"readout.4.weight\".\n",
      "Loading pretrained parameter \"readout.4.bias\".\n"
     ]
    },
    {
     "name": "stderr",
     "output_type": "stream",
     "text": [
      "100%|██████████| 1/1 [00:59<00:00, 59.34s/it]\n"
     ]
    },
    {
     "name": "stdout",
     "output_type": "stream",
     "text": [
      "Saving predictions to mc_preds.csv\n",
      "Elapsed time = 0:01:00\n",
      "running chemprop\n"
     ]
    },
    {
     "name": "stderr",
     "output_type": "stream",
     "text": [
      "1749it [00:00, 4868.07it/s]\n",
      "100%|██████████| 1749/1749 [00:00<00:00, 236991.59it/s]\n",
      "100%|██████████| 1749/1749 [00:00<00:00, 65310.20it/s]\n",
      "Fold 0\n",
      "100%|██████████| 5/5 [00:10<00:00,  2.19s/it]\n",
      "Model 0 best validation rmse = 1.216591 on epoch 4\n",
      "Model 0 test rmse = 1.169709                 \n",
      "Ensemble test rmse = 1.169709\n",
      "1-fold cross validation\n",
      "\tSeed 0 ==> test rmse = 1.169709\n",
      "Overall test rmse = 1.169709 +/- 0.000000\n",
      "Elapsed time = 0:00:12\n"
     ]
    },
    {
     "name": "stdout",
     "output_type": "stream",
     "text": [
      "Loading training args\n",
      "Setting molecule featurization parameters to default.\n",
      "Loading data\n"
     ]
    },
    {
     "name": "stderr",
     "output_type": "stream",
     "text": [
      "8248it [00:00, 392982.24it/s]\n",
      "100%|██████████| 8248/8248 [00:00<00:00, 243245.51it/s]"
     ]
    },
    {
     "name": "stdout",
     "output_type": "stream",
     "text": [
      "Validating SMILES\n"
     ]
    },
    {
     "name": "stderr",
     "output_type": "stream",
     "text": [
      "\n"
     ]
    },
    {
     "name": "stdout",
     "output_type": "stream",
     "text": [
      "Test size = 8,248\n"
     ]
    },
    {
     "name": "stderr",
     "output_type": "stream",
     "text": [
      "  0%|          | 0/1 [00:00<?, ?it/s]"
     ]
    },
    {
     "name": "stdout",
     "output_type": "stream",
     "text": [
      "Loading pretrained parameter \"encoder.encoder.0.cached_zero_vector\".\n",
      "Loading pretrained parameter \"encoder.encoder.0.W_i.weight\".\n",
      "Loading pretrained parameter \"encoder.encoder.0.W_h.weight\".\n",
      "Loading pretrained parameter \"encoder.encoder.0.W_o.weight\".\n",
      "Loading pretrained parameter \"encoder.encoder.0.W_o.bias\".\n",
      "Loading pretrained parameter \"readout.1.weight\".\n",
      "Loading pretrained parameter \"readout.1.bias\".\n",
      "Loading pretrained parameter \"readout.4.weight\".\n",
      "Loading pretrained parameter \"readout.4.bias\".\n"
     ]
    },
    {
     "name": "stderr",
     "output_type": "stream",
     "text": [
      "100%|██████████| 1/1 [00:58<00:00, 58.54s/it]\n"
     ]
    },
    {
     "name": "stdout",
     "output_type": "stream",
     "text": [
      "Saving predictions to mc_preds.csv\n",
      "Elapsed time = 0:00:59\n",
      "running chemprop\n"
     ]
    },
    {
     "name": "stderr",
     "output_type": "stream",
     "text": [
      "1774it [00:00, 251893.95it/s]\n",
      "100%|██████████| 1774/1774 [00:00<00:00, 216847.70it/s]\n",
      "100%|██████████| 1774/1774 [00:00<00:00, 64015.34it/s]\n",
      "Fold 0\n",
      "100%|██████████| 5/5 [00:11<00:00,  2.37s/it]\n",
      "Model 0 best validation rmse = 1.161398 on epoch 4\n",
      "Model 0 test rmse = 1.090208                 \n",
      "Ensemble test rmse = 1.090208\n",
      "1-fold cross validation\n",
      "\tSeed 0 ==> test rmse = 1.090208\n",
      "Overall test rmse = 1.090208 +/- 0.000000\n",
      "Elapsed time = 0:00:12\n"
     ]
    },
    {
     "name": "stdout",
     "output_type": "stream",
     "text": [
      "Loading training args\n",
      "Setting molecule featurization parameters to default.\n",
      "Loading data\n"
     ]
    },
    {
     "name": "stderr",
     "output_type": "stream",
     "text": [
      "8223it [00:00, 400908.55it/s]\n",
      "100%|██████████| 8223/8223 [00:00<00:00, 244703.69it/s]\n"
     ]
    },
    {
     "name": "stdout",
     "output_type": "stream",
     "text": [
      "Validating SMILES\n",
      "Test size = 8,223\n"
     ]
    },
    {
     "name": "stderr",
     "output_type": "stream",
     "text": [
      "  0%|          | 0/1 [00:00<?, ?it/s]"
     ]
    },
    {
     "name": "stdout",
     "output_type": "stream",
     "text": [
      "Loading pretrained parameter \"encoder.encoder.0.cached_zero_vector\".\n",
      "Loading pretrained parameter \"encoder.encoder.0.W_i.weight\".\n",
      "Loading pretrained parameter \"encoder.encoder.0.W_h.weight\".\n",
      "Loading pretrained parameter \"encoder.encoder.0.W_o.weight\".\n",
      "Loading pretrained parameter \"encoder.encoder.0.W_o.bias\".\n",
      "Loading pretrained parameter \"readout.1.weight\".\n",
      "Loading pretrained parameter \"readout.1.bias\".\n",
      "Loading pretrained parameter \"readout.4.weight\".\n",
      "Loading pretrained parameter \"readout.4.bias\".\n"
     ]
    },
    {
     "name": "stderr",
     "output_type": "stream",
     "text": [
      "100%|██████████| 1/1 [00:58<00:00, 58.86s/it]\n"
     ]
    },
    {
     "name": "stdout",
     "output_type": "stream",
     "text": [
      "Saving predictions to mc_preds.csv\n",
      "Elapsed time = 0:00:59\n",
      "running chemprop\n",
      "in the counter\n"
     ]
    },
    {
     "name": "stderr",
     "output_type": "stream",
     "text": [
      "1799it [00:00, 233818.38it/s]\n",
      "100%|██████████| 1799/1799 [00:00<00:00, 187948.11it/s]\n",
      "100%|██████████| 1799/1799 [00:00<00:00, 66411.01it/s]\n",
      "Fold 0\n",
      "100%|██████████| 5/5 [00:11<00:00,  2.29s/it]\n",
      "Model 0 best validation rmse = 1.066419 on epoch 4\n",
      "Model 0 test rmse = 1.026728                 \n",
      "Ensemble test rmse = 1.026728\n",
      "1-fold cross validation\n",
      "\tSeed 0 ==> test rmse = 1.026728\n",
      "Overall test rmse = 1.026728 +/- 0.000000\n",
      "Elapsed time = 0:00:12\n"
     ]
    },
    {
     "name": "stdout",
     "output_type": "stream",
     "text": [
      "Loading training args\n",
      "Setting molecule featurization parameters to default.\n",
      "Loading data\n"
     ]
    },
    {
     "name": "stderr",
     "output_type": "stream",
     "text": [
      "8198it [00:00, 398462.28it/s]\n",
      "100%|██████████| 8198/8198 [00:00<00:00, 245163.41it/s]\n"
     ]
    },
    {
     "name": "stdout",
     "output_type": "stream",
     "text": [
      "Validating SMILES\n",
      "Test size = 8,198\n"
     ]
    },
    {
     "name": "stderr",
     "output_type": "stream",
     "text": [
      "  0%|          | 0/1 [00:00<?, ?it/s]"
     ]
    },
    {
     "name": "stdout",
     "output_type": "stream",
     "text": [
      "Loading pretrained parameter \"encoder.encoder.0.cached_zero_vector\".\n",
      "Loading pretrained parameter \"encoder.encoder.0.W_i.weight\".\n",
      "Loading pretrained parameter \"encoder.encoder.0.W_h.weight\".\n",
      "Loading pretrained parameter \"encoder.encoder.0.W_o.weight\".\n",
      "Loading pretrained parameter \"encoder.encoder.0.W_o.bias\".\n",
      "Loading pretrained parameter \"readout.1.weight\".\n",
      "Loading pretrained parameter \"readout.1.bias\".\n",
      "Loading pretrained parameter \"readout.4.weight\".\n",
      "Loading pretrained parameter \"readout.4.bias\".\n"
     ]
    },
    {
     "name": "stderr",
     "output_type": "stream",
     "text": [
      "100%|██████████| 1/1 [00:58<00:00, 58.64s/it]\n"
     ]
    },
    {
     "name": "stdout",
     "output_type": "stream",
     "text": [
      "Saving predictions to mc_preds.csv\n",
      "Elapsed time = 0:00:59\n",
      "running chemprop\n"
     ]
    },
    {
     "name": "stderr",
     "output_type": "stream",
     "text": [
      "1824it [00:00, 266499.83it/s]\n",
      "100%|██████████| 1824/1824 [00:00<00:00, 197491.11it/s]\n",
      "100%|██████████| 1824/1824 [00:00<00:00, 71980.83it/s]\n",
      "Fold 0\n",
      "100%|██████████| 5/5 [00:12<00:00,  2.47s/it]\n",
      "Model 0 best validation rmse = 1.084139 on epoch 4\n",
      "Model 0 test rmse = 1.121734                 \n",
      "Ensemble test rmse = 1.121734\n",
      "1-fold cross validation\n",
      "\tSeed 0 ==> test rmse = 1.121734\n",
      "Overall test rmse = 1.121734 +/- 0.000000\n",
      "Elapsed time = 0:00:13\n"
     ]
    },
    {
     "name": "stdout",
     "output_type": "stream",
     "text": [
      "Loading training args\n",
      "Setting molecule featurization parameters to default.\n",
      "Loading data\n"
     ]
    },
    {
     "name": "stderr",
     "output_type": "stream",
     "text": [
      "8173it [00:00, 397191.93it/s]\n",
      "100%|██████████| 8173/8173 [00:00<00:00, 244436.70it/s]\n"
     ]
    },
    {
     "name": "stdout",
     "output_type": "stream",
     "text": [
      "Validating SMILES\n",
      "Test size = 8,173\n"
     ]
    },
    {
     "name": "stderr",
     "output_type": "stream",
     "text": [
      "  0%|          | 0/1 [00:00<?, ?it/s]"
     ]
    },
    {
     "name": "stdout",
     "output_type": "stream",
     "text": [
      "Loading pretrained parameter \"encoder.encoder.0.cached_zero_vector\".\n",
      "Loading pretrained parameter \"encoder.encoder.0.W_i.weight\".\n",
      "Loading pretrained parameter \"encoder.encoder.0.W_h.weight\".\n",
      "Loading pretrained parameter \"encoder.encoder.0.W_o.weight\".\n",
      "Loading pretrained parameter \"encoder.encoder.0.W_o.bias\".\n",
      "Loading pretrained parameter \"readout.1.weight\".\n",
      "Loading pretrained parameter \"readout.1.bias\".\n",
      "Loading pretrained parameter \"readout.4.weight\".\n",
      "Loading pretrained parameter \"readout.4.bias\".\n"
     ]
    },
    {
     "name": "stderr",
     "output_type": "stream",
     "text": [
      "100%|██████████| 1/1 [00:58<00:00, 58.40s/it]\n"
     ]
    },
    {
     "name": "stdout",
     "output_type": "stream",
     "text": [
      "Saving predictions to mc_preds.csv\n",
      "Elapsed time = 0:00:59\n",
      "running chemprop\n"
     ]
    },
    {
     "name": "stderr",
     "output_type": "stream",
     "text": [
      "1849it [00:00, 236282.62it/s]\n",
      "100%|██████████| 1849/1849 [00:00<00:00, 225732.57it/s]\n",
      "100%|██████████| 1849/1849 [00:00<00:00, 62758.60it/s]\n",
      "Fold 0\n",
      "100%|██████████| 5/5 [00:12<00:00,  2.53s/it]\n",
      "Model 0 best validation rmse = 1.150230 on epoch 4\n",
      "Model 0 test rmse = 1.135135                 \n",
      "Ensemble test rmse = 1.135135\n",
      "1-fold cross validation\n",
      "\tSeed 0 ==> test rmse = 1.135135\n",
      "Overall test rmse = 1.135135 +/- 0.000000\n",
      "Elapsed time = 0:00:13\n"
     ]
    },
    {
     "name": "stdout",
     "output_type": "stream",
     "text": [
      "Loading training args\n",
      "Setting molecule featurization parameters to default.\n",
      "Loading data\n"
     ]
    },
    {
     "name": "stderr",
     "output_type": "stream",
     "text": [
      "8148it [00:00, 396961.26it/s]\n",
      "100%|██████████| 8148/8148 [00:00<00:00, 245347.50it/s]\n"
     ]
    },
    {
     "name": "stdout",
     "output_type": "stream",
     "text": [
      "Validating SMILES\n",
      "Test size = 8,148\n"
     ]
    },
    {
     "name": "stderr",
     "output_type": "stream",
     "text": [
      "  0%|          | 0/1 [00:00<?, ?it/s]"
     ]
    },
    {
     "name": "stdout",
     "output_type": "stream",
     "text": [
      "Loading pretrained parameter \"encoder.encoder.0.cached_zero_vector\".\n",
      "Loading pretrained parameter \"encoder.encoder.0.W_i.weight\".\n",
      "Loading pretrained parameter \"encoder.encoder.0.W_h.weight\".\n",
      "Loading pretrained parameter \"encoder.encoder.0.W_o.weight\".\n",
      "Loading pretrained parameter \"encoder.encoder.0.W_o.bias\".\n",
      "Loading pretrained parameter \"readout.1.weight\".\n",
      "Loading pretrained parameter \"readout.1.bias\".\n",
      "Loading pretrained parameter \"readout.4.weight\".\n",
      "Loading pretrained parameter \"readout.4.bias\".\n"
     ]
    },
    {
     "name": "stderr",
     "output_type": "stream",
     "text": [
      "100%|██████████| 1/1 [00:59<00:00, 59.07s/it]\n"
     ]
    },
    {
     "name": "stdout",
     "output_type": "stream",
     "text": [
      "Saving predictions to mc_preds.csv\n",
      "Elapsed time = 0:00:59\n",
      "running chemprop\n"
     ]
    },
    {
     "name": "stderr",
     "output_type": "stream",
     "text": [
      "1874it [00:00, 249630.82it/s]\n",
      "100%|██████████| 1874/1874 [00:00<00:00, 213462.76it/s]\n",
      "100%|██████████| 1874/1874 [00:00<00:00, 68304.97it/s]\n",
      "Fold 0\n",
      "100%|██████████| 5/5 [00:12<00:00,  2.44s/it]\n",
      "Model 0 best validation rmse = 1.136683 on epoch 4\n",
      "Model 0 test rmse = 1.144744                 \n",
      "Ensemble test rmse = 1.144744\n",
      "1-fold cross validation\n",
      "\tSeed 0 ==> test rmse = 1.144744\n",
      "Overall test rmse = 1.144744 +/- 0.000000\n",
      "Elapsed time = 0:00:13\n"
     ]
    },
    {
     "name": "stdout",
     "output_type": "stream",
     "text": [
      "Loading training args\n",
      "Setting molecule featurization parameters to default.\n",
      "Loading data\n"
     ]
    },
    {
     "name": "stderr",
     "output_type": "stream",
     "text": [
      "8123it [00:00, 388793.14it/s]\n",
      "100%|██████████| 8123/8123 [00:00<00:00, 240984.10it/s]\n"
     ]
    },
    {
     "name": "stdout",
     "output_type": "stream",
     "text": [
      "Validating SMILES\n",
      "Test size = 8,123\n"
     ]
    },
    {
     "name": "stderr",
     "output_type": "stream",
     "text": [
      "  0%|          | 0/1 [00:00<?, ?it/s]"
     ]
    },
    {
     "name": "stdout",
     "output_type": "stream",
     "text": [
      "Loading pretrained parameter \"encoder.encoder.0.cached_zero_vector\".\n",
      "Loading pretrained parameter \"encoder.encoder.0.W_i.weight\".\n",
      "Loading pretrained parameter \"encoder.encoder.0.W_h.weight\".\n",
      "Loading pretrained parameter \"encoder.encoder.0.W_o.weight\".\n",
      "Loading pretrained parameter \"encoder.encoder.0.W_o.bias\".\n",
      "Loading pretrained parameter \"readout.1.weight\".\n",
      "Loading pretrained parameter \"readout.1.bias\".\n",
      "Loading pretrained parameter \"readout.4.weight\".\n",
      "Loading pretrained parameter \"readout.4.bias\".\n"
     ]
    },
    {
     "name": "stderr",
     "output_type": "stream",
     "text": [
      "100%|██████████| 1/1 [00:58<00:00, 58.97s/it]\n"
     ]
    },
    {
     "name": "stdout",
     "output_type": "stream",
     "text": [
      "Saving predictions to mc_preds.csv\n",
      "Elapsed time = 0:00:59\n",
      "running chemprop\n",
      "in the counter\n"
     ]
    },
    {
     "name": "stderr",
     "output_type": "stream",
     "text": [
      "1899it [00:00, 257042.74it/s]\n",
      "100%|██████████| 1899/1899 [00:00<00:00, 209864.39it/s]\n",
      "100%|██████████| 1899/1899 [00:00<00:00, 66151.05it/s]\n",
      "Fold 0\n",
      "100%|██████████| 5/5 [00:12<00:00,  2.48s/it]\n",
      "Model 0 best validation rmse = 1.136289 on epoch 4\n",
      "Model 0 test rmse = 1.020063                 \n",
      "Ensemble test rmse = 1.020063\n",
      "1-fold cross validation\n",
      "\tSeed 0 ==> test rmse = 1.020063\n",
      "Overall test rmse = 1.020063 +/- 0.000000\n",
      "Elapsed time = 0:00:13\n"
     ]
    },
    {
     "name": "stdout",
     "output_type": "stream",
     "text": [
      "Loading training args\n",
      "Setting molecule featurization parameters to default.\n",
      "Loading data\n"
     ]
    },
    {
     "name": "stderr",
     "output_type": "stream",
     "text": [
      "8098it [00:00, 385747.73it/s]\n",
      "100%|██████████| 8098/8098 [00:00<00:00, 22913.82it/s]\n"
     ]
    },
    {
     "name": "stdout",
     "output_type": "stream",
     "text": [
      "Validating SMILES\n",
      "Test size = 8,098\n"
     ]
    },
    {
     "name": "stderr",
     "output_type": "stream",
     "text": [
      "  0%|          | 0/1 [00:00<?, ?it/s]"
     ]
    },
    {
     "name": "stdout",
     "output_type": "stream",
     "text": [
      "Loading pretrained parameter \"encoder.encoder.0.cached_zero_vector\".\n",
      "Loading pretrained parameter \"encoder.encoder.0.W_i.weight\".\n",
      "Loading pretrained parameter \"encoder.encoder.0.W_h.weight\".\n",
      "Loading pretrained parameter \"encoder.encoder.0.W_o.weight\".\n",
      "Loading pretrained parameter \"encoder.encoder.0.W_o.bias\".\n",
      "Loading pretrained parameter \"readout.1.weight\".\n",
      "Loading pretrained parameter \"readout.1.bias\".\n",
      "Loading pretrained parameter \"readout.4.weight\".\n",
      "Loading pretrained parameter \"readout.4.bias\".\n"
     ]
    },
    {
     "name": "stderr",
     "output_type": "stream",
     "text": [
      "100%|██████████| 1/1 [00:58<00:00, 58.71s/it]\n"
     ]
    },
    {
     "name": "stdout",
     "output_type": "stream",
     "text": [
      "Saving predictions to mc_preds.csv\n",
      "Elapsed time = 0:01:00\n",
      "running chemprop\n"
     ]
    },
    {
     "name": "stderr",
     "output_type": "stream",
     "text": [
      "1924it [00:00, 214537.84it/s]\n",
      "100%|██████████| 1924/1924 [00:00<00:00, 195386.20it/s]\n",
      "100%|██████████| 1924/1924 [00:00<00:00, 61724.35it/s]\n",
      "Fold 0\n",
      "100%|██████████| 5/5 [00:12<00:00,  2.54s/it]\n",
      "Model 0 best validation rmse = 1.177129 on epoch 4\n",
      "Model 0 test rmse = 1.109906                 \n",
      "Ensemble test rmse = 1.109906\n",
      "1-fold cross validation\n",
      "\tSeed 0 ==> test rmse = 1.109906\n",
      "Overall test rmse = 1.109906 +/- 0.000000\n",
      "Elapsed time = 0:00:13\n"
     ]
    },
    {
     "name": "stdout",
     "output_type": "stream",
     "text": [
      "Loading training args\n",
      "Setting molecule featurization parameters to default.\n",
      "Loading data\n"
     ]
    },
    {
     "name": "stderr",
     "output_type": "stream",
     "text": [
      "8073it [00:00, 388706.55it/s]\n",
      "100%|██████████| 8073/8073 [00:00<00:00, 243083.91it/s]\n"
     ]
    },
    {
     "name": "stdout",
     "output_type": "stream",
     "text": [
      "Validating SMILES\n",
      "Test size = 8,073\n"
     ]
    },
    {
     "name": "stderr",
     "output_type": "stream",
     "text": [
      "  0%|          | 0/1 [00:00<?, ?it/s]"
     ]
    },
    {
     "name": "stdout",
     "output_type": "stream",
     "text": [
      "Loading pretrained parameter \"encoder.encoder.0.cached_zero_vector\".\n",
      "Loading pretrained parameter \"encoder.encoder.0.W_i.weight\".\n",
      "Loading pretrained parameter \"encoder.encoder.0.W_h.weight\".\n",
      "Loading pretrained parameter \"encoder.encoder.0.W_o.weight\".\n",
      "Loading pretrained parameter \"encoder.encoder.0.W_o.bias\".\n",
      "Loading pretrained parameter \"readout.1.weight\".\n",
      "Loading pretrained parameter \"readout.1.bias\".\n",
      "Loading pretrained parameter \"readout.4.weight\".\n",
      "Loading pretrained parameter \"readout.4.bias\".\n"
     ]
    },
    {
     "name": "stderr",
     "output_type": "stream",
     "text": [
      "100%|██████████| 1/1 [00:59<00:00, 59.83s/it]\n"
     ]
    },
    {
     "name": "stdout",
     "output_type": "stream",
     "text": [
      "Saving predictions to mc_preds.csv\n",
      "Elapsed time = 0:01:00\n",
      "running chemprop\n"
     ]
    },
    {
     "name": "stderr",
     "output_type": "stream",
     "text": [
      "1949it [00:00, 257568.17it/s]\n",
      "100%|██████████| 1949/1949 [00:00<00:00, 219290.16it/s]\n",
      "100%|██████████| 1949/1949 [00:00<00:00, 62456.15it/s]\n",
      "Fold 0\n",
      "100%|██████████| 5/5 [00:12<00:00,  2.41s/it]\n",
      "Model 0 best validation rmse = 1.150820 on epoch 4\n",
      "Model 0 test rmse = 1.101865                 \n",
      "Ensemble test rmse = 1.101865\n",
      "1-fold cross validation\n",
      "\tSeed 0 ==> test rmse = 1.101865\n",
      "Overall test rmse = 1.101865 +/- 0.000000\n",
      "Elapsed time = 0:00:13\n"
     ]
    },
    {
     "name": "stdout",
     "output_type": "stream",
     "text": [
      "Loading training args\n",
      "Setting molecule featurization parameters to default.\n",
      "Loading data\n"
     ]
    },
    {
     "name": "stderr",
     "output_type": "stream",
     "text": [
      "8048it [00:00, 24306.72it/s]\n",
      "100%|██████████| 8048/8048 [00:00<00:00, 242679.58it/s]\n"
     ]
    },
    {
     "name": "stdout",
     "output_type": "stream",
     "text": [
      "Validating SMILES\n",
      "Test size = 8,048\n"
     ]
    },
    {
     "name": "stderr",
     "output_type": "stream",
     "text": [
      "  0%|          | 0/1 [00:00<?, ?it/s]"
     ]
    },
    {
     "name": "stdout",
     "output_type": "stream",
     "text": [
      "Loading pretrained parameter \"encoder.encoder.0.cached_zero_vector\".\n",
      "Loading pretrained parameter \"encoder.encoder.0.W_i.weight\".\n",
      "Loading pretrained parameter \"encoder.encoder.0.W_h.weight\".\n",
      "Loading pretrained parameter \"encoder.encoder.0.W_o.weight\".\n",
      "Loading pretrained parameter \"encoder.encoder.0.W_o.bias\".\n",
      "Loading pretrained parameter \"readout.1.weight\".\n",
      "Loading pretrained parameter \"readout.1.bias\".\n",
      "Loading pretrained parameter \"readout.4.weight\".\n",
      "Loading pretrained parameter \"readout.4.bias\".\n"
     ]
    },
    {
     "name": "stderr",
     "output_type": "stream",
     "text": [
      "100%|██████████| 1/1 [00:59<00:00, 59.30s/it]\n"
     ]
    },
    {
     "name": "stdout",
     "output_type": "stream",
     "text": [
      "Saving predictions to mc_preds.csv\n",
      "Elapsed time = 0:01:00\n",
      "running chemprop\n"
     ]
    },
    {
     "name": "stderr",
     "output_type": "stream",
     "text": [
      "1974it [00:00, 229534.98it/s]\n",
      "100%|██████████| 1974/1974 [00:00<00:00, 159271.24it/s]\n",
      "100%|██████████| 1974/1974 [00:00<00:00, 60179.06it/s]\n",
      "Fold 0\n",
      "100%|██████████| 5/5 [00:12<00:00,  2.60s/it]\n",
      "Model 0 best validation rmse = 1.146321 on epoch 4\n",
      "Model 0 test rmse = 1.055870                 \n",
      "Ensemble test rmse = 1.055870\n",
      "1-fold cross validation\n",
      "\tSeed 0 ==> test rmse = 1.055870\n",
      "Overall test rmse = 1.055870 +/- 0.000000\n",
      "Elapsed time = 0:00:13\n"
     ]
    },
    {
     "name": "stdout",
     "output_type": "stream",
     "text": [
      "Loading training args\n",
      "Setting molecule featurization parameters to default.\n",
      "Loading data\n"
     ]
    },
    {
     "name": "stderr",
     "output_type": "stream",
     "text": [
      "8023it [00:00, 396831.34it/s]\n",
      "100%|██████████| 8023/8023 [00:00<00:00, 243063.32it/s]\n"
     ]
    },
    {
     "name": "stdout",
     "output_type": "stream",
     "text": [
      "Validating SMILES\n",
      "Test size = 8,023\n"
     ]
    },
    {
     "name": "stderr",
     "output_type": "stream",
     "text": [
      "  0%|          | 0/1 [00:00<?, ?it/s]"
     ]
    },
    {
     "name": "stdout",
     "output_type": "stream",
     "text": [
      "Loading pretrained parameter \"encoder.encoder.0.cached_zero_vector\".\n",
      "Loading pretrained parameter \"encoder.encoder.0.W_i.weight\".\n",
      "Loading pretrained parameter \"encoder.encoder.0.W_h.weight\".\n",
      "Loading pretrained parameter \"encoder.encoder.0.W_o.weight\".\n",
      "Loading pretrained parameter \"encoder.encoder.0.W_o.bias\".\n",
      "Loading pretrained parameter \"readout.1.weight\".\n",
      "Loading pretrained parameter \"readout.1.bias\".\n",
      "Loading pretrained parameter \"readout.4.weight\".\n",
      "Loading pretrained parameter \"readout.4.bias\".\n"
     ]
    },
    {
     "name": "stderr",
     "output_type": "stream",
     "text": [
      "100%|██████████| 1/1 [01:00<00:00, 60.08s/it]\n"
     ]
    },
    {
     "name": "stdout",
     "output_type": "stream",
     "text": [
      "Saving predictions to mc_preds.csv\n",
      "Elapsed time = 0:01:00\n",
      "running chemprop\n",
      "in the counter\n"
     ]
    },
    {
     "name": "stderr",
     "output_type": "stream",
     "text": [
      "1999it [00:00, 256836.08it/s]\n",
      "100%|██████████| 1999/1999 [00:00<00:00, 213980.90it/s]\n",
      "100%|██████████| 1999/1999 [00:00<00:00, 65566.75it/s]\n",
      "Fold 0\n",
      "100%|██████████| 5/5 [00:13<00:00,  2.60s/it]\n",
      "Model 0 best validation rmse = 1.087815 on epoch 4\n",
      "Model 0 test rmse = 1.031130                 \n",
      "Ensemble test rmse = 1.031130\n",
      "1-fold cross validation\n",
      "\tSeed 0 ==> test rmse = 1.031130\n",
      "Overall test rmse = 1.031130 +/- 0.000000\n",
      "Elapsed time = 0:00:14\n"
     ]
    },
    {
     "name": "stdout",
     "output_type": "stream",
     "text": [
      "Loading training args\n",
      "Setting molecule featurization parameters to default.\n",
      "Loading data\n"
     ]
    },
    {
     "name": "stderr",
     "output_type": "stream",
     "text": [
      "7998it [00:00, 391234.88it/s]\n",
      "100%|██████████| 7998/7998 [00:00<00:00, 242179.97it/s]"
     ]
    },
    {
     "name": "stdout",
     "output_type": "stream",
     "text": [
      "Validating SMILES\n"
     ]
    },
    {
     "name": "stderr",
     "output_type": "stream",
     "text": [
      "\n"
     ]
    },
    {
     "name": "stdout",
     "output_type": "stream",
     "text": [
      "Test size = 7,998\n"
     ]
    },
    {
     "name": "stderr",
     "output_type": "stream",
     "text": [
      "  0%|          | 0/1 [00:00<?, ?it/s]"
     ]
    },
    {
     "name": "stdout",
     "output_type": "stream",
     "text": [
      "Loading pretrained parameter \"encoder.encoder.0.cached_zero_vector\".\n",
      "Loading pretrained parameter \"encoder.encoder.0.W_i.weight\".\n",
      "Loading pretrained parameter \"encoder.encoder.0.W_h.weight\".\n",
      "Loading pretrained parameter \"encoder.encoder.0.W_o.weight\".\n",
      "Loading pretrained parameter \"encoder.encoder.0.W_o.bias\".\n",
      "Loading pretrained parameter \"readout.1.weight\".\n",
      "Loading pretrained parameter \"readout.1.bias\".\n",
      "Loading pretrained parameter \"readout.4.weight\".\n",
      "Loading pretrained parameter \"readout.4.bias\".\n"
     ]
    },
    {
     "name": "stderr",
     "output_type": "stream",
     "text": [
      "100%|██████████| 1/1 [00:59<00:00, 59.53s/it]\n"
     ]
    },
    {
     "name": "stdout",
     "output_type": "stream",
     "text": [
      "Saving predictions to mc_preds.csv\n",
      "Elapsed time = 0:01:00\n",
      "finished seed\n",
      "mean: [[1.22676521]\n",
      " [1.20039614]\n",
      " [1.19021016]\n",
      " [1.18465344]\n",
      " [1.17287255]\n",
      " [1.20112992]\n",
      " [1.15615178]\n",
      " [1.17337816]\n",
      " [1.11099739]\n",
      " [1.10706461]\n",
      " [1.06325434]]\n",
      "standard deviation: [[0.01354073]\n",
      " [0.00517822]\n",
      " [0.01369988]\n",
      " [0.01508448]\n",
      " [0.01621526]\n",
      " [0.01488203]\n",
      " [0.05743178]\n",
      " [0.02227926]\n",
      " [0.00627753]\n",
      " [0.01330034]\n",
      " [0.04240768]]\n"
     ]
    },
    {
     "ename": "ValueError",
     "evalue": "Cannot set a frame with no defined index and a value that cannot be converted to a Series",
     "output_type": "error",
     "traceback": [
      "\u001b[0;31m---------------------------------------------------------------------------\u001b[0m",
      "\u001b[0;31mValueError\u001b[0m                                Traceback (most recent call last)",
      "File \u001b[0;32m~/miniforge3/envs/chemprop/lib/python3.8/site-packages/pandas/core/frame.py:4243\u001b[0m, in \u001b[0;36mDataFrame._ensure_valid_index\u001b[0;34m(self, value)\u001b[0m\n\u001b[1;32m   4242\u001b[0m \u001b[38;5;28;01mtry\u001b[39;00m:\n\u001b[0;32m-> 4243\u001b[0m     value \u001b[38;5;241m=\u001b[39m \u001b[43mSeries\u001b[49m\u001b[43m(\u001b[49m\u001b[43mvalue\u001b[49m\u001b[43m)\u001b[49m\n\u001b[1;32m   4244\u001b[0m \u001b[38;5;28;01mexcept\u001b[39;00m (\u001b[38;5;167;01mValueError\u001b[39;00m, \u001b[38;5;167;01mNotImplementedError\u001b[39;00m, \u001b[38;5;167;01mTypeError\u001b[39;00m) \u001b[38;5;28;01mas\u001b[39;00m err:\n",
      "File \u001b[0;32m~/miniforge3/envs/chemprop/lib/python3.8/site-packages/pandas/core/series.py:470\u001b[0m, in \u001b[0;36mSeries.__init__\u001b[0;34m(self, data, index, dtype, name, copy, fastpath)\u001b[0m\n\u001b[1;32m    469\u001b[0m \u001b[38;5;28;01melse\u001b[39;00m:\n\u001b[0;32m--> 470\u001b[0m     data \u001b[38;5;241m=\u001b[39m \u001b[43msanitize_array\u001b[49m\u001b[43m(\u001b[49m\u001b[43mdata\u001b[49m\u001b[43m,\u001b[49m\u001b[43m \u001b[49m\u001b[43mindex\u001b[49m\u001b[43m,\u001b[49m\u001b[43m \u001b[49m\u001b[43mdtype\u001b[49m\u001b[43m,\u001b[49m\u001b[43m \u001b[49m\u001b[43mcopy\u001b[49m\u001b[43m)\u001b[49m\n\u001b[1;32m    472\u001b[0m     manager \u001b[38;5;241m=\u001b[39m get_option(\u001b[38;5;124m\"\u001b[39m\u001b[38;5;124mmode.data_manager\u001b[39m\u001b[38;5;124m\"\u001b[39m)\n",
      "File \u001b[0;32m~/miniforge3/envs/chemprop/lib/python3.8/site-packages/pandas/core/construction.py:647\u001b[0m, in \u001b[0;36msanitize_array\u001b[0;34m(data, index, dtype, copy, raise_cast_failure, allow_2d)\u001b[0m\n\u001b[1;32m    645\u001b[0m             subarr \u001b[38;5;241m=\u001b[39m maybe_infer_to_datetimelike(subarr)\n\u001b[0;32m--> 647\u001b[0m subarr \u001b[38;5;241m=\u001b[39m \u001b[43m_sanitize_ndim\u001b[49m\u001b[43m(\u001b[49m\u001b[43msubarr\u001b[49m\u001b[43m,\u001b[49m\u001b[43m \u001b[49m\u001b[43mdata\u001b[49m\u001b[43m,\u001b[49m\u001b[43m \u001b[49m\u001b[43mdtype\u001b[49m\u001b[43m,\u001b[49m\u001b[43m \u001b[49m\u001b[43mindex\u001b[49m\u001b[43m,\u001b[49m\u001b[43m \u001b[49m\u001b[43mallow_2d\u001b[49m\u001b[38;5;241;43m=\u001b[39;49m\u001b[43mallow_2d\u001b[49m\u001b[43m)\u001b[49m\n\u001b[1;32m    649\u001b[0m \u001b[38;5;28;01mif\u001b[39;00m \u001b[38;5;28misinstance\u001b[39m(subarr, np\u001b[38;5;241m.\u001b[39mndarray):\n\u001b[1;32m    650\u001b[0m     \u001b[38;5;66;03m# at this point we should have dtype be None or subarr.dtype == dtype\u001b[39;00m\n",
      "File \u001b[0;32m~/miniforge3/envs/chemprop/lib/python3.8/site-packages/pandas/core/construction.py:698\u001b[0m, in \u001b[0;36m_sanitize_ndim\u001b[0;34m(result, data, dtype, index, allow_2d)\u001b[0m\n\u001b[1;32m    697\u001b[0m         \u001b[38;5;28;01mreturn\u001b[39;00m result\n\u001b[0;32m--> 698\u001b[0m     \u001b[38;5;28;01mraise\u001b[39;00m \u001b[38;5;167;01mValueError\u001b[39;00m(\u001b[38;5;124m\"\u001b[39m\u001b[38;5;124mData must be 1-dimensional\u001b[39m\u001b[38;5;124m\"\u001b[39m)\n\u001b[1;32m    699\u001b[0m \u001b[38;5;28;01mif\u001b[39;00m is_object_dtype(dtype) \u001b[38;5;129;01mand\u001b[39;00m \u001b[38;5;28misinstance\u001b[39m(dtype, ExtensionDtype):\n\u001b[1;32m    700\u001b[0m     \u001b[38;5;66;03m# i.e. PandasDtype(\"O\")\u001b[39;00m\n",
      "\u001b[0;31mValueError\u001b[0m: Data must be 1-dimensional",
      "\nThe above exception was the direct cause of the following exception:\n",
      "\u001b[0;31mValueError\u001b[0m                                Traceback (most recent call last)",
      "\u001b[0;32m/var/folders/8q/2_j87p0x7y34xjd9jbxfjzrh0000gn/T/ipykernel_4336/3614641037.py\u001b[0m in \u001b[0;36m?\u001b[0;34m()\u001b[0m\n\u001b[1;32m     12\u001b[0m \u001b[0;34m\u001b[0m\u001b[0m\n\u001b[1;32m     13\u001b[0m \u001b[0;32mfor\u001b[0m \u001b[0mbatch\u001b[0m \u001b[0;32min\u001b[0m \u001b[0mbatch_sizes\u001b[0m\u001b[0;34m:\u001b[0m\u001b[0;34m\u001b[0m\u001b[0;34m\u001b[0m\u001b[0m\n\u001b[1;32m     14\u001b[0m     \u001b[0mprint\u001b[0m\u001b[0;34m(\u001b[0m\u001b[0;34mf\"{batch} number\"\u001b[0m\u001b[0;34m)\u001b[0m\u001b[0;34m\u001b[0m\u001b[0;34m\u001b[0m\u001b[0m\n\u001b[1;32m     15\u001b[0m     \u001b[0mmc_rmse\u001b[0m\u001b[0;34m,\u001b[0m \u001b[0mmc_r2\u001b[0m \u001b[0;34m=\u001b[0m \u001b[0mmonte_carlo_dropout\u001b[0m\u001b[0;34m(\u001b[0m\u001b[0mbatch\u001b[0m\u001b[0;34m)\u001b[0m\u001b[0;34m\u001b[0m\u001b[0;34m\u001b[0m\u001b[0m\n\u001b[0;32m---> 16\u001b[0;31m \u001b[0;34m\u001b[0m\u001b[0m\n\u001b[0m\u001b[1;32m     17\u001b[0m     \u001b[0mmc_rmse_mean\u001b[0m \u001b[0;34m=\u001b[0m \u001b[0mnp\u001b[0m\u001b[0;34m.\u001b[0m\u001b[0mmean\u001b[0m\u001b[0;34m(\u001b[0m\u001b[0mmc_rmse\u001b[0m\u001b[0;34m,\u001b[0m \u001b[0maxis\u001b[0m\u001b[0;34m=\u001b[0m\u001b[0;36m0\u001b[0m\u001b[0;34m)\u001b[0m\u001b[0;34m\u001b[0m\u001b[0;34m\u001b[0m\u001b[0m\n\u001b[1;32m     18\u001b[0m     \u001b[0mmc_rmse_stdev\u001b[0m \u001b[0;34m=\u001b[0m \u001b[0mnp\u001b[0m\u001b[0;34m.\u001b[0m\u001b[0mstd\u001b[0m\u001b[0;34m(\u001b[0m\u001b[0mmc_rmse\u001b[0m\u001b[0;34m,\u001b[0m \u001b[0maxis\u001b[0m\u001b[0;34m=\u001b[0m\u001b[0;36m0\u001b[0m\u001b[0;34m)\u001b[0m\u001b[0;34m\u001b[0m\u001b[0;34m\u001b[0m\u001b[0m\n\u001b[1;32m     19\u001b[0m     \u001b[0mprint\u001b[0m\u001b[0;34m(\u001b[0m\u001b[0;34m\"mean:\"\u001b[0m\u001b[0;34m,\u001b[0m \u001b[0mmc_rmse_mean\u001b[0m\u001b[0;34m)\u001b[0m\u001b[0;34m\u001b[0m\u001b[0;34m\u001b[0m\u001b[0m\n",
      "\u001b[0;32m~/miniforge3/envs/chemprop/lib/python3.8/site-packages/pandas/core/frame.py\u001b[0m in \u001b[0;36m?\u001b[0;34m(self, key, value)\u001b[0m\n\u001b[1;32m   3976\u001b[0m             \u001b[0;31m# Column to set is duplicated\u001b[0m\u001b[0;34m\u001b[0m\u001b[0;34m\u001b[0m\u001b[0;34m\u001b[0m\u001b[0m\n\u001b[1;32m   3977\u001b[0m             \u001b[0mself\u001b[0m\u001b[0;34m.\u001b[0m\u001b[0m_setitem_array\u001b[0m\u001b[0;34m(\u001b[0m\u001b[0;34m[\u001b[0m\u001b[0mkey\u001b[0m\u001b[0;34m]\u001b[0m\u001b[0;34m,\u001b[0m \u001b[0mvalue\u001b[0m\u001b[0;34m)\u001b[0m\u001b[0;34m\u001b[0m\u001b[0;34m\u001b[0m\u001b[0m\n\u001b[1;32m   3978\u001b[0m         \u001b[0;32melse\u001b[0m\u001b[0;34m:\u001b[0m\u001b[0;34m\u001b[0m\u001b[0;34m\u001b[0m\u001b[0m\n\u001b[1;32m   3979\u001b[0m             \u001b[0;31m# set column\u001b[0m\u001b[0;34m\u001b[0m\u001b[0;34m\u001b[0m\u001b[0;34m\u001b[0m\u001b[0m\n\u001b[0;32m-> 3980\u001b[0;31m             \u001b[0mself\u001b[0m\u001b[0;34m.\u001b[0m\u001b[0m_set_item\u001b[0m\u001b[0;34m(\u001b[0m\u001b[0mkey\u001b[0m\u001b[0;34m,\u001b[0m \u001b[0mvalue\u001b[0m\u001b[0;34m)\u001b[0m\u001b[0;34m\u001b[0m\u001b[0;34m\u001b[0m\u001b[0m\n\u001b[0m",
      "\u001b[0;32m~/miniforge3/envs/chemprop/lib/python3.8/site-packages/pandas/core/frame.py\u001b[0m in \u001b[0;36m?\u001b[0;34m(self, key, value)\u001b[0m\n\u001b[1;32m   4170\u001b[0m \u001b[0;34m\u001b[0m\u001b[0m\n\u001b[1;32m   4171\u001b[0m         \u001b[0mSeries\u001b[0m\u001b[0;34m/\u001b[0m\u001b[0mTimeSeries\u001b[0m \u001b[0mwill\u001b[0m \u001b[0mbe\u001b[0m \u001b[0mconformed\u001b[0m \u001b[0mto\u001b[0m \u001b[0mthe\u001b[0m \u001b[0mDataFrames\u001b[0m \u001b[0mindex\u001b[0m \u001b[0mto\u001b[0m\u001b[0;34m\u001b[0m\u001b[0;34m\u001b[0m\u001b[0m\n\u001b[1;32m   4172\u001b[0m         \u001b[0mensure\u001b[0m \u001b[0mhomogeneity\u001b[0m\u001b[0;34m.\u001b[0m\u001b[0;34m\u001b[0m\u001b[0;34m\u001b[0m\u001b[0m\n\u001b[1;32m   4173\u001b[0m         \"\"\"\n\u001b[0;32m-> 4174\u001b[0;31m         \u001b[0mvalue\u001b[0m \u001b[0;34m=\u001b[0m \u001b[0mself\u001b[0m\u001b[0;34m.\u001b[0m\u001b[0m_sanitize_column\u001b[0m\u001b[0;34m(\u001b[0m\u001b[0mvalue\u001b[0m\u001b[0;34m)\u001b[0m\u001b[0;34m\u001b[0m\u001b[0;34m\u001b[0m\u001b[0m\n\u001b[0m\u001b[1;32m   4175\u001b[0m \u001b[0;34m\u001b[0m\u001b[0m\n\u001b[1;32m   4176\u001b[0m         if (\n\u001b[1;32m   4177\u001b[0m             \u001b[0mkey\u001b[0m \u001b[0;32min\u001b[0m \u001b[0mself\u001b[0m\u001b[0;34m.\u001b[0m\u001b[0mcolumns\u001b[0m\u001b[0;34m\u001b[0m\u001b[0;34m\u001b[0m\u001b[0m\n",
      "\u001b[0;32m~/miniforge3/envs/chemprop/lib/python3.8/site-packages/pandas/core/frame.py\u001b[0m in \u001b[0;36m?\u001b[0;34m(self, value)\u001b[0m\n\u001b[1;32m   4901\u001b[0m         \u001b[0mReturns\u001b[0m\u001b[0;34m\u001b[0m\u001b[0;34m\u001b[0m\u001b[0m\n\u001b[1;32m   4902\u001b[0m         \u001b[0;34m-\u001b[0m\u001b[0;34m-\u001b[0m\u001b[0;34m-\u001b[0m\u001b[0;34m-\u001b[0m\u001b[0;34m-\u001b[0m\u001b[0;34m-\u001b[0m\u001b[0;34m-\u001b[0m\u001b[0;34m\u001b[0m\u001b[0;34m\u001b[0m\u001b[0m\n\u001b[1;32m   4903\u001b[0m         \u001b[0mnumpy\u001b[0m\u001b[0;34m.\u001b[0m\u001b[0mndarray\u001b[0m \u001b[0;32mor\u001b[0m \u001b[0mExtensionArray\u001b[0m\u001b[0;34m\u001b[0m\u001b[0;34m\u001b[0m\u001b[0m\n\u001b[1;32m   4904\u001b[0m         \"\"\"\n\u001b[0;32m-> 4905\u001b[0;31m         \u001b[0mself\u001b[0m\u001b[0;34m.\u001b[0m\u001b[0m_ensure_valid_index\u001b[0m\u001b[0;34m(\u001b[0m\u001b[0mvalue\u001b[0m\u001b[0;34m)\u001b[0m\u001b[0;34m\u001b[0m\u001b[0;34m\u001b[0m\u001b[0m\n\u001b[0m\u001b[1;32m   4906\u001b[0m \u001b[0;34m\u001b[0m\u001b[0m\n\u001b[1;32m   4907\u001b[0m         \u001b[0;31m# We can get there through isetitem with a DataFrame\u001b[0m\u001b[0;34m\u001b[0m\u001b[0;34m\u001b[0m\u001b[0;34m\u001b[0m\u001b[0m\n\u001b[1;32m   4908\u001b[0m         \u001b[0;31m# or through loc single_block_path\u001b[0m\u001b[0;34m\u001b[0m\u001b[0;34m\u001b[0m\u001b[0;34m\u001b[0m\u001b[0m\n",
      "\u001b[0;32m~/miniforge3/envs/chemprop/lib/python3.8/site-packages/pandas/core/frame.py\u001b[0m in \u001b[0;36m?\u001b[0;34m(self, value)\u001b[0m\n\u001b[1;32m   4241\u001b[0m             \u001b[0;32mif\u001b[0m \u001b[0;32mnot\u001b[0m \u001b[0misinstance\u001b[0m\u001b[0;34m(\u001b[0m\u001b[0mvalue\u001b[0m\u001b[0;34m,\u001b[0m \u001b[0mDataFrame\u001b[0m\u001b[0;34m)\u001b[0m\u001b[0;34m:\u001b[0m\u001b[0;34m\u001b[0m\u001b[0;34m\u001b[0m\u001b[0m\n\u001b[1;32m   4242\u001b[0m                 \u001b[0;32mtry\u001b[0m\u001b[0;34m:\u001b[0m\u001b[0;34m\u001b[0m\u001b[0;34m\u001b[0m\u001b[0m\n\u001b[1;32m   4243\u001b[0m                     \u001b[0mvalue\u001b[0m \u001b[0;34m=\u001b[0m \u001b[0mSeries\u001b[0m\u001b[0;34m(\u001b[0m\u001b[0mvalue\u001b[0m\u001b[0;34m)\u001b[0m\u001b[0;34m\u001b[0m\u001b[0;34m\u001b[0m\u001b[0m\n\u001b[1;32m   4244\u001b[0m                 \u001b[0;32mexcept\u001b[0m \u001b[0;34m(\u001b[0m\u001b[0mValueError\u001b[0m\u001b[0;34m,\u001b[0m \u001b[0mNotImplementedError\u001b[0m\u001b[0;34m,\u001b[0m \u001b[0mTypeError\u001b[0m\u001b[0;34m)\u001b[0m \u001b[0;32mas\u001b[0m \u001b[0merr\u001b[0m\u001b[0;34m:\u001b[0m\u001b[0;34m\u001b[0m\u001b[0;34m\u001b[0m\u001b[0m\n\u001b[0;32m-> 4245\u001b[0;31m                     raise ValueError(\n\u001b[0m\u001b[1;32m   4246\u001b[0m                         \u001b[0;34m\"Cannot set a frame with no defined index \"\u001b[0m\u001b[0;34m\u001b[0m\u001b[0;34m\u001b[0m\u001b[0m\n\u001b[1;32m   4247\u001b[0m                         \u001b[0;34m\"and a value that cannot be converted to a Series\"\u001b[0m\u001b[0;34m\u001b[0m\u001b[0;34m\u001b[0m\u001b[0m\n\u001b[1;32m   4248\u001b[0m                     ) from err\n",
      "\u001b[0;31mValueError\u001b[0m: Cannot set a frame with no defined index and a value that cannot be converted to a Series"
     ]
    }
   ],
   "source": [
    "batch_sizes = [25, 50]\n",
    "mc_rmse_dict = {}\n",
    "mc_r2_dict = {}\n",
    "\n",
    "final_mc_data_chemprop = pd.DataFrame()\n",
    "\n",
    "for batch in batch_sizes:\n",
    "    print(f\"{batch} number\")\n",
    "    mc_rmse, mc_r2 = monte_carlo_dropout(batch)\n",
    "\n",
    "    mc_rmse_mean = np.mean(mc_rmse, axis=0)\n",
    "    mc_rmse_stdev = np.std(mc_rmse, axis=0)\n",
    "    print(\"mean:\", mc_rmse_mean)\n",
    "    print(\"standard deviation:\", mc_rmse_stdev)\n",
    "    mc_rmse_dict[batch] = (mc_rmse, mc_rmse_mean, mc_rmse_stdev)\n",
    "    final_mc_data_chemprop[f\"{batch}_rmse_mean\"] = mc_rmse_mean\n",
    "    final_mc_data_chemprop[f\"{batch}_rmse_stdev\"] = mc_rmse_stdev\n",
    "\n",
    "\n",
    "    mc_r2_mean = np.mean(mc_r2, axis=0)\n",
    "    mc_r2_stdev = np.std(mc_r2, axis=0)\n",
    "    print(\"mean:\", mc_r2_mean)\n",
    "    print(\"standard deviation:\", mc_r2_stdev)\n",
    "    mc_r2_dict[batch] = (mc_r2, mc_r2_mean, mc_r2_stdev)\n",
    "    final_mc_data_chemprop[f\"{batch}_r2_mean\"] = mc_r2_mean\n",
    "    final_mc_data_chemprop[f\"{batch}_r2_stdev\"] = mc_r2_stdev\n",
    "    \n",
    "\n",
    "final_mc_data_chemprop.to_csv(\"final_data_mc_chemprop.csv\", index=False)"
   ]
  },
  {
   "cell_type": "code",
   "execution_count": null,
   "metadata": {},
   "outputs": [],
   "source": []
  }
 ],
 "metadata": {
  "kernelspec": {
   "display_name": "Python 3.8.18 ('chemprop')",
   "language": "python",
   "name": "python3"
  },
  "language_info": {
   "codemirror_mode": {
    "name": "ipython",
    "version": 3
   },
   "file_extension": ".py",
   "mimetype": "text/x-python",
   "name": "python",
   "nbconvert_exporter": "python",
   "pygments_lexer": "ipython3",
   "version": "3.8.19"
  },
  "orig_nbformat": 4,
  "vscode": {
   "interpreter": {
    "hash": "782c9f00c2f68b1c6d352eaff4906d850c3b7373af8ce254d2b87e9de0bd114a"
   }
  }
 },
 "nbformat": 4,
 "nbformat_minor": 2
}
