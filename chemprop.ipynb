{
 "cells": [
  {
   "cell_type": "markdown",
   "metadata": {},
   "source": [
    "## Deep Learning Model: Chemprop "
   ]
  },
  {
   "cell_type": "code",
   "execution_count": 1,
   "metadata": {},
   "outputs": [],
   "source": [
    "import pandas as pd\n",
    "from rdkit import Chem\n",
    "from rdkit.Chem import AllChem\n",
    "import numpy as np\n",
    "import chemprop\n",
    "from sklearn.utils import shuffle\n",
    "from chemprop.train.evaluate import evaluate_predictions\n"
   ]
  },
  {
   "cell_type": "markdown",
   "metadata": {},
   "source": [
    "## Random Sampling "
   ]
  },
  {
   "cell_type": "code",
   "execution_count": 12,
   "metadata": {},
   "outputs": [],
   "source": [
    "def run_chemprop(batchsize):\n",
    "    train_arguments = [\n",
    "        '--data_path', '/Users/shwetajones/Desktop/1. Automation/02-750-Final-Project/rand_train_dataset.csv',\n",
    "        '--dataset_type', 'regression',\n",
    "        '--save_dir', '/Users/shwetajones/Desktop/1. Automation/02-750-Final-Project/',\n",
    "        '--batch_size', str(batchsize), \n",
    "        '--epochs', str(5),\n",
    "        \n",
    "    ]\n",
    "\n",
    "    train_args = chemprop.args.TrainArgs().parse_args(train_arguments)\n",
    "    train_args.quiet = True\n",
    "    mean_score, std_score = chemprop.train.cross_validate(args=train_args, train_func=chemprop.train.run_training)\n",
    "\n",
    "    test_arguments = [\n",
    "    '--test_path', '/Users/shwetajones/Desktop/1. Automation/02-750-Final-Project/rand_test_dataset.csv',\n",
    "    '--preds_path', 'rand_preds.csv',\n",
    "    '--checkpoint_dir', '/Users/shwetajones/Desktop/1. Automation/02-750-Final-Project/', \n",
    "    \n",
    "    ]   \n",
    "\n",
    "    test_args = chemprop.args.PredictArgs().parse_args(test_arguments)\n",
    "    test_args.quiet = True\n",
    "    preds = chemprop.train.make_predictions(args=test_args)\n",
    "\n",
    "    preds = pd.read_csv(\"rand_preds.csv\")\n",
    "    y_preds = [[target] for target in preds[\"target\"].values]\n",
    "    test = pd.read_csv(\"rand_test_dataset.csv\")\n",
    "    y_test = [[target] for target in test[\"target\"].values]\n",
    "    dataset_type = 'test'\n",
    "    num_tasks = len(y_preds[0])\n",
    "    results = evaluate_predictions(preds=y_preds, targets=y_test, num_tasks=num_tasks, metrics=['rmse', 'r2'], dataset_type=dataset_type)\n",
    "  \n",
    "    return results['rmse'], results['r2']"
   ]
  },
  {
   "cell_type": "code",
   "execution_count": 2,
   "metadata": {},
   "outputs": [],
   "source": [
    "def random_sampling_chemprop(batchsize):\n",
    "    seeds = [1, 2, 3]\n",
    "    \n",
    "    rmse_vals = []\n",
    "    r2_vals = []\n",
    "\n",
    "    data = pd.read_csv(\"TYK2_final.csv\", index_col=False)\n",
    "    data = data.drop(['target', 'top_2p', 'top_5p'], axis=1)\n",
    "    column_names = ['smiles', 'target']\n",
    "    data.columns = column_names\n",
    "\n",
    "    for seed in seeds:\n",
    "        rmse_instance = []\n",
    "        r2_instance = []\n",
    "        # Get the data \n",
    "        data = np.array(data)\n",
    "        shuffled_data = shuffle(data, random_state=seed)\n",
    "        size = int(len(shuffled_data)*0.1)\n",
    "        train, test = shuffled_data[:size], shuffled_data[size:]\n",
    "        train_df = pd.DataFrame(train, columns=column_names)\n",
    "        train_df.to_csv(\"rand_train_dataset.csv\", index=False)\n",
    "        test_df = pd.DataFrame(test, columns=column_names)\n",
    "        test_df.to_csv(\"rand_test_dataset.csv\", index=False)\n",
    "        \n",
    "        counter = 0\n",
    "        while len(train_df) <= round(((len(shuffled_data) * 0.2) / 500 )) * 500:\n",
    "            if counter % 100 == 0:\n",
    "                print(\"running chemprop\")\n",
    "                rmse, r2 = run_chemprop(batchsize) \n",
    "                rmse_instance.append(rmse)\n",
    "                r2_instance.append(r2)\n",
    "            train_df =  pd.concat([train_df, test_df.iloc[:batchsize]])  \n",
    "            test_df = test_df.drop(test_df.index[:batchsize]) \n",
    "            \n",
    "            # Update the csv\n",
    "            train_df.to_csv(\"rand_train_dataset.csv\", index=False)\n",
    "            test_df.to_csv(\"rand_test_dataset.csv\", index=False)\n",
    "            \n",
    "            counter += batchsize\n",
    "        \n",
    "        rmse_vals.append(rmse_instance)\n",
    "        r2_vals.append(r2_instance)\n",
    "        print(\"finished seed\")\n",
    "    return rmse_vals, r2_vals\n"
   ]
  },
  {
   "cell_type": "code",
   "execution_count": null,
   "metadata": {},
   "outputs": [],
   "source": [
    "batch_sizes = [1, 25, 50]\n",
    "rand_rmse_dict = {}\n",
    "rand_r2_dict = {}\n",
    "\n",
    "final_rand_data_chemprop = pd.DataFrame()\n",
    "\n",
    "for batch in batch_sizes:\n",
    "    print(f\"{batch} number\")\n",
    "    rand_rmse, rand_r2 = random_sampling_chemprop(batch)\n",
    "\n",
    "    rand_rmse_mean = np.mean(rand_rmse, axis=0)\n",
    "    rand_rmse_stdev = np.std(rand_rmse, axis=0)\n",
    "    print(\"mean:\", rand_rmse_mean)\n",
    "    print(\"standard deviation:\", rand_rmse_stdev)\n",
    "    rand_rmse_dict[batch] = (rand_rmse, rand_rmse_mean, rand_rmse_stdev)\n",
    "    final_rand_data_chemprop[f\"{batch}_rmse_mean\"] = rand_rmse_mean\n",
    "    final_rand_data_chemprop[f\"{batch}_rmse_stdev\"] = rand_rmse_stdev\n",
    "\n",
    "\n",
    "    rand_r2_mean = np.mean(rand_r2, axis=0)\n",
    "    rand_r2_stdev = np.std(rand_r2, axis=0)\n",
    "    print(\"mean:\", rand_r2_mean)\n",
    "    print(\"standard deviation:\", rand_r2_stdev)\n",
    "    rand_r2_dict[batch] = (rand_r2, rand_r2_mean, rand_r2_stdev)\n",
    "    final_rand_data_chemprop[f\"{batch}_r2_mean\"] = rand_r2_mean\n",
    "    final_rand_data_chemprop[f\"{batch}_r2_stdev\"] = rand_r2_stdev\n",
    "    \n",
    "\n",
    "final_rand_data_chemprop.to_csv(\"final_data_random_chemprop.csv\", index=False)"
   ]
  },
  {
   "cell_type": "markdown",
   "metadata": {},
   "source": [
    "## Monte Carlo Dropout"
   ]
  },
  {
   "cell_type": "code",
   "execution_count": 2,
   "metadata": {},
   "outputs": [],
   "source": [
    "def chemprop_monte_carlo(batchsize, eval):\n",
    "    train_arguments = [\n",
    "        '--data_path', '/Users/shwetajones/Desktop/1-Automation/02-750-Final-Project/mc_train_dataset.csv',\n",
    "        '--dataset_type', 'regression',\n",
    "        '--save_dir', '/Users/shwetajones/Desktop/1-Automation/02-750-Final-Project/',\n",
    "        '--batch_size', str(batchsize), \n",
    "        '--loss_function', 'mve', \n",
    "        '--epochs', str(5),\n",
    "        \n",
    "    ]\n",
    "\n",
    "    train_args = chemprop.args.TrainArgs().parse_args(train_arguments)\n",
    "    train_args.quiet = True\n",
    "    mean_score, std_score = chemprop.train.cross_validate(args=train_args, train_func=chemprop.train.run_training)\n",
    "\n",
    "    test_arguments = [\n",
    "    '--test_path', '/Users/shwetajones/Desktop/1-Automation/02-750-Final-Project/mc_test_dataset.csv',\n",
    "    '--preds_path', 'mc_preds.csv',\n",
    "    '--checkpoint_dir', '/Users/shwetajones/Desktop/1-Automation/02-750-Final-Project/', \n",
    "    '--uncertainty_dropout_p', str(0.1), \n",
    "    '--uncertainty_method', 'mve',\n",
    "    ]   \n",
    "\n",
    "    test_args = chemprop.args.PredictArgs().parse_args(test_arguments)\n",
    "    test_args.quiet = True\n",
    "    preds = chemprop.train.make_predictions(args=test_args, return_uncertainty=True)\n",
    "\n",
    "    preds = pd.read_csv(\"mc_preds.csv\")\n",
    "    uncertainty = preds['target_mve_uncal_var']\n",
    "    instance_to_add = uncertainty.nlargest(batchsize).index\n",
    "    \n",
    "    if eval == True:\n",
    "        y_preds = [[target] for target in preds[\"target\"].values]\n",
    "        test = pd.read_csv(\"mc_test_dataset.csv\")\n",
    "        y_test = [[target] for target in test[\"target\"].values]\n",
    "        dataset_type = 'test'\n",
    "        num_tasks = len(y_preds[0])\n",
    "        print(\"INFORMATIONS:\", len(y_preds), len(y_test), num_tasks)\n",
    "        results = evaluate_predictions(preds=y_preds, targets=y_test, num_tasks=num_tasks, metrics=['rmse', 'r2'], dataset_type=dataset_type)\n",
    "        return instance_to_add, results['rmse'], results['r2']\n",
    "    \n",
    "    return instance_to_add\n",
    "  \n",
    "    "
   ]
  },
  {
   "cell_type": "code",
   "execution_count": 3,
   "metadata": {},
   "outputs": [],
   "source": [
    "def monte_carlo_dropout(batchsize):\n",
    "    seeds = [1, 2, 3]\n",
    "    \n",
    "    rmse_vals = []\n",
    "    r2_vals = []\n",
    "\n",
    "    data = pd.read_csv(\"TYK2_final.csv\", index_col=False)\n",
    "    data = data.drop(['target', 'top_2p', 'top_5p'], axis=1)\n",
    "    column_names = ['smiles', 'target']\n",
    "    data.columns = column_names\n",
    "\n",
    "    for seed in seeds:\n",
    "        rmse_instance = []\n",
    "        r2_instance = []\n",
    "        # Get the data \n",
    "        data = np.array(data)\n",
    "        shuffled_data = shuffle(data, random_state=seed)\n",
    "        # size = int(len(shuffled_data)*0.1)\n",
    "        size = 1000\n",
    "        train, test = shuffled_data[:size], shuffled_data[size:]\n",
    "        train_df = pd.DataFrame(train, columns=column_names)\n",
    "        train_df.to_csv(\"mc_train_dataset.csv\", index=False)\n",
    "        test_df = pd.DataFrame(test, columns=column_names)\n",
    "        test_df.to_csv(\"mc_test_dataset.csv\", index=False)\n",
    "        print(\"TEST/TRAIN:\", len(test_df), len(train_df))\n",
    "        \n",
    "\n",
    "        counter = 0\n",
    "        eval = False\n",
    "        while len(train_df) <= 1500:#round(((len(shuffled_data) * 0.125) / 50 )) * 50:\n",
    "            print(\"running chemprop\")\n",
    "            if counter % 50 == 0:\n",
    "                print(\"in the counter\")\n",
    "                eval = True \n",
    "                instance, rmse, r2 = chemprop_monte_carlo(batchsize, eval) \n",
    "                rmse_instance.append(rmse)\n",
    "                r2_instance.append(r2)\n",
    "            \n",
    "            else:\n",
    "                instance = chemprop_monte_carlo(batchsize, eval) \n",
    "\n",
    "            eval = False\n",
    "\n",
    "            train_df =  pd.concat([train_df, test_df.iloc[instance]])  \n",
    "            test_df = test_df.drop(test_df.index[instance]) \n",
    "    \n",
    "            # Update the csv\n",
    "            train_df.to_csv(\"mc_train_dataset.csv\", index=False)\n",
    "            test_df.to_csv(\"mc_test_dataset.csv\", index=False)\n",
    "\n",
    "            # test = pd.read_csv(\"mc_test_dataset.csv\", index_col=False)\n",
    "            # train = pd.read_csv(\"mc_train_dataset.csv\", index_col=False)\n",
    "            # print(\"UPDATED TEST/TRAIN:\", len(test), len(train))\n",
    "\n",
    "            counter += batchsize\n",
    "        \n",
    "        rmse_vals.append(rmse_instance)\n",
    "        r2_vals.append(r2_instance)\n",
    "        print(\"finished seed\")\n",
    "    return rmse_vals, r2_vals"
   ]
  },
  {
   "cell_type": "code",
   "execution_count": 4,
   "metadata": {},
   "outputs": [
    {
     "name": "stdout",
     "output_type": "stream",
     "text": [
      "25 number\n",
      "TEST/TRAIN: 8997 1000\n",
      "running chemprop\n",
      "in the counter\n"
     ]
    },
    {
     "name": "stderr",
     "output_type": "stream",
     "text": [
      "1000it [00:00, 203123.83it/s]\n",
      "100%|██████████| 1000/1000 [00:00<00:00, 190036.88it/s]\n",
      "100%|██████████| 1000/1000 [00:00<00:00, 4341.07it/s]\n",
      "Fold 0\n",
      "100%|██████████| 5/5 [00:16<00:00,  3.30s/it]\n",
      "Model 0 best validation rmse = 1.222764 on epoch 4\n",
      "Model 0 test rmse = 1.382127                 \n",
      "Ensemble test rmse = 1.382127\n",
      "1-fold cross validation\n",
      "\tSeed 0 ==> test rmse = 1.382127\n",
      "Overall test rmse = 1.382127 +/- 0.000000\n",
      "Elapsed time = 0:00:18\n"
     ]
    },
    {
     "name": "stdout",
     "output_type": "stream",
     "text": [
      "Loading training args\n",
      "Setting molecule featurization parameters to default.\n",
      "Loading data\n"
     ]
    },
    {
     "name": "stderr",
     "output_type": "stream",
     "text": [
      "8997it [00:00, 21857.16it/s]\n",
      "100%|██████████| 8997/8997 [00:00<00:00, 174672.07it/s]\n"
     ]
    },
    {
     "name": "stdout",
     "output_type": "stream",
     "text": [
      "Validating SMILES\n",
      "Test size = 8,997\n"
     ]
    },
    {
     "name": "stderr",
     "output_type": "stream",
     "text": [
      "  0%|          | 0/1 [00:00<?, ?it/s]"
     ]
    },
    {
     "name": "stdout",
     "output_type": "stream",
     "text": [
      "Loading pretrained parameter \"encoder.encoder.0.cached_zero_vector\".\n",
      "Loading pretrained parameter \"encoder.encoder.0.W_i.weight\".\n",
      "Loading pretrained parameter \"encoder.encoder.0.W_h.weight\".\n",
      "Loading pretrained parameter \"encoder.encoder.0.W_o.weight\".\n",
      "Loading pretrained parameter \"encoder.encoder.0.W_o.bias\".\n",
      "Loading pretrained parameter \"readout.1.weight\".\n",
      "Loading pretrained parameter \"readout.1.bias\".\n",
      "Loading pretrained parameter \"readout.4.weight\".\n",
      "Loading pretrained parameter \"readout.4.bias\".\n"
     ]
    },
    {
     "name": "stderr",
     "output_type": "stream",
     "text": [
      "100%|██████████| 1/1 [01:44<00:00, 104.39s/it]\n"
     ]
    },
    {
     "name": "stdout",
     "output_type": "stream",
     "text": [
      "Saving predictions to mc_preds.csv\n",
      "Elapsed time = 0:01:48\n",
      "INFORMATIONS: 8997 8997 1\n",
      "running chemprop\n"
     ]
    },
    {
     "name": "stderr",
     "output_type": "stream",
     "text": [
      "1025it [00:00, 223020.26it/s]\n",
      "100%|██████████| 1025/1025 [00:00<00:00, 192494.03it/s]\n",
      "100%|██████████| 1025/1025 [00:00<00:00, 78293.27it/s]\n",
      "Fold 0\n",
      "100%|██████████| 5/5 [05:13<00:00, 62.63s/it] \n",
      "Model 0 best validation rmse = 1.217406 on epoch 4\n",
      "Model 0 test rmse = 1.251905                 \n",
      "Ensemble test rmse = 1.251905\n",
      "1-fold cross validation\n",
      "\tSeed 0 ==> test rmse = 1.251905\n",
      "Overall test rmse = 1.251905 +/- 0.000000\n",
      "Elapsed time = 0:05:14\n"
     ]
    },
    {
     "name": "stdout",
     "output_type": "stream",
     "text": [
      "Loading training args\n",
      "Setting molecule featurization parameters to default.\n",
      "Loading data\n"
     ]
    },
    {
     "name": "stderr",
     "output_type": "stream",
     "text": [
      "8972it [00:00, 42840.09it/s]\n",
      "100%|██████████| 8972/8972 [00:00<00:00, 218438.62it/s]\n"
     ]
    },
    {
     "name": "stdout",
     "output_type": "stream",
     "text": [
      "Validating SMILES\n",
      "Test size = 8,972\n"
     ]
    },
    {
     "name": "stderr",
     "output_type": "stream",
     "text": [
      "  0%|          | 0/1 [00:00<?, ?it/s]"
     ]
    },
    {
     "name": "stdout",
     "output_type": "stream",
     "text": [
      "Loading pretrained parameter \"encoder.encoder.0.cached_zero_vector\".\n",
      "Loading pretrained parameter \"encoder.encoder.0.W_i.weight\".\n",
      "Loading pretrained parameter \"encoder.encoder.0.W_h.weight\".\n",
      "Loading pretrained parameter \"encoder.encoder.0.W_o.weight\".\n",
      "Loading pretrained parameter \"encoder.encoder.0.W_o.bias\".\n",
      "Loading pretrained parameter \"readout.1.weight\".\n",
      "Loading pretrained parameter \"readout.1.bias\".\n",
      "Loading pretrained parameter \"readout.4.weight\".\n",
      "Loading pretrained parameter \"readout.4.bias\".\n"
     ]
    },
    {
     "name": "stderr",
     "output_type": "stream",
     "text": [
      "100%|██████████| 1/1 [16:47<00:00, 1007.17s/it]\n"
     ]
    },
    {
     "name": "stdout",
     "output_type": "stream",
     "text": [
      "Saving predictions to mc_preds.csv\n",
      "Elapsed time = 0:16:48\n",
      "running chemprop\n",
      "in the counter\n"
     ]
    },
    {
     "name": "stderr",
     "output_type": "stream",
     "text": [
      "1050it [00:00, 214809.25it/s]\n",
      "100%|██████████| 1050/1050 [00:00<00:00, 194799.15it/s]\n",
      "100%|██████████| 1050/1050 [00:00<00:00, 76547.71it/s]\n",
      "Fold 0\n",
      "100%|██████████| 5/5 [00:16<00:00,  3.23s/it]\n",
      "Model 0 best validation rmse = 1.273545 on epoch 4\n",
      "Model 0 test rmse = 1.332784                 \n",
      "Ensemble test rmse = 1.332784\n",
      "1-fold cross validation\n",
      "\tSeed 0 ==> test rmse = 1.332784\n",
      "Overall test rmse = 1.332784 +/- 0.000000\n",
      "Elapsed time = 0:00:17\n"
     ]
    },
    {
     "name": "stdout",
     "output_type": "stream",
     "text": [
      "Loading training args\n",
      "Setting molecule featurization parameters to default.\n",
      "Loading data\n"
     ]
    },
    {
     "name": "stderr",
     "output_type": "stream",
     "text": [
      "8947it [00:00, 40332.27it/s]\n",
      "100%|██████████| 8947/8947 [00:00<00:00, 211577.47it/s]\n"
     ]
    },
    {
     "name": "stdout",
     "output_type": "stream",
     "text": [
      "Validating SMILES\n",
      "Test size = 8,947\n"
     ]
    },
    {
     "name": "stderr",
     "output_type": "stream",
     "text": [
      "  0%|          | 0/1 [00:00<?, ?it/s]"
     ]
    },
    {
     "name": "stdout",
     "output_type": "stream",
     "text": [
      "Loading pretrained parameter \"encoder.encoder.0.cached_zero_vector\".\n",
      "Loading pretrained parameter \"encoder.encoder.0.W_i.weight\".\n",
      "Loading pretrained parameter \"encoder.encoder.0.W_h.weight\".\n",
      "Loading pretrained parameter \"encoder.encoder.0.W_o.weight\".\n",
      "Loading pretrained parameter \"encoder.encoder.0.W_o.bias\".\n",
      "Loading pretrained parameter \"readout.1.weight\".\n",
      "Loading pretrained parameter \"readout.1.bias\".\n",
      "Loading pretrained parameter \"readout.4.weight\".\n",
      "Loading pretrained parameter \"readout.4.bias\".\n"
     ]
    },
    {
     "name": "stderr",
     "output_type": "stream",
     "text": [
      "100%|██████████| 1/1 [01:16<00:00, 76.83s/it]\n"
     ]
    },
    {
     "name": "stdout",
     "output_type": "stream",
     "text": [
      "Saving predictions to mc_preds.csv\n",
      "Elapsed time = 0:01:17\n",
      "INFORMATIONS: 8947 8947 1\n",
      "running chemprop\n"
     ]
    },
    {
     "name": "stderr",
     "output_type": "stream",
     "text": [
      "1075it [00:00, 236574.68it/s]\n",
      "100%|██████████| 1075/1075 [00:00<00:00, 193000.46it/s]\n",
      "100%|██████████| 1075/1075 [00:00<00:00, 86358.75it/s]\n",
      "Fold 0\n",
      "100%|██████████| 5/5 [00:16<00:00,  3.30s/it]\n",
      "Model 0 best validation rmse = 1.173282 on epoch 4\n",
      "Model 0 test rmse = 1.391415                 \n",
      "Ensemble test rmse = 1.391415\n",
      "1-fold cross validation\n",
      "\tSeed 0 ==> test rmse = 1.391415\n",
      "Overall test rmse = 1.391415 +/- 0.000000\n",
      "Elapsed time = 0:00:17\n"
     ]
    },
    {
     "name": "stdout",
     "output_type": "stream",
     "text": [
      "Loading training args\n",
      "Setting molecule featurization parameters to default.\n",
      "Loading data\n"
     ]
    },
    {
     "name": "stderr",
     "output_type": "stream",
     "text": [
      "8922it [00:00, 310145.87it/s]\n",
      "100%|██████████| 8922/8922 [00:00<00:00, 37517.96it/s]\n"
     ]
    },
    {
     "name": "stdout",
     "output_type": "stream",
     "text": [
      "Validating SMILES\n",
      "Test size = 8,922\n"
     ]
    },
    {
     "name": "stderr",
     "output_type": "stream",
     "text": [
      "  0%|          | 0/1 [00:00<?, ?it/s]"
     ]
    },
    {
     "name": "stdout",
     "output_type": "stream",
     "text": [
      "Loading pretrained parameter \"encoder.encoder.0.cached_zero_vector\".\n",
      "Loading pretrained parameter \"encoder.encoder.0.W_i.weight\".\n",
      "Loading pretrained parameter \"encoder.encoder.0.W_h.weight\".\n",
      "Loading pretrained parameter \"encoder.encoder.0.W_o.weight\".\n",
      "Loading pretrained parameter \"encoder.encoder.0.W_o.bias\".\n",
      "Loading pretrained parameter \"readout.1.weight\".\n",
      "Loading pretrained parameter \"readout.1.bias\".\n",
      "Loading pretrained parameter \"readout.4.weight\".\n",
      "Loading pretrained parameter \"readout.4.bias\".\n"
     ]
    },
    {
     "name": "stderr",
     "output_type": "stream",
     "text": [
      "100%|██████████| 1/1 [01:15<00:00, 75.82s/it]\n"
     ]
    },
    {
     "name": "stdout",
     "output_type": "stream",
     "text": [
      "Saving predictions to mc_preds.csv\n",
      "Elapsed time = 0:01:16\n",
      "running chemprop\n",
      "in the counter\n"
     ]
    },
    {
     "name": "stderr",
     "output_type": "stream",
     "text": [
      "1100it [00:00, 227087.38it/s]\n",
      "100%|██████████| 1100/1100 [00:00<00:00, 196890.47it/s]\n",
      "100%|██████████| 1100/1100 [00:00<00:00, 86038.61it/s]\n",
      "Fold 0\n",
      "100%|██████████| 5/5 [00:17<00:00,  3.43s/it]\n",
      "Model 0 best validation rmse = 1.207869 on epoch 4\n",
      "Model 0 test rmse = 1.263119                 \n",
      "Ensemble test rmse = 1.263119\n",
      "1-fold cross validation\n",
      "\tSeed 0 ==> test rmse = 1.263119\n",
      "Overall test rmse = 1.263119 +/- 0.000000\n",
      "Elapsed time = 0:00:18\n"
     ]
    },
    {
     "name": "stdout",
     "output_type": "stream",
     "text": [
      "Loading training args\n",
      "Setting molecule featurization parameters to default.\n",
      "Loading data\n"
     ]
    },
    {
     "name": "stderr",
     "output_type": "stream",
     "text": [
      "8897it [00:00, 325921.63it/s]\n",
      "100%|██████████| 8897/8897 [00:00<00:00, 50176.04it/s]\n"
     ]
    },
    {
     "name": "stdout",
     "output_type": "stream",
     "text": [
      "Validating SMILES\n",
      "Test size = 8,897\n"
     ]
    },
    {
     "name": "stderr",
     "output_type": "stream",
     "text": [
      "  0%|          | 0/1 [00:00<?, ?it/s]"
     ]
    },
    {
     "name": "stdout",
     "output_type": "stream",
     "text": [
      "Loading pretrained parameter \"encoder.encoder.0.cached_zero_vector\".\n",
      "Loading pretrained parameter \"encoder.encoder.0.W_i.weight\".\n",
      "Loading pretrained parameter \"encoder.encoder.0.W_h.weight\".\n",
      "Loading pretrained parameter \"encoder.encoder.0.W_o.weight\".\n",
      "Loading pretrained parameter \"encoder.encoder.0.W_o.bias\".\n",
      "Loading pretrained parameter \"readout.1.weight\".\n",
      "Loading pretrained parameter \"readout.1.bias\".\n",
      "Loading pretrained parameter \"readout.4.weight\".\n",
      "Loading pretrained parameter \"readout.4.bias\".\n"
     ]
    },
    {
     "name": "stderr",
     "output_type": "stream",
     "text": [
      "100%|██████████| 1/1 [01:15<00:00, 75.15s/it]\n"
     ]
    },
    {
     "name": "stdout",
     "output_type": "stream",
     "text": [
      "Saving predictions to mc_preds.csv\n",
      "Elapsed time = 0:01:16\n",
      "INFORMATIONS: 8897 8897 1\n",
      "running chemprop\n"
     ]
    },
    {
     "name": "stderr",
     "output_type": "stream",
     "text": [
      "1125it [00:00, 229637.53it/s]\n",
      "100%|██████████| 1125/1125 [00:00<00:00, 193535.62it/s]\n",
      "100%|██████████| 1125/1125 [00:00<00:00, 82630.10it/s]\n",
      "Fold 0\n",
      "100%|██████████| 5/5 [00:17<00:00,  3.49s/it]\n",
      "Model 0 best validation rmse = 1.145965 on epoch 3\n",
      "Model 0 test rmse = 1.240837                 \n",
      "Ensemble test rmse = 1.240837\n",
      "1-fold cross validation\n",
      "\tSeed 0 ==> test rmse = 1.240837\n",
      "Overall test rmse = 1.240837 +/- 0.000000\n",
      "Elapsed time = 0:00:18\n"
     ]
    },
    {
     "name": "stdout",
     "output_type": "stream",
     "text": [
      "Loading training args\n",
      "Setting molecule featurization parameters to default.\n",
      "Loading data\n"
     ]
    },
    {
     "name": "stderr",
     "output_type": "stream",
     "text": [
      "8872it [00:00, 40833.78it/s]\n",
      "100%|██████████| 8872/8872 [00:00<00:00, 208424.29it/s]\n"
     ]
    },
    {
     "name": "stdout",
     "output_type": "stream",
     "text": [
      "Validating SMILES\n",
      "Test size = 8,872\n"
     ]
    },
    {
     "name": "stderr",
     "output_type": "stream",
     "text": [
      "  0%|          | 0/1 [00:00<?, ?it/s]"
     ]
    },
    {
     "name": "stdout",
     "output_type": "stream",
     "text": [
      "Loading pretrained parameter \"encoder.encoder.0.cached_zero_vector\".\n",
      "Loading pretrained parameter \"encoder.encoder.0.W_i.weight\".\n",
      "Loading pretrained parameter \"encoder.encoder.0.W_h.weight\".\n",
      "Loading pretrained parameter \"encoder.encoder.0.W_o.weight\".\n",
      "Loading pretrained parameter \"encoder.encoder.0.W_o.bias\".\n",
      "Loading pretrained parameter \"readout.1.weight\".\n",
      "Loading pretrained parameter \"readout.1.bias\".\n",
      "Loading pretrained parameter \"readout.4.weight\".\n",
      "Loading pretrained parameter \"readout.4.bias\".\n"
     ]
    },
    {
     "name": "stderr",
     "output_type": "stream",
     "text": [
      "100%|██████████| 1/1 [01:14<00:00, 74.27s/it]\n"
     ]
    },
    {
     "name": "stdout",
     "output_type": "stream",
     "text": [
      "Saving predictions to mc_preds.csv\n",
      "Elapsed time = 0:01:15\n",
      "running chemprop\n",
      "in the counter\n"
     ]
    },
    {
     "name": "stderr",
     "output_type": "stream",
     "text": [
      "1150it [00:00, 226740.45it/s]\n",
      "100%|██████████| 1150/1150 [00:00<00:00, 200801.37it/s]\n",
      "100%|██████████| 1150/1150 [00:00<00:00, 81692.46it/s]\n",
      "Fold 0\n",
      "100%|██████████| 5/5 [00:17<00:00,  3.52s/it]\n",
      "Model 0 best validation rmse = 1.067981 on epoch 4\n",
      "Model 0 test rmse = 1.216032                 \n",
      "Ensemble test rmse = 1.216032\n",
      "1-fold cross validation\n",
      "\tSeed 0 ==> test rmse = 1.216032\n",
      "Overall test rmse = 1.216032 +/- 0.000000\n",
      "Elapsed time = 0:00:18\n"
     ]
    },
    {
     "name": "stdout",
     "output_type": "stream",
     "text": [
      "Loading training args\n",
      "Setting molecule featurization parameters to default.\n",
      "Loading data\n"
     ]
    },
    {
     "name": "stderr",
     "output_type": "stream",
     "text": [
      "8847it [00:00, 327398.40it/s]\n",
      "100%|██████████| 8847/8847 [00:00<00:00, 38591.55it/s]\n"
     ]
    },
    {
     "name": "stdout",
     "output_type": "stream",
     "text": [
      "Validating SMILES\n",
      "Test size = 8,847\n"
     ]
    },
    {
     "name": "stderr",
     "output_type": "stream",
     "text": [
      "  0%|          | 0/1 [00:00<?, ?it/s]"
     ]
    },
    {
     "name": "stdout",
     "output_type": "stream",
     "text": [
      "Loading pretrained parameter \"encoder.encoder.0.cached_zero_vector\".\n",
      "Loading pretrained parameter \"encoder.encoder.0.W_i.weight\".\n",
      "Loading pretrained parameter \"encoder.encoder.0.W_h.weight\".\n",
      "Loading pretrained parameter \"encoder.encoder.0.W_o.weight\".\n",
      "Loading pretrained parameter \"encoder.encoder.0.W_o.bias\".\n",
      "Loading pretrained parameter \"readout.1.weight\".\n",
      "Loading pretrained parameter \"readout.1.bias\".\n",
      "Loading pretrained parameter \"readout.4.weight\".\n",
      "Loading pretrained parameter \"readout.4.bias\".\n"
     ]
    },
    {
     "name": "stderr",
     "output_type": "stream",
     "text": [
      "100%|██████████| 1/1 [18:06<00:00, 1086.56s/it]\n"
     ]
    },
    {
     "name": "stdout",
     "output_type": "stream",
     "text": [
      "Saving predictions to mc_preds.csv\n",
      "Elapsed time = 0:18:07\n",
      "INFORMATIONS: 8847 8847 1\n",
      "running chemprop\n"
     ]
    },
    {
     "name": "stderr",
     "output_type": "stream",
     "text": [
      "1175it [00:00, 240640.00it/s]\n",
      "100%|██████████| 1175/1175 [00:00<00:00, 190591.20it/s]\n",
      "100%|██████████| 1175/1175 [00:00<00:00, 83737.85it/s]\n",
      "Fold 0\n",
      "100%|██████████| 5/5 [00:17<00:00,  3.58s/it]\n",
      "Model 0 best validation rmse = 1.261587 on epoch 3\n",
      "Model 0 test rmse = 1.339184                 \n",
      "Ensemble test rmse = 1.339184\n",
      "1-fold cross validation\n",
      "\tSeed 0 ==> test rmse = 1.339184\n",
      "Overall test rmse = 1.339184 +/- 0.000000\n",
      "Elapsed time = 0:00:18\n"
     ]
    },
    {
     "name": "stdout",
     "output_type": "stream",
     "text": [
      "Loading training args\n",
      "Setting molecule featurization parameters to default.\n",
      "Loading data\n"
     ]
    },
    {
     "name": "stderr",
     "output_type": "stream",
     "text": [
      "8822it [00:00, 328639.25it/s]\n",
      "100%|██████████| 8822/8822 [00:00<00:00, 38186.03it/s]\n"
     ]
    },
    {
     "name": "stdout",
     "output_type": "stream",
     "text": [
      "Validating SMILES\n",
      "Test size = 8,822\n"
     ]
    },
    {
     "name": "stderr",
     "output_type": "stream",
     "text": [
      "  0%|          | 0/1 [00:00<?, ?it/s]"
     ]
    },
    {
     "name": "stdout",
     "output_type": "stream",
     "text": [
      "Loading pretrained parameter \"encoder.encoder.0.cached_zero_vector\".\n",
      "Loading pretrained parameter \"encoder.encoder.0.W_i.weight\".\n",
      "Loading pretrained parameter \"encoder.encoder.0.W_h.weight\".\n",
      "Loading pretrained parameter \"encoder.encoder.0.W_o.weight\".\n",
      "Loading pretrained parameter \"encoder.encoder.0.W_o.bias\".\n",
      "Loading pretrained parameter \"readout.1.weight\".\n",
      "Loading pretrained parameter \"readout.1.bias\".\n",
      "Loading pretrained parameter \"readout.4.weight\".\n",
      "Loading pretrained parameter \"readout.4.bias\".\n"
     ]
    },
    {
     "name": "stderr",
     "output_type": "stream",
     "text": [
      "100%|██████████| 1/1 [01:14<00:00, 74.62s/it]\n"
     ]
    },
    {
     "name": "stdout",
     "output_type": "stream",
     "text": [
      "Saving predictions to mc_preds.csv\n",
      "Elapsed time = 0:01:15\n",
      "running chemprop\n",
      "in the counter\n"
     ]
    },
    {
     "name": "stderr",
     "output_type": "stream",
     "text": [
      "1200it [00:00, 229500.01it/s]\n",
      "100%|██████████| 1200/1200 [00:00<00:00, 200364.84it/s]\n",
      "100%|██████████| 1200/1200 [00:00<00:00, 67218.21it/s]\n",
      "Fold 0\n",
      "100%|██████████| 5/5 [00:18<00:00,  3.66s/it]\n",
      "Model 0 best validation rmse = 1.111488 on epoch 4\n",
      "Model 0 test rmse = 1.228735                 \n",
      "Ensemble test rmse = 1.228735\n",
      "1-fold cross validation\n",
      "\tSeed 0 ==> test rmse = 1.228735\n",
      "Overall test rmse = 1.228735 +/- 0.000000\n",
      "Elapsed time = 0:00:19\n"
     ]
    },
    {
     "name": "stdout",
     "output_type": "stream",
     "text": [
      "Loading training args\n",
      "Setting molecule featurization parameters to default.\n",
      "Loading data\n"
     ]
    },
    {
     "name": "stderr",
     "output_type": "stream",
     "text": [
      "8797it [00:00, 327257.42it/s]\n",
      "100%|██████████| 8797/8797 [00:00<00:00, 37899.62it/s]\n"
     ]
    },
    {
     "name": "stdout",
     "output_type": "stream",
     "text": [
      "Validating SMILES\n",
      "Test size = 8,797\n"
     ]
    },
    {
     "name": "stderr",
     "output_type": "stream",
     "text": [
      "  0%|          | 0/1 [00:00<?, ?it/s]"
     ]
    },
    {
     "name": "stdout",
     "output_type": "stream",
     "text": [
      "Loading pretrained parameter \"encoder.encoder.0.cached_zero_vector\".\n",
      "Loading pretrained parameter \"encoder.encoder.0.W_i.weight\".\n",
      "Loading pretrained parameter \"encoder.encoder.0.W_h.weight\".\n",
      "Loading pretrained parameter \"encoder.encoder.0.W_o.weight\".\n",
      "Loading pretrained parameter \"encoder.encoder.0.W_o.bias\".\n",
      "Loading pretrained parameter \"readout.1.weight\".\n",
      "Loading pretrained parameter \"readout.1.bias\".\n",
      "Loading pretrained parameter \"readout.4.weight\".\n",
      "Loading pretrained parameter \"readout.4.bias\".\n"
     ]
    },
    {
     "name": "stderr",
     "output_type": "stream",
     "text": [
      "100%|██████████| 1/1 [16:48<00:00, 1008.19s/it]\n"
     ]
    },
    {
     "name": "stdout",
     "output_type": "stream",
     "text": [
      "Saving predictions to mc_preds.csv\n",
      "Elapsed time = 0:16:49\n",
      "INFORMATIONS: 8797 8797 1\n",
      "running chemprop\n"
     ]
    },
    {
     "name": "stderr",
     "output_type": "stream",
     "text": [
      "1225it [00:00, 238036.71it/s]\n",
      "100%|██████████| 1225/1225 [00:00<00:00, 195719.27it/s]\n",
      "100%|██████████| 1225/1225 [00:00<00:00, 56136.07it/s]\n",
      "Fold 0\n",
      "100%|██████████| 5/5 [00:18<00:00,  3.71s/it]\n",
      "Model 0 best validation rmse = 1.228119 on epoch 4\n",
      "Model 0 test rmse = 1.189909                 \n",
      "Ensemble test rmse = 1.189909\n",
      "1-fold cross validation\n",
      "\tSeed 0 ==> test rmse = 1.189909\n",
      "Overall test rmse = 1.189909 +/- 0.000000\n",
      "Elapsed time = 0:00:19\n"
     ]
    },
    {
     "name": "stdout",
     "output_type": "stream",
     "text": [
      "Loading training args\n",
      "Setting molecule featurization parameters to default.\n",
      "Loading data\n"
     ]
    },
    {
     "name": "stderr",
     "output_type": "stream",
     "text": [
      "8772it [00:00, 37555.76it/s]\n",
      "100%|██████████| 8772/8772 [00:00<00:00, 199020.03it/s]\n"
     ]
    },
    {
     "name": "stdout",
     "output_type": "stream",
     "text": [
      "Validating SMILES\n",
      "Test size = 8,772\n"
     ]
    },
    {
     "name": "stderr",
     "output_type": "stream",
     "text": [
      "  0%|          | 0/1 [00:00<?, ?it/s]"
     ]
    },
    {
     "name": "stdout",
     "output_type": "stream",
     "text": [
      "Loading pretrained parameter \"encoder.encoder.0.cached_zero_vector\".\n",
      "Loading pretrained parameter \"encoder.encoder.0.W_i.weight\".\n",
      "Loading pretrained parameter \"encoder.encoder.0.W_h.weight\".\n",
      "Loading pretrained parameter \"encoder.encoder.0.W_o.weight\".\n",
      "Loading pretrained parameter \"encoder.encoder.0.W_o.bias\".\n",
      "Loading pretrained parameter \"readout.1.weight\".\n",
      "Loading pretrained parameter \"readout.1.bias\".\n",
      "Loading pretrained parameter \"readout.4.weight\".\n",
      "Loading pretrained parameter \"readout.4.bias\".\n"
     ]
    },
    {
     "name": "stderr",
     "output_type": "stream",
     "text": [
      "100%|██████████| 1/1 [14:45<00:00, 885.24s/it]\n"
     ]
    },
    {
     "name": "stdout",
     "output_type": "stream",
     "text": [
      "Saving predictions to mc_preds.csv\n",
      "Elapsed time = 0:14:46\n",
      "running chemprop\n",
      "in the counter\n"
     ]
    },
    {
     "name": "stderr",
     "output_type": "stream",
     "text": [
      "1250it [00:00, 224006.84it/s]\n",
      "100%|██████████| 1250/1250 [00:00<00:00, 202827.19it/s]\n",
      "100%|██████████| 1250/1250 [00:00<00:00, 58499.27it/s]\n",
      "Fold 0\n",
      "100%|██████████| 5/5 [02:18<00:00, 27.70s/it]\n",
      "Model 0 best validation rmse = 1.152408 on epoch 4\n",
      "Model 0 test rmse = 1.201839                 \n",
      "Ensemble test rmse = 1.201839\n",
      "1-fold cross validation\n",
      "\tSeed 0 ==> test rmse = 1.201839\n",
      "Overall test rmse = 1.201839 +/- 0.000000\n",
      "Elapsed time = 0:02:19\n"
     ]
    },
    {
     "name": "stdout",
     "output_type": "stream",
     "text": [
      "Loading training args\n",
      "Setting molecule featurization parameters to default.\n",
      "Loading data\n"
     ]
    },
    {
     "name": "stderr",
     "output_type": "stream",
     "text": [
      "8747it [00:00, 322471.45it/s]\n",
      "100%|██████████| 8747/8747 [00:00<00:00, 213441.33it/s]\n"
     ]
    },
    {
     "name": "stdout",
     "output_type": "stream",
     "text": [
      "Validating SMILES\n",
      "Test size = 8,747\n"
     ]
    },
    {
     "name": "stderr",
     "output_type": "stream",
     "text": [
      "  0%|          | 0/1 [00:00<?, ?it/s]"
     ]
    },
    {
     "name": "stdout",
     "output_type": "stream",
     "text": [
      "Loading pretrained parameter \"encoder.encoder.0.cached_zero_vector\".\n",
      "Loading pretrained parameter \"encoder.encoder.0.W_i.weight\".\n",
      "Loading pretrained parameter \"encoder.encoder.0.W_h.weight\".\n",
      "Loading pretrained parameter \"encoder.encoder.0.W_o.weight\".\n",
      "Loading pretrained parameter \"encoder.encoder.0.W_o.bias\".\n",
      "Loading pretrained parameter \"readout.1.weight\".\n",
      "Loading pretrained parameter \"readout.1.bias\".\n",
      "Loading pretrained parameter \"readout.4.weight\".\n",
      "Loading pretrained parameter \"readout.4.bias\".\n"
     ]
    },
    {
     "name": "stderr",
     "output_type": "stream",
     "text": [
      "100%|██████████| 1/1 [01:14<00:00, 74.86s/it]\n"
     ]
    },
    {
     "name": "stdout",
     "output_type": "stream",
     "text": [
      "Saving predictions to mc_preds.csv\n",
      "Elapsed time = 0:01:15\n",
      "INFORMATIONS: 8747 8747 1\n",
      "running chemprop\n"
     ]
    },
    {
     "name": "stderr",
     "output_type": "stream",
     "text": [
      "1275it [00:00, 216612.83it/s]\n",
      "100%|██████████| 1275/1275 [00:00<00:00, 191011.09it/s]\n",
      "100%|██████████| 1275/1275 [00:00<00:00, 60847.88it/s]\n",
      "Fold 0\n",
      "100%|██████████| 5/5 [00:19<00:00,  3.84s/it]\n",
      "Model 0 best validation rmse = 1.318086 on epoch 4\n",
      "Model 0 test rmse = 1.272398                 \n",
      "Ensemble test rmse = 1.272398\n",
      "1-fold cross validation\n",
      "\tSeed 0 ==> test rmse = 1.272398\n",
      "Overall test rmse = 1.272398 +/- 0.000000\n",
      "Elapsed time = 0:00:20\n"
     ]
    },
    {
     "name": "stdout",
     "output_type": "stream",
     "text": [
      "Loading training args\n",
      "Setting molecule featurization parameters to default.\n",
      "Loading data\n"
     ]
    },
    {
     "name": "stderr",
     "output_type": "stream",
     "text": [
      "8722it [00:00, 324366.65it/s]\n",
      "100%|██████████| 8722/8722 [00:00<00:00, 41003.01it/s]\n"
     ]
    },
    {
     "name": "stdout",
     "output_type": "stream",
     "text": [
      "Validating SMILES\n",
      "Test size = 8,722\n"
     ]
    },
    {
     "name": "stderr",
     "output_type": "stream",
     "text": [
      "  0%|          | 0/1 [00:00<?, ?it/s]"
     ]
    },
    {
     "name": "stdout",
     "output_type": "stream",
     "text": [
      "Loading pretrained parameter \"encoder.encoder.0.cached_zero_vector\".\n",
      "Loading pretrained parameter \"encoder.encoder.0.W_i.weight\".\n",
      "Loading pretrained parameter \"encoder.encoder.0.W_h.weight\".\n",
      "Loading pretrained parameter \"encoder.encoder.0.W_o.weight\".\n",
      "Loading pretrained parameter \"encoder.encoder.0.W_o.bias\".\n",
      "Loading pretrained parameter \"readout.1.weight\".\n",
      "Loading pretrained parameter \"readout.1.bias\".\n",
      "Loading pretrained parameter \"readout.4.weight\".\n",
      "Loading pretrained parameter \"readout.4.bias\".\n"
     ]
    },
    {
     "name": "stderr",
     "output_type": "stream",
     "text": [
      "100%|██████████| 1/1 [01:14<00:00, 74.34s/it]\n"
     ]
    },
    {
     "name": "stdout",
     "output_type": "stream",
     "text": [
      "Saving predictions to mc_preds.csv\n",
      "Elapsed time = 0:01:15\n",
      "running chemprop\n",
      "in the counter\n"
     ]
    },
    {
     "name": "stderr",
     "output_type": "stream",
     "text": [
      "1300it [00:00, 226164.30it/s]\n",
      "100%|██████████| 1300/1300 [00:00<00:00, 186675.18it/s]\n",
      "100%|██████████| 1300/1300 [00:00<00:00, 54092.13it/s]\n",
      "Fold 0\n",
      "100%|██████████| 5/5 [02:02<00:00, 24.45s/it]\n",
      "Model 0 best validation rmse = 1.387555 on epoch 4\n",
      "Model 0 test rmse = 1.248949                 \n",
      "Ensemble test rmse = 1.248949\n",
      "1-fold cross validation\n",
      "\tSeed 0 ==> test rmse = 1.248949\n",
      "Overall test rmse = 1.248949 +/- 0.000000\n",
      "Elapsed time = 0:02:03\n"
     ]
    },
    {
     "name": "stdout",
     "output_type": "stream",
     "text": [
      "Loading training args\n",
      "Setting molecule featurization parameters to default.\n",
      "Loading data\n"
     ]
    },
    {
     "name": "stderr",
     "output_type": "stream",
     "text": [
      "8697it [00:00, 331216.46it/s]\n",
      "100%|██████████| 8697/8697 [00:00<00:00, 201264.94it/s]\n"
     ]
    },
    {
     "name": "stdout",
     "output_type": "stream",
     "text": [
      "Validating SMILES\n",
      "Test size = 8,697\n"
     ]
    },
    {
     "name": "stderr",
     "output_type": "stream",
     "text": [
      "  0%|          | 0/1 [00:00<?, ?it/s]"
     ]
    },
    {
     "name": "stdout",
     "output_type": "stream",
     "text": [
      "Loading pretrained parameter \"encoder.encoder.0.cached_zero_vector\".\n",
      "Loading pretrained parameter \"encoder.encoder.0.W_i.weight\".\n",
      "Loading pretrained parameter \"encoder.encoder.0.W_h.weight\".\n",
      "Loading pretrained parameter \"encoder.encoder.0.W_o.weight\".\n",
      "Loading pretrained parameter \"encoder.encoder.0.W_o.bias\".\n",
      "Loading pretrained parameter \"readout.1.weight\".\n",
      "Loading pretrained parameter \"readout.1.bias\".\n",
      "Loading pretrained parameter \"readout.4.weight\".\n",
      "Loading pretrained parameter \"readout.4.bias\".\n"
     ]
    },
    {
     "name": "stderr",
     "output_type": "stream",
     "text": [
      "100%|██████████| 1/1 [03:05<00:00, 185.39s/it]\n"
     ]
    },
    {
     "name": "stdout",
     "output_type": "stream",
     "text": [
      "Saving predictions to mc_preds.csv\n",
      "Elapsed time = 0:03:06\n",
      "INFORMATIONS: 8697 8697 1\n",
      "running chemprop\n"
     ]
    },
    {
     "name": "stderr",
     "output_type": "stream",
     "text": [
      "1325it [00:00, 241313.63it/s]\n",
      "100%|██████████| 1325/1325 [00:00<00:00, 186048.43it/s]\n",
      "100%|██████████| 1325/1325 [00:00<00:00, 60513.65it/s]\n",
      "Fold 0\n",
      "100%|██████████| 5/5 [00:20<00:00,  4.03s/it]\n",
      "Model 0 best validation rmse = 1.307112 on epoch 4\n",
      "Model 0 test rmse = 1.220982                 \n",
      "Ensemble test rmse = 1.220982\n",
      "1-fold cross validation\n",
      "\tSeed 0 ==> test rmse = 1.220982\n",
      "Overall test rmse = 1.220982 +/- 0.000000\n",
      "Elapsed time = 0:00:21\n"
     ]
    },
    {
     "name": "stdout",
     "output_type": "stream",
     "text": [
      "Loading training args\n",
      "Setting molecule featurization parameters to default.\n",
      "Loading data\n"
     ]
    },
    {
     "name": "stderr",
     "output_type": "stream",
     "text": [
      "8672it [00:00, 36355.26it/s]\n",
      "100%|██████████| 8672/8672 [00:00<00:00, 213702.41it/s]\n"
     ]
    },
    {
     "name": "stdout",
     "output_type": "stream",
     "text": [
      "Validating SMILES\n",
      "Test size = 8,672\n"
     ]
    },
    {
     "name": "stderr",
     "output_type": "stream",
     "text": [
      "  0%|          | 0/1 [00:00<?, ?it/s]"
     ]
    },
    {
     "name": "stdout",
     "output_type": "stream",
     "text": [
      "Loading pretrained parameter \"encoder.encoder.0.cached_zero_vector\".\n",
      "Loading pretrained parameter \"encoder.encoder.0.W_i.weight\".\n",
      "Loading pretrained parameter \"encoder.encoder.0.W_h.weight\".\n",
      "Loading pretrained parameter \"encoder.encoder.0.W_o.weight\".\n",
      "Loading pretrained parameter \"encoder.encoder.0.W_o.bias\".\n",
      "Loading pretrained parameter \"readout.1.weight\".\n",
      "Loading pretrained parameter \"readout.1.bias\".\n",
      "Loading pretrained parameter \"readout.4.weight\".\n",
      "Loading pretrained parameter \"readout.4.bias\".\n"
     ]
    },
    {
     "name": "stderr",
     "output_type": "stream",
     "text": [
      "100%|██████████| 1/1 [18:44<00:00, 1124.72s/it]\n"
     ]
    },
    {
     "name": "stdout",
     "output_type": "stream",
     "text": [
      "Saving predictions to mc_preds.csv\n",
      "Elapsed time = 0:18:45\n",
      "running chemprop\n",
      "in the counter\n"
     ]
    },
    {
     "name": "stderr",
     "output_type": "stream",
     "text": [
      "1350it [00:00, 212501.33it/s]\n",
      "100%|██████████| 1350/1350 [00:00<00:00, 181211.33it/s]\n",
      "100%|██████████| 1350/1350 [00:00<00:00, 54375.75it/s]\n",
      "Fold 0\n",
      "100%|██████████| 5/5 [00:20<00:00,  4.17s/it]\n",
      "Model 0 best validation rmse = 1.334149 on epoch 3\n",
      "Model 0 test rmse = 1.322994                 \n",
      "Ensemble test rmse = 1.322994\n",
      "1-fold cross validation\n",
      "\tSeed 0 ==> test rmse = 1.322994\n",
      "Overall test rmse = 1.322994 +/- 0.000000\n",
      "Elapsed time = 0:00:22\n"
     ]
    },
    {
     "name": "stdout",
     "output_type": "stream",
     "text": [
      "Loading training args\n",
      "Setting molecule featurization parameters to default.\n",
      "Loading data\n"
     ]
    },
    {
     "name": "stderr",
     "output_type": "stream",
     "text": [
      "8647it [00:00, 318840.85it/s]\n",
      "100%|██████████| 8647/8647 [00:00<00:00, 215104.63it/s]\n"
     ]
    },
    {
     "name": "stdout",
     "output_type": "stream",
     "text": [
      "Validating SMILES\n",
      "Test size = 8,647\n"
     ]
    },
    {
     "name": "stderr",
     "output_type": "stream",
     "text": [
      "  0%|          | 0/1 [00:00<?, ?it/s]"
     ]
    },
    {
     "name": "stdout",
     "output_type": "stream",
     "text": [
      "Loading pretrained parameter \"encoder.encoder.0.cached_zero_vector\".\n",
      "Loading pretrained parameter \"encoder.encoder.0.W_i.weight\".\n",
      "Loading pretrained parameter \"encoder.encoder.0.W_h.weight\".\n",
      "Loading pretrained parameter \"encoder.encoder.0.W_o.weight\".\n",
      "Loading pretrained parameter \"encoder.encoder.0.W_o.bias\".\n",
      "Loading pretrained parameter \"readout.1.weight\".\n",
      "Loading pretrained parameter \"readout.1.bias\".\n",
      "Loading pretrained parameter \"readout.4.weight\".\n",
      "Loading pretrained parameter \"readout.4.bias\".\n"
     ]
    },
    {
     "name": "stderr",
     "output_type": "stream",
     "text": [
      "100%|██████████| 1/1 [01:15<00:00, 75.91s/it]\n"
     ]
    },
    {
     "name": "stdout",
     "output_type": "stream",
     "text": [
      "Saving predictions to mc_preds.csv\n",
      "Elapsed time = 0:01:16\n",
      "INFORMATIONS: 8647 8647 1\n",
      "running chemprop\n"
     ]
    },
    {
     "name": "stderr",
     "output_type": "stream",
     "text": [
      "1375it [00:00, 235202.61it/s]\n",
      "100%|██████████| 1375/1375 [00:00<00:00, 187203.17it/s]\n",
      "100%|██████████| 1375/1375 [00:00<00:00, 55973.99it/s]\n",
      "Fold 0\n",
      "100%|██████████| 5/5 [08:01<00:00, 96.37s/it] \n",
      "Model 0 best validation rmse = 1.303012 on epoch 3\n",
      "Model 0 test rmse = 1.336565                 \n",
      "Ensemble test rmse = 1.336565\n",
      "1-fold cross validation\n",
      "\tSeed 0 ==> test rmse = 1.336565\n",
      "Overall test rmse = 1.336565 +/- 0.000000\n",
      "Elapsed time = 0:08:02\n"
     ]
    },
    {
     "name": "stdout",
     "output_type": "stream",
     "text": [
      "Loading training args\n",
      "Setting molecule featurization parameters to default.\n",
      "Loading data\n"
     ]
    },
    {
     "name": "stderr",
     "output_type": "stream",
     "text": [
      "8622it [00:00, 300616.72it/s]\n",
      "100%|██████████| 8622/8622 [00:00<00:00, 203391.93it/s]\n"
     ]
    },
    {
     "name": "stdout",
     "output_type": "stream",
     "text": [
      "Validating SMILES\n",
      "Test size = 8,622\n"
     ]
    },
    {
     "name": "stderr",
     "output_type": "stream",
     "text": [
      "  0%|          | 0/1 [00:00<?, ?it/s]"
     ]
    },
    {
     "name": "stdout",
     "output_type": "stream",
     "text": [
      "Loading pretrained parameter \"encoder.encoder.0.cached_zero_vector\".\n",
      "Loading pretrained parameter \"encoder.encoder.0.W_i.weight\".\n",
      "Loading pretrained parameter \"encoder.encoder.0.W_h.weight\".\n",
      "Loading pretrained parameter \"encoder.encoder.0.W_o.weight\".\n",
      "Loading pretrained parameter \"encoder.encoder.0.W_o.bias\".\n",
      "Loading pretrained parameter \"readout.1.weight\".\n",
      "Loading pretrained parameter \"readout.1.bias\".\n",
      "Loading pretrained parameter \"readout.4.weight\".\n",
      "Loading pretrained parameter \"readout.4.bias\".\n"
     ]
    },
    {
     "name": "stderr",
     "output_type": "stream",
     "text": [
      "100%|██████████| 1/1 [16:25<00:00, 985.81s/it]\n"
     ]
    },
    {
     "name": "stdout",
     "output_type": "stream",
     "text": [
      "Saving predictions to mc_preds.csv\n",
      "Elapsed time = 0:16:26\n",
      "running chemprop\n",
      "in the counter\n"
     ]
    },
    {
     "name": "stderr",
     "output_type": "stream",
     "text": [
      "1400it [00:00, 223143.67it/s]\n",
      "100%|██████████| 1400/1400 [00:00<00:00, 199857.92it/s]\n",
      "100%|██████████| 1400/1400 [00:00<00:00, 55910.74it/s]\n",
      "Fold 0\n",
      "100%|██████████| 5/5 [00:21<00:00,  4.36s/it]\n",
      "Model 0 best validation rmse = 1.278330 on epoch 4\n",
      "Model 0 test rmse = 1.178512                 \n",
      "Ensemble test rmse = 1.178512\n",
      "1-fold cross validation\n",
      "\tSeed 0 ==> test rmse = 1.178512\n",
      "Overall test rmse = 1.178512 +/- 0.000000\n",
      "Elapsed time = 0:00:22\n"
     ]
    },
    {
     "name": "stdout",
     "output_type": "stream",
     "text": [
      "Loading training args\n",
      "Setting molecule featurization parameters to default.\n",
      "Loading data\n"
     ]
    },
    {
     "name": "stderr",
     "output_type": "stream",
     "text": [
      "8597it [00:00, 325610.49it/s]\n",
      "100%|██████████| 8597/8597 [00:00<00:00, 213319.32it/s]\n"
     ]
    },
    {
     "name": "stdout",
     "output_type": "stream",
     "text": [
      "Validating SMILES\n",
      "Test size = 8,597\n"
     ]
    },
    {
     "name": "stderr",
     "output_type": "stream",
     "text": [
      "  0%|          | 0/1 [00:00<?, ?it/s]"
     ]
    },
    {
     "name": "stdout",
     "output_type": "stream",
     "text": [
      "Loading pretrained parameter \"encoder.encoder.0.cached_zero_vector\".\n",
      "Loading pretrained parameter \"encoder.encoder.0.W_i.weight\".\n",
      "Loading pretrained parameter \"encoder.encoder.0.W_h.weight\".\n",
      "Loading pretrained parameter \"encoder.encoder.0.W_o.weight\".\n",
      "Loading pretrained parameter \"encoder.encoder.0.W_o.bias\".\n",
      "Loading pretrained parameter \"readout.1.weight\".\n",
      "Loading pretrained parameter \"readout.1.bias\".\n",
      "Loading pretrained parameter \"readout.4.weight\".\n",
      "Loading pretrained parameter \"readout.4.bias\".\n"
     ]
    },
    {
     "name": "stderr",
     "output_type": "stream",
     "text": [
      "100%|██████████| 1/1 [18:31<00:00, 1111.26s/it]\n"
     ]
    },
    {
     "name": "stdout",
     "output_type": "stream",
     "text": [
      "Saving predictions to mc_preds.csv\n",
      "Elapsed time = 0:18:32\n",
      "INFORMATIONS: 8597 8597 1\n",
      "running chemprop\n"
     ]
    },
    {
     "name": "stderr",
     "output_type": "stream",
     "text": [
      "1425it [00:00, 217222.72it/s]\n",
      "100%|██████████| 1425/1425 [00:00<00:00, 160169.45it/s]\n",
      "100%|██████████| 1425/1425 [00:00<00:00, 51784.22it/s]\n",
      "Fold 0\n",
      "100%|██████████| 5/5 [00:21<00:00,  4.36s/it]\n",
      "Model 0 best validation rmse = 1.299580 on epoch 4\n",
      "Model 0 test rmse = 1.190482                 \n",
      "Ensemble test rmse = 1.190482\n",
      "1-fold cross validation\n",
      "\tSeed 0 ==> test rmse = 1.190482\n",
      "Overall test rmse = 1.190482 +/- 0.000000\n",
      "Elapsed time = 0:00:22\n"
     ]
    },
    {
     "name": "stdout",
     "output_type": "stream",
     "text": [
      "Loading training args\n",
      "Setting molecule featurization parameters to default.\n",
      "Loading data\n"
     ]
    },
    {
     "name": "stderr",
     "output_type": "stream",
     "text": [
      "8572it [00:00, 34999.86it/s]\n",
      "100%|██████████| 8572/8572 [00:00<00:00, 203498.89it/s]\n"
     ]
    },
    {
     "name": "stdout",
     "output_type": "stream",
     "text": [
      "Validating SMILES\n",
      "Test size = 8,572\n"
     ]
    },
    {
     "name": "stderr",
     "output_type": "stream",
     "text": [
      "  0%|          | 0/1 [00:00<?, ?it/s]"
     ]
    },
    {
     "name": "stdout",
     "output_type": "stream",
     "text": [
      "Loading pretrained parameter \"encoder.encoder.0.cached_zero_vector\".\n",
      "Loading pretrained parameter \"encoder.encoder.0.W_i.weight\".\n",
      "Loading pretrained parameter \"encoder.encoder.0.W_h.weight\".\n",
      "Loading pretrained parameter \"encoder.encoder.0.W_o.weight\".\n",
      "Loading pretrained parameter \"encoder.encoder.0.W_o.bias\".\n",
      "Loading pretrained parameter \"readout.1.weight\".\n",
      "Loading pretrained parameter \"readout.1.bias\".\n",
      "Loading pretrained parameter \"readout.4.weight\".\n",
      "Loading pretrained parameter \"readout.4.bias\".\n"
     ]
    },
    {
     "name": "stderr",
     "output_type": "stream",
     "text": [
      "100%|██████████| 1/1 [17:44<00:00, 1064.73s/it]\n"
     ]
    },
    {
     "name": "stdout",
     "output_type": "stream",
     "text": [
      "Saving predictions to mc_preds.csv\n",
      "Elapsed time = 0:17:45\n",
      "running chemprop\n",
      "in the counter\n"
     ]
    },
    {
     "name": "stderr",
     "output_type": "stream",
     "text": [
      "1450it [00:00, 215672.22it/s]\n",
      "100%|██████████| 1450/1450 [00:00<00:00, 192979.24it/s]\n",
      "100%|██████████| 1450/1450 [00:00<00:00, 52937.18it/s]\n",
      "Fold 0\n",
      "100%|██████████| 5/5 [00:22<00:00,  4.52s/it]\n",
      "Model 0 best validation rmse = 1.373864 on epoch 4\n",
      "Model 0 test rmse = 1.222788                 \n",
      "Ensemble test rmse = 1.222788\n",
      "1-fold cross validation\n",
      "\tSeed 0 ==> test rmse = 1.222788\n",
      "Overall test rmse = 1.222788 +/- 0.000000\n",
      "Elapsed time = 0:00:23\n"
     ]
    },
    {
     "name": "stdout",
     "output_type": "stream",
     "text": [
      "Loading training args\n",
      "Setting molecule featurization parameters to default.\n",
      "Loading data\n"
     ]
    },
    {
     "name": "stderr",
     "output_type": "stream",
     "text": [
      "8547it [00:00, 314503.81it/s]\n",
      "100%|██████████| 8547/8547 [00:00<00:00, 211261.29it/s]\n"
     ]
    },
    {
     "name": "stdout",
     "output_type": "stream",
     "text": [
      "Validating SMILES\n",
      "Test size = 8,547\n"
     ]
    },
    {
     "name": "stderr",
     "output_type": "stream",
     "text": [
      "  0%|          | 0/1 [00:00<?, ?it/s]"
     ]
    },
    {
     "name": "stdout",
     "output_type": "stream",
     "text": [
      "Loading pretrained parameter \"encoder.encoder.0.cached_zero_vector\".\n",
      "Loading pretrained parameter \"encoder.encoder.0.W_i.weight\".\n",
      "Loading pretrained parameter \"encoder.encoder.0.W_h.weight\".\n",
      "Loading pretrained parameter \"encoder.encoder.0.W_o.weight\".\n",
      "Loading pretrained parameter \"encoder.encoder.0.W_o.bias\".\n",
      "Loading pretrained parameter \"readout.1.weight\".\n",
      "Loading pretrained parameter \"readout.1.bias\".\n",
      "Loading pretrained parameter \"readout.4.weight\".\n",
      "Loading pretrained parameter \"readout.4.bias\".\n"
     ]
    },
    {
     "name": "stderr",
     "output_type": "stream",
     "text": [
      "100%|██████████| 1/1 [01:16<00:00, 76.89s/it]\n"
     ]
    },
    {
     "name": "stdout",
     "output_type": "stream",
     "text": [
      "Saving predictions to mc_preds.csv\n",
      "Elapsed time = 0:01:17\n",
      "INFORMATIONS: 8547 8547 1\n",
      "running chemprop\n"
     ]
    },
    {
     "name": "stderr",
     "output_type": "stream",
     "text": [
      "1475it [00:00, 240386.94it/s]\n",
      "100%|██████████| 1475/1475 [00:00<00:00, 183138.40it/s]\n",
      "100%|██████████| 1475/1475 [00:00<00:00, 56831.30it/s]\n",
      "Fold 0\n",
      "100%|██████████| 5/5 [05:51<00:00, 70.38s/it] \n",
      "Model 0 best validation rmse = 1.366900 on epoch 4\n",
      "Model 0 test rmse = 1.215900                 \n",
      "Ensemble test rmse = 1.215900\n",
      "1-fold cross validation\n",
      "\tSeed 0 ==> test rmse = 1.215900\n",
      "Overall test rmse = 1.215900 +/- 0.000000\n",
      "Elapsed time = 0:05:53\n"
     ]
    },
    {
     "name": "stdout",
     "output_type": "stream",
     "text": [
      "Loading training args\n",
      "Setting molecule featurization parameters to default.\n",
      "Loading data\n"
     ]
    },
    {
     "name": "stderr",
     "output_type": "stream",
     "text": [
      "8522it [00:00, 309666.36it/s]\n",
      "100%|██████████| 8522/8522 [00:00<00:00, 34074.61it/s]\n"
     ]
    },
    {
     "name": "stdout",
     "output_type": "stream",
     "text": [
      "Validating SMILES\n",
      "Test size = 8,522\n"
     ]
    },
    {
     "name": "stderr",
     "output_type": "stream",
     "text": [
      "  0%|          | 0/1 [00:00<?, ?it/s]"
     ]
    },
    {
     "name": "stdout",
     "output_type": "stream",
     "text": [
      "Loading pretrained parameter \"encoder.encoder.0.cached_zero_vector\".\n",
      "Loading pretrained parameter \"encoder.encoder.0.W_i.weight\".\n",
      "Loading pretrained parameter \"encoder.encoder.0.W_h.weight\".\n",
      "Loading pretrained parameter \"encoder.encoder.0.W_o.weight\".\n",
      "Loading pretrained parameter \"encoder.encoder.0.W_o.bias\".\n",
      "Loading pretrained parameter \"readout.1.weight\".\n",
      "Loading pretrained parameter \"readout.1.bias\".\n",
      "Loading pretrained parameter \"readout.4.weight\".\n",
      "Loading pretrained parameter \"readout.4.bias\".\n"
     ]
    },
    {
     "name": "stderr",
     "output_type": "stream",
     "text": [
      "100%|██████████| 1/1 [18:45<00:00, 1125.06s/it]\n"
     ]
    },
    {
     "name": "stdout",
     "output_type": "stream",
     "text": [
      "Saving predictions to mc_preds.csv\n",
      "Elapsed time = 0:18:46\n",
      "running chemprop\n",
      "in the counter\n"
     ]
    },
    {
     "name": "stderr",
     "output_type": "stream",
     "text": [
      "1500it [00:00, 222485.89it/s]\n",
      "100%|██████████| 1500/1500 [00:00<00:00, 202917.46it/s]\n",
      "100%|██████████| 1500/1500 [00:00<00:00, 58976.13it/s]\n",
      "Fold 0\n",
      "100%|██████████| 5/5 [00:23<00:00,  4.63s/it]\n",
      "Model 0 best validation rmse = 1.286846 on epoch 3\n",
      "Model 0 test rmse = 1.221733                 \n",
      "Ensemble test rmse = 1.221733\n",
      "1-fold cross validation\n",
      "\tSeed 0 ==> test rmse = 1.221733\n",
      "Overall test rmse = 1.221733 +/- 0.000000\n",
      "Elapsed time = 0:00:24\n"
     ]
    },
    {
     "name": "stdout",
     "output_type": "stream",
     "text": [
      "Loading training args\n",
      "Setting molecule featurization parameters to default.\n",
      "Loading data\n"
     ]
    },
    {
     "name": "stderr",
     "output_type": "stream",
     "text": [
      "8497it [00:00, 36318.30it/s]\n",
      "100%|██████████| 8497/8497 [00:00<00:00, 211899.79it/s]\n"
     ]
    },
    {
     "name": "stdout",
     "output_type": "stream",
     "text": [
      "Validating SMILES\n",
      "Test size = 8,497\n"
     ]
    },
    {
     "name": "stderr",
     "output_type": "stream",
     "text": [
      "  0%|          | 0/1 [00:00<?, ?it/s]"
     ]
    },
    {
     "name": "stdout",
     "output_type": "stream",
     "text": [
      "Loading pretrained parameter \"encoder.encoder.0.cached_zero_vector\".\n",
      "Loading pretrained parameter \"encoder.encoder.0.W_i.weight\".\n",
      "Loading pretrained parameter \"encoder.encoder.0.W_h.weight\".\n",
      "Loading pretrained parameter \"encoder.encoder.0.W_o.weight\".\n",
      "Loading pretrained parameter \"encoder.encoder.0.W_o.bias\".\n",
      "Loading pretrained parameter \"readout.1.weight\".\n",
      "Loading pretrained parameter \"readout.1.bias\".\n",
      "Loading pretrained parameter \"readout.4.weight\".\n",
      "Loading pretrained parameter \"readout.4.bias\".\n"
     ]
    },
    {
     "name": "stderr",
     "output_type": "stream",
     "text": [
      "100%|██████████| 1/1 [18:43<00:00, 1123.86s/it]\n"
     ]
    },
    {
     "name": "stdout",
     "output_type": "stream",
     "text": [
      "Saving predictions to mc_preds.csv\n",
      "Elapsed time = 0:18:44\n",
      "INFORMATIONS: 8497 8497 1\n",
      "finished seed\n",
      "TEST/TRAIN: 8997 1000\n",
      "running chemprop\n",
      "in the counter\n"
     ]
    },
    {
     "name": "stderr",
     "output_type": "stream",
     "text": [
      "1000it [00:00, 231601.55it/s]\n",
      "100%|██████████| 1000/1000 [00:00<00:00, 182289.71it/s]\n",
      "100%|██████████| 1000/1000 [00:00<00:00, 7649.41it/s]\n",
      "Fold 0\n",
      "100%|██████████| 5/5 [00:15<00:00,  3.12s/it]\n",
      "Model 0 best validation rmse = 1.273395 on epoch 4\n",
      "Model 0 test rmse = 1.130421                 \n",
      "Ensemble test rmse = 1.130421\n",
      "1-fold cross validation\n",
      "\tSeed 0 ==> test rmse = 1.130421\n",
      "Overall test rmse = 1.130421 +/- 0.000000\n",
      "Elapsed time = 0:00:16\n"
     ]
    },
    {
     "name": "stdout",
     "output_type": "stream",
     "text": [
      "Loading training args\n",
      "Setting molecule featurization parameters to default.\n",
      "Loading data\n"
     ]
    },
    {
     "name": "stderr",
     "output_type": "stream",
     "text": [
      "8997it [00:00, 26334.13it/s]\n",
      "100%|██████████| 8997/8997 [00:00<00:00, 218264.31it/s]\n"
     ]
    },
    {
     "name": "stdout",
     "output_type": "stream",
     "text": [
      "Validating SMILES\n",
      "Test size = 8,997\n"
     ]
    },
    {
     "name": "stderr",
     "output_type": "stream",
     "text": [
      "  0%|          | 0/1 [00:00<?, ?it/s]"
     ]
    },
    {
     "name": "stdout",
     "output_type": "stream",
     "text": [
      "Loading pretrained parameter \"encoder.encoder.0.cached_zero_vector\".\n",
      "Loading pretrained parameter \"encoder.encoder.0.W_i.weight\".\n",
      "Loading pretrained parameter \"encoder.encoder.0.W_h.weight\".\n",
      "Loading pretrained parameter \"encoder.encoder.0.W_o.weight\".\n",
      "Loading pretrained parameter \"encoder.encoder.0.W_o.bias\".\n",
      "Loading pretrained parameter \"readout.1.weight\".\n",
      "Loading pretrained parameter \"readout.1.bias\".\n",
      "Loading pretrained parameter \"readout.4.weight\".\n",
      "Loading pretrained parameter \"readout.4.bias\".\n"
     ]
    },
    {
     "name": "stderr",
     "output_type": "stream",
     "text": [
      "100%|██████████| 1/1 [16:38<00:00, 998.08s/it]\n"
     ]
    },
    {
     "name": "stdout",
     "output_type": "stream",
     "text": [
      "Saving predictions to mc_preds.csv\n",
      "Elapsed time = 0:16:39\n",
      "INFORMATIONS: 8997 8997 1\n",
      "running chemprop\n"
     ]
    },
    {
     "name": "stderr",
     "output_type": "stream",
     "text": [
      "1025it [00:00, 221949.49it/s]\n",
      "100%|██████████| 1025/1025 [00:00<00:00, 175511.80it/s]\n",
      "100%|██████████| 1025/1025 [00:00<00:00, 53171.91it/s]\n",
      "Fold 0\n",
      "100%|██████████| 5/5 [00:15<00:00,  3.10s/it]\n",
      "Model 0 best validation rmse = 1.232900 on epoch 4\n",
      "Model 0 test rmse = 1.105294                 \n",
      "Ensemble test rmse = 1.105294\n",
      "1-fold cross validation\n",
      "\tSeed 0 ==> test rmse = 1.105294\n",
      "Overall test rmse = 1.105294 +/- 0.000000\n",
      "Elapsed time = 0:00:16\n"
     ]
    },
    {
     "name": "stdout",
     "output_type": "stream",
     "text": [
      "Loading training args\n",
      "Setting molecule featurization parameters to default.\n",
      "Loading data\n"
     ]
    },
    {
     "name": "stderr",
     "output_type": "stream",
     "text": [
      "8972it [00:00, 300137.94it/s]\n",
      "100%|██████████| 8972/8972 [00:00<00:00, 205670.33it/s]\n"
     ]
    },
    {
     "name": "stdout",
     "output_type": "stream",
     "text": [
      "Validating SMILES\n",
      "Test size = 8,972\n"
     ]
    },
    {
     "name": "stderr",
     "output_type": "stream",
     "text": [
      "  0%|          | 0/1 [00:00<?, ?it/s]"
     ]
    },
    {
     "name": "stdout",
     "output_type": "stream",
     "text": [
      "Loading pretrained parameter \"encoder.encoder.0.cached_zero_vector\".\n",
      "Loading pretrained parameter \"encoder.encoder.0.W_i.weight\".\n",
      "Loading pretrained parameter \"encoder.encoder.0.W_h.weight\".\n",
      "Loading pretrained parameter \"encoder.encoder.0.W_o.weight\".\n",
      "Loading pretrained parameter \"encoder.encoder.0.W_o.bias\".\n",
      "Loading pretrained parameter \"readout.1.weight\".\n",
      "Loading pretrained parameter \"readout.1.bias\".\n",
      "Loading pretrained parameter \"readout.4.weight\".\n",
      "Loading pretrained parameter \"readout.4.bias\".\n"
     ]
    },
    {
     "name": "stderr",
     "output_type": "stream",
     "text": [
      "100%|██████████| 1/1 [01:16<00:00, 76.11s/it]\n"
     ]
    },
    {
     "name": "stdout",
     "output_type": "stream",
     "text": [
      "Saving predictions to mc_preds.csv\n",
      "Elapsed time = 0:01:16\n",
      "running chemprop\n",
      "in the counter\n"
     ]
    },
    {
     "name": "stderr",
     "output_type": "stream",
     "text": [
      "1050it [00:00, 206402.92it/s]\n",
      "100%|██████████| 1050/1050 [00:00<00:00, 191229.67it/s]\n",
      "100%|██████████| 1050/1050 [00:00<00:00, 64878.53it/s]\n",
      "Fold 0\n",
      "100%|██████████| 5/5 [00:15<00:00,  3.18s/it]\n",
      "Model 0 best validation rmse = 1.190328 on epoch 4\n",
      "Model 0 test rmse = 1.205754                 \n",
      "Ensemble test rmse = 1.205754\n",
      "1-fold cross validation\n",
      "\tSeed 0 ==> test rmse = 1.205754\n",
      "Overall test rmse = 1.205754 +/- 0.000000\n",
      "Elapsed time = 0:00:16\n"
     ]
    },
    {
     "name": "stdout",
     "output_type": "stream",
     "text": [
      "Loading training args\n",
      "Setting molecule featurization parameters to default.\n",
      "Loading data\n"
     ]
    },
    {
     "name": "stderr",
     "output_type": "stream",
     "text": [
      "8947it [00:00, 325417.00it/s]\n",
      "100%|██████████| 8947/8947 [00:00<00:00, 24654.98it/s]\n"
     ]
    },
    {
     "name": "stdout",
     "output_type": "stream",
     "text": [
      "Validating SMILES\n",
      "Test size = 8,947\n"
     ]
    },
    {
     "name": "stderr",
     "output_type": "stream",
     "text": [
      "  0%|          | 0/1 [00:00<?, ?it/s]"
     ]
    },
    {
     "name": "stdout",
     "output_type": "stream",
     "text": [
      "Loading pretrained parameter \"encoder.encoder.0.cached_zero_vector\".\n",
      "Loading pretrained parameter \"encoder.encoder.0.W_i.weight\".\n",
      "Loading pretrained parameter \"encoder.encoder.0.W_h.weight\".\n",
      "Loading pretrained parameter \"encoder.encoder.0.W_o.weight\".\n",
      "Loading pretrained parameter \"encoder.encoder.0.W_o.bias\".\n",
      "Loading pretrained parameter \"readout.1.weight\".\n",
      "Loading pretrained parameter \"readout.1.bias\".\n",
      "Loading pretrained parameter \"readout.4.weight\".\n",
      "Loading pretrained parameter \"readout.4.bias\".\n"
     ]
    },
    {
     "name": "stderr",
     "output_type": "stream",
     "text": [
      "100%|██████████| 1/1 [01:15<00:00, 75.90s/it]\n"
     ]
    },
    {
     "name": "stdout",
     "output_type": "stream",
     "text": [
      "Saving predictions to mc_preds.csv\n",
      "Elapsed time = 0:01:17\n",
      "INFORMATIONS: 8947 8947 1\n",
      "running chemprop\n"
     ]
    },
    {
     "name": "stderr",
     "output_type": "stream",
     "text": [
      "1075it [00:00, 230644.88it/s]\n",
      "100%|██████████| 1075/1075 [00:00<00:00, 182671.34it/s]\n",
      "100%|██████████| 1075/1075 [00:00<00:00, 66080.59it/s]\n",
      "Fold 0\n",
      "100%|██████████| 5/5 [00:16<00:00,  3.26s/it]\n",
      "Model 0 best validation rmse = 1.172509 on epoch 4\n",
      "Model 0 test rmse = 1.239480                 \n",
      "Ensemble test rmse = 1.239480\n",
      "1-fold cross validation\n",
      "\tSeed 0 ==> test rmse = 1.239480\n",
      "Overall test rmse = 1.239480 +/- 0.000000\n",
      "Elapsed time = 0:00:17\n"
     ]
    },
    {
     "name": "stdout",
     "output_type": "stream",
     "text": [
      "Loading training args\n",
      "Setting molecule featurization parameters to default.\n",
      "Loading data\n"
     ]
    },
    {
     "name": "stderr",
     "output_type": "stream",
     "text": [
      "8922it [00:00, 312547.13it/s]\n",
      "100%|██████████| 8922/8922 [00:00<00:00, 25159.11it/s]\n"
     ]
    },
    {
     "name": "stdout",
     "output_type": "stream",
     "text": [
      "Validating SMILES\n",
      "Test size = 8,922\n"
     ]
    },
    {
     "name": "stderr",
     "output_type": "stream",
     "text": [
      "  0%|          | 0/1 [00:00<?, ?it/s]"
     ]
    },
    {
     "name": "stdout",
     "output_type": "stream",
     "text": [
      "Loading pretrained parameter \"encoder.encoder.0.cached_zero_vector\".\n",
      "Loading pretrained parameter \"encoder.encoder.0.W_i.weight\".\n",
      "Loading pretrained parameter \"encoder.encoder.0.W_h.weight\".\n",
      "Loading pretrained parameter \"encoder.encoder.0.W_o.weight\".\n",
      "Loading pretrained parameter \"encoder.encoder.0.W_o.bias\".\n",
      "Loading pretrained parameter \"readout.1.weight\".\n",
      "Loading pretrained parameter \"readout.1.bias\".\n",
      "Loading pretrained parameter \"readout.4.weight\".\n",
      "Loading pretrained parameter \"readout.4.bias\".\n"
     ]
    },
    {
     "name": "stderr",
     "output_type": "stream",
     "text": [
      "100%|██████████| 1/1 [01:15<00:00, 75.23s/it]\n"
     ]
    },
    {
     "name": "stdout",
     "output_type": "stream",
     "text": [
      "Saving predictions to mc_preds.csv\n",
      "Elapsed time = 0:01:16\n",
      "running chemprop\n",
      "in the counter\n"
     ]
    },
    {
     "name": "stderr",
     "output_type": "stream",
     "text": [
      "1100it [00:00, 216150.59it/s]\n",
      "100%|██████████| 1100/1100 [00:00<00:00, 188392.58it/s]\n",
      "100%|██████████| 1100/1100 [00:00<00:00, 67788.23it/s]\n",
      "Fold 0\n",
      "100%|██████████| 5/5 [00:16<00:00,  3.36s/it]\n",
      "Model 0 best validation rmse = 1.121183 on epoch 4\n",
      "Model 0 test rmse = 1.204815                 \n",
      "Ensemble test rmse = 1.204815\n",
      "1-fold cross validation\n",
      "\tSeed 0 ==> test rmse = 1.204815\n",
      "Overall test rmse = 1.204815 +/- 0.000000\n",
      "Elapsed time = 0:00:17\n"
     ]
    },
    {
     "name": "stdout",
     "output_type": "stream",
     "text": [
      "Loading training args\n",
      "Setting molecule featurization parameters to default.\n",
      "Loading data\n"
     ]
    },
    {
     "name": "stderr",
     "output_type": "stream",
     "text": [
      "8897it [00:00, 318616.84it/s]\n",
      "100%|██████████| 8897/8897 [00:00<00:00, 25151.24it/s]\n"
     ]
    },
    {
     "name": "stdout",
     "output_type": "stream",
     "text": [
      "Validating SMILES\n",
      "Test size = 8,897\n"
     ]
    },
    {
     "name": "stderr",
     "output_type": "stream",
     "text": [
      "  0%|          | 0/1 [00:00<?, ?it/s]"
     ]
    },
    {
     "name": "stdout",
     "output_type": "stream",
     "text": [
      "Loading pretrained parameter \"encoder.encoder.0.cached_zero_vector\".\n",
      "Loading pretrained parameter \"encoder.encoder.0.W_i.weight\".\n",
      "Loading pretrained parameter \"encoder.encoder.0.W_h.weight\".\n",
      "Loading pretrained parameter \"encoder.encoder.0.W_o.weight\".\n",
      "Loading pretrained parameter \"encoder.encoder.0.W_o.bias\".\n",
      "Loading pretrained parameter \"readout.1.weight\".\n",
      "Loading pretrained parameter \"readout.1.bias\".\n",
      "Loading pretrained parameter \"readout.4.weight\".\n",
      "Loading pretrained parameter \"readout.4.bias\".\n"
     ]
    },
    {
     "name": "stderr",
     "output_type": "stream",
     "text": [
      "100%|██████████| 1/1 [01:15<00:00, 75.53s/it]\n"
     ]
    },
    {
     "name": "stdout",
     "output_type": "stream",
     "text": [
      "Saving predictions to mc_preds.csv\n",
      "Elapsed time = 0:01:16\n",
      "INFORMATIONS: 8897 8897 1\n",
      "running chemprop\n"
     ]
    },
    {
     "name": "stderr",
     "output_type": "stream",
     "text": [
      "1125it [00:00, 236295.86it/s]\n",
      "100%|██████████| 1125/1125 [00:00<00:00, 182841.55it/s]\n",
      "100%|██████████| 1125/1125 [00:00<00:00, 65823.98it/s]\n",
      "Fold 0\n",
      "100%|██████████| 5/5 [00:17<00:00,  3.44s/it]\n",
      "Model 0 best validation rmse = 1.124519 on epoch 4\n",
      "Model 0 test rmse = 1.209086                 \n",
      "Ensemble test rmse = 1.209086\n",
      "1-fold cross validation\n",
      "\tSeed 0 ==> test rmse = 1.209086\n",
      "Overall test rmse = 1.209086 +/- 0.000000\n",
      "Elapsed time = 0:00:18\n"
     ]
    },
    {
     "name": "stdout",
     "output_type": "stream",
     "text": [
      "Loading training args\n",
      "Setting molecule featurization parameters to default.\n",
      "Loading data\n"
     ]
    },
    {
     "name": "stderr",
     "output_type": "stream",
     "text": [
      "8872it [00:00, 326913.11it/s]\n",
      "100%|██████████| 8872/8872 [00:00<00:00, 25086.03it/s]\n"
     ]
    },
    {
     "name": "stdout",
     "output_type": "stream",
     "text": [
      "Validating SMILES\n",
      "Test size = 8,872\n"
     ]
    },
    {
     "name": "stderr",
     "output_type": "stream",
     "text": [
      "  0%|          | 0/1 [00:00<?, ?it/s]"
     ]
    },
    {
     "name": "stdout",
     "output_type": "stream",
     "text": [
      "Loading pretrained parameter \"encoder.encoder.0.cached_zero_vector\".\n",
      "Loading pretrained parameter \"encoder.encoder.0.W_i.weight\".\n",
      "Loading pretrained parameter \"encoder.encoder.0.W_h.weight\".\n",
      "Loading pretrained parameter \"encoder.encoder.0.W_o.weight\".\n",
      "Loading pretrained parameter \"encoder.encoder.0.W_o.bias\".\n",
      "Loading pretrained parameter \"readout.1.weight\".\n",
      "Loading pretrained parameter \"readout.1.bias\".\n",
      "Loading pretrained parameter \"readout.4.weight\".\n",
      "Loading pretrained parameter \"readout.4.bias\".\n"
     ]
    },
    {
     "name": "stderr",
     "output_type": "stream",
     "text": [
      "100%|██████████| 1/1 [16:34<00:00, 994.75s/it]\n"
     ]
    },
    {
     "name": "stdout",
     "output_type": "stream",
     "text": [
      "Saving predictions to mc_preds.csv\n",
      "Elapsed time = 0:16:35\n",
      "running chemprop\n",
      "in the counter\n"
     ]
    },
    {
     "name": "stderr",
     "output_type": "stream",
     "text": [
      "1150it [00:00, 211323.09it/s]\n",
      "100%|██████████| 1150/1150 [00:00<00:00, 194643.06it/s]\n",
      "100%|██████████| 1150/1150 [00:00<00:00, 66286.22it/s]\n",
      "Fold 0\n",
      "100%|██████████| 5/5 [00:17<00:00,  3.51s/it]\n",
      "Model 0 best validation rmse = 1.107786 on epoch 4\n",
      "Model 0 test rmse = 1.158290                 \n",
      "Ensemble test rmse = 1.158290\n",
      "1-fold cross validation\n",
      "\tSeed 0 ==> test rmse = 1.158290\n",
      "Overall test rmse = 1.158290 +/- 0.000000\n",
      "Elapsed time = 0:00:18\n"
     ]
    },
    {
     "name": "stdout",
     "output_type": "stream",
     "text": [
      "Loading training args\n",
      "Setting molecule featurization parameters to default.\n",
      "Loading data\n"
     ]
    },
    {
     "name": "stderr",
     "output_type": "stream",
     "text": [
      "8847it [00:00, 304135.86it/s]\n",
      "100%|██████████| 8847/8847 [00:00<00:00, 204065.18it/s]\n"
     ]
    },
    {
     "name": "stdout",
     "output_type": "stream",
     "text": [
      "Validating SMILES\n",
      "Test size = 8,847\n"
     ]
    },
    {
     "name": "stderr",
     "output_type": "stream",
     "text": [
      "  0%|          | 0/1 [00:00<?, ?it/s]"
     ]
    },
    {
     "name": "stdout",
     "output_type": "stream",
     "text": [
      "Loading pretrained parameter \"encoder.encoder.0.cached_zero_vector\".\n",
      "Loading pretrained parameter \"encoder.encoder.0.W_i.weight\".\n",
      "Loading pretrained parameter \"encoder.encoder.0.W_h.weight\".\n",
      "Loading pretrained parameter \"encoder.encoder.0.W_o.weight\".\n",
      "Loading pretrained parameter \"encoder.encoder.0.W_o.bias\".\n",
      "Loading pretrained parameter \"readout.1.weight\".\n",
      "Loading pretrained parameter \"readout.1.bias\".\n",
      "Loading pretrained parameter \"readout.4.weight\".\n",
      "Loading pretrained parameter \"readout.4.bias\".\n"
     ]
    },
    {
     "name": "stderr",
     "output_type": "stream",
     "text": [
      "100%|██████████| 1/1 [01:17<00:00, 77.21s/it]\n"
     ]
    },
    {
     "name": "stdout",
     "output_type": "stream",
     "text": [
      "Saving predictions to mc_preds.csv\n",
      "Elapsed time = 0:01:18\n",
      "INFORMATIONS: 8847 8847 1\n",
      "running chemprop\n"
     ]
    },
    {
     "name": "stderr",
     "output_type": "stream",
     "text": [
      "1175it [00:00, 214647.53it/s]\n",
      "100%|██████████| 1175/1175 [00:00<00:00, 181494.70it/s]\n",
      "100%|██████████| 1175/1175 [00:00<00:00, 65766.88it/s]\n",
      "Fold 0\n",
      "100%|██████████| 5/5 [00:17<00:00,  3.58s/it]\n",
      "Model 0 best validation rmse = 1.268703 on epoch 4\n",
      "Model 0 test rmse = 1.211388                 \n",
      "Ensemble test rmse = 1.211388\n",
      "1-fold cross validation\n",
      "\tSeed 0 ==> test rmse = 1.211388\n",
      "Overall test rmse = 1.211388 +/- 0.000000\n",
      "Elapsed time = 0:00:18\n"
     ]
    },
    {
     "name": "stdout",
     "output_type": "stream",
     "text": [
      "Loading training args\n",
      "Setting molecule featurization parameters to default.\n",
      "Loading data\n"
     ]
    },
    {
     "name": "stderr",
     "output_type": "stream",
     "text": [
      "8822it [00:00, 327687.54it/s]\n",
      "100%|██████████| 8822/8822 [00:00<00:00, 196170.91it/s]\n"
     ]
    },
    {
     "name": "stdout",
     "output_type": "stream",
     "text": [
      "Validating SMILES\n",
      "Test size = 8,822\n"
     ]
    },
    {
     "name": "stderr",
     "output_type": "stream",
     "text": [
      "  0%|          | 0/1 [00:00<?, ?it/s]"
     ]
    },
    {
     "name": "stdout",
     "output_type": "stream",
     "text": [
      "Loading pretrained parameter \"encoder.encoder.0.cached_zero_vector\".\n",
      "Loading pretrained parameter \"encoder.encoder.0.W_i.weight\".\n",
      "Loading pretrained parameter \"encoder.encoder.0.W_h.weight\".\n",
      "Loading pretrained parameter \"encoder.encoder.0.W_o.weight\".\n",
      "Loading pretrained parameter \"encoder.encoder.0.W_o.bias\".\n",
      "Loading pretrained parameter \"readout.1.weight\".\n",
      "Loading pretrained parameter \"readout.1.bias\".\n",
      "Loading pretrained parameter \"readout.4.weight\".\n",
      "Loading pretrained parameter \"readout.4.bias\".\n"
     ]
    },
    {
     "name": "stderr",
     "output_type": "stream",
     "text": [
      "100%|██████████| 1/1 [01:15<00:00, 75.87s/it]\n"
     ]
    },
    {
     "name": "stdout",
     "output_type": "stream",
     "text": [
      "Saving predictions to mc_preds.csv\n",
      "Elapsed time = 0:01:16\n",
      "running chemprop\n",
      "in the counter\n"
     ]
    },
    {
     "name": "stderr",
     "output_type": "stream",
     "text": [
      "1200it [00:00, 198046.93it/s]\n",
      "100%|██████████| 1200/1200 [00:00<00:00, 188734.24it/s]\n",
      "100%|██████████| 1200/1200 [00:00<00:00, 63297.51it/s]\n",
      "Fold 0\n",
      "100%|██████████| 5/5 [00:18<00:00,  3.72s/it]\n",
      "Model 0 best validation rmse = 1.252272 on epoch 4\n",
      "Model 0 test rmse = 1.193480                 \n",
      "Ensemble test rmse = 1.193480\n",
      "1-fold cross validation\n",
      "\tSeed 0 ==> test rmse = 1.193480\n",
      "Overall test rmse = 1.193480 +/- 0.000000\n",
      "Elapsed time = 0:00:19\n"
     ]
    },
    {
     "name": "stdout",
     "output_type": "stream",
     "text": [
      "Loading training args\n",
      "Setting molecule featurization parameters to default.\n",
      "Loading data\n"
     ]
    },
    {
     "name": "stderr",
     "output_type": "stream",
     "text": [
      "8797it [00:00, 310102.97it/s]\n",
      "100%|██████████| 8797/8797 [00:00<00:00, 208538.22it/s]\n"
     ]
    },
    {
     "name": "stdout",
     "output_type": "stream",
     "text": [
      "Validating SMILES\n",
      "Test size = 8,797\n"
     ]
    },
    {
     "name": "stderr",
     "output_type": "stream",
     "text": [
      "  0%|          | 0/1 [00:00<?, ?it/s]"
     ]
    },
    {
     "name": "stdout",
     "output_type": "stream",
     "text": [
      "Loading pretrained parameter \"encoder.encoder.0.cached_zero_vector\".\n",
      "Loading pretrained parameter \"encoder.encoder.0.W_i.weight\".\n",
      "Loading pretrained parameter \"encoder.encoder.0.W_h.weight\".\n",
      "Loading pretrained parameter \"encoder.encoder.0.W_o.weight\".\n",
      "Loading pretrained parameter \"encoder.encoder.0.W_o.bias\".\n",
      "Loading pretrained parameter \"readout.1.weight\".\n",
      "Loading pretrained parameter \"readout.1.bias\".\n",
      "Loading pretrained parameter \"readout.4.weight\".\n",
      "Loading pretrained parameter \"readout.4.bias\".\n"
     ]
    },
    {
     "name": "stderr",
     "output_type": "stream",
     "text": [
      "100%|██████████| 1/1 [01:17<00:00, 77.13s/it]\n"
     ]
    },
    {
     "name": "stdout",
     "output_type": "stream",
     "text": [
      "Saving predictions to mc_preds.csv\n",
      "Elapsed time = 0:01:17\n",
      "INFORMATIONS: 8797 8797 1\n",
      "running chemprop\n"
     ]
    },
    {
     "name": "stderr",
     "output_type": "stream",
     "text": [
      "1225it [00:00, 223538.06it/s]\n",
      "100%|██████████| 1225/1225 [00:00<00:00, 174205.68it/s]\n",
      "100%|██████████| 1225/1225 [00:00<00:00, 19392.06it/s]\n",
      "Fold 0\n",
      "100%|██████████| 5/5 [00:19<00:00,  3.81s/it]\n",
      "Model 0 best validation rmse = 1.226879 on epoch 4\n",
      "Model 0 test rmse = 1.189639                 \n",
      "Ensemble test rmse = 1.189639\n",
      "1-fold cross validation\n",
      "\tSeed 0 ==> test rmse = 1.189639\n",
      "Overall test rmse = 1.189639 +/- 0.000000\n",
      "Elapsed time = 0:00:20\n"
     ]
    },
    {
     "name": "stdout",
     "output_type": "stream",
     "text": [
      "Loading training args\n",
      "Setting molecule featurization parameters to default.\n",
      "Loading data\n"
     ]
    },
    {
     "name": "stderr",
     "output_type": "stream",
     "text": [
      "8772it [00:00, 24627.11it/s]\n",
      "100%|██████████| 8772/8772 [00:00<00:00, 208342.40it/s]\n"
     ]
    },
    {
     "name": "stdout",
     "output_type": "stream",
     "text": [
      "Validating SMILES\n",
      "Test size = 8,772\n"
     ]
    },
    {
     "name": "stderr",
     "output_type": "stream",
     "text": [
      "  0%|          | 0/1 [00:00<?, ?it/s]"
     ]
    },
    {
     "name": "stdout",
     "output_type": "stream",
     "text": [
      "Loading pretrained parameter \"encoder.encoder.0.cached_zero_vector\".\n",
      "Loading pretrained parameter \"encoder.encoder.0.W_i.weight\".\n",
      "Loading pretrained parameter \"encoder.encoder.0.W_h.weight\".\n",
      "Loading pretrained parameter \"encoder.encoder.0.W_o.weight\".\n",
      "Loading pretrained parameter \"encoder.encoder.0.W_o.bias\".\n",
      "Loading pretrained parameter \"readout.1.weight\".\n",
      "Loading pretrained parameter \"readout.1.bias\".\n",
      "Loading pretrained parameter \"readout.4.weight\".\n",
      "Loading pretrained parameter \"readout.4.bias\".\n"
     ]
    },
    {
     "name": "stderr",
     "output_type": "stream",
     "text": [
      "100%|██████████| 1/1 [01:16<00:00, 76.61s/it]\n"
     ]
    },
    {
     "name": "stdout",
     "output_type": "stream",
     "text": [
      "Saving predictions to mc_preds.csv\n",
      "Elapsed time = 0:01:17\n",
      "running chemprop\n",
      "in the counter\n"
     ]
    },
    {
     "name": "stderr",
     "output_type": "stream",
     "text": [
      "1250it [00:00, 201936.60it/s]\n",
      "100%|██████████| 1250/1250 [00:00<00:00, 191653.75it/s]\n",
      "100%|██████████| 1250/1250 [00:00<00:00, 53817.29it/s]\n",
      "Fold 0\n",
      "100%|██████████| 5/5 [00:19<00:00,  3.88s/it]\n",
      "Model 0 best validation rmse = 1.198659 on epoch 4\n",
      "Model 0 test rmse = 1.247137                 \n",
      "Ensemble test rmse = 1.247137\n",
      "1-fold cross validation\n",
      "\tSeed 0 ==> test rmse = 1.247137\n",
      "Overall test rmse = 1.247137 +/- 0.000000\n",
      "Elapsed time = 0:00:20\n"
     ]
    },
    {
     "name": "stdout",
     "output_type": "stream",
     "text": [
      "Loading training args\n",
      "Setting molecule featurization parameters to default.\n",
      "Loading data\n"
     ]
    },
    {
     "name": "stderr",
     "output_type": "stream",
     "text": [
      "8747it [00:00, 300555.25it/s]\n",
      "100%|██████████| 8747/8747 [00:00<00:00, 214099.00it/s]\n"
     ]
    },
    {
     "name": "stdout",
     "output_type": "stream",
     "text": [
      "Validating SMILES\n",
      "Test size = 8,747\n"
     ]
    },
    {
     "name": "stderr",
     "output_type": "stream",
     "text": [
      "  0%|          | 0/1 [00:00<?, ?it/s]"
     ]
    },
    {
     "name": "stdout",
     "output_type": "stream",
     "text": [
      "Loading pretrained parameter \"encoder.encoder.0.cached_zero_vector\".\n",
      "Loading pretrained parameter \"encoder.encoder.0.W_i.weight\".\n",
      "Loading pretrained parameter \"encoder.encoder.0.W_h.weight\".\n",
      "Loading pretrained parameter \"encoder.encoder.0.W_o.weight\".\n",
      "Loading pretrained parameter \"encoder.encoder.0.W_o.bias\".\n",
      "Loading pretrained parameter \"readout.1.weight\".\n",
      "Loading pretrained parameter \"readout.1.bias\".\n",
      "Loading pretrained parameter \"readout.4.weight\".\n",
      "Loading pretrained parameter \"readout.4.bias\".\n"
     ]
    },
    {
     "name": "stderr",
     "output_type": "stream",
     "text": [
      "100%|██████████| 1/1 [01:16<00:00, 76.12s/it]\n"
     ]
    },
    {
     "name": "stdout",
     "output_type": "stream",
     "text": [
      "Saving predictions to mc_preds.csv\n",
      "Elapsed time = 0:01:16\n",
      "INFORMATIONS: 8747 8747 1\n",
      "running chemprop\n"
     ]
    },
    {
     "name": "stderr",
     "output_type": "stream",
     "text": [
      "1275it [00:00, 225862.13it/s]\n",
      "100%|██████████| 1275/1275 [00:00<00:00, 186977.29it/s]\n",
      "100%|██████████| 1275/1275 [00:00<00:00, 56358.42it/s]\n",
      "Fold 0\n",
      "100%|██████████| 5/5 [00:19<00:00,  3.96s/it]\n",
      "Model 0 best validation rmse = 1.254593 on epoch 4\n",
      "Model 0 test rmse = 1.225365                 \n",
      "Ensemble test rmse = 1.225365\n",
      "1-fold cross validation\n",
      "\tSeed 0 ==> test rmse = 1.225365\n",
      "Overall test rmse = 1.225365 +/- 0.000000\n",
      "Elapsed time = 0:00:20\n"
     ]
    },
    {
     "name": "stdout",
     "output_type": "stream",
     "text": [
      "Loading training args\n",
      "Setting molecule featurization parameters to default.\n",
      "Loading data\n"
     ]
    },
    {
     "name": "stderr",
     "output_type": "stream",
     "text": [
      "8722it [00:00, 321561.09it/s]\n",
      "100%|██████████| 8722/8722 [00:00<00:00, 24714.10it/s]\n"
     ]
    },
    {
     "name": "stdout",
     "output_type": "stream",
     "text": [
      "Validating SMILES\n",
      "Test size = 8,722\n"
     ]
    },
    {
     "name": "stderr",
     "output_type": "stream",
     "text": [
      "  0%|          | 0/1 [00:00<?, ?it/s]"
     ]
    },
    {
     "name": "stdout",
     "output_type": "stream",
     "text": [
      "Loading pretrained parameter \"encoder.encoder.0.cached_zero_vector\".\n",
      "Loading pretrained parameter \"encoder.encoder.0.W_i.weight\".\n",
      "Loading pretrained parameter \"encoder.encoder.0.W_h.weight\".\n",
      "Loading pretrained parameter \"encoder.encoder.0.W_o.weight\".\n",
      "Loading pretrained parameter \"encoder.encoder.0.W_o.bias\".\n",
      "Loading pretrained parameter \"readout.1.weight\".\n",
      "Loading pretrained parameter \"readout.1.bias\".\n",
      "Loading pretrained parameter \"readout.4.weight\".\n",
      "Loading pretrained parameter \"readout.4.bias\".\n"
     ]
    },
    {
     "name": "stderr",
     "output_type": "stream",
     "text": [
      "100%|██████████| 1/1 [01:16<00:00, 76.60s/it]\n"
     ]
    },
    {
     "name": "stdout",
     "output_type": "stream",
     "text": [
      "Saving predictions to mc_preds.csv\n",
      "Elapsed time = 0:01:17\n",
      "running chemprop\n",
      "in the counter\n"
     ]
    },
    {
     "name": "stderr",
     "output_type": "stream",
     "text": [
      "1300it [00:00, 208233.54it/s]\n",
      "100%|██████████| 1300/1300 [00:00<00:00, 177551.13it/s]\n",
      "100%|██████████| 1300/1300 [00:00<00:00, 50290.02it/s]\n",
      "Fold 0\n",
      "100%|██████████| 5/5 [00:20<00:00,  4.08s/it]\n",
      "Model 0 best validation rmse = 1.338113 on epoch 4\n",
      "Model 0 test rmse = 1.226337                 \n",
      "Ensemble test rmse = 1.226337\n",
      "1-fold cross validation\n",
      "\tSeed 0 ==> test rmse = 1.226337\n",
      "Overall test rmse = 1.226337 +/- 0.000000\n",
      "Elapsed time = 0:00:21\n"
     ]
    },
    {
     "name": "stdout",
     "output_type": "stream",
     "text": [
      "Loading training args\n",
      "Setting molecule featurization parameters to default.\n",
      "Loading data\n"
     ]
    },
    {
     "name": "stderr",
     "output_type": "stream",
     "text": [
      "8697it [00:00, 261100.74it/s]\n",
      "100%|██████████| 8697/8697 [00:00<00:00, 23537.67it/s]\n"
     ]
    },
    {
     "name": "stdout",
     "output_type": "stream",
     "text": [
      "Validating SMILES\n",
      "Test size = 8,697\n"
     ]
    },
    {
     "name": "stderr",
     "output_type": "stream",
     "text": [
      "  0%|          | 0/1 [00:00<?, ?it/s]"
     ]
    },
    {
     "name": "stdout",
     "output_type": "stream",
     "text": [
      "Loading pretrained parameter \"encoder.encoder.0.cached_zero_vector\".\n",
      "Loading pretrained parameter \"encoder.encoder.0.W_i.weight\".\n",
      "Loading pretrained parameter \"encoder.encoder.0.W_h.weight\".\n",
      "Loading pretrained parameter \"encoder.encoder.0.W_o.weight\".\n",
      "Loading pretrained parameter \"encoder.encoder.0.W_o.bias\".\n",
      "Loading pretrained parameter \"readout.1.weight\".\n",
      "Loading pretrained parameter \"readout.1.bias\".\n",
      "Loading pretrained parameter \"readout.4.weight\".\n",
      "Loading pretrained parameter \"readout.4.bias\".\n"
     ]
    },
    {
     "name": "stderr",
     "output_type": "stream",
     "text": [
      "100%|██████████| 1/1 [01:16<00:00, 76.84s/it]\n"
     ]
    },
    {
     "name": "stdout",
     "output_type": "stream",
     "text": [
      "Saving predictions to mc_preds.csv\n",
      "Elapsed time = 0:01:17\n",
      "INFORMATIONS: 8697 8697 1\n",
      "running chemprop\n"
     ]
    },
    {
     "name": "stderr",
     "output_type": "stream",
     "text": [
      "1325it [00:00, 232733.90it/s]\n",
      "100%|██████████| 1325/1325 [00:00<00:00, 188586.41it/s]\n",
      "100%|██████████| 1325/1325 [00:00<00:00, 52831.52it/s]\n",
      "Fold 0\n",
      "100%|██████████| 5/5 [00:20<00:00,  4.18s/it]\n",
      "Model 0 best validation rmse = 1.338844 on epoch 4\n",
      "Model 0 test rmse = 1.192195                 \n",
      "Ensemble test rmse = 1.192195\n",
      "1-fold cross validation\n",
      "\tSeed 0 ==> test rmse = 1.192195\n",
      "Overall test rmse = 1.192195 +/- 0.000000\n",
      "Elapsed time = 0:00:22\n"
     ]
    },
    {
     "name": "stdout",
     "output_type": "stream",
     "text": [
      "Loading training args\n",
      "Setting molecule featurization parameters to default.\n",
      "Loading data\n"
     ]
    },
    {
     "name": "stderr",
     "output_type": "stream",
     "text": [
      "8672it [00:00, 319540.75it/s]\n",
      "100%|██████████| 8672/8672 [00:00<00:00, 208507.00it/s]\n"
     ]
    },
    {
     "name": "stdout",
     "output_type": "stream",
     "text": [
      "Validating SMILES\n",
      "Test size = 8,672\n"
     ]
    },
    {
     "name": "stderr",
     "output_type": "stream",
     "text": [
      "  0%|          | 0/1 [00:00<?, ?it/s]"
     ]
    },
    {
     "name": "stdout",
     "output_type": "stream",
     "text": [
      "Loading pretrained parameter \"encoder.encoder.0.cached_zero_vector\".\n",
      "Loading pretrained parameter \"encoder.encoder.0.W_i.weight\".\n",
      "Loading pretrained parameter \"encoder.encoder.0.W_h.weight\".\n",
      "Loading pretrained parameter \"encoder.encoder.0.W_o.weight\".\n",
      "Loading pretrained parameter \"encoder.encoder.0.W_o.bias\".\n",
      "Loading pretrained parameter \"readout.1.weight\".\n",
      "Loading pretrained parameter \"readout.1.bias\".\n",
      "Loading pretrained parameter \"readout.4.weight\".\n",
      "Loading pretrained parameter \"readout.4.bias\".\n"
     ]
    },
    {
     "name": "stderr",
     "output_type": "stream",
     "text": [
      "100%|██████████| 1/1 [01:17<00:00, 77.48s/it]\n"
     ]
    },
    {
     "name": "stdout",
     "output_type": "stream",
     "text": [
      "Saving predictions to mc_preds.csv\n",
      "Elapsed time = 0:01:18\n",
      "running chemprop\n",
      "in the counter\n"
     ]
    },
    {
     "name": "stderr",
     "output_type": "stream",
     "text": [
      "1350it [00:00, 195846.38it/s]\n",
      "100%|██████████| 1350/1350 [00:00<00:00, 187066.32it/s]\n",
      "100%|██████████| 1350/1350 [00:00<00:00, 50851.46it/s]\n",
      "Fold 0\n",
      "100%|██████████| 5/5 [00:20<00:00,  4.17s/it]\n",
      "Model 0 best validation rmse = 1.282122 on epoch 4\n",
      "Model 0 test rmse = 1.276566                 \n",
      "Ensemble test rmse = 1.276566\n",
      "1-fold cross validation\n",
      "\tSeed 0 ==> test rmse = 1.276566\n",
      "Overall test rmse = 1.276566 +/- 0.000000\n",
      "Elapsed time = 0:00:21\n"
     ]
    },
    {
     "name": "stdout",
     "output_type": "stream",
     "text": [
      "Loading training args\n",
      "Setting molecule featurization parameters to default.\n",
      "Loading data\n"
     ]
    },
    {
     "name": "stderr",
     "output_type": "stream",
     "text": [
      "8647it [00:00, 325269.02it/s]\n",
      "100%|██████████| 8647/8647 [00:00<00:00, 205954.34it/s]\n"
     ]
    },
    {
     "name": "stdout",
     "output_type": "stream",
     "text": [
      "Validating SMILES\n",
      "Test size = 8,647\n"
     ]
    },
    {
     "name": "stderr",
     "output_type": "stream",
     "text": [
      "  0%|          | 0/1 [00:00<?, ?it/s]"
     ]
    },
    {
     "name": "stdout",
     "output_type": "stream",
     "text": [
      "Loading pretrained parameter \"encoder.encoder.0.cached_zero_vector\".\n",
      "Loading pretrained parameter \"encoder.encoder.0.W_i.weight\".\n",
      "Loading pretrained parameter \"encoder.encoder.0.W_h.weight\".\n",
      "Loading pretrained parameter \"encoder.encoder.0.W_o.weight\".\n",
      "Loading pretrained parameter \"encoder.encoder.0.W_o.bias\".\n",
      "Loading pretrained parameter \"readout.1.weight\".\n",
      "Loading pretrained parameter \"readout.1.bias\".\n",
      "Loading pretrained parameter \"readout.4.weight\".\n",
      "Loading pretrained parameter \"readout.4.bias\".\n"
     ]
    },
    {
     "name": "stderr",
     "output_type": "stream",
     "text": [
      "100%|██████████| 1/1 [01:15<00:00, 75.79s/it]\n"
     ]
    },
    {
     "name": "stdout",
     "output_type": "stream",
     "text": [
      "Saving predictions to mc_preds.csv\n",
      "Elapsed time = 0:01:16\n",
      "INFORMATIONS: 8647 8647 1\n",
      "running chemprop\n"
     ]
    },
    {
     "name": "stderr",
     "output_type": "stream",
     "text": [
      "1375it [00:00, 230180.32it/s]\n",
      "100%|██████████| 1375/1375 [00:00<00:00, 184856.98it/s]\n",
      "100%|██████████| 1375/1375 [00:00<00:00, 50162.81it/s]\n",
      "Fold 0\n",
      "100%|██████████| 5/5 [00:21<00:00,  4.28s/it]\n",
      "Model 0 best validation rmse = 1.231529 on epoch 4\n",
      "Model 0 test rmse = 1.200009                 \n",
      "Ensemble test rmse = 1.200009\n",
      "1-fold cross validation\n",
      "\tSeed 0 ==> test rmse = 1.200009\n",
      "Overall test rmse = 1.200009 +/- 0.000000\n",
      "Elapsed time = 0:00:22\n"
     ]
    },
    {
     "name": "stdout",
     "output_type": "stream",
     "text": [
      "Loading training args\n",
      "Setting molecule featurization parameters to default.\n",
      "Loading data\n"
     ]
    },
    {
     "name": "stderr",
     "output_type": "stream",
     "text": [
      "8622it [00:00, 319853.61it/s]\n",
      "100%|██████████| 8622/8622 [00:00<00:00, 24217.74it/s]\n"
     ]
    },
    {
     "name": "stdout",
     "output_type": "stream",
     "text": [
      "Validating SMILES\n",
      "Test size = 8,622\n"
     ]
    },
    {
     "name": "stderr",
     "output_type": "stream",
     "text": [
      "  0%|          | 0/1 [00:00<?, ?it/s]"
     ]
    },
    {
     "name": "stdout",
     "output_type": "stream",
     "text": [
      "Loading pretrained parameter \"encoder.encoder.0.cached_zero_vector\".\n",
      "Loading pretrained parameter \"encoder.encoder.0.W_i.weight\".\n",
      "Loading pretrained parameter \"encoder.encoder.0.W_h.weight\".\n",
      "Loading pretrained parameter \"encoder.encoder.0.W_o.weight\".\n",
      "Loading pretrained parameter \"encoder.encoder.0.W_o.bias\".\n",
      "Loading pretrained parameter \"readout.1.weight\".\n",
      "Loading pretrained parameter \"readout.1.bias\".\n",
      "Loading pretrained parameter \"readout.4.weight\".\n",
      "Loading pretrained parameter \"readout.4.bias\".\n"
     ]
    },
    {
     "name": "stderr",
     "output_type": "stream",
     "text": [
      "100%|██████████| 1/1 [01:16<00:00, 76.19s/it]\n"
     ]
    },
    {
     "name": "stdout",
     "output_type": "stream",
     "text": [
      "Saving predictions to mc_preds.csv\n",
      "Elapsed time = 0:01:17\n",
      "running chemprop\n",
      "in the counter\n"
     ]
    },
    {
     "name": "stderr",
     "output_type": "stream",
     "text": [
      "1400it [00:00, 217902.09it/s]\n",
      "100%|██████████| 1400/1400 [00:00<00:00, 197851.19it/s]\n",
      "100%|██████████| 1400/1400 [00:00<00:00, 52050.50it/s]\n",
      "Fold 0\n",
      "100%|██████████| 5/5 [00:21<00:00,  4.36s/it]\n",
      "Model 0 best validation rmse = 1.286339 on epoch 4\n",
      "Model 0 test rmse = 1.179965                 \n",
      "Ensemble test rmse = 1.179965\n",
      "1-fold cross validation\n",
      "\tSeed 0 ==> test rmse = 1.179965\n",
      "Overall test rmse = 1.179965 +/- 0.000000\n",
      "Elapsed time = 0:00:23\n"
     ]
    },
    {
     "name": "stdout",
     "output_type": "stream",
     "text": [
      "Loading training args\n",
      "Setting molecule featurization parameters to default.\n",
      "Loading data\n"
     ]
    },
    {
     "name": "stderr",
     "output_type": "stream",
     "text": [
      "8597it [00:00, 316379.74it/s]\n",
      "100%|██████████| 8597/8597 [00:00<00:00, 207246.66it/s]\n"
     ]
    },
    {
     "name": "stdout",
     "output_type": "stream",
     "text": [
      "Validating SMILES\n",
      "Test size = 8,597\n"
     ]
    },
    {
     "name": "stderr",
     "output_type": "stream",
     "text": [
      "  0%|          | 0/1 [00:00<?, ?it/s]"
     ]
    },
    {
     "name": "stdout",
     "output_type": "stream",
     "text": [
      "Loading pretrained parameter \"encoder.encoder.0.cached_zero_vector\".\n",
      "Loading pretrained parameter \"encoder.encoder.0.W_i.weight\".\n",
      "Loading pretrained parameter \"encoder.encoder.0.W_h.weight\".\n",
      "Loading pretrained parameter \"encoder.encoder.0.W_o.weight\".\n",
      "Loading pretrained parameter \"encoder.encoder.0.W_o.bias\".\n",
      "Loading pretrained parameter \"readout.1.weight\".\n",
      "Loading pretrained parameter \"readout.1.bias\".\n",
      "Loading pretrained parameter \"readout.4.weight\".\n",
      "Loading pretrained parameter \"readout.4.bias\".\n"
     ]
    },
    {
     "name": "stderr",
     "output_type": "stream",
     "text": [
      "100%|██████████| 1/1 [09:55<00:00, 595.11s/it]\n"
     ]
    },
    {
     "name": "stdout",
     "output_type": "stream",
     "text": [
      "Saving predictions to mc_preds.csv\n",
      "Elapsed time = 0:09:55\n",
      "INFORMATIONS: 8597 8597 1\n",
      "running chemprop\n"
     ]
    },
    {
     "name": "stderr",
     "output_type": "stream",
     "text": [
      "1425it [00:00, 240421.69it/s]\n",
      "100%|██████████| 1425/1425 [00:00<00:00, 184221.53it/s]\n",
      "100%|██████████| 1425/1425 [00:00<00:00, 56792.88it/s]\n",
      "Fold 0\n",
      "100%|██████████| 5/5 [00:21<00:00,  4.38s/it]\n",
      "Model 0 best validation rmse = 1.205024 on epoch 4\n",
      "Model 0 test rmse = 1.185333                 \n",
      "Ensemble test rmse = 1.185333\n",
      "1-fold cross validation\n",
      "\tSeed 0 ==> test rmse = 1.185333\n",
      "Overall test rmse = 1.185333 +/- 0.000000\n",
      "Elapsed time = 0:00:23\n"
     ]
    },
    {
     "name": "stdout",
     "output_type": "stream",
     "text": [
      "Loading training args\n",
      "Setting molecule featurization parameters to default.\n",
      "Loading data\n"
     ]
    },
    {
     "name": "stderr",
     "output_type": "stream",
     "text": [
      "8572it [00:00, 307492.61it/s]\n",
      "100%|██████████| 8572/8572 [00:00<00:00, 183597.72it/s]\n"
     ]
    },
    {
     "name": "stdout",
     "output_type": "stream",
     "text": [
      "Validating SMILES\n",
      "Test size = 8,572\n"
     ]
    },
    {
     "name": "stderr",
     "output_type": "stream",
     "text": [
      "  0%|          | 0/1 [00:00<?, ?it/s]"
     ]
    },
    {
     "name": "stdout",
     "output_type": "stream",
     "text": [
      "Loading pretrained parameter \"encoder.encoder.0.cached_zero_vector\".\n",
      "Loading pretrained parameter \"encoder.encoder.0.W_i.weight\".\n",
      "Loading pretrained parameter \"encoder.encoder.0.W_h.weight\".\n",
      "Loading pretrained parameter \"encoder.encoder.0.W_o.weight\".\n",
      "Loading pretrained parameter \"encoder.encoder.0.W_o.bias\".\n",
      "Loading pretrained parameter \"readout.1.weight\".\n",
      "Loading pretrained parameter \"readout.1.bias\".\n",
      "Loading pretrained parameter \"readout.4.weight\".\n",
      "Loading pretrained parameter \"readout.4.bias\".\n"
     ]
    },
    {
     "name": "stderr",
     "output_type": "stream",
     "text": [
      "100%|██████████| 1/1 [01:15<00:00, 75.83s/it]\n"
     ]
    },
    {
     "name": "stdout",
     "output_type": "stream",
     "text": [
      "Saving predictions to mc_preds.csv\n",
      "Elapsed time = 0:01:16\n",
      "running chemprop\n",
      "in the counter\n"
     ]
    },
    {
     "name": "stderr",
     "output_type": "stream",
     "text": [
      "1450it [00:00, 220026.08it/s]\n",
      "100%|██████████| 1450/1450 [00:00<00:00, 192228.99it/s]\n",
      "100%|██████████| 1450/1450 [00:00<00:00, 50453.71it/s]\n",
      "Fold 0\n",
      "100%|██████████| 5/5 [17:05<00:00, 205.13s/it]\n",
      "Model 0 best validation rmse = 1.215059 on epoch 4\n",
      "Model 0 test rmse = 1.168077                 \n",
      "Ensemble test rmse = 1.168077\n",
      "1-fold cross validation\n",
      "\tSeed 0 ==> test rmse = 1.168077\n",
      "Overall test rmse = 1.168077 +/- 0.000000\n",
      "Elapsed time = 0:17:06\n"
     ]
    },
    {
     "name": "stdout",
     "output_type": "stream",
     "text": [
      "Loading training args\n",
      "Setting molecule featurization parameters to default.\n",
      "Loading data\n"
     ]
    },
    {
     "name": "stderr",
     "output_type": "stream",
     "text": [
      "8547it [00:00, 322903.23it/s]\n",
      "100%|██████████| 8547/8547 [00:00<00:00, 23997.57it/s]\n"
     ]
    },
    {
     "name": "stdout",
     "output_type": "stream",
     "text": [
      "Validating SMILES\n",
      "Test size = 8,547\n"
     ]
    },
    {
     "name": "stderr",
     "output_type": "stream",
     "text": [
      "  0%|          | 0/1 [00:00<?, ?it/s]"
     ]
    },
    {
     "name": "stdout",
     "output_type": "stream",
     "text": [
      "Loading pretrained parameter \"encoder.encoder.0.cached_zero_vector\".\n",
      "Loading pretrained parameter \"encoder.encoder.0.W_i.weight\".\n",
      "Loading pretrained parameter \"encoder.encoder.0.W_h.weight\".\n",
      "Loading pretrained parameter \"encoder.encoder.0.W_o.weight\".\n",
      "Loading pretrained parameter \"encoder.encoder.0.W_o.bias\".\n",
      "Loading pretrained parameter \"readout.1.weight\".\n",
      "Loading pretrained parameter \"readout.1.bias\".\n",
      "Loading pretrained parameter \"readout.4.weight\".\n",
      "Loading pretrained parameter \"readout.4.bias\".\n"
     ]
    },
    {
     "name": "stderr",
     "output_type": "stream",
     "text": [
      "100%|██████████| 1/1 [01:14<00:00, 75.00s/it]\n"
     ]
    },
    {
     "name": "stdout",
     "output_type": "stream",
     "text": [
      "Saving predictions to mc_preds.csv\n",
      "Elapsed time = 0:01:16\n",
      "INFORMATIONS: 8547 8547 1\n",
      "running chemprop\n"
     ]
    },
    {
     "name": "stderr",
     "output_type": "stream",
     "text": [
      "1475it [00:00, 229354.13it/s]\n",
      "100%|██████████| 1475/1475 [00:00<00:00, 180251.69it/s]\n",
      "100%|██████████| 1475/1475 [00:00<00:00, 55023.29it/s]\n",
      "Fold 0\n",
      "100%|██████████| 5/5 [00:22<00:00,  4.54s/it]\n",
      "Model 0 best validation rmse = 1.310548 on epoch 4\n",
      "Model 0 test rmse = 1.214645                 \n",
      "Ensemble test rmse = 1.214645\n",
      "1-fold cross validation\n",
      "\tSeed 0 ==> test rmse = 1.214645\n",
      "Overall test rmse = 1.214645 +/- 0.000000\n",
      "Elapsed time = 0:00:23\n"
     ]
    },
    {
     "name": "stdout",
     "output_type": "stream",
     "text": [
      "Loading training args\n",
      "Setting molecule featurization parameters to default.\n",
      "Loading data\n"
     ]
    },
    {
     "name": "stderr",
     "output_type": "stream",
     "text": [
      "8522it [00:00, 26145.58it/s]\n",
      "100%|██████████| 8522/8522 [00:00<00:00, 214293.00it/s]\n"
     ]
    },
    {
     "name": "stdout",
     "output_type": "stream",
     "text": [
      "Validating SMILES\n",
      "Test size = 8,522\n"
     ]
    },
    {
     "name": "stderr",
     "output_type": "stream",
     "text": [
      "  0%|          | 0/1 [00:00<?, ?it/s]"
     ]
    },
    {
     "name": "stdout",
     "output_type": "stream",
     "text": [
      "Loading pretrained parameter \"encoder.encoder.0.cached_zero_vector\".\n",
      "Loading pretrained parameter \"encoder.encoder.0.W_i.weight\".\n",
      "Loading pretrained parameter \"encoder.encoder.0.W_h.weight\".\n",
      "Loading pretrained parameter \"encoder.encoder.0.W_o.weight\".\n",
      "Loading pretrained parameter \"encoder.encoder.0.W_o.bias\".\n",
      "Loading pretrained parameter \"readout.1.weight\".\n",
      "Loading pretrained parameter \"readout.1.bias\".\n",
      "Loading pretrained parameter \"readout.4.weight\".\n",
      "Loading pretrained parameter \"readout.4.bias\".\n"
     ]
    },
    {
     "name": "stderr",
     "output_type": "stream",
     "text": [
      "100%|██████████| 1/1 [01:15<00:00, 75.54s/it]\n"
     ]
    },
    {
     "name": "stdout",
     "output_type": "stream",
     "text": [
      "Saving predictions to mc_preds.csv\n",
      "Elapsed time = 0:01:16\n",
      "running chemprop\n",
      "in the counter\n"
     ]
    },
    {
     "name": "stderr",
     "output_type": "stream",
     "text": [
      "1500it [00:00, 219551.09it/s]\n",
      "100%|██████████| 1500/1500 [00:00<00:00, 199443.84it/s]\n",
      "100%|██████████| 1500/1500 [00:00<00:00, 56039.12it/s]\n",
      "Fold 0\n",
      "100%|██████████| 5/5 [17:19<00:00, 207.81s/it]\n",
      "Model 0 best validation rmse = 1.149369 on epoch 4\n",
      "Model 0 test rmse = 1.179603                 \n",
      "Ensemble test rmse = 1.179603\n",
      "1-fold cross validation\n",
      "\tSeed 0 ==> test rmse = 1.179603\n",
      "Overall test rmse = 1.179603 +/- 0.000000\n",
      "Elapsed time = 0:17:20\n"
     ]
    },
    {
     "name": "stdout",
     "output_type": "stream",
     "text": [
      "Loading training args\n",
      "Setting molecule featurization parameters to default.\n",
      "Loading data\n"
     ]
    },
    {
     "name": "stderr",
     "output_type": "stream",
     "text": [
      "8497it [00:00, 26222.29it/s]\n",
      "100%|██████████| 8497/8497 [00:00<00:00, 210896.64it/s]\n"
     ]
    },
    {
     "name": "stdout",
     "output_type": "stream",
     "text": [
      "Validating SMILES\n",
      "Test size = 8,497\n"
     ]
    },
    {
     "name": "stderr",
     "output_type": "stream",
     "text": [
      "  0%|          | 0/1 [00:00<?, ?it/s]"
     ]
    },
    {
     "name": "stdout",
     "output_type": "stream",
     "text": [
      "Loading pretrained parameter \"encoder.encoder.0.cached_zero_vector\".\n",
      "Loading pretrained parameter \"encoder.encoder.0.W_i.weight\".\n",
      "Loading pretrained parameter \"encoder.encoder.0.W_h.weight\".\n",
      "Loading pretrained parameter \"encoder.encoder.0.W_o.weight\".\n",
      "Loading pretrained parameter \"encoder.encoder.0.W_o.bias\".\n",
      "Loading pretrained parameter \"readout.1.weight\".\n",
      "Loading pretrained parameter \"readout.1.bias\".\n",
      "Loading pretrained parameter \"readout.4.weight\".\n",
      "Loading pretrained parameter \"readout.4.bias\".\n"
     ]
    },
    {
     "name": "stderr",
     "output_type": "stream",
     "text": [
      "100%|██████████| 1/1 [01:14<00:00, 74.84s/it]\n"
     ]
    },
    {
     "name": "stdout",
     "output_type": "stream",
     "text": [
      "Saving predictions to mc_preds.csv\n",
      "Elapsed time = 0:01:15\n",
      "INFORMATIONS: 8497 8497 1\n",
      "finished seed\n",
      "TEST/TRAIN: 8997 1000\n",
      "running chemprop\n",
      "in the counter\n"
     ]
    },
    {
     "name": "stderr",
     "output_type": "stream",
     "text": [
      "1000it [00:00, 233809.24it/s]\n",
      "100%|██████████| 1000/1000 [00:00<00:00, 2409.68it/s]\n",
      "100%|██████████| 1000/1000 [00:00<00:00, 7654.68it/s]\n",
      "Fold 0\n",
      "100%|██████████| 5/5 [00:15<00:00,  3.13s/it]\n",
      "Model 0 best validation rmse = 1.090026 on epoch 4\n",
      "Model 0 test rmse = 1.179918                 \n",
      "Ensemble test rmse = 1.179918\n",
      "1-fold cross validation\n",
      "\tSeed 0 ==> test rmse = 1.179918\n",
      "Overall test rmse = 1.179918 +/- 0.000000\n",
      "Elapsed time = 0:00:17\n"
     ]
    },
    {
     "name": "stdout",
     "output_type": "stream",
     "text": [
      "Loading training args\n",
      "Setting molecule featurization parameters to default.\n",
      "Loading data\n"
     ]
    },
    {
     "name": "stderr",
     "output_type": "stream",
     "text": [
      "8997it [00:00, 291675.90it/s]\n",
      "100%|██████████| 8997/8997 [00:00<00:00, 26113.76it/s]\n"
     ]
    },
    {
     "name": "stdout",
     "output_type": "stream",
     "text": [
      "Validating SMILES\n",
      "Test size = 8,997\n"
     ]
    },
    {
     "name": "stderr",
     "output_type": "stream",
     "text": [
      "  0%|          | 0/1 [00:00<?, ?it/s]"
     ]
    },
    {
     "name": "stdout",
     "output_type": "stream",
     "text": [
      "Loading pretrained parameter \"encoder.encoder.0.cached_zero_vector\".\n",
      "Loading pretrained parameter \"encoder.encoder.0.W_i.weight\".\n",
      "Loading pretrained parameter \"encoder.encoder.0.W_h.weight\".\n",
      "Loading pretrained parameter \"encoder.encoder.0.W_o.weight\".\n",
      "Loading pretrained parameter \"encoder.encoder.0.W_o.bias\".\n",
      "Loading pretrained parameter \"readout.1.weight\".\n",
      "Loading pretrained parameter \"readout.1.bias\".\n",
      "Loading pretrained parameter \"readout.4.weight\".\n",
      "Loading pretrained parameter \"readout.4.bias\".\n"
     ]
    },
    {
     "name": "stderr",
     "output_type": "stream",
     "text": [
      "100%|██████████| 1/1 [17:00<00:00, 1020.69s/it]\n"
     ]
    },
    {
     "name": "stdout",
     "output_type": "stream",
     "text": [
      "Saving predictions to mc_preds.csv\n",
      "Elapsed time = 0:17:01\n",
      "INFORMATIONS: 8997 8997 1\n",
      "running chemprop\n"
     ]
    },
    {
     "name": "stderr",
     "output_type": "stream",
     "text": [
      "1025it [00:00, 233219.14it/s]\n",
      "100%|██████████| 1025/1025 [00:00<00:00, 178048.60it/s]\n",
      "100%|██████████| 1025/1025 [00:00<00:00, 61319.36it/s]\n",
      "Fold 0\n",
      "100%|██████████| 5/5 [00:15<00:00,  3.12s/it]\n",
      "Model 0 best validation rmse = 1.122909 on epoch 4\n",
      "Model 0 test rmse = 1.201851                 \n",
      "Ensemble test rmse = 1.201851\n",
      "1-fold cross validation\n",
      "\tSeed 0 ==> test rmse = 1.201851\n",
      "Overall test rmse = 1.201851 +/- 0.000000\n",
      "Elapsed time = 0:00:16\n"
     ]
    },
    {
     "name": "stdout",
     "output_type": "stream",
     "text": [
      "Loading training args\n",
      "Setting molecule featurization parameters to default.\n",
      "Loading data\n"
     ]
    },
    {
     "name": "stderr",
     "output_type": "stream",
     "text": [
      "8972it [00:00, 309582.46it/s]\n",
      "100%|██████████| 8972/8972 [00:00<00:00, 20306.59it/s]\n"
     ]
    },
    {
     "name": "stdout",
     "output_type": "stream",
     "text": [
      "Validating SMILES\n",
      "Test size = 8,972\n"
     ]
    },
    {
     "name": "stderr",
     "output_type": "stream",
     "text": [
      "  0%|          | 0/1 [00:00<?, ?it/s]"
     ]
    },
    {
     "name": "stdout",
     "output_type": "stream",
     "text": [
      "Loading pretrained parameter \"encoder.encoder.0.cached_zero_vector\".\n",
      "Loading pretrained parameter \"encoder.encoder.0.W_i.weight\".\n",
      "Loading pretrained parameter \"encoder.encoder.0.W_h.weight\".\n",
      "Loading pretrained parameter \"encoder.encoder.0.W_o.weight\".\n",
      "Loading pretrained parameter \"encoder.encoder.0.W_o.bias\".\n",
      "Loading pretrained parameter \"readout.1.weight\".\n",
      "Loading pretrained parameter \"readout.1.bias\".\n",
      "Loading pretrained parameter \"readout.4.weight\".\n",
      "Loading pretrained parameter \"readout.4.bias\".\n"
     ]
    },
    {
     "name": "stderr",
     "output_type": "stream",
     "text": [
      "100%|██████████| 1/1 [01:17<00:00, 77.23s/it]\n"
     ]
    },
    {
     "name": "stdout",
     "output_type": "stream",
     "text": [
      "Saving predictions to mc_preds.csv\n",
      "Elapsed time = 0:01:18\n",
      "running chemprop\n",
      "in the counter\n"
     ]
    },
    {
     "name": "stderr",
     "output_type": "stream",
     "text": [
      "1050it [00:00, 209455.87it/s]\n",
      "100%|██████████| 1050/1050 [00:00<00:00, 193014.82it/s]\n",
      "100%|██████████| 1050/1050 [00:00<00:00, 64703.14it/s]\n",
      "Fold 0\n",
      "100%|██████████| 5/5 [01:17<00:00, 15.54s/it]\n",
      "Model 0 best validation rmse = 1.170010 on epoch 4\n",
      "Model 0 test rmse = 1.239932                 \n",
      "Ensemble test rmse = 1.239932\n",
      "1-fold cross validation\n",
      "\tSeed 0 ==> test rmse = 1.239932\n",
      "Overall test rmse = 1.239932 +/- 0.000000\n",
      "Elapsed time = 0:01:18\n"
     ]
    },
    {
     "name": "stdout",
     "output_type": "stream",
     "text": [
      "Loading training args\n",
      "Setting molecule featurization parameters to default.\n",
      "Loading data\n"
     ]
    },
    {
     "name": "stderr",
     "output_type": "stream",
     "text": [
      "8947it [00:00, 319238.09it/s]\n",
      "100%|██████████| 8947/8947 [00:00<00:00, 203753.14it/s]\n"
     ]
    },
    {
     "name": "stdout",
     "output_type": "stream",
     "text": [
      "Validating SMILES\n",
      "Test size = 8,947\n"
     ]
    },
    {
     "name": "stderr",
     "output_type": "stream",
     "text": [
      "  0%|          | 0/1 [00:00<?, ?it/s]"
     ]
    },
    {
     "name": "stdout",
     "output_type": "stream",
     "text": [
      "Loading pretrained parameter \"encoder.encoder.0.cached_zero_vector\".\n",
      "Loading pretrained parameter \"encoder.encoder.0.W_i.weight\".\n",
      "Loading pretrained parameter \"encoder.encoder.0.W_h.weight\".\n",
      "Loading pretrained parameter \"encoder.encoder.0.W_o.weight\".\n",
      "Loading pretrained parameter \"encoder.encoder.0.W_o.bias\".\n",
      "Loading pretrained parameter \"readout.1.weight\".\n",
      "Loading pretrained parameter \"readout.1.bias\".\n",
      "Loading pretrained parameter \"readout.4.weight\".\n",
      "Loading pretrained parameter \"readout.4.bias\".\n"
     ]
    },
    {
     "name": "stderr",
     "output_type": "stream",
     "text": [
      "100%|██████████| 1/1 [02:08<00:00, 128.58s/it]\n"
     ]
    },
    {
     "name": "stdout",
     "output_type": "stream",
     "text": [
      "Saving predictions to mc_preds.csv\n",
      "Elapsed time = 0:02:09\n",
      "INFORMATIONS: 8947 8947 1\n",
      "running chemprop\n"
     ]
    },
    {
     "name": "stderr",
     "output_type": "stream",
     "text": [
      "1075it [00:00, 233137.37it/s]\n",
      "100%|██████████| 1075/1075 [00:00<00:00, 180636.87it/s]\n",
      "100%|██████████| 1075/1075 [00:00<00:00, 62913.39it/s]\n",
      "Fold 0\n",
      "100%|██████████| 5/5 [00:16<00:00,  3.26s/it]\n",
      "Model 0 best validation rmse = 1.265237 on epoch 4\n",
      "Model 0 test rmse = 1.108562                 \n",
      "Ensemble test rmse = 1.108562\n",
      "1-fold cross validation\n",
      "\tSeed 0 ==> test rmse = 1.108562\n",
      "Overall test rmse = 1.108562 +/- 0.000000\n",
      "Elapsed time = 0:00:17\n"
     ]
    },
    {
     "name": "stdout",
     "output_type": "stream",
     "text": [
      "Loading training args\n",
      "Setting molecule featurization parameters to default.\n",
      "Loading data\n"
     ]
    },
    {
     "name": "stderr",
     "output_type": "stream",
     "text": [
      "8922it [00:00, 309773.60it/s]\n",
      "100%|██████████| 8922/8922 [00:00<00:00, 19721.65it/s]\n"
     ]
    },
    {
     "name": "stdout",
     "output_type": "stream",
     "text": [
      "Validating SMILES\n",
      "Test size = 8,922\n"
     ]
    },
    {
     "name": "stderr",
     "output_type": "stream",
     "text": [
      "  0%|          | 0/1 [00:00<?, ?it/s]"
     ]
    },
    {
     "name": "stdout",
     "output_type": "stream",
     "text": [
      "Loading pretrained parameter \"encoder.encoder.0.cached_zero_vector\".\n",
      "Loading pretrained parameter \"encoder.encoder.0.W_i.weight\".\n",
      "Loading pretrained parameter \"encoder.encoder.0.W_h.weight\".\n",
      "Loading pretrained parameter \"encoder.encoder.0.W_o.weight\".\n",
      "Loading pretrained parameter \"encoder.encoder.0.W_o.bias\".\n",
      "Loading pretrained parameter \"readout.1.weight\".\n",
      "Loading pretrained parameter \"readout.1.bias\".\n",
      "Loading pretrained parameter \"readout.4.weight\".\n",
      "Loading pretrained parameter \"readout.4.bias\".\n"
     ]
    },
    {
     "name": "stderr",
     "output_type": "stream",
     "text": [
      "100%|██████████| 1/1 [05:43<00:00, 343.39s/it]\n"
     ]
    },
    {
     "name": "stdout",
     "output_type": "stream",
     "text": [
      "Saving predictions to mc_preds.csv\n",
      "Elapsed time = 0:05:44\n",
      "running chemprop\n",
      "in the counter\n"
     ]
    },
    {
     "name": "stderr",
     "output_type": "stream",
     "text": [
      "1100it [00:00, 195273.81it/s]\n",
      "100%|██████████| 1100/1100 [00:00<00:00, 178563.91it/s]\n",
      "100%|██████████| 1100/1100 [00:00<00:00, 59679.14it/s]\n",
      "Fold 0\n",
      "100%|██████████| 5/5 [00:16<00:00,  3.38s/it]\n",
      "Model 0 best validation rmse = 1.205850 on epoch 4\n",
      "Model 0 test rmse = 1.021838                 \n",
      "Ensemble test rmse = 1.021838\n",
      "1-fold cross validation\n",
      "\tSeed 0 ==> test rmse = 1.021838\n",
      "Overall test rmse = 1.021838 +/- 0.000000\n",
      "Elapsed time = 0:00:18\n"
     ]
    },
    {
     "name": "stdout",
     "output_type": "stream",
     "text": [
      "Loading training args\n",
      "Setting molecule featurization parameters to default.\n",
      "Loading data\n"
     ]
    },
    {
     "name": "stderr",
     "output_type": "stream",
     "text": [
      "8897it [00:00, 313804.78it/s]\n",
      "100%|██████████| 8897/8897 [00:00<00:00, 211520.87it/s]\n"
     ]
    },
    {
     "name": "stdout",
     "output_type": "stream",
     "text": [
      "Validating SMILES\n",
      "Test size = 8,897\n"
     ]
    },
    {
     "name": "stderr",
     "output_type": "stream",
     "text": [
      "  0%|          | 0/1 [00:00<?, ?it/s]"
     ]
    },
    {
     "name": "stdout",
     "output_type": "stream",
     "text": [
      "Loading pretrained parameter \"encoder.encoder.0.cached_zero_vector\".\n",
      "Loading pretrained parameter \"encoder.encoder.0.W_i.weight\".\n",
      "Loading pretrained parameter \"encoder.encoder.0.W_h.weight\".\n",
      "Loading pretrained parameter \"encoder.encoder.0.W_o.weight\".\n",
      "Loading pretrained parameter \"encoder.encoder.0.W_o.bias\".\n",
      "Loading pretrained parameter \"readout.1.weight\".\n",
      "Loading pretrained parameter \"readout.1.bias\".\n",
      "Loading pretrained parameter \"readout.4.weight\".\n",
      "Loading pretrained parameter \"readout.4.bias\".\n"
     ]
    },
    {
     "name": "stderr",
     "output_type": "stream",
     "text": [
      "100%|██████████| 1/1 [01:15<00:00, 75.98s/it]\n"
     ]
    },
    {
     "name": "stdout",
     "output_type": "stream",
     "text": [
      "Saving predictions to mc_preds.csv\n",
      "Elapsed time = 0:01:16\n",
      "INFORMATIONS: 8897 8897 1\n",
      "running chemprop\n"
     ]
    },
    {
     "name": "stderr",
     "output_type": "stream",
     "text": [
      "1125it [00:00, 171803.82it/s]\n",
      "100%|██████████| 1125/1125 [00:00<00:00, 120646.16it/s]\n",
      "100%|██████████| 1125/1125 [00:00<00:00, 61058.39it/s]\n",
      "Fold 0\n",
      "100%|██████████| 5/5 [00:17<00:00,  3.52s/it]\n",
      "Model 0 best validation rmse = 1.151520 on epoch 3\n",
      "Model 0 test rmse = 1.192875                 \n",
      "Ensemble test rmse = 1.192875\n",
      "1-fold cross validation\n",
      "\tSeed 0 ==> test rmse = 1.192875\n",
      "Overall test rmse = 1.192875 +/- 0.000000\n",
      "Elapsed time = 0:00:18\n"
     ]
    },
    {
     "name": "stdout",
     "output_type": "stream",
     "text": [
      "Loading training args\n",
      "Setting molecule featurization parameters to default.\n",
      "Loading data\n"
     ]
    },
    {
     "name": "stderr",
     "output_type": "stream",
     "text": [
      "8872it [00:00, 323407.08it/s]\n",
      "100%|██████████| 8872/8872 [00:00<00:00, 214108.63it/s]\n"
     ]
    },
    {
     "name": "stdout",
     "output_type": "stream",
     "text": [
      "Validating SMILES\n",
      "Test size = 8,872\n"
     ]
    },
    {
     "name": "stderr",
     "output_type": "stream",
     "text": [
      "  0%|          | 0/1 [00:00<?, ?it/s]"
     ]
    },
    {
     "name": "stdout",
     "output_type": "stream",
     "text": [
      "Loading pretrained parameter \"encoder.encoder.0.cached_zero_vector\".\n",
      "Loading pretrained parameter \"encoder.encoder.0.W_i.weight\".\n",
      "Loading pretrained parameter \"encoder.encoder.0.W_h.weight\".\n",
      "Loading pretrained parameter \"encoder.encoder.0.W_o.weight\".\n",
      "Loading pretrained parameter \"encoder.encoder.0.W_o.bias\".\n",
      "Loading pretrained parameter \"readout.1.weight\".\n",
      "Loading pretrained parameter \"readout.1.bias\".\n",
      "Loading pretrained parameter \"readout.4.weight\".\n",
      "Loading pretrained parameter \"readout.4.bias\".\n"
     ]
    },
    {
     "name": "stderr",
     "output_type": "stream",
     "text": [
      "100%|██████████| 1/1 [18:43<00:00, 1123.41s/it]\n"
     ]
    },
    {
     "name": "stdout",
     "output_type": "stream",
     "text": [
      "Saving predictions to mc_preds.csv\n",
      "Elapsed time = 0:18:44\n",
      "running chemprop\n",
      "in the counter\n"
     ]
    },
    {
     "name": "stderr",
     "output_type": "stream",
     "text": [
      "1150it [00:00, 216085.01it/s]\n",
      "100%|██████████| 1150/1150 [00:00<00:00, 190364.26it/s]\n",
      "100%|██████████| 1150/1150 [00:00<00:00, 51937.09it/s]\n",
      "Fold 0\n",
      "100%|██████████| 5/5 [00:17<00:00,  3.52s/it]\n",
      "Model 0 best validation rmse = 1.096232 on epoch 4\n",
      "Model 0 test rmse = 1.084870                 \n",
      "Ensemble test rmse = 1.084870\n",
      "1-fold cross validation\n",
      "\tSeed 0 ==> test rmse = 1.084870\n",
      "Overall test rmse = 1.084870 +/- 0.000000\n",
      "Elapsed time = 0:00:18\n"
     ]
    },
    {
     "name": "stdout",
     "output_type": "stream",
     "text": [
      "Loading training args\n",
      "Setting molecule featurization parameters to default.\n",
      "Loading data\n"
     ]
    },
    {
     "name": "stderr",
     "output_type": "stream",
     "text": [
      "8847it [00:00, 21039.80it/s]\n",
      "100%|██████████| 8847/8847 [00:00<00:00, 198665.86it/s]\n"
     ]
    },
    {
     "name": "stdout",
     "output_type": "stream",
     "text": [
      "Validating SMILES\n",
      "Test size = 8,847\n"
     ]
    },
    {
     "name": "stderr",
     "output_type": "stream",
     "text": [
      "  0%|          | 0/1 [00:00<?, ?it/s]"
     ]
    },
    {
     "name": "stdout",
     "output_type": "stream",
     "text": [
      "Loading pretrained parameter \"encoder.encoder.0.cached_zero_vector\".\n",
      "Loading pretrained parameter \"encoder.encoder.0.W_i.weight\".\n",
      "Loading pretrained parameter \"encoder.encoder.0.W_h.weight\".\n",
      "Loading pretrained parameter \"encoder.encoder.0.W_o.weight\".\n",
      "Loading pretrained parameter \"encoder.encoder.0.W_o.bias\".\n",
      "Loading pretrained parameter \"readout.1.weight\".\n",
      "Loading pretrained parameter \"readout.1.bias\".\n",
      "Loading pretrained parameter \"readout.4.weight\".\n",
      "Loading pretrained parameter \"readout.4.bias\".\n"
     ]
    },
    {
     "name": "stderr",
     "output_type": "stream",
     "text": [
      "100%|██████████| 1/1 [01:15<00:00, 76.00s/it]\n"
     ]
    },
    {
     "name": "stdout",
     "output_type": "stream",
     "text": [
      "Saving predictions to mc_preds.csv\n",
      "Elapsed time = 0:01:17\n",
      "INFORMATIONS: 8847 8847 1\n",
      "running chemprop\n"
     ]
    },
    {
     "name": "stderr",
     "output_type": "stream",
     "text": [
      "1175it [00:00, 231800.35it/s]\n",
      "100%|██████████| 1175/1175 [00:00<00:00, 182057.89it/s]\n",
      "100%|██████████| 1175/1175 [00:00<00:00, 47419.03it/s]\n",
      "Fold 0\n",
      "100%|██████████| 5/5 [00:18<00:00,  3.60s/it]\n",
      "Model 0 best validation rmse = 1.090222 on epoch 3\n",
      "Model 0 test rmse = 1.078683                 \n",
      "Ensemble test rmse = 1.078683\n",
      "1-fold cross validation\n",
      "\tSeed 0 ==> test rmse = 1.078683\n",
      "Overall test rmse = 1.078683 +/- 0.000000\n",
      "Elapsed time = 0:00:19\n"
     ]
    },
    {
     "name": "stdout",
     "output_type": "stream",
     "text": [
      "Loading training args\n",
      "Setting molecule featurization parameters to default.\n",
      "Loading data\n"
     ]
    },
    {
     "name": "stderr",
     "output_type": "stream",
     "text": [
      "8822it [00:00, 323731.18it/s]\n",
      "100%|██████████| 8822/8822 [00:00<00:00, 210860.09it/s]\n"
     ]
    },
    {
     "name": "stdout",
     "output_type": "stream",
     "text": [
      "Validating SMILES\n",
      "Test size = 8,822\n"
     ]
    },
    {
     "name": "stderr",
     "output_type": "stream",
     "text": [
      "  0%|          | 0/1 [00:00<?, ?it/s]"
     ]
    },
    {
     "name": "stdout",
     "output_type": "stream",
     "text": [
      "Loading pretrained parameter \"encoder.encoder.0.cached_zero_vector\".\n",
      "Loading pretrained parameter \"encoder.encoder.0.W_i.weight\".\n",
      "Loading pretrained parameter \"encoder.encoder.0.W_h.weight\".\n",
      "Loading pretrained parameter \"encoder.encoder.0.W_o.weight\".\n",
      "Loading pretrained parameter \"encoder.encoder.0.W_o.bias\".\n",
      "Loading pretrained parameter \"readout.1.weight\".\n",
      "Loading pretrained parameter \"readout.1.bias\".\n",
      "Loading pretrained parameter \"readout.4.weight\".\n",
      "Loading pretrained parameter \"readout.4.bias\".\n"
     ]
    },
    {
     "name": "stderr",
     "output_type": "stream",
     "text": [
      "100%|██████████| 1/1 [04:00<00:00, 240.60s/it]\n"
     ]
    },
    {
     "name": "stdout",
     "output_type": "stream",
     "text": [
      "Saving predictions to mc_preds.csv\n",
      "Elapsed time = 0:04:01\n",
      "running chemprop\n",
      "in the counter\n"
     ]
    },
    {
     "name": "stderr",
     "output_type": "stream",
     "text": [
      "1200it [00:00, 213867.80it/s]\n",
      "100%|██████████| 1200/1200 [00:00<00:00, 2619.17it/s]\n",
      "100%|██████████| 1200/1200 [00:00<00:00, 52839.96it/s]\n",
      "Fold 0\n",
      "100%|██████████| 5/5 [00:18<00:00,  3.69s/it]\n",
      "Model 0 best validation rmse = 1.095463 on epoch 4\n",
      "Model 0 test rmse = 1.103906                 \n",
      "Ensemble test rmse = 1.103906\n",
      "1-fold cross validation\n",
      "\tSeed 0 ==> test rmse = 1.103906\n",
      "Overall test rmse = 1.103906 +/- 0.000000\n",
      "Elapsed time = 0:00:20\n"
     ]
    },
    {
     "name": "stdout",
     "output_type": "stream",
     "text": [
      "Loading training args\n",
      "Setting molecule featurization parameters to default.\n",
      "Loading data\n"
     ]
    },
    {
     "name": "stderr",
     "output_type": "stream",
     "text": [
      "8797it [00:00, 326250.43it/s]\n",
      "100%|██████████| 8797/8797 [00:00<00:00, 211440.95it/s]\n"
     ]
    },
    {
     "name": "stdout",
     "output_type": "stream",
     "text": [
      "Validating SMILES\n",
      "Test size = 8,797\n"
     ]
    },
    {
     "name": "stderr",
     "output_type": "stream",
     "text": [
      "  0%|          | 0/1 [00:00<?, ?it/s]"
     ]
    },
    {
     "name": "stdout",
     "output_type": "stream",
     "text": [
      "Loading pretrained parameter \"encoder.encoder.0.cached_zero_vector\".\n",
      "Loading pretrained parameter \"encoder.encoder.0.W_i.weight\".\n",
      "Loading pretrained parameter \"encoder.encoder.0.W_h.weight\".\n",
      "Loading pretrained parameter \"encoder.encoder.0.W_o.weight\".\n",
      "Loading pretrained parameter \"encoder.encoder.0.W_o.bias\".\n",
      "Loading pretrained parameter \"readout.1.weight\".\n",
      "Loading pretrained parameter \"readout.1.bias\".\n",
      "Loading pretrained parameter \"readout.4.weight\".\n",
      "Loading pretrained parameter \"readout.4.bias\".\n"
     ]
    },
    {
     "name": "stderr",
     "output_type": "stream",
     "text": [
      "100%|██████████| 1/1 [10:51<00:00, 651.34s/it]\n"
     ]
    },
    {
     "name": "stdout",
     "output_type": "stream",
     "text": [
      "Saving predictions to mc_preds.csv\n",
      "Elapsed time = 0:10:52\n",
      "INFORMATIONS: 8797 8797 1\n",
      "running chemprop\n"
     ]
    },
    {
     "name": "stderr",
     "output_type": "stream",
     "text": [
      "1225it [00:00, 227527.34it/s]\n",
      "100%|██████████| 1225/1225 [00:00<00:00, 184020.00it/s]\n",
      "100%|██████████| 1225/1225 [00:00<00:00, 51891.35it/s]\n",
      "Fold 0\n",
      "100%|██████████| 5/5 [00:18<00:00,  3.77s/it]\n",
      "Model 0 best validation rmse = 1.188120 on epoch 4\n",
      "Model 0 test rmse = 1.112303                 \n",
      "Ensemble test rmse = 1.112303\n",
      "1-fold cross validation\n",
      "\tSeed 0 ==> test rmse = 1.112303\n",
      "Overall test rmse = 1.112303 +/- 0.000000\n",
      "Elapsed time = 0:00:19\n"
     ]
    },
    {
     "name": "stdout",
     "output_type": "stream",
     "text": [
      "Loading training args\n",
      "Setting molecule featurization parameters to default.\n",
      "Loading data\n"
     ]
    },
    {
     "name": "stderr",
     "output_type": "stream",
     "text": [
      "8772it [00:00, 293761.36it/s]\n",
      "100%|██████████| 8772/8772 [00:00<00:00, 163617.92it/s]\n"
     ]
    },
    {
     "name": "stdout",
     "output_type": "stream",
     "text": [
      "Validating SMILES\n",
      "Test size = 8,772\n"
     ]
    },
    {
     "name": "stderr",
     "output_type": "stream",
     "text": [
      "  0%|          | 0/1 [00:00<?, ?it/s]"
     ]
    },
    {
     "name": "stdout",
     "output_type": "stream",
     "text": [
      "Loading pretrained parameter \"encoder.encoder.0.cached_zero_vector\".\n",
      "Loading pretrained parameter \"encoder.encoder.0.W_i.weight\".\n",
      "Loading pretrained parameter \"encoder.encoder.0.W_h.weight\".\n",
      "Loading pretrained parameter \"encoder.encoder.0.W_o.weight\".\n",
      "Loading pretrained parameter \"encoder.encoder.0.W_o.bias\".\n",
      "Loading pretrained parameter \"readout.1.weight\".\n",
      "Loading pretrained parameter \"readout.1.bias\".\n",
      "Loading pretrained parameter \"readout.4.weight\".\n",
      "Loading pretrained parameter \"readout.4.bias\".\n"
     ]
    },
    {
     "name": "stderr",
     "output_type": "stream",
     "text": [
      "100%|██████████| 1/1 [01:15<00:00, 75.61s/it]\n"
     ]
    },
    {
     "name": "stdout",
     "output_type": "stream",
     "text": [
      "Saving predictions to mc_preds.csv\n",
      "Elapsed time = 0:01:16\n",
      "running chemprop\n",
      "in the counter\n"
     ]
    },
    {
     "name": "stderr",
     "output_type": "stream",
     "text": [
      "1250it [00:00, 211295.69it/s]\n",
      "100%|██████████| 1250/1250 [00:00<00:00, 193979.58it/s]\n",
      "100%|██████████| 1250/1250 [00:00<00:00, 53186.71it/s]\n",
      "Fold 0\n",
      "100%|██████████| 5/5 [00:19<00:00,  3.85s/it]\n",
      "Model 0 best validation rmse = 1.173946 on epoch 4\n",
      "Model 0 test rmse = 1.099039                 \n",
      "Ensemble test rmse = 1.099039\n",
      "1-fold cross validation\n",
      "\tSeed 0 ==> test rmse = 1.099039\n",
      "Overall test rmse = 1.099039 +/- 0.000000\n",
      "Elapsed time = 0:00:20\n"
     ]
    },
    {
     "name": "stdout",
     "output_type": "stream",
     "text": [
      "Loading training args\n",
      "Setting molecule featurization parameters to default.\n",
      "Loading data\n"
     ]
    },
    {
     "name": "stderr",
     "output_type": "stream",
     "text": [
      "8747it [00:00, 324324.41it/s]\n",
      "100%|██████████| 8747/8747 [00:00<00:00, 210123.58it/s]\n"
     ]
    },
    {
     "name": "stdout",
     "output_type": "stream",
     "text": [
      "Validating SMILES\n",
      "Test size = 8,747\n"
     ]
    },
    {
     "name": "stderr",
     "output_type": "stream",
     "text": [
      "  0%|          | 0/1 [00:00<?, ?it/s]"
     ]
    },
    {
     "name": "stdout",
     "output_type": "stream",
     "text": [
      "Loading pretrained parameter \"encoder.encoder.0.cached_zero_vector\".\n",
      "Loading pretrained parameter \"encoder.encoder.0.W_i.weight\".\n",
      "Loading pretrained parameter \"encoder.encoder.0.W_h.weight\".\n",
      "Loading pretrained parameter \"encoder.encoder.0.W_o.weight\".\n",
      "Loading pretrained parameter \"encoder.encoder.0.W_o.bias\".\n",
      "Loading pretrained parameter \"readout.1.weight\".\n",
      "Loading pretrained parameter \"readout.1.bias\".\n",
      "Loading pretrained parameter \"readout.4.weight\".\n",
      "Loading pretrained parameter \"readout.4.bias\".\n"
     ]
    },
    {
     "name": "stderr",
     "output_type": "stream",
     "text": [
      "100%|██████████| 1/1 [17:37<00:00, 1057.85s/it]\n"
     ]
    },
    {
     "name": "stdout",
     "output_type": "stream",
     "text": [
      "Saving predictions to mc_preds.csv\n",
      "Elapsed time = 0:17:38\n",
      "INFORMATIONS: 8747 8747 1\n",
      "running chemprop\n"
     ]
    },
    {
     "name": "stderr",
     "output_type": "stream",
     "text": [
      "1275it [00:00, 235355.06it/s]\n",
      "100%|██████████| 1275/1275 [00:00<00:00, 191435.03it/s]\n",
      "100%|██████████| 1275/1275 [00:00<00:00, 31196.33it/s]\n",
      "Fold 0\n",
      "100%|██████████| 5/5 [00:19<00:00,  3.93s/it]\n",
      "Model 0 best validation rmse = 1.224835 on epoch 3\n",
      "Model 0 test rmse = 1.118583                 \n",
      "Ensemble test rmse = 1.118583\n",
      "1-fold cross validation\n",
      "\tSeed 0 ==> test rmse = 1.118583\n",
      "Overall test rmse = 1.118583 +/- 0.000000\n",
      "Elapsed time = 0:00:20\n"
     ]
    },
    {
     "name": "stdout",
     "output_type": "stream",
     "text": [
      "Loading training args\n",
      "Setting molecule featurization parameters to default.\n",
      "Loading data\n"
     ]
    },
    {
     "name": "stderr",
     "output_type": "stream",
     "text": [
      "8722it [00:00, 319429.99it/s]\n",
      "100%|██████████| 8722/8722 [00:00<00:00, 210555.30it/s]\n"
     ]
    },
    {
     "name": "stdout",
     "output_type": "stream",
     "text": [
      "Validating SMILES\n",
      "Test size = 8,722\n"
     ]
    },
    {
     "name": "stderr",
     "output_type": "stream",
     "text": [
      "  0%|          | 0/1 [00:00<?, ?it/s]"
     ]
    },
    {
     "name": "stdout",
     "output_type": "stream",
     "text": [
      "Loading pretrained parameter \"encoder.encoder.0.cached_zero_vector\".\n",
      "Loading pretrained parameter \"encoder.encoder.0.W_i.weight\".\n",
      "Loading pretrained parameter \"encoder.encoder.0.W_h.weight\".\n",
      "Loading pretrained parameter \"encoder.encoder.0.W_o.weight\".\n",
      "Loading pretrained parameter \"encoder.encoder.0.W_o.bias\".\n",
      "Loading pretrained parameter \"readout.1.weight\".\n",
      "Loading pretrained parameter \"readout.1.bias\".\n",
      "Loading pretrained parameter \"readout.4.weight\".\n",
      "Loading pretrained parameter \"readout.4.bias\".\n"
     ]
    },
    {
     "name": "stderr",
     "output_type": "stream",
     "text": [
      "100%|██████████| 1/1 [17:44<00:00, 1064.37s/it]\n"
     ]
    },
    {
     "name": "stdout",
     "output_type": "stream",
     "text": [
      "Saving predictions to mc_preds.csv\n",
      "Elapsed time = 0:17:45\n",
      "running chemprop\n",
      "in the counter\n"
     ]
    },
    {
     "name": "stderr",
     "output_type": "stream",
     "text": [
      "1300it [00:00, 219827.25it/s]\n",
      "100%|██████████| 1300/1300 [00:00<00:00, 196164.74it/s]\n",
      "100%|██████████| 1300/1300 [00:00<00:00, 52679.03it/s]\n",
      "Fold 0\n",
      "100%|██████████| 5/5 [00:20<00:00,  4.03s/it]\n",
      "Model 0 best validation rmse = 1.155496 on epoch 4\n",
      "Model 0 test rmse = 1.086183                 \n",
      "Ensemble test rmse = 1.086183\n",
      "1-fold cross validation\n",
      "\tSeed 0 ==> test rmse = 1.086183\n",
      "Overall test rmse = 1.086183 +/- 0.000000\n",
      "Elapsed time = 0:00:21\n"
     ]
    },
    {
     "name": "stdout",
     "output_type": "stream",
     "text": [
      "Loading training args\n",
      "Setting molecule featurization parameters to default.\n",
      "Loading data\n"
     ]
    },
    {
     "name": "stderr",
     "output_type": "stream",
     "text": [
      "8697it [00:00, 309325.79it/s]\n",
      "100%|██████████| 8697/8697 [00:00<00:00, 19635.91it/s]\n"
     ]
    },
    {
     "name": "stdout",
     "output_type": "stream",
     "text": [
      "Validating SMILES\n",
      "Test size = 8,697\n"
     ]
    },
    {
     "name": "stderr",
     "output_type": "stream",
     "text": [
      "  0%|          | 0/1 [00:00<?, ?it/s]"
     ]
    },
    {
     "name": "stdout",
     "output_type": "stream",
     "text": [
      "Loading pretrained parameter \"encoder.encoder.0.cached_zero_vector\".\n",
      "Loading pretrained parameter \"encoder.encoder.0.W_i.weight\".\n",
      "Loading pretrained parameter \"encoder.encoder.0.W_h.weight\".\n",
      "Loading pretrained parameter \"encoder.encoder.0.W_o.weight\".\n",
      "Loading pretrained parameter \"encoder.encoder.0.W_o.bias\".\n",
      "Loading pretrained parameter \"readout.1.weight\".\n",
      "Loading pretrained parameter \"readout.1.bias\".\n",
      "Loading pretrained parameter \"readout.4.weight\".\n",
      "Loading pretrained parameter \"readout.4.bias\".\n"
     ]
    },
    {
     "name": "stderr",
     "output_type": "stream",
     "text": [
      "100%|██████████| 1/1 [01:15<00:00, 75.98s/it]\n"
     ]
    },
    {
     "name": "stdout",
     "output_type": "stream",
     "text": [
      "Saving predictions to mc_preds.csv\n",
      "Elapsed time = 0:01:17\n",
      "INFORMATIONS: 8697 8697 1\n",
      "running chemprop\n"
     ]
    },
    {
     "name": "stderr",
     "output_type": "stream",
     "text": [
      "1325it [00:00, 232987.58it/s]\n",
      "100%|██████████| 1325/1325 [00:00<00:00, 190050.37it/s]\n",
      "100%|██████████| 1325/1325 [00:00<00:00, 51861.75it/s]\n",
      "Fold 0\n",
      "100%|██████████| 5/5 [17:19<00:00, 207.97s/it]\n",
      "Model 0 best validation rmse = 1.219355 on epoch 4\n",
      "Model 0 test rmse = 1.089758                 \n",
      "Ensemble test rmse = 1.089758\n",
      "1-fold cross validation\n",
      "\tSeed 0 ==> test rmse = 1.089758\n",
      "Overall test rmse = 1.089758 +/- 0.000000\n",
      "Elapsed time = 0:17:21\n"
     ]
    },
    {
     "name": "stdout",
     "output_type": "stream",
     "text": [
      "Loading training args\n",
      "Setting molecule featurization parameters to default.\n",
      "Loading data\n"
     ]
    },
    {
     "name": "stderr",
     "output_type": "stream",
     "text": [
      "8672it [00:00, 20515.49it/s]\n",
      "100%|██████████| 8672/8672 [00:00<00:00, 212883.16it/s]\n"
     ]
    },
    {
     "name": "stdout",
     "output_type": "stream",
     "text": [
      "Validating SMILES\n",
      "Test size = 8,672\n"
     ]
    },
    {
     "name": "stderr",
     "output_type": "stream",
     "text": [
      "  0%|          | 0/1 [00:00<?, ?it/s]"
     ]
    },
    {
     "name": "stdout",
     "output_type": "stream",
     "text": [
      "Loading pretrained parameter \"encoder.encoder.0.cached_zero_vector\".\n",
      "Loading pretrained parameter \"encoder.encoder.0.W_i.weight\".\n",
      "Loading pretrained parameter \"encoder.encoder.0.W_h.weight\".\n",
      "Loading pretrained parameter \"encoder.encoder.0.W_o.weight\".\n",
      "Loading pretrained parameter \"encoder.encoder.0.W_o.bias\".\n",
      "Loading pretrained parameter \"readout.1.weight\".\n",
      "Loading pretrained parameter \"readout.1.bias\".\n",
      "Loading pretrained parameter \"readout.4.weight\".\n",
      "Loading pretrained parameter \"readout.4.bias\".\n"
     ]
    },
    {
     "name": "stderr",
     "output_type": "stream",
     "text": [
      "100%|██████████| 1/1 [01:15<00:00, 75.99s/it]\n"
     ]
    },
    {
     "name": "stdout",
     "output_type": "stream",
     "text": [
      "Saving predictions to mc_preds.csv\n",
      "Elapsed time = 0:01:17\n",
      "running chemprop\n",
      "in the counter\n"
     ]
    },
    {
     "name": "stderr",
     "output_type": "stream",
     "text": [
      "1350it [00:00, 218867.09it/s]\n",
      "100%|██████████| 1350/1350 [00:00<00:00, 187636.62it/s]\n",
      "100%|██████████| 1350/1350 [00:00<00:00, 50635.46it/s]\n",
      "Fold 0\n",
      "100%|██████████| 5/5 [00:20<00:00,  4.18s/it]\n",
      "Model 0 best validation rmse = 1.246039 on epoch 4\n",
      "Model 0 test rmse = 1.132983                 \n",
      "Ensemble test rmse = 1.132983\n",
      "1-fold cross validation\n",
      "\tSeed 0 ==> test rmse = 1.132983\n",
      "Overall test rmse = 1.132983 +/- 0.000000\n",
      "Elapsed time = 0:00:21\n"
     ]
    },
    {
     "name": "stdout",
     "output_type": "stream",
     "text": [
      "Loading training args\n",
      "Setting molecule featurization parameters to default.\n",
      "Loading data\n"
     ]
    },
    {
     "name": "stderr",
     "output_type": "stream",
     "text": [
      "8647it [00:00, 308449.82it/s]\n",
      "100%|██████████| 8647/8647 [00:00<00:00, 19881.31it/s]\n"
     ]
    },
    {
     "name": "stdout",
     "output_type": "stream",
     "text": [
      "Validating SMILES\n",
      "Test size = 8,647\n"
     ]
    },
    {
     "name": "stderr",
     "output_type": "stream",
     "text": [
      "  0%|          | 0/1 [00:00<?, ?it/s]"
     ]
    },
    {
     "name": "stdout",
     "output_type": "stream",
     "text": [
      "Loading pretrained parameter \"encoder.encoder.0.cached_zero_vector\".\n",
      "Loading pretrained parameter \"encoder.encoder.0.W_i.weight\".\n",
      "Loading pretrained parameter \"encoder.encoder.0.W_h.weight\".\n",
      "Loading pretrained parameter \"encoder.encoder.0.W_o.weight\".\n",
      "Loading pretrained parameter \"encoder.encoder.0.W_o.bias\".\n",
      "Loading pretrained parameter \"readout.1.weight\".\n",
      "Loading pretrained parameter \"readout.1.bias\".\n",
      "Loading pretrained parameter \"readout.4.weight\".\n",
      "Loading pretrained parameter \"readout.4.bias\".\n"
     ]
    },
    {
     "name": "stderr",
     "output_type": "stream",
     "text": [
      "100%|██████████| 1/1 [03:18<00:00, 198.09s/it]\n"
     ]
    },
    {
     "name": "stdout",
     "output_type": "stream",
     "text": [
      "Saving predictions to mc_preds.csv\n",
      "Elapsed time = 0:03:19\n",
      "INFORMATIONS: 8647 8647 1\n",
      "running chemprop\n"
     ]
    },
    {
     "name": "stderr",
     "output_type": "stream",
     "text": [
      "1375it [00:00, 229557.30it/s]\n",
      "100%|██████████| 1375/1375 [00:00<00:00, 174498.28it/s]\n",
      "100%|██████████| 1375/1375 [00:00<00:00, 48206.76it/s]\n",
      "Fold 0\n",
      "100%|██████████| 5/5 [00:21<00:00,  4.27s/it]\n",
      "Model 0 best validation rmse = 1.084693 on epoch 4\n",
      "Model 0 test rmse = 1.128226                 \n",
      "Ensemble test rmse = 1.128226\n",
      "1-fold cross validation\n",
      "\tSeed 0 ==> test rmse = 1.128226\n",
      "Overall test rmse = 1.128226 +/- 0.000000\n",
      "Elapsed time = 0:00:22\n"
     ]
    },
    {
     "name": "stdout",
     "output_type": "stream",
     "text": [
      "Loading training args\n",
      "Setting molecule featurization parameters to default.\n",
      "Loading data\n"
     ]
    },
    {
     "name": "stderr",
     "output_type": "stream",
     "text": [
      "8622it [00:00, 320627.80it/s]\n",
      "100%|██████████| 8622/8622 [00:00<00:00, 208572.19it/s]\n"
     ]
    },
    {
     "name": "stdout",
     "output_type": "stream",
     "text": [
      "Validating SMILES\n",
      "Test size = 8,622\n"
     ]
    },
    {
     "name": "stderr",
     "output_type": "stream",
     "text": [
      "  0%|          | 0/1 [00:00<?, ?it/s]"
     ]
    },
    {
     "name": "stdout",
     "output_type": "stream",
     "text": [
      "Loading pretrained parameter \"encoder.encoder.0.cached_zero_vector\".\n",
      "Loading pretrained parameter \"encoder.encoder.0.W_i.weight\".\n",
      "Loading pretrained parameter \"encoder.encoder.0.W_h.weight\".\n",
      "Loading pretrained parameter \"encoder.encoder.0.W_o.weight\".\n",
      "Loading pretrained parameter \"encoder.encoder.0.W_o.bias\".\n",
      "Loading pretrained parameter \"readout.1.weight\".\n",
      "Loading pretrained parameter \"readout.1.bias\".\n",
      "Loading pretrained parameter \"readout.4.weight\".\n",
      "Loading pretrained parameter \"readout.4.bias\".\n"
     ]
    },
    {
     "name": "stderr",
     "output_type": "stream",
     "text": [
      "100%|██████████| 1/1 [16:14<00:00, 974.16s/it]\n"
     ]
    },
    {
     "name": "stdout",
     "output_type": "stream",
     "text": [
      "Saving predictions to mc_preds.csv\n",
      "Elapsed time = 0:16:14\n",
      "running chemprop\n",
      "in the counter\n"
     ]
    },
    {
     "name": "stderr",
     "output_type": "stream",
     "text": [
      "1400it [00:00, 194476.57it/s]\n",
      "100%|██████████| 1400/1400 [00:00<00:00, 188350.83it/s]\n",
      "100%|██████████| 1400/1400 [00:00<00:00, 49860.96it/s]\n",
      "Fold 0\n",
      "100%|██████████| 5/5 [00:21<00:00,  4.40s/it]\n",
      "Model 0 best validation rmse = 1.239876 on epoch 4\n",
      "Model 0 test rmse = 1.147878                 \n",
      "Ensemble test rmse = 1.147878\n",
      "1-fold cross validation\n",
      "\tSeed 0 ==> test rmse = 1.147878\n",
      "Overall test rmse = 1.147878 +/- 0.000000\n",
      "Elapsed time = 0:00:23\n"
     ]
    },
    {
     "name": "stdout",
     "output_type": "stream",
     "text": [
      "Loading training args\n",
      "Setting molecule featurization parameters to default.\n",
      "Loading data\n"
     ]
    },
    {
     "name": "stderr",
     "output_type": "stream",
     "text": [
      "8597it [00:00, 323000.03it/s]\n",
      "100%|██████████| 8597/8597 [00:00<00:00, 211035.86it/s]\n"
     ]
    },
    {
     "name": "stdout",
     "output_type": "stream",
     "text": [
      "Validating SMILES\n",
      "Test size = 8,597\n"
     ]
    },
    {
     "name": "stderr",
     "output_type": "stream",
     "text": [
      "  0%|          | 0/1 [00:00<?, ?it/s]"
     ]
    },
    {
     "name": "stdout",
     "output_type": "stream",
     "text": [
      "Loading pretrained parameter \"encoder.encoder.0.cached_zero_vector\".\n",
      "Loading pretrained parameter \"encoder.encoder.0.W_i.weight\".\n",
      "Loading pretrained parameter \"encoder.encoder.0.W_h.weight\".\n",
      "Loading pretrained parameter \"encoder.encoder.0.W_o.weight\".\n",
      "Loading pretrained parameter \"encoder.encoder.0.W_o.bias\".\n",
      "Loading pretrained parameter \"readout.1.weight\".\n",
      "Loading pretrained parameter \"readout.1.bias\".\n",
      "Loading pretrained parameter \"readout.4.weight\".\n",
      "Loading pretrained parameter \"readout.4.bias\".\n"
     ]
    },
    {
     "name": "stderr",
     "output_type": "stream",
     "text": [
      "100%|██████████| 1/1 [01:16<00:00, 76.03s/it]\n"
     ]
    },
    {
     "name": "stdout",
     "output_type": "stream",
     "text": [
      "Saving predictions to mc_preds.csv\n",
      "Elapsed time = 0:01:16\n",
      "INFORMATIONS: 8597 8597 1\n",
      "running chemprop\n"
     ]
    },
    {
     "name": "stderr",
     "output_type": "stream",
     "text": [
      "1425it [00:00, 235078.99it/s]\n",
      "100%|██████████| 1425/1425 [00:00<00:00, 183418.74it/s]\n",
      "100%|██████████| 1425/1425 [00:00<00:00, 50643.40it/s]\n",
      "Fold 0\n",
      "100%|██████████| 5/5 [00:22<00:00,  4.43s/it]\n",
      "Model 0 best validation rmse = 1.173079 on epoch 4\n",
      "Model 0 test rmse = 1.107499                 \n",
      "Ensemble test rmse = 1.107499\n",
      "1-fold cross validation\n",
      "\tSeed 0 ==> test rmse = 1.107499\n",
      "Overall test rmse = 1.107499 +/- 0.000000\n",
      "Elapsed time = 0:00:23\n"
     ]
    },
    {
     "name": "stdout",
     "output_type": "stream",
     "text": [
      "Loading training args\n",
      "Setting molecule featurization parameters to default.\n",
      "Loading data\n"
     ]
    },
    {
     "name": "stderr",
     "output_type": "stream",
     "text": [
      "8572it [00:00, 326239.71it/s]\n",
      "100%|██████████| 8572/8572 [00:00<00:00, 19878.90it/s]\n"
     ]
    },
    {
     "name": "stdout",
     "output_type": "stream",
     "text": [
      "Validating SMILES\n",
      "Test size = 8,572\n"
     ]
    },
    {
     "name": "stderr",
     "output_type": "stream",
     "text": [
      "  0%|          | 0/1 [00:00<?, ?it/s]"
     ]
    },
    {
     "name": "stdout",
     "output_type": "stream",
     "text": [
      "Loading pretrained parameter \"encoder.encoder.0.cached_zero_vector\".\n",
      "Loading pretrained parameter \"encoder.encoder.0.W_i.weight\".\n",
      "Loading pretrained parameter \"encoder.encoder.0.W_h.weight\".\n",
      "Loading pretrained parameter \"encoder.encoder.0.W_o.weight\".\n",
      "Loading pretrained parameter \"encoder.encoder.0.W_o.bias\".\n",
      "Loading pretrained parameter \"readout.1.weight\".\n",
      "Loading pretrained parameter \"readout.1.bias\".\n",
      "Loading pretrained parameter \"readout.4.weight\".\n",
      "Loading pretrained parameter \"readout.4.bias\".\n"
     ]
    },
    {
     "name": "stderr",
     "output_type": "stream",
     "text": [
      "100%|██████████| 1/1 [12:02<00:00, 722.61s/it]\n"
     ]
    },
    {
     "name": "stdout",
     "output_type": "stream",
     "text": [
      "Saving predictions to mc_preds.csv\n",
      "Elapsed time = 0:12:03\n",
      "running chemprop\n",
      "in the counter\n"
     ]
    },
    {
     "name": "stderr",
     "output_type": "stream",
     "text": [
      "1450it [00:00, 223725.01it/s]\n",
      "100%|██████████| 1450/1450 [00:00<00:00, 193028.24it/s]\n",
      "100%|██████████| 1450/1450 [00:00<00:00, 53252.38it/s]\n",
      "Fold 0\n",
      "100%|██████████| 5/5 [00:22<00:00,  4.57s/it]\n",
      "Model 0 best validation rmse = 1.225723 on epoch 4\n",
      "Model 0 test rmse = 1.132768                 \n",
      "Ensemble test rmse = 1.132768\n",
      "1-fold cross validation\n",
      "\tSeed 0 ==> test rmse = 1.132768\n",
      "Overall test rmse = 1.132768 +/- 0.000000\n",
      "Elapsed time = 0:00:23\n"
     ]
    },
    {
     "name": "stdout",
     "output_type": "stream",
     "text": [
      "Loading training args\n",
      "Setting molecule featurization parameters to default.\n",
      "Loading data\n"
     ]
    },
    {
     "name": "stderr",
     "output_type": "stream",
     "text": [
      "8547it [00:00, 326982.41it/s]\n",
      "100%|██████████| 8547/8547 [00:00<00:00, 210802.88it/s]\n"
     ]
    },
    {
     "name": "stdout",
     "output_type": "stream",
     "text": [
      "Validating SMILES\n",
      "Test size = 8,547\n"
     ]
    },
    {
     "name": "stderr",
     "output_type": "stream",
     "text": [
      "  0%|          | 0/1 [00:00<?, ?it/s]"
     ]
    },
    {
     "name": "stdout",
     "output_type": "stream",
     "text": [
      "Loading pretrained parameter \"encoder.encoder.0.cached_zero_vector\".\n",
      "Loading pretrained parameter \"encoder.encoder.0.W_i.weight\".\n",
      "Loading pretrained parameter \"encoder.encoder.0.W_h.weight\".\n",
      "Loading pretrained parameter \"encoder.encoder.0.W_o.weight\".\n",
      "Loading pretrained parameter \"encoder.encoder.0.W_o.bias\".\n",
      "Loading pretrained parameter \"readout.1.weight\".\n",
      "Loading pretrained parameter \"readout.1.bias\".\n",
      "Loading pretrained parameter \"readout.4.weight\".\n",
      "Loading pretrained parameter \"readout.4.bias\".\n"
     ]
    },
    {
     "name": "stderr",
     "output_type": "stream",
     "text": [
      "100%|██████████| 1/1 [15:32<00:00, 932.49s/it]\n"
     ]
    },
    {
     "name": "stdout",
     "output_type": "stream",
     "text": [
      "Saving predictions to mc_preds.csv\n",
      "Elapsed time = 0:15:33\n",
      "INFORMATIONS: 8547 8547 1\n",
      "running chemprop\n"
     ]
    },
    {
     "name": "stderr",
     "output_type": "stream",
     "text": [
      "1475it [00:00, 236490.76it/s]\n",
      "100%|██████████| 1475/1475 [00:00<00:00, 187922.55it/s]\n",
      "100%|██████████| 1475/1475 [00:00<00:00, 54043.23it/s]\n",
      "Fold 0\n",
      "100%|██████████| 5/5 [00:22<00:00,  4.57s/it]\n",
      "Model 0 best validation rmse = 1.278922 on epoch 4\n",
      "Model 0 test rmse = 1.190350                 \n",
      "Ensemble test rmse = 1.190350\n",
      "1-fold cross validation\n",
      "\tSeed 0 ==> test rmse = 1.190350\n",
      "Overall test rmse = 1.190350 +/- 0.000000\n",
      "Elapsed time = 0:00:23\n"
     ]
    },
    {
     "name": "stdout",
     "output_type": "stream",
     "text": [
      "Loading training args\n",
      "Setting molecule featurization parameters to default.\n",
      "Loading data\n"
     ]
    },
    {
     "name": "stderr",
     "output_type": "stream",
     "text": [
      "8522it [00:00, 298901.68it/s]\n",
      "100%|██████████| 8522/8522 [00:00<00:00, 196540.61it/s]\n"
     ]
    },
    {
     "name": "stdout",
     "output_type": "stream",
     "text": [
      "Validating SMILES\n",
      "Test size = 8,522\n"
     ]
    },
    {
     "name": "stderr",
     "output_type": "stream",
     "text": [
      "  0%|          | 0/1 [00:00<?, ?it/s]"
     ]
    },
    {
     "name": "stdout",
     "output_type": "stream",
     "text": [
      "Loading pretrained parameter \"encoder.encoder.0.cached_zero_vector\".\n",
      "Loading pretrained parameter \"encoder.encoder.0.W_i.weight\".\n",
      "Loading pretrained parameter \"encoder.encoder.0.W_h.weight\".\n",
      "Loading pretrained parameter \"encoder.encoder.0.W_o.weight\".\n",
      "Loading pretrained parameter \"encoder.encoder.0.W_o.bias\".\n",
      "Loading pretrained parameter \"readout.1.weight\".\n",
      "Loading pretrained parameter \"readout.1.bias\".\n",
      "Loading pretrained parameter \"readout.4.weight\".\n",
      "Loading pretrained parameter \"readout.4.bias\".\n"
     ]
    },
    {
     "name": "stderr",
     "output_type": "stream",
     "text": [
      "100%|██████████| 1/1 [01:16<00:00, 76.16s/it]\n"
     ]
    },
    {
     "name": "stdout",
     "output_type": "stream",
     "text": [
      "Saving predictions to mc_preds.csv\n",
      "Elapsed time = 0:01:16\n",
      "running chemprop\n",
      "in the counter\n"
     ]
    },
    {
     "name": "stderr",
     "output_type": "stream",
     "text": [
      "1500it [00:00, 210409.55it/s]\n",
      "100%|██████████| 1500/1500 [00:00<00:00, 187642.22it/s]\n",
      "100%|██████████| 1500/1500 [00:00<00:00, 47875.81it/s]\n",
      "Fold 0\n",
      "100%|██████████| 5/5 [04:02<00:00, 48.53s/it] \n",
      "Model 0 best validation rmse = 1.267798 on epoch 4\n",
      "Model 0 test rmse = 1.160092                 \n",
      "Ensemble test rmse = 1.160092\n",
      "1-fold cross validation\n",
      "\tSeed 0 ==> test rmse = 1.160092\n",
      "Overall test rmse = 1.160092 +/- 0.000000\n",
      "Elapsed time = 0:04:03\n"
     ]
    },
    {
     "name": "stdout",
     "output_type": "stream",
     "text": [
      "Loading training args\n",
      "Setting molecule featurization parameters to default.\n",
      "Loading data\n"
     ]
    },
    {
     "name": "stderr",
     "output_type": "stream",
     "text": [
      "8497it [00:00, 305081.42it/s]\n",
      "100%|██████████| 8497/8497 [00:00<00:00, 18856.53it/s]\n"
     ]
    },
    {
     "name": "stdout",
     "output_type": "stream",
     "text": [
      "Validating SMILES\n",
      "Test size = 8,497\n"
     ]
    },
    {
     "name": "stderr",
     "output_type": "stream",
     "text": [
      "  0%|          | 0/1 [00:00<?, ?it/s]"
     ]
    },
    {
     "name": "stdout",
     "output_type": "stream",
     "text": [
      "Loading pretrained parameter \"encoder.encoder.0.cached_zero_vector\".\n",
      "Loading pretrained parameter \"encoder.encoder.0.W_i.weight\".\n",
      "Loading pretrained parameter \"encoder.encoder.0.W_h.weight\".\n",
      "Loading pretrained parameter \"encoder.encoder.0.W_o.weight\".\n",
      "Loading pretrained parameter \"encoder.encoder.0.W_o.bias\".\n",
      "Loading pretrained parameter \"readout.1.weight\".\n",
      "Loading pretrained parameter \"readout.1.bias\".\n",
      "Loading pretrained parameter \"readout.4.weight\".\n",
      "Loading pretrained parameter \"readout.4.bias\".\n"
     ]
    },
    {
     "name": "stderr",
     "output_type": "stream",
     "text": [
      "100%|██████████| 1/1 [05:05<00:00, 305.24s/it]"
     ]
    },
    {
     "name": "stdout",
     "output_type": "stream",
     "text": [
      "Saving predictions to mc_preds.csv\n",
      "Elapsed time = 0:05:06\n",
      "INFORMATIONS: 8497 8497 1\n",
      "finished seed\n",
      "mean: [[1.23512409]\n",
      " [1.22528164]\n",
      " [1.21532052]\n",
      " [1.1819137 ]\n",
      " [1.20218246]\n",
      " [1.17442579]\n",
      " [1.19362385]\n",
      " [1.23972294]\n",
      " [1.16395753]\n",
      " [1.18629126]\n",
      " [1.17807874]]\n",
      "standard deviation: [[0.01947302]\n",
      " [0.03437509]\n",
      " [0.01997922]\n",
      " [0.01139693]\n",
      " [0.02173293]\n",
      " [0.03159526]\n",
      " [0.00281188]\n",
      " [0.01993995]\n",
      " [0.02286761]\n",
      " [0.02055482]\n",
      " [0.03780976]]\n",
      "mean: [[0.17683468]\n",
      " [0.17609466]\n",
      " [0.17821285]\n",
      " [0.21790788]\n",
      " [0.18563873]\n",
      " [0.21777841]\n",
      " [0.18945314]\n",
      " [0.1212657 ]\n",
      " [0.22211347]\n",
      " [0.189957  ]\n",
      " [0.19742237]]\n",
      "standard deviation: [[0.0250063 ]\n",
      " [0.04491036]\n",
      " [0.02422036]\n",
      " [0.01145824]\n",
      " [0.02907253]\n",
      " [0.03940501]\n",
      " [0.00800625]\n",
      " [0.02200529]\n",
      " [0.02834789]\n",
      " [0.0298981 ]\n",
      " [0.051804  ]]\n",
      "{25: ([[[1.2193025978244991], [1.192648582287506], [1.1910054741431748], [1.1724275290349646], [1.1798569772243448], [1.1354613708081427], [1.1932672690387867], [1.2326544550116447], [1.1342876890439153], [1.1701759541127914], [1.144791398916226]], [[1.2235141312762203], [1.2103926904766562], [1.2150145838635031], [1.1753720819022802], [1.19505148492098], [1.2128479438204796], [1.1903721712289461], [1.2668988818881264], [1.1676494295516053], [1.1733972033085938], [1.1584825090757997]], [[1.2625555450860093], [1.2728036617758607], [1.2399414964477562], [1.1979414829230768], [1.2316389237608072], [1.1749680435658185], [1.1972321033527278], [1.2196154820851468], [1.189935468803972], [1.2153006124679655], [1.230962324515671]]], array([[1.23512409],\n",
      "       [1.22528164],\n",
      "       [1.21532052],\n",
      "       [1.1819137 ],\n",
      "       [1.20218246],\n",
      "       [1.17442579],\n",
      "       [1.19362385],\n",
      "       [1.23972294],\n",
      "       [1.16395753],\n",
      "       [1.18629126],\n",
      "       [1.17807874]]), array([[0.01947302],\n",
      "       [0.03437509],\n",
      "       [0.01997922],\n",
      "       [0.01139693],\n",
      "       [0.02173293],\n",
      "       [0.03159526],\n",
      "       [0.00281188],\n",
      "       [0.01993995],\n",
      "       [0.02286761],\n",
      "       [0.02055482],\n",
      "       [0.03780976]]))}\n",
      "{25: ([[[0.19528628104803258], [0.21586655620200734], [0.20667081242530516], [0.2246140451455383], [0.21377353643847508], [0.2662850312537105], [0.18798980247326624], [0.12481337947281634], [0.2537896413797439], [0.20357639109891157], [0.23616022315074148]], [[0.19373599038989797], [0.19909296375457275], [0.18049286989353486], [0.22733006014283752], [0.19753559607505888], [0.1697666712892264], [0.1999081960026129], [0.09271669265027238], [0.2275561165938378], [0.2178132602285795], [0.23190523905490068]], [[0.14148175486541203], [0.11332447306473714], [0.14747487461860587], [0.20177952021376178], [0.14560706997596662], [0.21728352470606693], [0.18046143441949913], [0.14626701873893033], [0.1849946533863207], [0.14848133558676813], [0.12420165513102255]]], array([[0.17683468],\n",
      "       [0.17609466],\n",
      "       [0.17821285],\n",
      "       [0.21790788],\n",
      "       [0.18563873],\n",
      "       [0.21777841],\n",
      "       [0.18945314],\n",
      "       [0.1212657 ],\n",
      "       [0.22211347],\n",
      "       [0.189957  ],\n",
      "       [0.19742237]]), array([[0.0250063 ],\n",
      "       [0.04491036],\n",
      "       [0.02422036],\n",
      "       [0.01145824],\n",
      "       [0.02907253],\n",
      "       [0.03940501],\n",
      "       [0.00800625],\n",
      "       [0.02200529],\n",
      "       [0.02834789],\n",
      "       [0.0298981 ],\n",
      "       [0.051804  ]]))}\n"
     ]
    },
    {
     "name": "stderr",
     "output_type": "stream",
     "text": [
      "\n"
     ]
    }
   ],
   "source": [
    "batch_sizes = [25]\n",
    "mc_rmse_dict = {}\n",
    "mc_r2_dict = {}\n",
    "\n",
    "final_mc_data_chemprop = pd.DataFrame()\n",
    "\n",
    "for batch in batch_sizes:\n",
    "    print(f\"{batch} number\")\n",
    "    mc_rmse, mc_r2 = monte_carlo_dropout(batch)\n",
    "\n",
    "    mc_rmse_mean = np.mean(mc_rmse, axis=0)\n",
    "    mc_rmse_stdev = np.std(mc_rmse, axis=0)\n",
    "    print(\"mean:\", mc_rmse_mean)\n",
    "    print(\"standard deviation:\", mc_rmse_stdev)\n",
    "    mc_rmse_dict[batch] = (mc_rmse, mc_rmse_mean, mc_rmse_stdev)\n",
    "    # final_mc_data_chemprop[f\"{batch}_rmse_mean\"] = mc_rmse_mean\n",
    "    # final_mc_data_chemprop[f\"{batch}_rmse_stdev\"] = mc_rmse_stdev\n",
    "\n",
    "\n",
    "    mc_r2_mean = np.mean(mc_r2, axis=0)\n",
    "    mc_r2_stdev = np.std(mc_r2, axis=0)\n",
    "    print(\"mean:\", mc_r2_mean)\n",
    "    print(\"standard deviation:\", mc_r2_stdev)\n",
    "    mc_r2_dict[batch] = (mc_r2, mc_r2_mean, mc_r2_stdev)\n",
    "    # final_mc_data_chemprop[f\"{batch}_r2_mean\"] = mc_r2_mean\n",
    "    # final_mc_data_chemprop[f\"{batch}_r2_stdev\"] = mc_r2_stdev\n",
    "print(mc_rmse_dict)\n",
    "print(mc_r2_dict)\n",
    "    \n",
    "\n",
    "# final_mc_data_chemprop.to_csv(\"final_data_mc_chemprop.csv\", index=False)"
   ]
  },
  {
   "cell_type": "code",
   "execution_count": 5,
   "metadata": {},
   "outputs": [
    {
     "name": "stdout",
     "output_type": "stream",
     "text": [
      "{25: ([[[1.2193025978244991], [1.192648582287506], [1.1910054741431748], [1.1724275290349646], [1.1798569772243448], [1.1354613708081427], [1.1932672690387867], [1.2326544550116447], [1.1342876890439153], [1.1701759541127914], [1.144791398916226]], [[1.2235141312762203], [1.2103926904766562], [1.2150145838635031], [1.1753720819022802], [1.19505148492098], [1.2128479438204796], [1.1903721712289461], [1.2668988818881264], [1.1676494295516053], [1.1733972033085938], [1.1584825090757997]], [[1.2625555450860093], [1.2728036617758607], [1.2399414964477562], [1.1979414829230768], [1.2316389237608072], [1.1749680435658185], [1.1972321033527278], [1.2196154820851468], [1.189935468803972], [1.2153006124679655], [1.230962324515671]]], array([[1.23512409],\n",
      "       [1.22528164],\n",
      "       [1.21532052],\n",
      "       [1.1819137 ],\n",
      "       [1.20218246],\n",
      "       [1.17442579],\n",
      "       [1.19362385],\n",
      "       [1.23972294],\n",
      "       [1.16395753],\n",
      "       [1.18629126],\n",
      "       [1.17807874]]), array([[0.01947302],\n",
      "       [0.03437509],\n",
      "       [0.01997922],\n",
      "       [0.01139693],\n",
      "       [0.02173293],\n",
      "       [0.03159526],\n",
      "       [0.00281188],\n",
      "       [0.01993995],\n",
      "       [0.02286761],\n",
      "       [0.02055482],\n",
      "       [0.03780976]]))}\n",
      "{25: ([[[0.19528628104803258], [0.21586655620200734], [0.20667081242530516], [0.2246140451455383], [0.21377353643847508], [0.2662850312537105], [0.18798980247326624], [0.12481337947281634], [0.2537896413797439], [0.20357639109891157], [0.23616022315074148]], [[0.19373599038989797], [0.19909296375457275], [0.18049286989353486], [0.22733006014283752], [0.19753559607505888], [0.1697666712892264], [0.1999081960026129], [0.09271669265027238], [0.2275561165938378], [0.2178132602285795], [0.23190523905490068]], [[0.14148175486541203], [0.11332447306473714], [0.14747487461860587], [0.20177952021376178], [0.14560706997596662], [0.21728352470606693], [0.18046143441949913], [0.14626701873893033], [0.1849946533863207], [0.14848133558676813], [0.12420165513102255]]], array([[0.17683468],\n",
      "       [0.17609466],\n",
      "       [0.17821285],\n",
      "       [0.21790788],\n",
      "       [0.18563873],\n",
      "       [0.21777841],\n",
      "       [0.18945314],\n",
      "       [0.1212657 ],\n",
      "       [0.22211347],\n",
      "       [0.189957  ],\n",
      "       [0.19742237]]), array([[0.0250063 ],\n",
      "       [0.04491036],\n",
      "       [0.02422036],\n",
      "       [0.01145824],\n",
      "       [0.02907253],\n",
      "       [0.03940501],\n",
      "       [0.00800625],\n",
      "       [0.02200529],\n",
      "       [0.02834789],\n",
      "       [0.0298981 ],\n",
      "       [0.051804  ]]))}\n"
     ]
    }
   ],
   "source": [
    "print(mc_rmse_dict)\n",
    "print(mc_r2_dict)"
   ]
  }
 ],
 "metadata": {
  "kernelspec": {
   "display_name": "Python 3.8.18 ('chemprop')",
   "language": "python",
   "name": "python3"
  },
  "language_info": {
   "codemirror_mode": {
    "name": "ipython",
    "version": 3
   },
   "file_extension": ".py",
   "mimetype": "text/x-python",
   "name": "python",
   "nbconvert_exporter": "python",
   "pygments_lexer": "ipython3",
   "version": "3.8.19"
  },
  "orig_nbformat": 4,
  "vscode": {
   "interpreter": {
    "hash": "782c9f00c2f68b1c6d352eaff4906d850c3b7373af8ce254d2b87e9de0bd114a"
   }
  }
 },
 "nbformat": 4,
 "nbformat_minor": 2
}
